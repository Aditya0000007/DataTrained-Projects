{
 "cells": [
  {
   "cell_type": "markdown",
   "id": "73b1d7f9",
   "metadata": {},
   "source": [
    "# Flight Price Prediction\n",
    "## Problem Statement:\n",
    "\n",
    "Flight ticket prices can be something hard to guess, today we might see a price, check out the price of the same flight tomorrow, it will be a different story. We might have often heard travellers saying that flight ticket prices are so unpredictable. Here you will be provided with prices of flight tickets for various airlines between the months of March and June of 2019 and between various cities.\n",
    "\n",
    "- Size of training set: 10683 records\n",
    "\n",
    "- Size of test set: 2671 records\n",
    "\n",
    "### FEATURES:\n",
    "- Airline: The name of the airline.\n",
    "\n",
    "- Date_of_Journey: The date of the journey\n",
    "\n",
    "- Source: The source from which the service begins.\n",
    "\n",
    "- Destination: The destination where the service ends.\n",
    "\n",
    "- Route: The route taken by the flight to reach the destination.\n",
    "\n",
    "- Dep_Time: The time when the journey starts from the source.\n",
    "\n",
    "- Arrival_Time: Time of arrival at the destination.\n",
    "\n",
    "- Duration: Total duration of the flight.\n",
    "\n",
    "- Total_Stops: Total stops between the source and destination.\n",
    "\n",
    "- Additional_Info: Additional information about the flight\n",
    "\n",
    "### Label:\n",
    "\n",
    "- Price: The price of the ticket"
   ]
  },
  {
   "cell_type": "markdown",
   "id": "f175d7e1",
   "metadata": {},
   "source": [
    "# Importing Necessary Libraries"
   ]
  },
  {
   "cell_type": "code",
   "execution_count": 1,
   "id": "cec2e1cd",
   "metadata": {},
   "outputs": [
    {
     "name": "stdout",
     "output_type": "stream",
     "text": [
      "######################################\n",
      "       Import Key Packages            \n",
      "######################################\n"
     ]
    }
   ],
   "source": [
    "print(\"######################################\")\n",
    "print(\"       Import Key Packages            \")\n",
    "print(\"######################################\")\n",
    "import pandas as pd\n",
    "import numpy as np\n",
    "import matplotlib.pyplot as plt\n",
    "import seaborn as sns\n",
    "from IPython.display import display\n",
    "import statsmodels as sm\n",
    "from statsmodels.stats.outliers_influence import variance_inflation_factor\n",
    "from sklearn.model_selection import train_test_split,GridSearchCV,RandomizedSearchCV\n",
    "from sklearn.linear_model import LinearRegression,Ridge,Lasso\n",
    "from sklearn.tree import DecisionTreeRegressor\n",
    "from sklearn.ensemble import RandomForestRegressor,GradientBoostingRegressor\n",
    "from sklearn.metrics import r2_score,mean_squared_error\n",
    "from sklearn import preprocessing\n",
    "import warnings\n",
    "from statsmodels.stats.outliers_influence import variance_inflation_factor\n",
    "warnings.filterwarnings('ignore')\n",
    "from scipy import stats\n",
    "import statsmodels.api as sm\n"
   ]
  },
  {
   "cell_type": "markdown",
   "id": "91495781",
   "metadata": {},
   "source": [
    "# Importing Dataset"
   ]
  },
  {
   "cell_type": "code",
   "execution_count": 2,
   "id": "5b9538c2",
   "metadata": {},
   "outputs": [],
   "source": [
    "df = pd.read_excel(\"Data_Train.xlsx\")\n",
    "test= pd.read_excel(\"Test_set.xlsx\")"
   ]
  },
  {
   "cell_type": "code",
   "execution_count": 3,
   "id": "ab36fd06",
   "metadata": {},
   "outputs": [
    {
     "data": {
      "text/html": [
       "<div>\n",
       "<style scoped>\n",
       "    .dataframe tbody tr th:only-of-type {\n",
       "        vertical-align: middle;\n",
       "    }\n",
       "\n",
       "    .dataframe tbody tr th {\n",
       "        vertical-align: top;\n",
       "    }\n",
       "\n",
       "    .dataframe thead th {\n",
       "        text-align: right;\n",
       "    }\n",
       "</style>\n",
       "<table border=\"1\" class=\"dataframe\">\n",
       "  <thead>\n",
       "    <tr style=\"text-align: right;\">\n",
       "      <th></th>\n",
       "      <th>Airline</th>\n",
       "      <th>Date_of_Journey</th>\n",
       "      <th>Source</th>\n",
       "      <th>Destination</th>\n",
       "      <th>Route</th>\n",
       "      <th>Dep_Time</th>\n",
       "      <th>Arrival_Time</th>\n",
       "      <th>Duration</th>\n",
       "      <th>Total_Stops</th>\n",
       "      <th>Additional_Info</th>\n",
       "      <th>Price</th>\n",
       "    </tr>\n",
       "  </thead>\n",
       "  <tbody>\n",
       "    <tr>\n",
       "      <th>0</th>\n",
       "      <td>IndiGo</td>\n",
       "      <td>24/03/2019</td>\n",
       "      <td>Banglore</td>\n",
       "      <td>New Delhi</td>\n",
       "      <td>BLR → DEL</td>\n",
       "      <td>22:20</td>\n",
       "      <td>01:10 22 Mar</td>\n",
       "      <td>2h 50m</td>\n",
       "      <td>non-stop</td>\n",
       "      <td>No info</td>\n",
       "      <td>3897</td>\n",
       "    </tr>\n",
       "    <tr>\n",
       "      <th>1</th>\n",
       "      <td>Air India</td>\n",
       "      <td>1/05/2019</td>\n",
       "      <td>Kolkata</td>\n",
       "      <td>Banglore</td>\n",
       "      <td>CCU → IXR → BBI → BLR</td>\n",
       "      <td>05:50</td>\n",
       "      <td>13:15</td>\n",
       "      <td>7h 25m</td>\n",
       "      <td>2 stops</td>\n",
       "      <td>No info</td>\n",
       "      <td>7662</td>\n",
       "    </tr>\n",
       "    <tr>\n",
       "      <th>2</th>\n",
       "      <td>Jet Airways</td>\n",
       "      <td>9/06/2019</td>\n",
       "      <td>Delhi</td>\n",
       "      <td>Cochin</td>\n",
       "      <td>DEL → LKO → BOM → COK</td>\n",
       "      <td>09:25</td>\n",
       "      <td>04:25 10 Jun</td>\n",
       "      <td>19h</td>\n",
       "      <td>2 stops</td>\n",
       "      <td>No info</td>\n",
       "      <td>13882</td>\n",
       "    </tr>\n",
       "    <tr>\n",
       "      <th>3</th>\n",
       "      <td>IndiGo</td>\n",
       "      <td>12/05/2019</td>\n",
       "      <td>Kolkata</td>\n",
       "      <td>Banglore</td>\n",
       "      <td>CCU → NAG → BLR</td>\n",
       "      <td>18:05</td>\n",
       "      <td>23:30</td>\n",
       "      <td>5h 25m</td>\n",
       "      <td>1 stop</td>\n",
       "      <td>No info</td>\n",
       "      <td>6218</td>\n",
       "    </tr>\n",
       "    <tr>\n",
       "      <th>4</th>\n",
       "      <td>IndiGo</td>\n",
       "      <td>01/03/2019</td>\n",
       "      <td>Banglore</td>\n",
       "      <td>New Delhi</td>\n",
       "      <td>BLR → NAG → DEL</td>\n",
       "      <td>16:50</td>\n",
       "      <td>21:35</td>\n",
       "      <td>4h 45m</td>\n",
       "      <td>1 stop</td>\n",
       "      <td>No info</td>\n",
       "      <td>13302</td>\n",
       "    </tr>\n",
       "    <tr>\n",
       "      <th>...</th>\n",
       "      <td>...</td>\n",
       "      <td>...</td>\n",
       "      <td>...</td>\n",
       "      <td>...</td>\n",
       "      <td>...</td>\n",
       "      <td>...</td>\n",
       "      <td>...</td>\n",
       "      <td>...</td>\n",
       "      <td>...</td>\n",
       "      <td>...</td>\n",
       "      <td>...</td>\n",
       "    </tr>\n",
       "    <tr>\n",
       "      <th>10678</th>\n",
       "      <td>Air Asia</td>\n",
       "      <td>9/04/2019</td>\n",
       "      <td>Kolkata</td>\n",
       "      <td>Banglore</td>\n",
       "      <td>CCU → BLR</td>\n",
       "      <td>19:55</td>\n",
       "      <td>22:25</td>\n",
       "      <td>2h 30m</td>\n",
       "      <td>non-stop</td>\n",
       "      <td>No info</td>\n",
       "      <td>4107</td>\n",
       "    </tr>\n",
       "    <tr>\n",
       "      <th>10679</th>\n",
       "      <td>Air India</td>\n",
       "      <td>27/04/2019</td>\n",
       "      <td>Kolkata</td>\n",
       "      <td>Banglore</td>\n",
       "      <td>CCU → BLR</td>\n",
       "      <td>20:45</td>\n",
       "      <td>23:20</td>\n",
       "      <td>2h 35m</td>\n",
       "      <td>non-stop</td>\n",
       "      <td>No info</td>\n",
       "      <td>4145</td>\n",
       "    </tr>\n",
       "    <tr>\n",
       "      <th>10680</th>\n",
       "      <td>Jet Airways</td>\n",
       "      <td>27/04/2019</td>\n",
       "      <td>Banglore</td>\n",
       "      <td>Delhi</td>\n",
       "      <td>BLR → DEL</td>\n",
       "      <td>08:20</td>\n",
       "      <td>11:20</td>\n",
       "      <td>3h</td>\n",
       "      <td>non-stop</td>\n",
       "      <td>No info</td>\n",
       "      <td>7229</td>\n",
       "    </tr>\n",
       "    <tr>\n",
       "      <th>10681</th>\n",
       "      <td>Vistara</td>\n",
       "      <td>01/03/2019</td>\n",
       "      <td>Banglore</td>\n",
       "      <td>New Delhi</td>\n",
       "      <td>BLR → DEL</td>\n",
       "      <td>11:30</td>\n",
       "      <td>14:10</td>\n",
       "      <td>2h 40m</td>\n",
       "      <td>non-stop</td>\n",
       "      <td>No info</td>\n",
       "      <td>12648</td>\n",
       "    </tr>\n",
       "    <tr>\n",
       "      <th>10682</th>\n",
       "      <td>Air India</td>\n",
       "      <td>9/05/2019</td>\n",
       "      <td>Delhi</td>\n",
       "      <td>Cochin</td>\n",
       "      <td>DEL → GOI → BOM → COK</td>\n",
       "      <td>10:55</td>\n",
       "      <td>19:15</td>\n",
       "      <td>8h 20m</td>\n",
       "      <td>2 stops</td>\n",
       "      <td>No info</td>\n",
       "      <td>11753</td>\n",
       "    </tr>\n",
       "  </tbody>\n",
       "</table>\n",
       "<p>10683 rows × 11 columns</p>\n",
       "</div>"
      ],
      "text/plain": [
       "           Airline Date_of_Journey    Source Destination  \\\n",
       "0           IndiGo      24/03/2019  Banglore   New Delhi   \n",
       "1        Air India       1/05/2019   Kolkata    Banglore   \n",
       "2      Jet Airways       9/06/2019     Delhi      Cochin   \n",
       "3           IndiGo      12/05/2019   Kolkata    Banglore   \n",
       "4           IndiGo      01/03/2019  Banglore   New Delhi   \n",
       "...            ...             ...       ...         ...   \n",
       "10678     Air Asia       9/04/2019   Kolkata    Banglore   \n",
       "10679    Air India      27/04/2019   Kolkata    Banglore   \n",
       "10680  Jet Airways      27/04/2019  Banglore       Delhi   \n",
       "10681      Vistara      01/03/2019  Banglore   New Delhi   \n",
       "10682    Air India       9/05/2019     Delhi      Cochin   \n",
       "\n",
       "                       Route Dep_Time  Arrival_Time Duration Total_Stops  \\\n",
       "0                  BLR → DEL    22:20  01:10 22 Mar   2h 50m    non-stop   \n",
       "1      CCU → IXR → BBI → BLR    05:50         13:15   7h 25m     2 stops   \n",
       "2      DEL → LKO → BOM → COK    09:25  04:25 10 Jun      19h     2 stops   \n",
       "3            CCU → NAG → BLR    18:05         23:30   5h 25m      1 stop   \n",
       "4            BLR → NAG → DEL    16:50         21:35   4h 45m      1 stop   \n",
       "...                      ...      ...           ...      ...         ...   \n",
       "10678              CCU → BLR    19:55         22:25   2h 30m    non-stop   \n",
       "10679              CCU → BLR    20:45         23:20   2h 35m    non-stop   \n",
       "10680              BLR → DEL    08:20         11:20       3h    non-stop   \n",
       "10681              BLR → DEL    11:30         14:10   2h 40m    non-stop   \n",
       "10682  DEL → GOI → BOM → COK    10:55         19:15   8h 20m     2 stops   \n",
       "\n",
       "      Additional_Info  Price  \n",
       "0             No info   3897  \n",
       "1             No info   7662  \n",
       "2             No info  13882  \n",
       "3             No info   6218  \n",
       "4             No info  13302  \n",
       "...               ...    ...  \n",
       "10678         No info   4107  \n",
       "10679         No info   4145  \n",
       "10680         No info   7229  \n",
       "10681         No info  12648  \n",
       "10682         No info  11753  \n",
       "\n",
       "[10683 rows x 11 columns]"
      ]
     },
     "execution_count": 3,
     "metadata": {},
     "output_type": "execute_result"
    }
   ],
   "source": [
    "df"
   ]
  },
  {
   "cell_type": "markdown",
   "id": "6ae4199e",
   "metadata": {},
   "source": [
    "# Checking Null values"
   ]
  },
  {
   "cell_type": "code",
   "execution_count": 4,
   "id": "11038110",
   "metadata": {},
   "outputs": [
    {
     "name": "stdout",
     "output_type": "stream",
     "text": [
      "<class 'pandas.core.frame.DataFrame'>\n",
      "RangeIndex: 10683 entries, 0 to 10682\n",
      "Data columns (total 11 columns):\n",
      " #   Column           Non-Null Count  Dtype \n",
      "---  ------           --------------  ----- \n",
      " 0   Airline          10683 non-null  object\n",
      " 1   Date_of_Journey  10683 non-null  object\n",
      " 2   Source           10683 non-null  object\n",
      " 3   Destination      10683 non-null  object\n",
      " 4   Route            10682 non-null  object\n",
      " 5   Dep_Time         10683 non-null  object\n",
      " 6   Arrival_Time     10683 non-null  object\n",
      " 7   Duration         10683 non-null  object\n",
      " 8   Total_Stops      10682 non-null  object\n",
      " 9   Additional_Info  10683 non-null  object\n",
      " 10  Price            10683 non-null  int64 \n",
      "dtypes: int64(1), object(10)\n",
      "memory usage: 918.2+ KB\n"
     ]
    }
   ],
   "source": [
    "df.info()"
   ]
  },
  {
   "cell_type": "code",
   "execution_count": 5,
   "id": "d8e59650",
   "metadata": {},
   "outputs": [
    {
     "data": {
      "text/plain": [
       "Airline            0\n",
       "Date_of_Journey    0\n",
       "Source             0\n",
       "Destination        0\n",
       "Route              1\n",
       "Dep_Time           0\n",
       "Arrival_Time       0\n",
       "Duration           0\n",
       "Total_Stops        1\n",
       "Additional_Info    0\n",
       "Price              0\n",
       "dtype: int64"
      ]
     },
     "execution_count": 5,
     "metadata": {},
     "output_type": "execute_result"
    }
   ],
   "source": [
    "df.isnull().sum()"
   ]
  },
  {
   "cell_type": "markdown",
   "id": "7551f933",
   "metadata": {},
   "source": [
    "Observation - \n",
    "- We can see one record for Route is having null value\n",
    "- One record for Total stops is having null value\n",
    "\n",
    "So I am dropping the rows\n"
   ]
  },
  {
   "cell_type": "code",
   "execution_count": 6,
   "id": "f1a6c8ce",
   "metadata": {},
   "outputs": [],
   "source": [
    "df.dropna(inplace = True)\n",
    "test.dropna(inplace = True)"
   ]
  },
  {
   "cell_type": "code",
   "execution_count": 7,
   "id": "923e6464",
   "metadata": {},
   "outputs": [
    {
     "data": {
      "text/plain": [
       "Airline            0\n",
       "Date_of_Journey    0\n",
       "Source             0\n",
       "Destination        0\n",
       "Route              0\n",
       "Dep_Time           0\n",
       "Arrival_Time       0\n",
       "Duration           0\n",
       "Total_Stops        0\n",
       "Additional_Info    0\n",
       "Price              0\n",
       "dtype: int64"
      ]
     },
     "execution_count": 7,
     "metadata": {},
     "output_type": "execute_result"
    }
   ],
   "source": [
    "df.isnull().sum()"
   ]
  },
  {
   "cell_type": "markdown",
   "id": "ea2bb680",
   "metadata": {},
   "source": [
    "Null values are removed"
   ]
  },
  {
   "cell_type": "markdown",
   "id": "da4ecc1a",
   "metadata": {},
   "source": [
    "# EDA"
   ]
  },
  {
   "cell_type": "markdown",
   "id": "a5cd31f3",
   "metadata": {},
   "source": [
    "### lets take a close look at Journey Date"
   ]
  },
  {
   "cell_type": "code",
   "execution_count": 8,
   "id": "73dc4c0a",
   "metadata": {},
   "outputs": [
    {
     "data": {
      "text/plain": [
       "dtype('O')"
      ]
     },
     "execution_count": 8,
     "metadata": {},
     "output_type": "execute_result"
    }
   ],
   "source": [
    "df['Date_of_Journey'].dtypes"
   ]
  },
  {
   "cell_type": "markdown",
   "id": "b4ee5b57",
   "metadata": {},
   "source": [
    "#### Observation- As I can Date_of_Journey is object type but it should be in datetime format so I am extracting date and month and making seperate columns to predict better and dropping the Date_of_Journey column as it would be of no use for the prediction"
   ]
  },
  {
   "cell_type": "code",
   "execution_count": 9,
   "id": "33c1c0c5",
   "metadata": {},
   "outputs": [],
   "source": [
    "df[\"Journey day\"] = pd.to_datetime(df.Date_of_Journey, format=\"%d/%m/%Y\").dt.day\n",
    "test[\"Journey day\"] = pd.to_datetime(test.Date_of_Journey, format=\"%d/%m/%Y\").dt.day"
   ]
  },
  {
   "cell_type": "code",
   "execution_count": 10,
   "id": "bc709adf",
   "metadata": {},
   "outputs": [],
   "source": [
    "df[\"Journey month\"] = pd.to_datetime(df[\"Date_of_Journey\"], format = \"%d/%m/%Y\").dt.month\n",
    "test[\"Journey month\"] = pd.to_datetime(test[\"Date_of_Journey\"], format = \"%d/%m/%Y\").dt.month"
   ]
  },
  {
   "cell_type": "code",
   "execution_count": 11,
   "id": "bcfe79ae",
   "metadata": {},
   "outputs": [],
   "source": [
    "df.drop([\"Date_of_Journey\"], axis = 1, inplace = True)\n",
    "test.drop([\"Date_of_Journey\"], axis = 1, inplace = True)"
   ]
  },
  {
   "cell_type": "code",
   "execution_count": 12,
   "id": "8545d606",
   "metadata": {},
   "outputs": [
    {
     "name": "stdout",
     "output_type": "stream",
     "text": [
      "<class 'pandas.core.frame.DataFrame'>\n",
      "Int64Index: 10682 entries, 0 to 10682\n",
      "Data columns (total 12 columns):\n",
      " #   Column           Non-Null Count  Dtype \n",
      "---  ------           --------------  ----- \n",
      " 0   Airline          10682 non-null  object\n",
      " 1   Source           10682 non-null  object\n",
      " 2   Destination      10682 non-null  object\n",
      " 3   Route            10682 non-null  object\n",
      " 4   Dep_Time         10682 non-null  object\n",
      " 5   Arrival_Time     10682 non-null  object\n",
      " 6   Duration         10682 non-null  object\n",
      " 7   Total_Stops      10682 non-null  object\n",
      " 8   Additional_Info  10682 non-null  object\n",
      " 9   Price            10682 non-null  int64 \n",
      " 10  Journey day      10682 non-null  int64 \n",
      " 11  Journey month    10682 non-null  int64 \n",
      "dtypes: int64(3), object(9)\n",
      "memory usage: 1.1+ MB\n"
     ]
    }
   ],
   "source": [
    "df.info()"
   ]
  },
  {
   "cell_type": "markdown",
   "id": "d472634c",
   "metadata": {},
   "source": [
    "### Lets check now the departure time column"
   ]
  },
  {
   "cell_type": "code",
   "execution_count": 13,
   "id": "43bbb3a2",
   "metadata": {},
   "outputs": [
    {
     "data": {
      "text/plain": [
       "dtype('O')"
      ]
     },
     "execution_count": 13,
     "metadata": {},
     "output_type": "execute_result"
    }
   ],
   "source": [
    "df['Dep_Time'].dtypes"
   ]
  },
  {
   "cell_type": "markdown",
   "id": "2dcd2ecd",
   "metadata": {},
   "source": [
    "#### Observation- As I can Departure time is object type but it should be in time format so I am extracting hour and minutes and making seperate columns to predict better and dropping the departure time column as it would be of no use for the prediction"
   ]
  },
  {
   "cell_type": "code",
   "execution_count": 14,
   "id": "942aeb76",
   "metadata": {},
   "outputs": [],
   "source": [
    "df[\"Departure hour\"] = pd.to_datetime(df[\"Dep_Time\"]).dt.hour\n",
    "test[\"Departure hour\"] = pd.to_datetime(test[\"Dep_Time\"]).dt.hour"
   ]
  },
  {
   "cell_type": "code",
   "execution_count": 15,
   "id": "2573498a",
   "metadata": {},
   "outputs": [],
   "source": [
    "df[\"Departure min\"] = pd.to_datetime(df[\"Dep_Time\"]).dt.minute\n",
    "test[\"Departure min\"] = pd.to_datetime(test[\"Dep_Time\"]).dt.minute"
   ]
  },
  {
   "cell_type": "code",
   "execution_count": 16,
   "id": "0b2b8795",
   "metadata": {},
   "outputs": [],
   "source": [
    "df.drop([\"Dep_Time\"], axis = 1, inplace = True)\n",
    "test.drop([\"Dep_Time\"], axis = 1, inplace = True)"
   ]
  },
  {
   "cell_type": "code",
   "execution_count": 18,
   "id": "c5b92df6",
   "metadata": {},
   "outputs": [
    {
     "data": {
      "text/html": [
       "<div>\n",
       "<style scoped>\n",
       "    .dataframe tbody tr th:only-of-type {\n",
       "        vertical-align: middle;\n",
       "    }\n",
       "\n",
       "    .dataframe tbody tr th {\n",
       "        vertical-align: top;\n",
       "    }\n",
       "\n",
       "    .dataframe thead th {\n",
       "        text-align: right;\n",
       "    }\n",
       "</style>\n",
       "<table border=\"1\" class=\"dataframe\">\n",
       "  <thead>\n",
       "    <tr style=\"text-align: right;\">\n",
       "      <th></th>\n",
       "      <th>Airline</th>\n",
       "      <th>Source</th>\n",
       "      <th>Destination</th>\n",
       "      <th>Route</th>\n",
       "      <th>Arrival_Time</th>\n",
       "      <th>Duration</th>\n",
       "      <th>Total_Stops</th>\n",
       "      <th>Additional_Info</th>\n",
       "      <th>Price</th>\n",
       "      <th>Journey day</th>\n",
       "      <th>Journey month</th>\n",
       "      <th>Departure hour</th>\n",
       "      <th>Departure min</th>\n",
       "    </tr>\n",
       "  </thead>\n",
       "  <tbody>\n",
       "    <tr>\n",
       "      <th>0</th>\n",
       "      <td>IndiGo</td>\n",
       "      <td>Banglore</td>\n",
       "      <td>New Delhi</td>\n",
       "      <td>BLR → DEL</td>\n",
       "      <td>01:10 22 Mar</td>\n",
       "      <td>2h 50m</td>\n",
       "      <td>non-stop</td>\n",
       "      <td>No info</td>\n",
       "      <td>3897</td>\n",
       "      <td>24</td>\n",
       "      <td>3</td>\n",
       "      <td>22</td>\n",
       "      <td>20</td>\n",
       "    </tr>\n",
       "    <tr>\n",
       "      <th>1</th>\n",
       "      <td>Air India</td>\n",
       "      <td>Kolkata</td>\n",
       "      <td>Banglore</td>\n",
       "      <td>CCU → IXR → BBI → BLR</td>\n",
       "      <td>13:15</td>\n",
       "      <td>7h 25m</td>\n",
       "      <td>2 stops</td>\n",
       "      <td>No info</td>\n",
       "      <td>7662</td>\n",
       "      <td>1</td>\n",
       "      <td>5</td>\n",
       "      <td>5</td>\n",
       "      <td>50</td>\n",
       "    </tr>\n",
       "    <tr>\n",
       "      <th>2</th>\n",
       "      <td>Jet Airways</td>\n",
       "      <td>Delhi</td>\n",
       "      <td>Cochin</td>\n",
       "      <td>DEL → LKO → BOM → COK</td>\n",
       "      <td>04:25 10 Jun</td>\n",
       "      <td>19h</td>\n",
       "      <td>2 stops</td>\n",
       "      <td>No info</td>\n",
       "      <td>13882</td>\n",
       "      <td>9</td>\n",
       "      <td>6</td>\n",
       "      <td>9</td>\n",
       "      <td>25</td>\n",
       "    </tr>\n",
       "    <tr>\n",
       "      <th>3</th>\n",
       "      <td>IndiGo</td>\n",
       "      <td>Kolkata</td>\n",
       "      <td>Banglore</td>\n",
       "      <td>CCU → NAG → BLR</td>\n",
       "      <td>23:30</td>\n",
       "      <td>5h 25m</td>\n",
       "      <td>1 stop</td>\n",
       "      <td>No info</td>\n",
       "      <td>6218</td>\n",
       "      <td>12</td>\n",
       "      <td>5</td>\n",
       "      <td>18</td>\n",
       "      <td>5</td>\n",
       "    </tr>\n",
       "    <tr>\n",
       "      <th>4</th>\n",
       "      <td>IndiGo</td>\n",
       "      <td>Banglore</td>\n",
       "      <td>New Delhi</td>\n",
       "      <td>BLR → NAG → DEL</td>\n",
       "      <td>21:35</td>\n",
       "      <td>4h 45m</td>\n",
       "      <td>1 stop</td>\n",
       "      <td>No info</td>\n",
       "      <td>13302</td>\n",
       "      <td>1</td>\n",
       "      <td>3</td>\n",
       "      <td>16</td>\n",
       "      <td>50</td>\n",
       "    </tr>\n",
       "    <tr>\n",
       "      <th>...</th>\n",
       "      <td>...</td>\n",
       "      <td>...</td>\n",
       "      <td>...</td>\n",
       "      <td>...</td>\n",
       "      <td>...</td>\n",
       "      <td>...</td>\n",
       "      <td>...</td>\n",
       "      <td>...</td>\n",
       "      <td>...</td>\n",
       "      <td>...</td>\n",
       "      <td>...</td>\n",
       "      <td>...</td>\n",
       "      <td>...</td>\n",
       "    </tr>\n",
       "    <tr>\n",
       "      <th>10678</th>\n",
       "      <td>Air Asia</td>\n",
       "      <td>Kolkata</td>\n",
       "      <td>Banglore</td>\n",
       "      <td>CCU → BLR</td>\n",
       "      <td>22:25</td>\n",
       "      <td>2h 30m</td>\n",
       "      <td>non-stop</td>\n",
       "      <td>No info</td>\n",
       "      <td>4107</td>\n",
       "      <td>9</td>\n",
       "      <td>4</td>\n",
       "      <td>19</td>\n",
       "      <td>55</td>\n",
       "    </tr>\n",
       "    <tr>\n",
       "      <th>10679</th>\n",
       "      <td>Air India</td>\n",
       "      <td>Kolkata</td>\n",
       "      <td>Banglore</td>\n",
       "      <td>CCU → BLR</td>\n",
       "      <td>23:20</td>\n",
       "      <td>2h 35m</td>\n",
       "      <td>non-stop</td>\n",
       "      <td>No info</td>\n",
       "      <td>4145</td>\n",
       "      <td>27</td>\n",
       "      <td>4</td>\n",
       "      <td>20</td>\n",
       "      <td>45</td>\n",
       "    </tr>\n",
       "    <tr>\n",
       "      <th>10680</th>\n",
       "      <td>Jet Airways</td>\n",
       "      <td>Banglore</td>\n",
       "      <td>Delhi</td>\n",
       "      <td>BLR → DEL</td>\n",
       "      <td>11:20</td>\n",
       "      <td>3h</td>\n",
       "      <td>non-stop</td>\n",
       "      <td>No info</td>\n",
       "      <td>7229</td>\n",
       "      <td>27</td>\n",
       "      <td>4</td>\n",
       "      <td>8</td>\n",
       "      <td>20</td>\n",
       "    </tr>\n",
       "    <tr>\n",
       "      <th>10681</th>\n",
       "      <td>Vistara</td>\n",
       "      <td>Banglore</td>\n",
       "      <td>New Delhi</td>\n",
       "      <td>BLR → DEL</td>\n",
       "      <td>14:10</td>\n",
       "      <td>2h 40m</td>\n",
       "      <td>non-stop</td>\n",
       "      <td>No info</td>\n",
       "      <td>12648</td>\n",
       "      <td>1</td>\n",
       "      <td>3</td>\n",
       "      <td>11</td>\n",
       "      <td>30</td>\n",
       "    </tr>\n",
       "    <tr>\n",
       "      <th>10682</th>\n",
       "      <td>Air India</td>\n",
       "      <td>Delhi</td>\n",
       "      <td>Cochin</td>\n",
       "      <td>DEL → GOI → BOM → COK</td>\n",
       "      <td>19:15</td>\n",
       "      <td>8h 20m</td>\n",
       "      <td>2 stops</td>\n",
       "      <td>No info</td>\n",
       "      <td>11753</td>\n",
       "      <td>9</td>\n",
       "      <td>5</td>\n",
       "      <td>10</td>\n",
       "      <td>55</td>\n",
       "    </tr>\n",
       "  </tbody>\n",
       "</table>\n",
       "<p>10682 rows × 13 columns</p>\n",
       "</div>"
      ],
      "text/plain": [
       "           Airline    Source Destination                  Route  Arrival_Time  \\\n",
       "0           IndiGo  Banglore   New Delhi              BLR → DEL  01:10 22 Mar   \n",
       "1        Air India   Kolkata    Banglore  CCU → IXR → BBI → BLR         13:15   \n",
       "2      Jet Airways     Delhi      Cochin  DEL → LKO → BOM → COK  04:25 10 Jun   \n",
       "3           IndiGo   Kolkata    Banglore        CCU → NAG → BLR         23:30   \n",
       "4           IndiGo  Banglore   New Delhi        BLR → NAG → DEL         21:35   \n",
       "...            ...       ...         ...                    ...           ...   \n",
       "10678     Air Asia   Kolkata    Banglore              CCU → BLR         22:25   \n",
       "10679    Air India   Kolkata    Banglore              CCU → BLR         23:20   \n",
       "10680  Jet Airways  Banglore       Delhi              BLR → DEL         11:20   \n",
       "10681      Vistara  Banglore   New Delhi              BLR → DEL         14:10   \n",
       "10682    Air India     Delhi      Cochin  DEL → GOI → BOM → COK         19:15   \n",
       "\n",
       "      Duration Total_Stops Additional_Info  Price  Journey day  Journey month  \\\n",
       "0       2h 50m    non-stop         No info   3897           24              3   \n",
       "1       7h 25m     2 stops         No info   7662            1              5   \n",
       "2          19h     2 stops         No info  13882            9              6   \n",
       "3       5h 25m      1 stop         No info   6218           12              5   \n",
       "4       4h 45m      1 stop         No info  13302            1              3   \n",
       "...        ...         ...             ...    ...          ...            ...   \n",
       "10678   2h 30m    non-stop         No info   4107            9              4   \n",
       "10679   2h 35m    non-stop         No info   4145           27              4   \n",
       "10680       3h    non-stop         No info   7229           27              4   \n",
       "10681   2h 40m    non-stop         No info  12648            1              3   \n",
       "10682   8h 20m     2 stops         No info  11753            9              5   \n",
       "\n",
       "       Departure hour  Departure min  \n",
       "0                  22             20  \n",
       "1                   5             50  \n",
       "2                   9             25  \n",
       "3                  18              5  \n",
       "4                  16             50  \n",
       "...               ...            ...  \n",
       "10678              19             55  \n",
       "10679              20             45  \n",
       "10680               8             20  \n",
       "10681              11             30  \n",
       "10682              10             55  \n",
       "\n",
       "[10682 rows x 13 columns]"
      ]
     },
     "execution_count": 18,
     "metadata": {},
     "output_type": "execute_result"
    }
   ],
   "source": [
    "df"
   ]
  },
  {
   "cell_type": "markdown",
   "id": "d0641b2e",
   "metadata": {},
   "source": [
    "### Same way I will work with arival time as well"
   ]
  },
  {
   "cell_type": "code",
   "execution_count": 19,
   "id": "c6b0fbe1",
   "metadata": {},
   "outputs": [],
   "source": [
    "df[\"Arrival hour\"] = pd.to_datetime(df[\"Arrival_Time\"]).dt.hour\n",
    "test[\"Arrival hour\"] = pd.to_datetime(test[\"Arrival_Time\"]).dt.hour"
   ]
  },
  {
   "cell_type": "code",
   "execution_count": 20,
   "id": "7217884c",
   "metadata": {},
   "outputs": [],
   "source": [
    "df[\"Arrival min\"] = pd.to_datetime(df[\"Arrival_Time\"]).dt.minute\n",
    "test[\"Arrival min\"] = pd.to_datetime(test[\"Arrival_Time\"]).dt.minute"
   ]
  },
  {
   "cell_type": "code",
   "execution_count": 21,
   "id": "6b3ba8eb",
   "metadata": {},
   "outputs": [],
   "source": [
    "df.drop([\"Arrival_Time\"], axis = 1, inplace = True)\n",
    "test.drop([\"Arrival_Time\"], axis = 1, inplace = True)"
   ]
  },
  {
   "cell_type": "code",
   "execution_count": 22,
   "id": "94fd1224",
   "metadata": {},
   "outputs": [
    {
     "data": {
      "text/html": [
       "<div>\n",
       "<style scoped>\n",
       "    .dataframe tbody tr th:only-of-type {\n",
       "        vertical-align: middle;\n",
       "    }\n",
       "\n",
       "    .dataframe tbody tr th {\n",
       "        vertical-align: top;\n",
       "    }\n",
       "\n",
       "    .dataframe thead th {\n",
       "        text-align: right;\n",
       "    }\n",
       "</style>\n",
       "<table border=\"1\" class=\"dataframe\">\n",
       "  <thead>\n",
       "    <tr style=\"text-align: right;\">\n",
       "      <th></th>\n",
       "      <th>Airline</th>\n",
       "      <th>Source</th>\n",
       "      <th>Destination</th>\n",
       "      <th>Route</th>\n",
       "      <th>Duration</th>\n",
       "      <th>Total_Stops</th>\n",
       "      <th>Additional_Info</th>\n",
       "      <th>Price</th>\n",
       "      <th>Journey day</th>\n",
       "      <th>Journey month</th>\n",
       "      <th>Departure hour</th>\n",
       "      <th>Departure min</th>\n",
       "      <th>Arrival hour</th>\n",
       "      <th>Arrival min</th>\n",
       "    </tr>\n",
       "  </thead>\n",
       "  <tbody>\n",
       "    <tr>\n",
       "      <th>0</th>\n",
       "      <td>IndiGo</td>\n",
       "      <td>Banglore</td>\n",
       "      <td>New Delhi</td>\n",
       "      <td>BLR → DEL</td>\n",
       "      <td>2h 50m</td>\n",
       "      <td>non-stop</td>\n",
       "      <td>No info</td>\n",
       "      <td>3897</td>\n",
       "      <td>24</td>\n",
       "      <td>3</td>\n",
       "      <td>22</td>\n",
       "      <td>20</td>\n",
       "      <td>1</td>\n",
       "      <td>10</td>\n",
       "    </tr>\n",
       "    <tr>\n",
       "      <th>1</th>\n",
       "      <td>Air India</td>\n",
       "      <td>Kolkata</td>\n",
       "      <td>Banglore</td>\n",
       "      <td>CCU → IXR → BBI → BLR</td>\n",
       "      <td>7h 25m</td>\n",
       "      <td>2 stops</td>\n",
       "      <td>No info</td>\n",
       "      <td>7662</td>\n",
       "      <td>1</td>\n",
       "      <td>5</td>\n",
       "      <td>5</td>\n",
       "      <td>50</td>\n",
       "      <td>13</td>\n",
       "      <td>15</td>\n",
       "    </tr>\n",
       "    <tr>\n",
       "      <th>2</th>\n",
       "      <td>Jet Airways</td>\n",
       "      <td>Delhi</td>\n",
       "      <td>Cochin</td>\n",
       "      <td>DEL → LKO → BOM → COK</td>\n",
       "      <td>19h</td>\n",
       "      <td>2 stops</td>\n",
       "      <td>No info</td>\n",
       "      <td>13882</td>\n",
       "      <td>9</td>\n",
       "      <td>6</td>\n",
       "      <td>9</td>\n",
       "      <td>25</td>\n",
       "      <td>4</td>\n",
       "      <td>25</td>\n",
       "    </tr>\n",
       "    <tr>\n",
       "      <th>3</th>\n",
       "      <td>IndiGo</td>\n",
       "      <td>Kolkata</td>\n",
       "      <td>Banglore</td>\n",
       "      <td>CCU → NAG → BLR</td>\n",
       "      <td>5h 25m</td>\n",
       "      <td>1 stop</td>\n",
       "      <td>No info</td>\n",
       "      <td>6218</td>\n",
       "      <td>12</td>\n",
       "      <td>5</td>\n",
       "      <td>18</td>\n",
       "      <td>5</td>\n",
       "      <td>23</td>\n",
       "      <td>30</td>\n",
       "    </tr>\n",
       "    <tr>\n",
       "      <th>4</th>\n",
       "      <td>IndiGo</td>\n",
       "      <td>Banglore</td>\n",
       "      <td>New Delhi</td>\n",
       "      <td>BLR → NAG → DEL</td>\n",
       "      <td>4h 45m</td>\n",
       "      <td>1 stop</td>\n",
       "      <td>No info</td>\n",
       "      <td>13302</td>\n",
       "      <td>1</td>\n",
       "      <td>3</td>\n",
       "      <td>16</td>\n",
       "      <td>50</td>\n",
       "      <td>21</td>\n",
       "      <td>35</td>\n",
       "    </tr>\n",
       "    <tr>\n",
       "      <th>...</th>\n",
       "      <td>...</td>\n",
       "      <td>...</td>\n",
       "      <td>...</td>\n",
       "      <td>...</td>\n",
       "      <td>...</td>\n",
       "      <td>...</td>\n",
       "      <td>...</td>\n",
       "      <td>...</td>\n",
       "      <td>...</td>\n",
       "      <td>...</td>\n",
       "      <td>...</td>\n",
       "      <td>...</td>\n",
       "      <td>...</td>\n",
       "      <td>...</td>\n",
       "    </tr>\n",
       "    <tr>\n",
       "      <th>10678</th>\n",
       "      <td>Air Asia</td>\n",
       "      <td>Kolkata</td>\n",
       "      <td>Banglore</td>\n",
       "      <td>CCU → BLR</td>\n",
       "      <td>2h 30m</td>\n",
       "      <td>non-stop</td>\n",
       "      <td>No info</td>\n",
       "      <td>4107</td>\n",
       "      <td>9</td>\n",
       "      <td>4</td>\n",
       "      <td>19</td>\n",
       "      <td>55</td>\n",
       "      <td>22</td>\n",
       "      <td>25</td>\n",
       "    </tr>\n",
       "    <tr>\n",
       "      <th>10679</th>\n",
       "      <td>Air India</td>\n",
       "      <td>Kolkata</td>\n",
       "      <td>Banglore</td>\n",
       "      <td>CCU → BLR</td>\n",
       "      <td>2h 35m</td>\n",
       "      <td>non-stop</td>\n",
       "      <td>No info</td>\n",
       "      <td>4145</td>\n",
       "      <td>27</td>\n",
       "      <td>4</td>\n",
       "      <td>20</td>\n",
       "      <td>45</td>\n",
       "      <td>23</td>\n",
       "      <td>20</td>\n",
       "    </tr>\n",
       "    <tr>\n",
       "      <th>10680</th>\n",
       "      <td>Jet Airways</td>\n",
       "      <td>Banglore</td>\n",
       "      <td>Delhi</td>\n",
       "      <td>BLR → DEL</td>\n",
       "      <td>3h</td>\n",
       "      <td>non-stop</td>\n",
       "      <td>No info</td>\n",
       "      <td>7229</td>\n",
       "      <td>27</td>\n",
       "      <td>4</td>\n",
       "      <td>8</td>\n",
       "      <td>20</td>\n",
       "      <td>11</td>\n",
       "      <td>20</td>\n",
       "    </tr>\n",
       "    <tr>\n",
       "      <th>10681</th>\n",
       "      <td>Vistara</td>\n",
       "      <td>Banglore</td>\n",
       "      <td>New Delhi</td>\n",
       "      <td>BLR → DEL</td>\n",
       "      <td>2h 40m</td>\n",
       "      <td>non-stop</td>\n",
       "      <td>No info</td>\n",
       "      <td>12648</td>\n",
       "      <td>1</td>\n",
       "      <td>3</td>\n",
       "      <td>11</td>\n",
       "      <td>30</td>\n",
       "      <td>14</td>\n",
       "      <td>10</td>\n",
       "    </tr>\n",
       "    <tr>\n",
       "      <th>10682</th>\n",
       "      <td>Air India</td>\n",
       "      <td>Delhi</td>\n",
       "      <td>Cochin</td>\n",
       "      <td>DEL → GOI → BOM → COK</td>\n",
       "      <td>8h 20m</td>\n",
       "      <td>2 stops</td>\n",
       "      <td>No info</td>\n",
       "      <td>11753</td>\n",
       "      <td>9</td>\n",
       "      <td>5</td>\n",
       "      <td>10</td>\n",
       "      <td>55</td>\n",
       "      <td>19</td>\n",
       "      <td>15</td>\n",
       "    </tr>\n",
       "  </tbody>\n",
       "</table>\n",
       "<p>10682 rows × 14 columns</p>\n",
       "</div>"
      ],
      "text/plain": [
       "           Airline    Source Destination                  Route Duration  \\\n",
       "0           IndiGo  Banglore   New Delhi              BLR → DEL   2h 50m   \n",
       "1        Air India   Kolkata    Banglore  CCU → IXR → BBI → BLR   7h 25m   \n",
       "2      Jet Airways     Delhi      Cochin  DEL → LKO → BOM → COK      19h   \n",
       "3           IndiGo   Kolkata    Banglore        CCU → NAG → BLR   5h 25m   \n",
       "4           IndiGo  Banglore   New Delhi        BLR → NAG → DEL   4h 45m   \n",
       "...            ...       ...         ...                    ...      ...   \n",
       "10678     Air Asia   Kolkata    Banglore              CCU → BLR   2h 30m   \n",
       "10679    Air India   Kolkata    Banglore              CCU → BLR   2h 35m   \n",
       "10680  Jet Airways  Banglore       Delhi              BLR → DEL       3h   \n",
       "10681      Vistara  Banglore   New Delhi              BLR → DEL   2h 40m   \n",
       "10682    Air India     Delhi      Cochin  DEL → GOI → BOM → COK   8h 20m   \n",
       "\n",
       "      Total_Stops Additional_Info  Price  Journey day  Journey month  \\\n",
       "0        non-stop         No info   3897           24              3   \n",
       "1         2 stops         No info   7662            1              5   \n",
       "2         2 stops         No info  13882            9              6   \n",
       "3          1 stop         No info   6218           12              5   \n",
       "4          1 stop         No info  13302            1              3   \n",
       "...           ...             ...    ...          ...            ...   \n",
       "10678    non-stop         No info   4107            9              4   \n",
       "10679    non-stop         No info   4145           27              4   \n",
       "10680    non-stop         No info   7229           27              4   \n",
       "10681    non-stop         No info  12648            1              3   \n",
       "10682     2 stops         No info  11753            9              5   \n",
       "\n",
       "       Departure hour  Departure min  Arrival hour  Arrival min  \n",
       "0                  22             20             1           10  \n",
       "1                   5             50            13           15  \n",
       "2                   9             25             4           25  \n",
       "3                  18              5            23           30  \n",
       "4                  16             50            21           35  \n",
       "...               ...            ...           ...          ...  \n",
       "10678              19             55            22           25  \n",
       "10679              20             45            23           20  \n",
       "10680               8             20            11           20  \n",
       "10681              11             30            14           10  \n",
       "10682              10             55            19           15  \n",
       "\n",
       "[10682 rows x 14 columns]"
      ]
     },
     "execution_count": 22,
     "metadata": {},
     "output_type": "execute_result"
    }
   ],
   "source": [
    "df"
   ]
  },
  {
   "cell_type": "code",
   "execution_count": 23,
   "id": "93d4e032",
   "metadata": {},
   "outputs": [
    {
     "name": "stdout",
     "output_type": "stream",
     "text": [
      "<class 'pandas.core.frame.DataFrame'>\n",
      "Int64Index: 10682 entries, 0 to 10682\n",
      "Data columns (total 14 columns):\n",
      " #   Column           Non-Null Count  Dtype \n",
      "---  ------           --------------  ----- \n",
      " 0   Airline          10682 non-null  object\n",
      " 1   Source           10682 non-null  object\n",
      " 2   Destination      10682 non-null  object\n",
      " 3   Route            10682 non-null  object\n",
      " 4   Duration         10682 non-null  object\n",
      " 5   Total_Stops      10682 non-null  object\n",
      " 6   Additional_Info  10682 non-null  object\n",
      " 7   Price            10682 non-null  int64 \n",
      " 8   Journey day      10682 non-null  int64 \n",
      " 9   Journey month    10682 non-null  int64 \n",
      " 10  Departure hour   10682 non-null  int64 \n",
      " 11  Departure min    10682 non-null  int64 \n",
      " 12  Arrival hour     10682 non-null  int64 \n",
      " 13  Arrival min      10682 non-null  int64 \n",
      "dtypes: int64(7), object(7)\n",
      "memory usage: 1.2+ MB\n"
     ]
    }
   ],
   "source": [
    "df.info()"
   ]
  },
  {
   "cell_type": "markdown",
   "id": "e8094f03",
   "metadata": {},
   "source": [
    "### Let check the Duration column"
   ]
  },
  {
   "cell_type": "markdown",
   "id": "0b4e01c2",
   "metadata": {},
   "source": [
    "#### Observation- As I can see that Duration is also in object type so I will make a seperte column which will contain the total duration in minutes and drop the duration column"
   ]
  },
  {
   "cell_type": "code",
   "execution_count": 24,
   "id": "b68a483d",
   "metadata": {},
   "outputs": [],
   "source": [
    "d= list(df[\"Duration\"])\n",
    "t= list(test[\"Duration\"])"
   ]
  },
  {
   "cell_type": "markdown",
   "id": "aed0c680",
   "metadata": {},
   "source": [
    "I am adding the 0 mins if no mins is present in the data so that we dont get out of range error"
   ]
  },
  {
   "cell_type": "code",
   "execution_count": 25,
   "id": "bc47ed97",
   "metadata": {},
   "outputs": [],
   "source": [
    "for i in range(len(d)):\n",
    "    if len(d[i].split()) != 2:    \n",
    "        if \"h\" in d[i]:\n",
    "            d[i] = d[i].strip() + \" 0m\"  \n",
    "        else:\n",
    "            d[i] = \"0h \" + d[i]"
   ]
  },
  {
   "cell_type": "code",
   "execution_count": 26,
   "id": "5a6f9f9e",
   "metadata": {},
   "outputs": [],
   "source": [
    "for i in range(len(t)):\n",
    "    if len(t[i].split()) != 2:    \n",
    "        if \"h\" in t[i]:\n",
    "            t[i] = t[i].strip() + \" 0m\"  \n",
    "        else:\n",
    "            t[i] = \"0h \" + t[i]"
   ]
  },
  {
   "cell_type": "code",
   "execution_count": 27,
   "id": "87d30df6",
   "metadata": {},
   "outputs": [],
   "source": [
    "dh = []\n",
    "for i in range(len(d)):\n",
    "    dh.append((int(d[i].split(sep = \"h\")[0])*60)+(int(d[i].split(sep = \"m\")[0].split()[-1])))  \n"
   ]
  },
  {
   "cell_type": "code",
   "execution_count": 28,
   "id": "297bf7ba",
   "metadata": {},
   "outputs": [],
   "source": [
    "th = []\n",
    "for i in range(len(t)):\n",
    "    th.append((int(t[i].split(sep = \"h\")[0])*60)+(int(t[i].split(sep = \"m\")[0].split()[-1])))"
   ]
  },
  {
   "cell_type": "code",
   "execution_count": 29,
   "id": "204d7546",
   "metadata": {},
   "outputs": [],
   "source": [
    "df[\"Duration(mins)\"] = dh\n",
    "test[\"Duration(mins)\"] = th"
   ]
  },
  {
   "cell_type": "code",
   "execution_count": 30,
   "id": "30f579a5",
   "metadata": {},
   "outputs": [],
   "source": [
    "df.drop([\"Duration\"], axis = 1, inplace = True)\n",
    "test.drop([\"Duration\"], axis = 1, inplace = True)"
   ]
  },
  {
   "cell_type": "code",
   "execution_count": 31,
   "id": "023b968f",
   "metadata": {},
   "outputs": [
    {
     "data": {
      "text/html": [
       "<div>\n",
       "<style scoped>\n",
       "    .dataframe tbody tr th:only-of-type {\n",
       "        vertical-align: middle;\n",
       "    }\n",
       "\n",
       "    .dataframe tbody tr th {\n",
       "        vertical-align: top;\n",
       "    }\n",
       "\n",
       "    .dataframe thead th {\n",
       "        text-align: right;\n",
       "    }\n",
       "</style>\n",
       "<table border=\"1\" class=\"dataframe\">\n",
       "  <thead>\n",
       "    <tr style=\"text-align: right;\">\n",
       "      <th></th>\n",
       "      <th>Airline</th>\n",
       "      <th>Source</th>\n",
       "      <th>Destination</th>\n",
       "      <th>Route</th>\n",
       "      <th>Total_Stops</th>\n",
       "      <th>Additional_Info</th>\n",
       "      <th>Price</th>\n",
       "      <th>Journey day</th>\n",
       "      <th>Journey month</th>\n",
       "      <th>Departure hour</th>\n",
       "      <th>Departure min</th>\n",
       "      <th>Arrival hour</th>\n",
       "      <th>Arrival min</th>\n",
       "      <th>Duration(mins)</th>\n",
       "    </tr>\n",
       "  </thead>\n",
       "  <tbody>\n",
       "    <tr>\n",
       "      <th>0</th>\n",
       "      <td>IndiGo</td>\n",
       "      <td>Banglore</td>\n",
       "      <td>New Delhi</td>\n",
       "      <td>BLR → DEL</td>\n",
       "      <td>non-stop</td>\n",
       "      <td>No info</td>\n",
       "      <td>3897</td>\n",
       "      <td>24</td>\n",
       "      <td>3</td>\n",
       "      <td>22</td>\n",
       "      <td>20</td>\n",
       "      <td>1</td>\n",
       "      <td>10</td>\n",
       "      <td>170</td>\n",
       "    </tr>\n",
       "    <tr>\n",
       "      <th>1</th>\n",
       "      <td>Air India</td>\n",
       "      <td>Kolkata</td>\n",
       "      <td>Banglore</td>\n",
       "      <td>CCU → IXR → BBI → BLR</td>\n",
       "      <td>2 stops</td>\n",
       "      <td>No info</td>\n",
       "      <td>7662</td>\n",
       "      <td>1</td>\n",
       "      <td>5</td>\n",
       "      <td>5</td>\n",
       "      <td>50</td>\n",
       "      <td>13</td>\n",
       "      <td>15</td>\n",
       "      <td>445</td>\n",
       "    </tr>\n",
       "    <tr>\n",
       "      <th>2</th>\n",
       "      <td>Jet Airways</td>\n",
       "      <td>Delhi</td>\n",
       "      <td>Cochin</td>\n",
       "      <td>DEL → LKO → BOM → COK</td>\n",
       "      <td>2 stops</td>\n",
       "      <td>No info</td>\n",
       "      <td>13882</td>\n",
       "      <td>9</td>\n",
       "      <td>6</td>\n",
       "      <td>9</td>\n",
       "      <td>25</td>\n",
       "      <td>4</td>\n",
       "      <td>25</td>\n",
       "      <td>1140</td>\n",
       "    </tr>\n",
       "    <tr>\n",
       "      <th>3</th>\n",
       "      <td>IndiGo</td>\n",
       "      <td>Kolkata</td>\n",
       "      <td>Banglore</td>\n",
       "      <td>CCU → NAG → BLR</td>\n",
       "      <td>1 stop</td>\n",
       "      <td>No info</td>\n",
       "      <td>6218</td>\n",
       "      <td>12</td>\n",
       "      <td>5</td>\n",
       "      <td>18</td>\n",
       "      <td>5</td>\n",
       "      <td>23</td>\n",
       "      <td>30</td>\n",
       "      <td>325</td>\n",
       "    </tr>\n",
       "    <tr>\n",
       "      <th>4</th>\n",
       "      <td>IndiGo</td>\n",
       "      <td>Banglore</td>\n",
       "      <td>New Delhi</td>\n",
       "      <td>BLR → NAG → DEL</td>\n",
       "      <td>1 stop</td>\n",
       "      <td>No info</td>\n",
       "      <td>13302</td>\n",
       "      <td>1</td>\n",
       "      <td>3</td>\n",
       "      <td>16</td>\n",
       "      <td>50</td>\n",
       "      <td>21</td>\n",
       "      <td>35</td>\n",
       "      <td>285</td>\n",
       "    </tr>\n",
       "    <tr>\n",
       "      <th>...</th>\n",
       "      <td>...</td>\n",
       "      <td>...</td>\n",
       "      <td>...</td>\n",
       "      <td>...</td>\n",
       "      <td>...</td>\n",
       "      <td>...</td>\n",
       "      <td>...</td>\n",
       "      <td>...</td>\n",
       "      <td>...</td>\n",
       "      <td>...</td>\n",
       "      <td>...</td>\n",
       "      <td>...</td>\n",
       "      <td>...</td>\n",
       "      <td>...</td>\n",
       "    </tr>\n",
       "    <tr>\n",
       "      <th>10678</th>\n",
       "      <td>Air Asia</td>\n",
       "      <td>Kolkata</td>\n",
       "      <td>Banglore</td>\n",
       "      <td>CCU → BLR</td>\n",
       "      <td>non-stop</td>\n",
       "      <td>No info</td>\n",
       "      <td>4107</td>\n",
       "      <td>9</td>\n",
       "      <td>4</td>\n",
       "      <td>19</td>\n",
       "      <td>55</td>\n",
       "      <td>22</td>\n",
       "      <td>25</td>\n",
       "      <td>150</td>\n",
       "    </tr>\n",
       "    <tr>\n",
       "      <th>10679</th>\n",
       "      <td>Air India</td>\n",
       "      <td>Kolkata</td>\n",
       "      <td>Banglore</td>\n",
       "      <td>CCU → BLR</td>\n",
       "      <td>non-stop</td>\n",
       "      <td>No info</td>\n",
       "      <td>4145</td>\n",
       "      <td>27</td>\n",
       "      <td>4</td>\n",
       "      <td>20</td>\n",
       "      <td>45</td>\n",
       "      <td>23</td>\n",
       "      <td>20</td>\n",
       "      <td>155</td>\n",
       "    </tr>\n",
       "    <tr>\n",
       "      <th>10680</th>\n",
       "      <td>Jet Airways</td>\n",
       "      <td>Banglore</td>\n",
       "      <td>Delhi</td>\n",
       "      <td>BLR → DEL</td>\n",
       "      <td>non-stop</td>\n",
       "      <td>No info</td>\n",
       "      <td>7229</td>\n",
       "      <td>27</td>\n",
       "      <td>4</td>\n",
       "      <td>8</td>\n",
       "      <td>20</td>\n",
       "      <td>11</td>\n",
       "      <td>20</td>\n",
       "      <td>180</td>\n",
       "    </tr>\n",
       "    <tr>\n",
       "      <th>10681</th>\n",
       "      <td>Vistara</td>\n",
       "      <td>Banglore</td>\n",
       "      <td>New Delhi</td>\n",
       "      <td>BLR → DEL</td>\n",
       "      <td>non-stop</td>\n",
       "      <td>No info</td>\n",
       "      <td>12648</td>\n",
       "      <td>1</td>\n",
       "      <td>3</td>\n",
       "      <td>11</td>\n",
       "      <td>30</td>\n",
       "      <td>14</td>\n",
       "      <td>10</td>\n",
       "      <td>160</td>\n",
       "    </tr>\n",
       "    <tr>\n",
       "      <th>10682</th>\n",
       "      <td>Air India</td>\n",
       "      <td>Delhi</td>\n",
       "      <td>Cochin</td>\n",
       "      <td>DEL → GOI → BOM → COK</td>\n",
       "      <td>2 stops</td>\n",
       "      <td>No info</td>\n",
       "      <td>11753</td>\n",
       "      <td>9</td>\n",
       "      <td>5</td>\n",
       "      <td>10</td>\n",
       "      <td>55</td>\n",
       "      <td>19</td>\n",
       "      <td>15</td>\n",
       "      <td>500</td>\n",
       "    </tr>\n",
       "  </tbody>\n",
       "</table>\n",
       "<p>10682 rows × 14 columns</p>\n",
       "</div>"
      ],
      "text/plain": [
       "           Airline    Source Destination                  Route Total_Stops  \\\n",
       "0           IndiGo  Banglore   New Delhi              BLR → DEL    non-stop   \n",
       "1        Air India   Kolkata    Banglore  CCU → IXR → BBI → BLR     2 stops   \n",
       "2      Jet Airways     Delhi      Cochin  DEL → LKO → BOM → COK     2 stops   \n",
       "3           IndiGo   Kolkata    Banglore        CCU → NAG → BLR      1 stop   \n",
       "4           IndiGo  Banglore   New Delhi        BLR → NAG → DEL      1 stop   \n",
       "...            ...       ...         ...                    ...         ...   \n",
       "10678     Air Asia   Kolkata    Banglore              CCU → BLR    non-stop   \n",
       "10679    Air India   Kolkata    Banglore              CCU → BLR    non-stop   \n",
       "10680  Jet Airways  Banglore       Delhi              BLR → DEL    non-stop   \n",
       "10681      Vistara  Banglore   New Delhi              BLR → DEL    non-stop   \n",
       "10682    Air India     Delhi      Cochin  DEL → GOI → BOM → COK     2 stops   \n",
       "\n",
       "      Additional_Info  Price  Journey day  Journey month  Departure hour  \\\n",
       "0             No info   3897           24              3              22   \n",
       "1             No info   7662            1              5               5   \n",
       "2             No info  13882            9              6               9   \n",
       "3             No info   6218           12              5              18   \n",
       "4             No info  13302            1              3              16   \n",
       "...               ...    ...          ...            ...             ...   \n",
       "10678         No info   4107            9              4              19   \n",
       "10679         No info   4145           27              4              20   \n",
       "10680         No info   7229           27              4               8   \n",
       "10681         No info  12648            1              3              11   \n",
       "10682         No info  11753            9              5              10   \n",
       "\n",
       "       Departure min  Arrival hour  Arrival min  Duration(mins)  \n",
       "0                 20             1           10             170  \n",
       "1                 50            13           15             445  \n",
       "2                 25             4           25            1140  \n",
       "3                  5            23           30             325  \n",
       "4                 50            21           35             285  \n",
       "...              ...           ...          ...             ...  \n",
       "10678             55            22           25             150  \n",
       "10679             45            23           20             155  \n",
       "10680             20            11           20             180  \n",
       "10681             30            14           10             160  \n",
       "10682             55            19           15             500  \n",
       "\n",
       "[10682 rows x 14 columns]"
      ]
     },
     "execution_count": 31,
     "metadata": {},
     "output_type": "execute_result"
    }
   ],
   "source": [
    "df"
   ]
  },
  {
   "cell_type": "code",
   "execution_count": 32,
   "id": "17eda04c",
   "metadata": {},
   "outputs": [
    {
     "name": "stdout",
     "output_type": "stream",
     "text": [
      "<class 'pandas.core.frame.DataFrame'>\n",
      "Int64Index: 10682 entries, 0 to 10682\n",
      "Data columns (total 14 columns):\n",
      " #   Column           Non-Null Count  Dtype \n",
      "---  ------           --------------  ----- \n",
      " 0   Airline          10682 non-null  object\n",
      " 1   Source           10682 non-null  object\n",
      " 2   Destination      10682 non-null  object\n",
      " 3   Route            10682 non-null  object\n",
      " 4   Total_Stops      10682 non-null  object\n",
      " 5   Additional_Info  10682 non-null  object\n",
      " 6   Price            10682 non-null  int64 \n",
      " 7   Journey day      10682 non-null  int64 \n",
      " 8   Journey month    10682 non-null  int64 \n",
      " 9   Departure hour   10682 non-null  int64 \n",
      " 10  Departure min    10682 non-null  int64 \n",
      " 11  Arrival hour     10682 non-null  int64 \n",
      " 12  Arrival min      10682 non-null  int64 \n",
      " 13  Duration(mins)   10682 non-null  int64 \n",
      "dtypes: int64(8), object(6)\n",
      "memory usage: 1.2+ MB\n"
     ]
    }
   ],
   "source": [
    "df.info()"
   ]
  },
  {
   "cell_type": "markdown",
   "id": "44c34e2e",
   "metadata": {},
   "source": [
    "### Now lets check the Additional info column"
   ]
  },
  {
   "cell_type": "code",
   "execution_count": 33,
   "id": "0c331d1e",
   "metadata": {},
   "outputs": [
    {
     "data": {
      "text/plain": [
       "No info                         8344\n",
       "In-flight meal not included     1982\n",
       "No check-in baggage included     320\n",
       "1 Long layover                    19\n",
       "Change airports                    7\n",
       "Business class                     4\n",
       "No Info                            3\n",
       "1 Short layover                    1\n",
       "2 Long layover                     1\n",
       "Red-eye flight                     1\n",
       "Name: Additional_Info, dtype: int64"
      ]
     },
     "execution_count": 33,
     "metadata": {},
     "output_type": "execute_result"
    }
   ],
   "source": [
    "df['Additional_Info'].value_counts()"
   ]
  },
  {
   "cell_type": "markdown",
   "id": "4157fb1b",
   "metadata": {},
   "source": [
    "# EDA"
   ]
  },
  {
   "cell_type": "code",
   "execution_count": 34,
   "id": "5d56d428",
   "metadata": {},
   "outputs": [
    {
     "data": {
      "text/plain": [
       "(array([ 0,  1,  2,  3,  4,  5,  6,  7,  8,  9, 10, 11]),\n",
       " [Text(0, 0, 'IndiGo'),\n",
       "  Text(1, 0, 'Air India'),\n",
       "  Text(2, 0, 'Jet Airways'),\n",
       "  Text(3, 0, 'SpiceJet'),\n",
       "  Text(4, 0, 'Multiple carriers'),\n",
       "  Text(5, 0, 'GoAir'),\n",
       "  Text(6, 0, 'Vistara'),\n",
       "  Text(7, 0, 'Air Asia'),\n",
       "  Text(8, 0, 'Vistara Premium economy'),\n",
       "  Text(9, 0, 'Jet Airways Business'),\n",
       "  Text(10, 0, 'Multiple carriers Premium economy'),\n",
       "  Text(11, 0, 'Trujet')])"
      ]
     },
     "execution_count": 34,
     "metadata": {},
     "output_type": "execute_result"
    },
    {
     "data": {
      "image/png": "[encoded data removed]",
      "text/plain": [
       "<Figure size 432x288 with 1 Axes>"
      ]
     },
     "metadata": {
      "needs_background": "light"
     },
     "output_type": "display_data"
    }
   ],
   "source": [
    "sns.countplot(df['Airline'])\n",
    "plt.xticks(rotation=90)"
   ]
  },
  {
   "cell_type": "markdown",
   "id": "dcc0586d",
   "metadata": {},
   "source": [
    "#### Observation- Jet Airways has highest flight bookings and Trujet has least bookings"
   ]
  },
  {
   "cell_type": "code",
   "execution_count": 35,
   "id": "cc9231f7",
   "metadata": {},
   "outputs": [
    {
     "data": {
      "text/plain": [
       "(array([0, 1, 2, 3, 4]),\n",
       " [Text(0, 0, 'non-stop'),\n",
       "  Text(1, 0, '2 stops'),\n",
       "  Text(2, 0, '1 stop'),\n",
       "  Text(3, 0, '3 stops'),\n",
       "  Text(4, 0, '4 stops')])"
      ]
     },
     "execution_count": 35,
     "metadata": {},
     "output_type": "execute_result"
    },
    {
     "data": {
      "image/png": "[encoded data removed]",
      "text/plain": [
       "<Figure size 432x288 with 1 Axes>"
      ]
     },
     "metadata": {
      "needs_background": "light"
     },
     "output_type": "display_data"
    }
   ],
   "source": [
    "sns.countplot(df['Total_Stops'])\n",
    "plt.xticks(rotation=90)"
   ]
  },
  {
   "cell_type": "markdown",
   "id": "960a6252",
   "metadata": {},
   "source": [
    "#### Observation- Most of them has 1 stop and very few has 4 stops"
   ]
  },
  {
   "cell_type": "code",
   "execution_count": 36,
   "id": "3436553d",
   "metadata": {},
   "outputs": [
    {
     "data": {
      "text/plain": [
       "(array([0, 1, 2, 3, 4]),\n",
       " [Text(0, 0, 'Banglore'),\n",
       "  Text(1, 0, 'Kolkata'),\n",
       "  Text(2, 0, 'Delhi'),\n",
       "  Text(3, 0, 'Chennai'),\n",
       "  Text(4, 0, 'Mumbai')])"
      ]
     },
     "execution_count": 36,
     "metadata": {},
     "output_type": "execute_result"
    },
    {
     "data": {
      "image/png": "[encoded data removed]",
      "text/plain": [
       "<Figure size 432x288 with 1 Axes>"
      ]
     },
     "metadata": {
      "needs_background": "light"
     },
     "output_type": "display_data"
    }
   ],
   "source": [
    "sns.countplot(df['Source'])\n",
    "plt.xticks(rotation=90)"
   ]
  },
  {
   "cell_type": "markdown",
   "id": "c8fe7984",
   "metadata": {},
   "source": [
    "#### Observation- Most of the flights are getting booked having source as Delhi and least are having Chennai"
   ]
  },
  {
   "cell_type": "code",
   "execution_count": 37,
   "id": "461e32ed",
   "metadata": {},
   "outputs": [
    {
     "data": {
      "text/plain": [
       "(array([ 0,  1,  2,  3,  4,  5,  6,  7,  8,  9, 10, 11]),\n",
       " [Text(0, 0, 'IndiGo'),\n",
       "  Text(1, 0, 'Air India'),\n",
       "  Text(2, 0, 'Jet Airways'),\n",
       "  Text(3, 0, 'SpiceJet'),\n",
       "  Text(4, 0, 'Multiple carriers'),\n",
       "  Text(5, 0, 'GoAir'),\n",
       "  Text(6, 0, 'Vistara'),\n",
       "  Text(7, 0, 'Air Asia'),\n",
       "  Text(8, 0, 'Vistara Premium economy'),\n",
       "  Text(9, 0, 'Jet Airways Business'),\n",
       "  Text(10, 0, 'Multiple carriers Premium economy'),\n",
       "  Text(11, 0, 'Trujet')])"
      ]
     },
     "execution_count": 37,
     "metadata": {},
     "output_type": "execute_result"
    },
    {
     "data": {
      "image/png": "[encoded data removed]",
      "text/plain": [
       "<Figure size 360x360 with 1 Axes>"
      ]
     },
     "metadata": {
      "needs_background": "light"
     },
     "output_type": "display_data"
    }
   ],
   "source": [
    "sns.catplot(x=\"Airline\", y= \"Price\", data=df)\n",
    "plt.xticks(rotation=90)"
   ]
  },
  {
   "cell_type": "markdown",
   "id": "22707c3e",
   "metadata": {},
   "source": [
    "#### Observation- Jet Airways business class is having the most price ranging from 50000 to 80000\n"
   ]
  },
  {
   "cell_type": "code",
   "execution_count": 38,
   "id": "560d7883",
   "metadata": {},
   "outputs": [
    {
     "data": {
      "text/plain": [
       "(array([0, 1, 2, 3, 4]),\n",
       " [Text(0, 0, 'non-stop'),\n",
       "  Text(1, 0, '2 stops'),\n",
       "  Text(2, 0, '1 stop'),\n",
       "  Text(3, 0, '3 stops'),\n",
       "  Text(4, 0, '4 stops')])"
      ]
     },
     "execution_count": 38,
     "metadata": {},
     "output_type": "execute_result"
    },
    {
     "data": {
      "image/png": "[encoded data removed]",
      "text/plain": [
       "<Figure size 360x360 with 1 Axes>"
      ]
     },
     "metadata": {
      "needs_background": "light"
     },
     "output_type": "display_data"
    }
   ],
   "source": [
    "sns.catplot(x=\"Total_Stops\", y= \"Price\", data=df)\n",
    "plt.xticks(rotation=90)"
   ]
  },
  {
   "cell_type": "markdown",
   "id": "f74d485c",
   "metadata": {},
   "source": [
    "#### Observation- 1 stops are having highest price and non-stops are having least prices"
   ]
  },
  {
   "cell_type": "code",
   "execution_count": 39,
   "id": "caa10745",
   "metadata": {},
   "outputs": [
    {
     "data": {
      "text/plain": [
       "(array([0, 1, 2, 3, 4, 5]),\n",
       " [Text(0, 0, 'New Delhi'),\n",
       "  Text(1, 0, 'Banglore'),\n",
       "  Text(2, 0, 'Cochin'),\n",
       "  Text(3, 0, 'Kolkata'),\n",
       "  Text(4, 0, 'Delhi'),\n",
       "  Text(5, 0, 'Hyderabad')])"
      ]
     },
     "execution_count": 39,
     "metadata": {},
     "output_type": "execute_result"
    },
    {
     "data": {
      "image/png": "[encoded data removed]",
      "text/plain": [
       "<Figure size 360x360 with 1 Axes>"
      ]
     },
     "metadata": {
      "needs_background": "light"
     },
     "output_type": "display_data"
    }
   ],
   "source": [
    "sns.catplot(x=\"Destination\", y= \"Source\", data=df)\n",
    "plt.xticks(rotation=90)"
   ]
  },
  {
   "cell_type": "markdown",
   "id": "b61b0254",
   "metadata": {},
   "source": [
    "#### Observation- we have flight-\n",
    "- Bangalore to New Delhi\n",
    "- Kolkata to Bangalore\n",
    "- Delhi to Cochin\n",
    "- Chennai to Kolkata\n",
    "- Bangalore to Delhi\n",
    "- Mumbai to Hyderabad"
   ]
  },
  {
   "cell_type": "code",
   "execution_count": 40,
   "id": "6cd1a783",
   "metadata": {},
   "outputs": [
    {
     "data": {
      "text/plain": [
       "<AxesSubplot:xlabel='Price', ylabel='Duration(mins)'>"
      ]
     },
     "execution_count": 40,
     "metadata": {},
     "output_type": "execute_result"
    },
    {
     "data": {
      "image/png": "[encoded data removed]",
      "text/plain": [
       "<Figure size 432x288 with 1 Axes>"
      ]
     },
     "metadata": {
      "needs_background": "light"
     },
     "output_type": "display_data"
    }
   ],
   "source": [
    "sns.scatterplot(df['Price'],df['Duration(mins)'], data=df)"
   ]
  },
  {
   "cell_type": "markdown",
   "id": "28f7ba60",
   "metadata": {},
   "source": [
    "#### Observation- Flight having highest fair is having flight time 490 mins"
   ]
  },
  {
   "cell_type": "code",
   "execution_count": 41,
   "id": "7aaa3c10",
   "metadata": {},
   "outputs": [
    {
     "data": {
      "text/html": [
       "<div>\n",
       "<style scoped>\n",
       "    .dataframe tbody tr th:only-of-type {\n",
       "        vertical-align: middle;\n",
       "    }\n",
       "\n",
       "    .dataframe tbody tr th {\n",
       "        vertical-align: top;\n",
       "    }\n",
       "\n",
       "    .dataframe thead th {\n",
       "        text-align: right;\n",
       "    }\n",
       "</style>\n",
       "<table border=\"1\" class=\"dataframe\">\n",
       "  <thead>\n",
       "    <tr style=\"text-align: right;\">\n",
       "      <th></th>\n",
       "      <th>Airline</th>\n",
       "      <th>Source</th>\n",
       "      <th>Destination</th>\n",
       "      <th>Route</th>\n",
       "      <th>Total_Stops</th>\n",
       "      <th>Additional_Info</th>\n",
       "      <th>Price</th>\n",
       "      <th>Journey day</th>\n",
       "      <th>Journey month</th>\n",
       "      <th>Departure hour</th>\n",
       "      <th>Departure min</th>\n",
       "      <th>Arrival hour</th>\n",
       "      <th>Arrival min</th>\n",
       "      <th>Duration(mins)</th>\n",
       "    </tr>\n",
       "  </thead>\n",
       "  <tbody>\n",
       "    <tr>\n",
       "      <th>0</th>\n",
       "      <td>IndiGo</td>\n",
       "      <td>Banglore</td>\n",
       "      <td>New Delhi</td>\n",
       "      <td>BLR → DEL</td>\n",
       "      <td>non-stop</td>\n",
       "      <td>No info</td>\n",
       "      <td>3897</td>\n",
       "      <td>24</td>\n",
       "      <td>3</td>\n",
       "      <td>22</td>\n",
       "      <td>20</td>\n",
       "      <td>1</td>\n",
       "      <td>10</td>\n",
       "      <td>170</td>\n",
       "    </tr>\n",
       "    <tr>\n",
       "      <th>1</th>\n",
       "      <td>Air India</td>\n",
       "      <td>Kolkata</td>\n",
       "      <td>Banglore</td>\n",
       "      <td>CCU → IXR → BBI → BLR</td>\n",
       "      <td>2 stops</td>\n",
       "      <td>No info</td>\n",
       "      <td>7662</td>\n",
       "      <td>1</td>\n",
       "      <td>5</td>\n",
       "      <td>5</td>\n",
       "      <td>50</td>\n",
       "      <td>13</td>\n",
       "      <td>15</td>\n",
       "      <td>445</td>\n",
       "    </tr>\n",
       "    <tr>\n",
       "      <th>2</th>\n",
       "      <td>Jet Airways</td>\n",
       "      <td>Delhi</td>\n",
       "      <td>Cochin</td>\n",
       "      <td>DEL → LKO → BOM → COK</td>\n",
       "      <td>2 stops</td>\n",
       "      <td>No info</td>\n",
       "      <td>13882</td>\n",
       "      <td>9</td>\n",
       "      <td>6</td>\n",
       "      <td>9</td>\n",
       "      <td>25</td>\n",
       "      <td>4</td>\n",
       "      <td>25</td>\n",
       "      <td>1140</td>\n",
       "    </tr>\n",
       "    <tr>\n",
       "      <th>3</th>\n",
       "      <td>IndiGo</td>\n",
       "      <td>Kolkata</td>\n",
       "      <td>Banglore</td>\n",
       "      <td>CCU → NAG → BLR</td>\n",
       "      <td>1 stop</td>\n",
       "      <td>No info</td>\n",
       "      <td>6218</td>\n",
       "      <td>12</td>\n",
       "      <td>5</td>\n",
       "      <td>18</td>\n",
       "      <td>5</td>\n",
       "      <td>23</td>\n",
       "      <td>30</td>\n",
       "      <td>325</td>\n",
       "    </tr>\n",
       "    <tr>\n",
       "      <th>4</th>\n",
       "      <td>IndiGo</td>\n",
       "      <td>Banglore</td>\n",
       "      <td>New Delhi</td>\n",
       "      <td>BLR → NAG → DEL</td>\n",
       "      <td>1 stop</td>\n",
       "      <td>No info</td>\n",
       "      <td>13302</td>\n",
       "      <td>1</td>\n",
       "      <td>3</td>\n",
       "      <td>16</td>\n",
       "      <td>50</td>\n",
       "      <td>21</td>\n",
       "      <td>35</td>\n",
       "      <td>285</td>\n",
       "    </tr>\n",
       "    <tr>\n",
       "      <th>...</th>\n",
       "      <td>...</td>\n",
       "      <td>...</td>\n",
       "      <td>...</td>\n",
       "      <td>...</td>\n",
       "      <td>...</td>\n",
       "      <td>...</td>\n",
       "      <td>...</td>\n",
       "      <td>...</td>\n",
       "      <td>...</td>\n",
       "      <td>...</td>\n",
       "      <td>...</td>\n",
       "      <td>...</td>\n",
       "      <td>...</td>\n",
       "      <td>...</td>\n",
       "    </tr>\n",
       "    <tr>\n",
       "      <th>10678</th>\n",
       "      <td>Air Asia</td>\n",
       "      <td>Kolkata</td>\n",
       "      <td>Banglore</td>\n",
       "      <td>CCU → BLR</td>\n",
       "      <td>non-stop</td>\n",
       "      <td>No info</td>\n",
       "      <td>4107</td>\n",
       "      <td>9</td>\n",
       "      <td>4</td>\n",
       "      <td>19</td>\n",
       "      <td>55</td>\n",
       "      <td>22</td>\n",
       "      <td>25</td>\n",
       "      <td>150</td>\n",
       "    </tr>\n",
       "    <tr>\n",
       "      <th>10679</th>\n",
       "      <td>Air India</td>\n",
       "      <td>Kolkata</td>\n",
       "      <td>Banglore</td>\n",
       "      <td>CCU → BLR</td>\n",
       "      <td>non-stop</td>\n",
       "      <td>No info</td>\n",
       "      <td>4145</td>\n",
       "      <td>27</td>\n",
       "      <td>4</td>\n",
       "      <td>20</td>\n",
       "      <td>45</td>\n",
       "      <td>23</td>\n",
       "      <td>20</td>\n",
       "      <td>155</td>\n",
       "    </tr>\n",
       "    <tr>\n",
       "      <th>10680</th>\n",
       "      <td>Jet Airways</td>\n",
       "      <td>Banglore</td>\n",
       "      <td>Delhi</td>\n",
       "      <td>BLR → DEL</td>\n",
       "      <td>non-stop</td>\n",
       "      <td>No info</td>\n",
       "      <td>7229</td>\n",
       "      <td>27</td>\n",
       "      <td>4</td>\n",
       "      <td>8</td>\n",
       "      <td>20</td>\n",
       "      <td>11</td>\n",
       "      <td>20</td>\n",
       "      <td>180</td>\n",
       "    </tr>\n",
       "    <tr>\n",
       "      <th>10681</th>\n",
       "      <td>Vistara</td>\n",
       "      <td>Banglore</td>\n",
       "      <td>New Delhi</td>\n",
       "      <td>BLR → DEL</td>\n",
       "      <td>non-stop</td>\n",
       "      <td>No info</td>\n",
       "      <td>12648</td>\n",
       "      <td>1</td>\n",
       "      <td>3</td>\n",
       "      <td>11</td>\n",
       "      <td>30</td>\n",
       "      <td>14</td>\n",
       "      <td>10</td>\n",
       "      <td>160</td>\n",
       "    </tr>\n",
       "    <tr>\n",
       "      <th>10682</th>\n",
       "      <td>Air India</td>\n",
       "      <td>Delhi</td>\n",
       "      <td>Cochin</td>\n",
       "      <td>DEL → GOI → BOM → COK</td>\n",
       "      <td>2 stops</td>\n",
       "      <td>No info</td>\n",
       "      <td>11753</td>\n",
       "      <td>9</td>\n",
       "      <td>5</td>\n",
       "      <td>10</td>\n",
       "      <td>55</td>\n",
       "      <td>19</td>\n",
       "      <td>15</td>\n",
       "      <td>500</td>\n",
       "    </tr>\n",
       "  </tbody>\n",
       "</table>\n",
       "<p>10682 rows × 14 columns</p>\n",
       "</div>"
      ],
      "text/plain": [
       "           Airline    Source Destination                  Route Total_Stops  \\\n",
       "0           IndiGo  Banglore   New Delhi              BLR → DEL    non-stop   \n",
       "1        Air India   Kolkata    Banglore  CCU → IXR → BBI → BLR     2 stops   \n",
       "2      Jet Airways     Delhi      Cochin  DEL → LKO → BOM → COK     2 stops   \n",
       "3           IndiGo   Kolkata    Banglore        CCU → NAG → BLR      1 stop   \n",
       "4           IndiGo  Banglore   New Delhi        BLR → NAG → DEL      1 stop   \n",
       "...            ...       ...         ...                    ...         ...   \n",
       "10678     Air Asia   Kolkata    Banglore              CCU → BLR    non-stop   \n",
       "10679    Air India   Kolkata    Banglore              CCU → BLR    non-stop   \n",
       "10680  Jet Airways  Banglore       Delhi              BLR → DEL    non-stop   \n",
       "10681      Vistara  Banglore   New Delhi              BLR → DEL    non-stop   \n",
       "10682    Air India     Delhi      Cochin  DEL → GOI → BOM → COK     2 stops   \n",
       "\n",
       "      Additional_Info  Price  Journey day  Journey month  Departure hour  \\\n",
       "0             No info   3897           24              3              22   \n",
       "1             No info   7662            1              5               5   \n",
       "2             No info  13882            9              6               9   \n",
       "3             No info   6218           12              5              18   \n",
       "4             No info  13302            1              3              16   \n",
       "...               ...    ...          ...            ...             ...   \n",
       "10678         No info   4107            9              4              19   \n",
       "10679         No info   4145           27              4              20   \n",
       "10680         No info   7229           27              4               8   \n",
       "10681         No info  12648            1              3              11   \n",
       "10682         No info  11753            9              5              10   \n",
       "\n",
       "       Departure min  Arrival hour  Arrival min  Duration(mins)  \n",
       "0                 20             1           10             170  \n",
       "1                 50            13           15             445  \n",
       "2                 25             4           25            1140  \n",
       "3                  5            23           30             325  \n",
       "4                 50            21           35             285  \n",
       "...              ...           ...          ...             ...  \n",
       "10678             55            22           25             150  \n",
       "10679             45            23           20             155  \n",
       "10680             20            11           20             180  \n",
       "10681             30            14           10             160  \n",
       "10682             55            19           15             500  \n",
       "\n",
       "[10682 rows x 14 columns]"
      ]
     },
     "execution_count": 41,
     "metadata": {},
     "output_type": "execute_result"
    }
   ],
   "source": [
    "df"
   ]
  },
  {
   "cell_type": "markdown",
   "id": "952aec46",
   "metadata": {},
   "source": [
    "### Dropping unnecessary columns"
   ]
  },
  {
   "cell_type": "code",
   "execution_count": 42,
   "id": "9a33d670",
   "metadata": {},
   "outputs": [],
   "source": [
    "df.drop([\"Route\"], axis = 1, inplace = True)\n",
    "test.drop([\"Route\"], axis = 1, inplace = True)"
   ]
  },
  {
   "cell_type": "code",
   "execution_count": 43,
   "id": "ba4d03f3",
   "metadata": {},
   "outputs": [
    {
     "data": {
      "text/html": [
       "<div>\n",
       "<style scoped>\n",
       "    .dataframe tbody tr th:only-of-type {\n",
       "        vertical-align: middle;\n",
       "    }\n",
       "\n",
       "    .dataframe tbody tr th {\n",
       "        vertical-align: top;\n",
       "    }\n",
       "\n",
       "    .dataframe thead th {\n",
       "        text-align: right;\n",
       "    }\n",
       "</style>\n",
       "<table border=\"1\" class=\"dataframe\">\n",
       "  <thead>\n",
       "    <tr style=\"text-align: right;\">\n",
       "      <th></th>\n",
       "      <th>Airline</th>\n",
       "      <th>Source</th>\n",
       "      <th>Destination</th>\n",
       "      <th>Total_Stops</th>\n",
       "      <th>Additional_Info</th>\n",
       "      <th>Price</th>\n",
       "      <th>Journey day</th>\n",
       "      <th>Journey month</th>\n",
       "      <th>Departure hour</th>\n",
       "      <th>Departure min</th>\n",
       "      <th>Arrival hour</th>\n",
       "      <th>Arrival min</th>\n",
       "      <th>Duration(mins)</th>\n",
       "    </tr>\n",
       "  </thead>\n",
       "  <tbody>\n",
       "    <tr>\n",
       "      <th>0</th>\n",
       "      <td>IndiGo</td>\n",
       "      <td>Banglore</td>\n",
       "      <td>New Delhi</td>\n",
       "      <td>non-stop</td>\n",
       "      <td>No info</td>\n",
       "      <td>3897</td>\n",
       "      <td>24</td>\n",
       "      <td>3</td>\n",
       "      <td>22</td>\n",
       "      <td>20</td>\n",
       "      <td>1</td>\n",
       "      <td>10</td>\n",
       "      <td>170</td>\n",
       "    </tr>\n",
       "    <tr>\n",
       "      <th>1</th>\n",
       "      <td>Air India</td>\n",
       "      <td>Kolkata</td>\n",
       "      <td>Banglore</td>\n",
       "      <td>2 stops</td>\n",
       "      <td>No info</td>\n",
       "      <td>7662</td>\n",
       "      <td>1</td>\n",
       "      <td>5</td>\n",
       "      <td>5</td>\n",
       "      <td>50</td>\n",
       "      <td>13</td>\n",
       "      <td>15</td>\n",
       "      <td>445</td>\n",
       "    </tr>\n",
       "    <tr>\n",
       "      <th>2</th>\n",
       "      <td>Jet Airways</td>\n",
       "      <td>Delhi</td>\n",
       "      <td>Cochin</td>\n",
       "      <td>2 stops</td>\n",
       "      <td>No info</td>\n",
       "      <td>13882</td>\n",
       "      <td>9</td>\n",
       "      <td>6</td>\n",
       "      <td>9</td>\n",
       "      <td>25</td>\n",
       "      <td>4</td>\n",
       "      <td>25</td>\n",
       "      <td>1140</td>\n",
       "    </tr>\n",
       "    <tr>\n",
       "      <th>3</th>\n",
       "      <td>IndiGo</td>\n",
       "      <td>Kolkata</td>\n",
       "      <td>Banglore</td>\n",
       "      <td>1 stop</td>\n",
       "      <td>No info</td>\n",
       "      <td>6218</td>\n",
       "      <td>12</td>\n",
       "      <td>5</td>\n",
       "      <td>18</td>\n",
       "      <td>5</td>\n",
       "      <td>23</td>\n",
       "      <td>30</td>\n",
       "      <td>325</td>\n",
       "    </tr>\n",
       "    <tr>\n",
       "      <th>4</th>\n",
       "      <td>IndiGo</td>\n",
       "      <td>Banglore</td>\n",
       "      <td>New Delhi</td>\n",
       "      <td>1 stop</td>\n",
       "      <td>No info</td>\n",
       "      <td>13302</td>\n",
       "      <td>1</td>\n",
       "      <td>3</td>\n",
       "      <td>16</td>\n",
       "      <td>50</td>\n",
       "      <td>21</td>\n",
       "      <td>35</td>\n",
       "      <td>285</td>\n",
       "    </tr>\n",
       "    <tr>\n",
       "      <th>5</th>\n",
       "      <td>SpiceJet</td>\n",
       "      <td>Kolkata</td>\n",
       "      <td>Banglore</td>\n",
       "      <td>non-stop</td>\n",
       "      <td>No info</td>\n",
       "      <td>3873</td>\n",
       "      <td>24</td>\n",
       "      <td>6</td>\n",
       "      <td>9</td>\n",
       "      <td>0</td>\n",
       "      <td>11</td>\n",
       "      <td>25</td>\n",
       "      <td>145</td>\n",
       "    </tr>\n",
       "    <tr>\n",
       "      <th>6</th>\n",
       "      <td>Jet Airways</td>\n",
       "      <td>Banglore</td>\n",
       "      <td>New Delhi</td>\n",
       "      <td>1 stop</td>\n",
       "      <td>In-flight meal not included</td>\n",
       "      <td>11087</td>\n",
       "      <td>12</td>\n",
       "      <td>3</td>\n",
       "      <td>18</td>\n",
       "      <td>55</td>\n",
       "      <td>10</td>\n",
       "      <td>25</td>\n",
       "      <td>930</td>\n",
       "    </tr>\n",
       "    <tr>\n",
       "      <th>7</th>\n",
       "      <td>Jet Airways</td>\n",
       "      <td>Banglore</td>\n",
       "      <td>New Delhi</td>\n",
       "      <td>1 stop</td>\n",
       "      <td>No info</td>\n",
       "      <td>22270</td>\n",
       "      <td>1</td>\n",
       "      <td>3</td>\n",
       "      <td>8</td>\n",
       "      <td>0</td>\n",
       "      <td>5</td>\n",
       "      <td>5</td>\n",
       "      <td>1265</td>\n",
       "    </tr>\n",
       "    <tr>\n",
       "      <th>8</th>\n",
       "      <td>Jet Airways</td>\n",
       "      <td>Banglore</td>\n",
       "      <td>New Delhi</td>\n",
       "      <td>1 stop</td>\n",
       "      <td>In-flight meal not included</td>\n",
       "      <td>11087</td>\n",
       "      <td>12</td>\n",
       "      <td>3</td>\n",
       "      <td>8</td>\n",
       "      <td>55</td>\n",
       "      <td>10</td>\n",
       "      <td>25</td>\n",
       "      <td>1530</td>\n",
       "    </tr>\n",
       "    <tr>\n",
       "      <th>9</th>\n",
       "      <td>Multiple carriers</td>\n",
       "      <td>Delhi</td>\n",
       "      <td>Cochin</td>\n",
       "      <td>1 stop</td>\n",
       "      <td>No info</td>\n",
       "      <td>8625</td>\n",
       "      <td>27</td>\n",
       "      <td>5</td>\n",
       "      <td>11</td>\n",
       "      <td>25</td>\n",
       "      <td>19</td>\n",
       "      <td>15</td>\n",
       "      <td>470</td>\n",
       "    </tr>\n",
       "  </tbody>\n",
       "</table>\n",
       "</div>"
      ],
      "text/plain": [
       "             Airline    Source Destination Total_Stops  \\\n",
       "0             IndiGo  Banglore   New Delhi    non-stop   \n",
       "1          Air India   Kolkata    Banglore     2 stops   \n",
       "2        Jet Airways     Delhi      Cochin     2 stops   \n",
       "3             IndiGo   Kolkata    Banglore      1 stop   \n",
       "4             IndiGo  Banglore   New Delhi      1 stop   \n",
       "5           SpiceJet   Kolkata    Banglore    non-stop   \n",
       "6        Jet Airways  Banglore   New Delhi      1 stop   \n",
       "7        Jet Airways  Banglore   New Delhi      1 stop   \n",
       "8        Jet Airways  Banglore   New Delhi      1 stop   \n",
       "9  Multiple carriers     Delhi      Cochin      1 stop   \n",
       "\n",
       "               Additional_Info  Price  Journey day  Journey month  \\\n",
       "0                      No info   3897           24              3   \n",
       "1                      No info   7662            1              5   \n",
       "2                      No info  13882            9              6   \n",
       "3                      No info   6218           12              5   \n",
       "4                      No info  13302            1              3   \n",
       "5                      No info   3873           24              6   \n",
       "6  In-flight meal not included  11087           12              3   \n",
       "7                      No info  22270            1              3   \n",
       "8  In-flight meal not included  11087           12              3   \n",
       "9                      No info   8625           27              5   \n",
       "\n",
       "   Departure hour  Departure min  Arrival hour  Arrival min  Duration(mins)  \n",
       "0              22             20             1           10             170  \n",
       "1               5             50            13           15             445  \n",
       "2               9             25             4           25            1140  \n",
       "3              18              5            23           30             325  \n",
       "4              16             50            21           35             285  \n",
       "5               9              0            11           25             145  \n",
       "6              18             55            10           25             930  \n",
       "7               8              0             5            5            1265  \n",
       "8               8             55            10           25            1530  \n",
       "9              11             25            19           15             470  "
      ]
     },
     "execution_count": 43,
     "metadata": {},
     "output_type": "execute_result"
    }
   ],
   "source": [
    "df.head(10)"
   ]
  },
  {
   "cell_type": "markdown",
   "id": "7fcf1800",
   "metadata": {},
   "source": [
    "# Label Encoder to convert the dataset to numerical"
   ]
  },
  {
   "cell_type": "code",
   "execution_count": 44,
   "id": "e73ca79c",
   "metadata": {},
   "outputs": [],
   "source": [
    "from sklearn.preprocessing import LabelEncoder\n",
    "le = LabelEncoder()"
   ]
  },
  {
   "cell_type": "code",
   "execution_count": 45,
   "id": "78344f9e",
   "metadata": {},
   "outputs": [],
   "source": [
    "for col in df.columns:\n",
    "    if df[col].dtypes == 'object':\n",
    "        df[col] = le.fit_transform(df[col])"
   ]
  },
  {
   "cell_type": "code",
   "execution_count": 46,
   "id": "5aa131be",
   "metadata": {},
   "outputs": [
    {
     "data": {
      "text/plain": [
       "Airline            int32\n",
       "Source             int32\n",
       "Destination        int32\n",
       "Total_Stops        int32\n",
       "Additional_Info    int32\n",
       "Price              int64\n",
       "Journey day        int64\n",
       "Journey month      int64\n",
       "Departure hour     int64\n",
       "Departure min      int64\n",
       "Arrival hour       int64\n",
       "Arrival min        int64\n",
       "Duration(mins)     int64\n",
       "dtype: object"
      ]
     },
     "execution_count": 46,
     "metadata": {},
     "output_type": "execute_result"
    }
   ],
   "source": [
    "df.dtypes"
   ]
  },
  {
   "cell_type": "markdown",
   "id": "51b98826",
   "metadata": {},
   "source": [
    "# Checking the Skewness"
   ]
  },
  {
   "cell_type": "code",
   "execution_count": 47,
   "id": "2e38ccba",
   "metadata": {},
   "outputs": [
    {
     "data": {
      "text/plain": [
       "Airline            0.731057\n",
       "Source            -0.424023\n",
       "Destination        1.244046\n",
       "Total_Stops        0.631532\n",
       "Additional_Info   -1.779689\n",
       "Price              1.812405\n",
       "Journey day        0.118174\n",
       "Journey month     -0.387409\n",
       "Departure hour     0.112924\n",
       "Departure min      0.167234\n",
       "Arrival hour      -0.370146\n",
       "Arrival min        0.110945\n",
       "Duration(mins)     0.861411\n",
       "dtype: float64"
      ]
     },
     "execution_count": 47,
     "metadata": {},
     "output_type": "execute_result"
    }
   ],
   "source": [
    "df.skew()"
   ]
  },
  {
   "cell_type": "code",
   "execution_count": 48,
   "id": "af4a32bd",
   "metadata": {},
   "outputs": [],
   "source": [
    "features = df.drop('Price', axis=1)\n",
    "label = df['Price']"
   ]
  },
  {
   "cell_type": "markdown",
   "id": "29ede9de",
   "metadata": {},
   "source": [
    "### Using numpy.log1p() to remove the skewness nearest to 0.55\n",
    "\n",
    "This mathematical function helps user to calculate natural logarithmic value of x+1 where x belongs to all the input array elements.\n",
    "\n",
    "- log1p is reverse of exp(x) – 1"
   ]
  },
  {
   "cell_type": "code",
   "execution_count": 49,
   "id": "1d6c81af",
   "metadata": {},
   "outputs": [],
   "source": [
    "for col in features:\n",
    "    if df.skew().loc[col]>0.55:\n",
    "        df[col] = np.log1p(df[col])"
   ]
  },
  {
   "cell_type": "code",
   "execution_count": 50,
   "id": "e894d18a",
   "metadata": {},
   "outputs": [
    {
     "data": {
      "text/plain": [
       "Airline           -0.680164\n",
       "Source            -0.424023\n",
       "Destination        0.283053\n",
       "Total_Stops        0.466329\n",
       "Additional_Info   -1.779689\n",
       "Price              1.812405\n",
       "Journey day        0.118174\n",
       "Journey month     -0.387409\n",
       "Departure hour     0.112924\n",
       "Departure min      0.167234\n",
       "Arrival hour      -0.370146\n",
       "Arrival min        0.110945\n",
       "Duration(mins)    -0.169930\n",
       "dtype: float64"
      ]
     },
     "execution_count": 50,
     "metadata": {},
     "output_type": "execute_result"
    }
   ],
   "source": [
    "df.skew()"
   ]
  },
  {
   "cell_type": "markdown",
   "id": "a8c6a164",
   "metadata": {},
   "source": [
    "#### Observation- I can see that skewness has been controlled "
   ]
  },
  {
   "cell_type": "markdown",
   "id": "c16c6299",
   "metadata": {},
   "source": [
    "# Using Boxplot to check the outliers"
   ]
  },
  {
   "cell_type": "code",
   "execution_count": 51,
   "id": "24adcf18",
   "metadata": {},
   "outputs": [
    {
     "data": {
      "text/plain": [
       "Airline               AxesSubplot(0.125,0.749828;0.0945122x0.130172)\n",
       "Source             AxesSubplot(0.238415,0.749828;0.0945122x0.130172)\n",
       "Destination        AxesSubplot(0.351829,0.749828;0.0945122x0.130172)\n",
       "Total_Stops        AxesSubplot(0.465244,0.749828;0.0945122x0.130172)\n",
       "Additional_Info    AxesSubplot(0.578659,0.749828;0.0945122x0.130172)\n",
       "Price              AxesSubplot(0.692073,0.749828;0.0945122x0.130172)\n",
       "Journey day        AxesSubplot(0.805488,0.749828;0.0945122x0.130172)\n",
       "Journey month         AxesSubplot(0.125,0.593621;0.0945122x0.130172)\n",
       "Departure hour     AxesSubplot(0.238415,0.593621;0.0945122x0.130172)\n",
       "Departure min      AxesSubplot(0.351829,0.593621;0.0945122x0.130172)\n",
       "Arrival hour       AxesSubplot(0.465244,0.593621;0.0945122x0.130172)\n",
       "Arrival min        AxesSubplot(0.578659,0.593621;0.0945122x0.130172)\n",
       "Duration(mins)     AxesSubplot(0.692073,0.593621;0.0945122x0.130172)\n",
       "dtype: object"
      ]
     },
     "execution_count": 51,
     "metadata": {},
     "output_type": "execute_result"
    },
    {
     "data": {
      "image/png": "[encoded data removed]",
      "text/plain": [
       "<Figure size 1080x720 with 35 Axes>"
      ]
     },
     "metadata": {
      "needs_background": "light"
     },
     "output_type": "display_data"
    }
   ],
   "source": [
    "df.plot(kind='box',subplots=True, layout=(5,7),figsize=(15,10))"
   ]
  },
  {
   "cell_type": "markdown",
   "id": "4c3218a9",
   "metadata": {},
   "source": [
    "#### Observation-\n",
    "- Airline has outliers\n",
    "- Source has outliers"
   ]
  },
  {
   "cell_type": "markdown",
   "id": "45a100a8",
   "metadata": {},
   "source": [
    "# Removing Outliers:"
   ]
  },
  {
   "cell_type": "code",
   "execution_count": 52,
   "id": "63f50bf0",
   "metadata": {},
   "outputs": [
    {
     "data": {
      "text/plain": [
       "(10682, 13)"
      ]
     },
     "execution_count": 52,
     "metadata": {},
     "output_type": "execute_result"
    }
   ],
   "source": [
    "df.shape"
   ]
  },
  {
   "cell_type": "code",
   "execution_count": 53,
   "id": "9a4b70f8",
   "metadata": {},
   "outputs": [
    {
     "data": {
      "text/plain": [
       "(10682, 13)"
      ]
     },
     "execution_count": 53,
     "metadata": {},
     "output_type": "execute_result"
    }
   ],
   "source": [
    "from scipy.stats import zscore\n",
    "import numpy as np\n",
    "z=np.abs(zscore(df))\n",
    "z.shape"
   ]
  },
  {
   "cell_type": "code",
   "execution_count": 54,
   "id": "534af119",
   "metadata": {},
   "outputs": [
    {
     "name": "stdout",
     "output_type": "stream",
     "text": [
      "(array([  123,   396,   486,   510,   597,   628,   657,   785,   785,\n",
      "         826,   936,   946,   959,   975,  1043,  1196,  1246,  1341,\n",
      "        1424,  1466,  1478,  1629,  1654,  1785,  1918,  2055,  2079,\n",
      "        2099,  2108,  2405,  2481,  2495,  2495,  2556,  2556,  2618,\n",
      "        2635,  2693,  2924,  2924,  3032,  3032,  3111,  3111,  3257,\n",
      "        3400,  3535,  3700,  3700,  3788,  4012,  4521,  4521,  4676,\n",
      "        4829,  5013,  5013,  5136,  5372,  5372,  5439,  5628,  5662,\n",
      "        5701,  5710,  5719,  5738,  5745,  5856,  5986,  6024,  6314,\n",
      "        6336,  6407,  6474,  6576,  6576,  6588,  6605,  6991,  7351,\n",
      "        7356,  7377,  7537,  7554,  7617,  7713,  7724,  7724,  7756,\n",
      "        7902,  8020,  8080,  8451,  8470,  8536,  8598,  8856,  8940,\n",
      "        8957,  8957,  8990,  9019,  9019,  9192,  9238,  9631,  9656,\n",
      "        9714,  9973, 10051, 10112, 10159, 10181, 10188, 10352, 10363,\n",
      "       10363, 10382, 10438, 10510, 10510], dtype=int64), array([ 5,  5,  5,  5,  5,  5,  5,  4,  5,  5,  5,  5,  5,  5,  4,  5,  5,\n",
      "        5,  5,  5,  5,  5,  5,  5,  5,  5,  4,  5,  5,  4,  4,  4,  5,  4,\n",
      "        5,  5,  5,  5,  4,  5,  4,  5,  4,  5,  5,  5,  5,  4,  5,  4,  5,\n",
      "        4,  5,  5,  5,  4,  5,  5,  4,  5,  5,  4,  5,  5,  5,  5,  5,  5,\n",
      "        5,  5,  4,  5,  4,  5, 12,  4,  5,  5,  5,  5,  5,  5,  5,  5,  5,\n",
      "        5,  5,  4,  5,  5,  5,  5,  5,  5,  5,  5,  5,  5,  5,  4,  5,  5,\n",
      "        4,  5,  5,  5,  5,  4,  5,  5,  5,  5,  5,  5,  5,  5,  4,  5,  5,\n",
      "        5,  4,  5], dtype=int64))\n"
     ]
    }
   ],
   "source": [
    "threshold =3\n",
    "print(np.where(z>3))"
   ]
  },
  {
   "cell_type": "code",
   "execution_count": 55,
   "id": "167ef3ce",
   "metadata": {},
   "outputs": [
    {
     "name": "stdout",
     "output_type": "stream",
     "text": [
      "(10682, 13)\n",
      "(10576, 13)\n"
     ]
    }
   ],
   "source": [
    "df_new_z=df[(z<3).all(axis=1)]\n",
    "print(df.shape)\n",
    "print(df_new_z.shape)"
   ]
  },
  {
   "cell_type": "markdown",
   "id": "e6da4a9c",
   "metadata": {},
   "source": [
    "# Loss of Data"
   ]
  },
  {
   "cell_type": "code",
   "execution_count": 56,
   "id": "911a3e65",
   "metadata": {},
   "outputs": [
    {
     "name": "stdout",
     "output_type": "stream",
     "text": [
      "0.9923235349185546\n"
     ]
    }
   ],
   "source": [
    "loss_percentage=(10682-10576)/10682*100\n",
    "print(loss_percentage)"
   ]
  },
  {
   "cell_type": "markdown",
   "id": "73ee5a3e",
   "metadata": {},
   "source": [
    "#### Observation- Around 0.99% of Data has been loss. "
   ]
  },
  {
   "cell_type": "code",
   "execution_count": 58,
   "id": "733239ec",
   "metadata": {},
   "outputs": [
    {
     "data": {
      "text/plain": [
       "Airline               AxesSubplot(0.125,0.749828;0.0945122x0.130172)\n",
       "Source             AxesSubplot(0.238415,0.749828;0.0945122x0.130172)\n",
       "Destination        AxesSubplot(0.351829,0.749828;0.0945122x0.130172)\n",
       "Total_Stops        AxesSubplot(0.465244,0.749828;0.0945122x0.130172)\n",
       "Additional_Info    AxesSubplot(0.578659,0.749828;0.0945122x0.130172)\n",
       "Price              AxesSubplot(0.692073,0.749828;0.0945122x0.130172)\n",
       "Journey day        AxesSubplot(0.805488,0.749828;0.0945122x0.130172)\n",
       "Journey month         AxesSubplot(0.125,0.593621;0.0945122x0.130172)\n",
       "Departure hour     AxesSubplot(0.238415,0.593621;0.0945122x0.130172)\n",
       "Departure min      AxesSubplot(0.351829,0.593621;0.0945122x0.130172)\n",
       "Arrival hour       AxesSubplot(0.465244,0.593621;0.0945122x0.130172)\n",
       "Arrival min        AxesSubplot(0.578659,0.593621;0.0945122x0.130172)\n",
       "Duration(mins)     AxesSubplot(0.692073,0.593621;0.0945122x0.130172)\n",
       "dtype: object"
      ]
     },
     "execution_count": 58,
     "metadata": {},
     "output_type": "execute_result"
    },
    {
     "data": {
      "image/png": "[encoded data removed]",
      "text/plain": [
       "<Figure size 1080x720 with 35 Axes>"
      ]
     },
     "metadata": {
      "needs_background": "light"
     },
     "output_type": "display_data"
    }
   ],
   "source": [
    "df_new_z.plot(kind='box',subplots=True, layout=(5,7),figsize=(15,10))"
   ]
  },
  {
   "cell_type": "markdown",
   "id": "b2be8d05",
   "metadata": {},
   "source": [
    "#### Observation- Skewness has been controlled"
   ]
  },
  {
   "cell_type": "markdown",
   "id": "a1a6a97a",
   "metadata": {},
   "source": [
    "# Heatmap to check the correlation"
   ]
  },
  {
   "cell_type": "code",
   "execution_count": 59,
   "id": "880d3ffa",
   "metadata": {},
   "outputs": [
    {
     "data": {
      "image/png": "[encoded data removed]",
      "text/plain": [
       "<Figure size 1440x504 with 2 Axes>"
      ]
     },
     "metadata": {
      "needs_background": "light"
     },
     "output_type": "display_data"
    }
   ],
   "source": [
    "plt.figure(figsize=(20,7))\n",
    "cor=df_new_z.corr()\n",
    "sns.heatmap(cor,annot=True,cmap=plt.cm.CMRmap_r)\n",
    "plt.show()"
   ]
  },
  {
   "cell_type": "markdown",
   "id": "e10d4615",
   "metadata": {},
   "source": [
    "## Dropping the columns having 70% correlated"
   ]
  },
  {
   "cell_type": "code",
   "execution_count": 60,
   "id": "c508115c",
   "metadata": {},
   "outputs": [],
   "source": [
    "X= df_new_z.drop(\"Price\",axis=1)\n",
    "y=df_new_z[\"Price\"]"
   ]
  },
  {
   "cell_type": "code",
   "execution_count": 61,
   "id": "fbbd6e18",
   "metadata": {},
   "outputs": [],
   "source": [
    "X_train,X_test,y_train,y_test= train_test_split(X,y,test_size=0.3,random_state=0)"
   ]
  },
  {
   "cell_type": "code",
   "execution_count": 62,
   "id": "fc783278",
   "metadata": {},
   "outputs": [],
   "source": [
    "def correlation(dataset, threshold):\n",
    "    col_corr = set()  # Set of all the names of correlated columns\n",
    "    corr_matrix = dataset.corr()\n",
    "    for i in range(len(corr_matrix.columns)):\n",
    "        for j in range(i):\n",
    "            if abs(corr_matrix.iloc[i, j]) > threshold: # we are interested in absolute coeff value\n",
    "                colname = corr_matrix.columns[i]  # getting the name of column\n",
    "                col_corr.add(colname)\n",
    "    return col_corr"
   ]
  },
  {
   "cell_type": "code",
   "execution_count": 63,
   "id": "beed8b5d",
   "metadata": {},
   "outputs": [
    {
     "data": {
      "text/plain": [
       "1"
      ]
     },
     "execution_count": 63,
     "metadata": {},
     "output_type": "execute_result"
    }
   ],
   "source": [
    "corr_features = correlation(X_train, 0.7)\n",
    "len(set(corr_features))"
   ]
  },
  {
   "cell_type": "markdown",
   "id": "8b578822",
   "metadata": {},
   "source": [
    "## Checking the columns having more than 70% correaltion and dropping them"
   ]
  },
  {
   "cell_type": "code",
   "execution_count": 64,
   "id": "4c7cf7e6",
   "metadata": {},
   "outputs": [
    {
     "data": {
      "text/plain": [
       "{'Duration(mins)'}"
      ]
     },
     "execution_count": 64,
     "metadata": {},
     "output_type": "execute_result"
    }
   ],
   "source": [
    "corr_features"
   ]
  },
  {
   "cell_type": "code",
   "execution_count": 65,
   "id": "cfc73191",
   "metadata": {},
   "outputs": [],
   "source": [
    "df_new_z=df_new_z.drop(corr_features,axis=1)\n"
   ]
  },
  {
   "cell_type": "markdown",
   "id": "c694f5c0",
   "metadata": {},
   "source": [
    "# Finding the unique value for all columns"
   ]
  },
  {
   "cell_type": "code",
   "execution_count": 66,
   "id": "dfa41b66",
   "metadata": {},
   "outputs": [
    {
     "name": "stdout",
     "output_type": "stream",
     "text": [
      "Airline 11\n",
      "Source 5\n",
      "Destination 6\n",
      "Total_Stops 5\n",
      "Additional_Info 6\n",
      "Price 1821\n",
      "Journey day 10\n",
      "Journey month 4\n",
      "Departure hour 24\n",
      "Departure min 12\n",
      "Arrival hour 24\n",
      "Arrival min 12\n"
     ]
    }
   ],
   "source": [
    "for i in df_new_z:\n",
    "    print(i , len(df_new_z[i].unique()))"
   ]
  },
  {
   "cell_type": "markdown",
   "id": "ecbdc275",
   "metadata": {},
   "source": [
    "# Checking VIF "
   ]
  },
  {
   "cell_type": "code",
   "execution_count": 67,
   "id": "0f81283c",
   "metadata": {},
   "outputs": [],
   "source": [
    "names = list(df_new_z.drop(columns=[\"Price\"]))"
   ]
  },
  {
   "cell_type": "code",
   "execution_count": 70,
   "id": "aa3849e8",
   "metadata": {},
   "outputs": [
    {
     "name": "stdout",
     "output_type": "stream",
     "text": [
      "R Square value of Airline column is 0.88 keeping all other columns as independent features\n",
      "Variance Inflation Factor of Airline column is 8.13 n\n",
      "\n",
      "R Square value of Source column is 0.83 keeping all other columns as independent features\n",
      "Variance Inflation Factor of Source column is 5.72 n\n",
      "\n",
      "R Square value of Destination column is 0.78 keeping all other columns as independent features\n",
      "Variance Inflation Factor of Destination column is 4.48 n\n",
      "\n",
      "R Square value of Total_Stops column is 0.68 keeping all other columns as independent features\n",
      "Variance Inflation Factor of Total_Stops column is 3.11 n\n",
      "\n",
      "R Square value of Additional_Info column is 0.96 keeping all other columns as independent features\n",
      "Variance Inflation Factor of Additional_Info column is 27.28 n\n",
      "\n",
      "R Square value of Journey day column is 0.71 keeping all other columns as independent features\n",
      "Variance Inflation Factor of Journey day column is 3.5 n\n",
      "\n",
      "R Square value of Journey month column is 0.93 keeping all other columns as independent features\n",
      "Variance Inflation Factor of Journey month column is 15.05 n\n",
      "\n",
      "R Square value of Departure hour column is 0.82 keeping all other columns as independent features\n",
      "Variance Inflation Factor of Departure hour column is 5.59 n\n",
      "\n",
      "R Square value of Departure min column is 0.63 keeping all other columns as independent features\n",
      "Variance Inflation Factor of Departure min column is 2.68 n\n",
      "\n",
      "R Square value of Arrival hour column is 0.79 keeping all other columns as independent features\n",
      "Variance Inflation Factor of Arrival hour column is 4.79 n\n",
      "\n",
      "R Square value of Arrival min column is 0.7 keeping all other columns as independent features\n",
      "Variance Inflation Factor of Arrival min column is 3.36 n\n",
      "\n"
     ]
    }
   ],
   "source": [
    "for index in range(0, len(names)):\n",
    "            y = df_new_z.loc[:, df_new_z.columns == names[index]]\n",
    "            x = df_new_z.loc[:, df_new_z.columns != names[index]]\n",
    "            model = sm.OLS(y, x)                       #Fit ordinary least squares methodhttp://localhost:8888/notebooks/baseball%20predict.ipynb#\n",
    "            results = model.fit()\n",
    "            rsq = results.rsquared\n",
    "            vif = round(1 / (1 - rsq), 2)\n",
    "            print(\"R Square value of {} column is {} keeping all other columns as independent features\".format(\n",
    "              names [index], (round(rsq, 2))\n",
    "                    )\n",
    "            )\n",
    "            print(\"Variance Inflation Factor of {} column is {} n\".format(\n",
    "                 names[index], vif)\n",
    "          )\n",
    "            print()\n"
   ]
  },
  {
   "cell_type": "markdown",
   "id": "516fa378",
   "metadata": {},
   "source": [
    "#### Observation- VIF of each columns are looking good (setting 10 as limit)"
   ]
  },
  {
   "cell_type": "markdown",
   "id": "83a2016e",
   "metadata": {},
   "source": [
    "# Model Building"
   ]
  },
  {
   "cell_type": "code",
   "execution_count": 71,
   "id": "68348a5d",
   "metadata": {},
   "outputs": [],
   "source": [
    "from sklearn.linear_model import LinearRegression, Ridge\n",
    "from sklearn.ensemble import RandomForestRegressor, GradientBoostingRegressor\n",
    "from sklearn.neighbors import KNeighborsRegressor\n",
    "from sklearn.tree import DecisionTreeRegressor\n",
    "\n",
    "from sklearn.model_selection import train_test_split\n",
    "from sklearn.preprocessing import StandardScaler\n",
    "\n",
    "\n",
    "X = df_new_z.drop('Price', axis=1)\n",
    "y = df_new_z['Price']\n",
    "\n",
    "scaler = StandardScaler()\n",
    "X_scaled = scaler.fit_transform(X)\n",
    "\n",
    "X_train, X_test, y_train, y_test = train_test_split(X_scaled, y, test_size=0.3, random_state=0)"
   ]
  },
  {
   "cell_type": "markdown",
   "id": "42cc961b",
   "metadata": {},
   "source": [
    "### Linear Regression"
   ]
  },
  {
   "cell_type": "code",
   "execution_count": 72,
   "id": "2a6dd34b",
   "metadata": {},
   "outputs": [
    {
     "name": "stdout",
     "output_type": "stream",
     "text": [
      "Train Score : 0.3634\n",
      "Test Score : 0.3204\n"
     ]
    }
   ],
   "source": [
    "model = LinearRegression()\n",
    "model.fit(X_train, y_train)\n",
    "print('Train Score : {:.4f}'.format(model.score(X_train, y_train)))\n",
    "print('Test Score : {:.4f}'.format(model.score(X_test, y_test)))"
   ]
  },
  {
   "cell_type": "markdown",
   "id": "32e684bc",
   "metadata": {},
   "source": [
    " ### Ridge"
   ]
  },
  {
   "cell_type": "code",
   "execution_count": 73,
   "id": "1d3ff7fe",
   "metadata": {},
   "outputs": [
    {
     "name": "stdout",
     "output_type": "stream",
     "text": [
      "Train Score : 0.3634\n",
      "Test Score : 0.3204\n"
     ]
    }
   ],
   "source": [
    "model = Ridge()\n",
    "model.fit(X_train, y_train)\n",
    "print('Train Score : {:.4f}'.format(model.score(X_train, y_train)))\n",
    "print('Test Score : {:.4f}'.format(model.score(X_test, y_test)))"
   ]
  },
  {
   "cell_type": "markdown",
   "id": "120d341d",
   "metadata": {},
   "source": [
    "### Gradient Boost"
   ]
  },
  {
   "cell_type": "code",
   "execution_count": 74,
   "id": "ea2d8fd2",
   "metadata": {},
   "outputs": [
    {
     "name": "stdout",
     "output_type": "stream",
     "text": [
      "Train Score : 0.8399\n",
      "Test Score : 0.8221\n"
     ]
    }
   ],
   "source": [
    "model = GradientBoostingRegressor()\n",
    "model.fit(X_train, y_train)\n",
    "print('Train Score : {:.4f}'.format(model.score(X_train, y_train)))\n",
    "print('Test Score : {:.4f}'.format(model.score(X_test, y_test)))"
   ]
  },
  {
   "cell_type": "markdown",
   "id": "9bcd82db",
   "metadata": {},
   "source": [
    "### K-Nearest Neighbors"
   ]
  },
  {
   "cell_type": "code",
   "execution_count": 75,
   "id": "99facf40",
   "metadata": {},
   "outputs": [
    {
     "name": "stdout",
     "output_type": "stream",
     "text": [
      "Train Score : 0.8793\n",
      "Test Score : 0.7960\n"
     ]
    }
   ],
   "source": [
    "model = KNeighborsRegressor()\n",
    "model.fit(X_train, y_train)\n",
    "print('Train Score : {:.4f}'.format(model.score(X_train, y_train)))\n",
    "print('Test Score : {:.4f}'.format(model.score(X_test, y_test)))"
   ]
  },
  {
   "cell_type": "markdown",
   "id": "00c43eaa",
   "metadata": {},
   "source": [
    "### Random Forest"
   ]
  },
  {
   "cell_type": "code",
   "execution_count": 76,
   "id": "6845cbd2",
   "metadata": {},
   "outputs": [
    {
     "name": "stdout",
     "output_type": "stream",
     "text": [
      "Train Score : 0.9860\n",
      "Test Score : 0.9179\n"
     ]
    }
   ],
   "source": [
    "model = RandomForestRegressor()\n",
    "\n",
    "model.fit(X_train, y_train)\n",
    "print('Train Score : {:.4f}'.format(model.score(X_train, y_train)))\n",
    "print('Test Score : {:.4f}'.format(model.score(X_test, y_test)))"
   ]
  },
  {
   "cell_type": "markdown",
   "id": "f2b1f463",
   "metadata": {},
   "source": [
    "### Decision Tree"
   ]
  },
  {
   "cell_type": "code",
   "execution_count": 77,
   "id": "db82f46c",
   "metadata": {},
   "outputs": [
    {
     "name": "stdout",
     "output_type": "stream",
     "text": [
      "Train Score : 0.9961\n",
      "Test Score : 0.8464\n"
     ]
    }
   ],
   "source": [
    "model = DecisionTreeRegressor()\n",
    "\n",
    "model.fit(X_train, y_train)\n",
    "print('Train Score : {:.4f}'.format(model.score(X_train, y_train)))\n",
    "print('Test Score : {:.4f}'.format(model.score(X_test, y_test)))"
   ]
  },
  {
   "cell_type": "markdown",
   "id": "1df9173e",
   "metadata": {},
   "source": [
    "# Hyperparameter Tuning"
   ]
  },
  {
   "cell_type": "code",
   "execution_count": 78,
   "id": "c107c902",
   "metadata": {},
   "outputs": [],
   "source": [
    "from sklearn.model_selection import GridSearchCV\n",
    "\n",
    "models = []\n",
    "scores = []"
   ]
  },
  {
   "cell_type": "markdown",
   "id": "fe3a5381",
   "metadata": {},
   "source": [
    "### Ridge"
   ]
  },
  {
   "cell_type": "code",
   "execution_count": 79,
   "id": "ba752085",
   "metadata": {},
   "outputs": [
    {
     "name": "stdout",
     "output_type": "stream",
     "text": [
      "Test Score : 0.3204\n",
      "Best Parameters : {'alpha': 10}\n",
      "Best CV Score : 0.3610\n"
     ]
    }
   ],
   "source": [
    "param_grid = {'alpha' : [0.0001, 0.0001, 0.001, 0.01, 0.1, 1, 10, 100]}\n",
    "model = Ridge()\n",
    "\n",
    "grid_search = GridSearchCV(model, param_grid, cv=5)\n",
    "grid_search.fit(X_train, y_train)\n",
    "ridge_score = grid_search.score(X_test, y_test)\n",
    "\n",
    "print('Test Score : {:.4f}'.format(ridge_score))\n",
    "print('Best Parameters :', grid_search.best_params_)\n",
    "print('Best CV Score : {:.4f}'.format(grid_search.best_score_))\n",
    "\n",
    "models.append('Ridge')\n",
    "scores.append(ridge_score)"
   ]
  },
  {
   "cell_type": "markdown",
   "id": "cef812f6",
   "metadata": {},
   "source": [
    "### Gradient Boost"
   ]
  },
  {
   "cell_type": "code",
   "execution_count": 80,
   "id": "35bd442a",
   "metadata": {},
   "outputs": [
    {
     "name": "stdout",
     "output_type": "stream",
     "text": [
      "Test Score : 0.9274\n",
      "Best Parameters : {'max_depth': 8}\n",
      "Best CV Score : 0.9194\n"
     ]
    }
   ],
   "source": [
    "param_grid = {'max_depth' : [2, 3, 4, 5, 6, 7, 8, 9,10,11,12]}\n",
    "model = GradientBoostingRegressor()\n",
    "\n",
    "grid_search = GridSearchCV(model, param_grid, cv=5)\n",
    "grid_search.fit(X_train, y_train)\n",
    "gb_score = grid_search.score(X_test, y_test)\n",
    "  \n",
    "\n",
    "print('Test Score : {:.4f}'.format(gb_score))\n",
    "print('Best Parameters :', grid_search.best_params_)\n",
    "print('Best CV Score : {:.4f}'.format(grid_search.best_score_))\n",
    "\n",
    "models.append('Gradient Boost')\n",
    "scores.append(gb_score)"
   ]
  },
  {
   "cell_type": "markdown",
   "id": "0170ffb5",
   "metadata": {},
   "source": [
    "### K-Nearest Neighbors"
   ]
  },
  {
   "cell_type": "code",
   "execution_count": 81,
   "id": "770f2ada",
   "metadata": {},
   "outputs": [
    {
     "name": "stdout",
     "output_type": "stream",
     "text": [
      "Test Score : 0.8076\n",
      "Best Parameters : {'n_neighbors': 3}\n",
      "Best CV Score : 0.8011\n"
     ]
    }
   ],
   "source": [
    "param_grid = {'n_neighbors' : range(1, 20)}\n",
    "model = KNeighborsRegressor()\n",
    "\n",
    "grid_search = GridSearchCV(model, param_grid, cv=5)\n",
    "grid_search.fit(X_train, y_train)\n",
    "knr_score = grid_search.score(X_test, y_test)\n",
    "\n",
    "print('Test Score : {:.4f}'.format(knr_score))\n",
    "print('Best Parameters :', grid_search.best_params_)\n",
    "print('Best CV Score : {:.4f}'.format(grid_search.best_score_))\n",
    "\n",
    "models.append('K-Nearest Neighbors')\n",
    "scores.append(knr_score)"
   ]
  },
  {
   "cell_type": "markdown",
   "id": "64e46d44",
   "metadata": {},
   "source": [
    "### Random Forest"
   ]
  },
  {
   "cell_type": "code",
   "execution_count": 82,
   "id": "3041b692",
   "metadata": {},
   "outputs": [
    {
     "name": "stdout",
     "output_type": "stream",
     "text": [
      "Test Score : 0.9214\n",
      "Best Parameters : {'max_depth': 15}\n",
      "Best CV Score : 0.9132\n"
     ]
    }
   ],
   "source": [
    "param_grid = {'max_depth' : [5, 10, 15, 20, 25, 30]}\n",
    "model = RandomForestRegressor()\n",
    "\n",
    "grid_search = GridSearchCV(model, param_grid, cv=5)\n",
    "grid_search.fit(X_train, y_train)\n",
    "rf_score = grid_search.score(X_test, y_test)\n",
    "\n",
    "print('Test Score : {:.4f}'.format(rf_score))\n",
    "print('Best Parameters :', grid_search.best_params_)\n",
    "print('Best CV Score : {:.4f}'.format(grid_search.best_score_))\n",
    "\n",
    "models.append('Random Forest')\n",
    "scores.append(rf_score)"
   ]
  },
  {
   "cell_type": "markdown",
   "id": "5c9a70ca",
   "metadata": {},
   "source": [
    "### Decision Tree"
   ]
  },
  {
   "cell_type": "code",
   "execution_count": 83,
   "id": "bc49706c",
   "metadata": {},
   "outputs": [
    {
     "name": "stdout",
     "output_type": "stream",
     "text": [
      "Test Score : 0.8583\n",
      "Best Parameters : {'max_depth': 15}\n",
      "Best CV Score : 0.8558\n"
     ]
    }
   ],
   "source": [
    "am_grid = {'max_depth' : range(2, 20), \"min_samples_leaf\" : range(2, 10)}\n",
    "model = DecisionTreeRegressor()\n",
    "\n",
    "grid_search = GridSearchCV(model, param_grid, cv=5)\n",
    "grid_search.fit(X_train, y_train)\n",
    "dt_score = grid_search.score(X_test, y_test)\n",
    "\n",
    "print('Test Score : {:.4f}'.format(dt_score))\n",
    "print('Best Parameters :', grid_search.best_params_)\n",
    "print('Best CV Score : {:.4f}'.format(grid_search.best_score_))\n",
    "\n",
    "models.append('Decision Tree')\n",
    "scores.append(dt_score)"
   ]
  },
  {
   "cell_type": "markdown",
   "id": "86e3316d",
   "metadata": {},
   "source": [
    "### Result"
   ]
  },
  {
   "cell_type": "code",
   "execution_count": 84,
   "id": "aa4cdd31",
   "metadata": {},
   "outputs": [
    {
     "data": {
      "text/html": [
       "<div>\n",
       "<style scoped>\n",
       "    .dataframe tbody tr th:only-of-type {\n",
       "        vertical-align: middle;\n",
       "    }\n",
       "\n",
       "    .dataframe tbody tr th {\n",
       "        vertical-align: top;\n",
       "    }\n",
       "\n",
       "    .dataframe thead th {\n",
       "        text-align: right;\n",
       "    }\n",
       "</style>\n",
       "<table border=\"1\" class=\"dataframe\">\n",
       "  <thead>\n",
       "    <tr style=\"text-align: right;\">\n",
       "      <th></th>\n",
       "      <th>Model</th>\n",
       "      <th>Score</th>\n",
       "    </tr>\n",
       "  </thead>\n",
       "  <tbody>\n",
       "    <tr>\n",
       "      <th>0</th>\n",
       "      <td>Ridge</td>\n",
       "      <td>0.320440</td>\n",
       "    </tr>\n",
       "    <tr>\n",
       "      <th>1</th>\n",
       "      <td>Gradient Boost</td>\n",
       "      <td>0.927358</td>\n",
       "    </tr>\n",
       "    <tr>\n",
       "      <th>2</th>\n",
       "      <td>K-Nearest Neighbors</td>\n",
       "      <td>0.807588</td>\n",
       "    </tr>\n",
       "    <tr>\n",
       "      <th>3</th>\n",
       "      <td>Random Forest</td>\n",
       "      <td>0.921402</td>\n",
       "    </tr>\n",
       "    <tr>\n",
       "      <th>4</th>\n",
       "      <td>Decision Tree</td>\n",
       "      <td>0.858297</td>\n",
       "    </tr>\n",
       "  </tbody>\n",
       "</table>\n",
       "</div>"
      ],
      "text/plain": [
       "                 Model     Score\n",
       "0                Ridge  0.320440\n",
       "1       Gradient Boost  0.927358\n",
       "2  K-Nearest Neighbors  0.807588\n",
       "3        Random Forest  0.921402\n",
       "4        Decision Tree  0.858297"
      ]
     },
     "execution_count": 84,
     "metadata": {},
     "output_type": "execute_result"
    }
   ],
   "source": [
    "df_result = pd.DataFrame({'Model' : models, 'Score' : scores})\n",
    "df_result"
   ]
  },
  {
   "cell_type": "markdown",
   "id": "2ac1bb10",
   "metadata": {},
   "source": [
    "# Lets do the prediction"
   ]
  },
  {
   "cell_type": "markdown",
   "id": "5acd7869",
   "metadata": {},
   "source": [
    "### Label Encoder for test dataset"
   ]
  },
  {
   "cell_type": "code",
   "execution_count": 85,
   "id": "54c0567c",
   "metadata": {},
   "outputs": [],
   "source": [
    "for col in test.columns:\n",
    "    if test[col].dtypes == 'object':\n",
    "        test[col] = le.fit_transform(test[col])"
   ]
  },
  {
   "cell_type": "code",
   "execution_count": 86,
   "id": "93901ad7",
   "metadata": {},
   "outputs": [],
   "source": [
    "for col in test:\n",
    "    if test.skew().loc[col]>0.55:\n",
    "        test[col] = np.log1p(test[col])"
   ]
  },
  {
   "cell_type": "code",
   "execution_count": 87,
   "id": "cee24b88",
   "metadata": {},
   "outputs": [
    {
     "data": {
      "text/plain": [
       "(2671, 12)"
      ]
     },
     "execution_count": 87,
     "metadata": {},
     "output_type": "execute_result"
    }
   ],
   "source": [
    "test.shape"
   ]
  },
  {
   "cell_type": "code",
   "execution_count": 88,
   "id": "cb2658de",
   "metadata": {},
   "outputs": [
    {
     "data": {
      "text/plain": [
       "(2671, 12)"
      ]
     },
     "execution_count": 88,
     "metadata": {},
     "output_type": "execute_result"
    }
   ],
   "source": [
    "from scipy.stats import zscore\n",
    "import numpy as np\n",
    "z=np.abs(zscore(test))\n",
    "z.shape"
   ]
  },
  {
   "cell_type": "code",
   "execution_count": 89,
   "id": "2e31a4aa",
   "metadata": {},
   "outputs": [
    {
     "name": "stdout",
     "output_type": "stream",
     "text": [
      "(2671, 12)\n",
      "(2667, 12)\n"
     ]
    }
   ],
   "source": [
    "test_new_z=test[(z<3).all(axis=1)]\n",
    "print(test.shape)\n",
    "print(test_new_z.shape)"
   ]
  },
  {
   "cell_type": "code",
   "execution_count": 97,
   "id": "cbe827af",
   "metadata": {},
   "outputs": [],
   "source": [
    "test_new_z.drop([\"Duration(mins)\"], axis = 1, inplace = True)"
   ]
  },
  {
   "cell_type": "markdown",
   "id": "994ede89",
   "metadata": {},
   "source": [
    "# Lets do the predicting"
   ]
  },
  {
   "cell_type": "markdown",
   "id": "4903d7f2",
   "metadata": {},
   "source": [
    "### As Gradiant boosting gave highest accuracy I am using this model for prediction"
   ]
  },
  {
   "cell_type": "code",
   "execution_count": 98,
   "id": "4d89b337",
   "metadata": {},
   "outputs": [
    {
     "name": "stdout",
     "output_type": "stream",
     "text": [
      "Test Score : 0.9279\n",
      "Best Parameters : {'max_depth': 8}\n",
      "Best CV Score : 0.9194\n"
     ]
    }
   ],
   "source": [
    "param_grid = {'max_depth' : [2, 3, 4, 5, 6, 7, 8, 9,10,11,12]}\n",
    "model = GradientBoostingRegressor()\n",
    "\n",
    "grid_search1 = GridSearchCV(model, param_grid, cv=5)\n",
    "grid_search1.fit(X_train, y_train)\n",
    "gb_score = grid_search1.score(X_test, y_test)\n",
    "  \n",
    "\n",
    "print('Test Score : {:.4f}'.format(gb_score))\n",
    "print('Best Parameters :', grid_search.best_params_)\n",
    "print('Best CV Score : {:.4f}'.format(grid_search1.best_score_))\n",
    "\n",
    "models.append('Gradient Boost')\n",
    "scores.append(gb_score)"
   ]
  },
  {
   "cell_type": "markdown",
   "id": "97c3e16c",
   "metadata": {},
   "source": [
    "### Saving the model"
   ]
  },
  {
   "cell_type": "code",
   "execution_count": 102,
   "id": "79d5b8e8",
   "metadata": {},
   "outputs": [],
   "source": [
    "import pickle\n",
    "filename = 'Flight_fare_prediction.pkl'\n",
    "pickle.dump(grid_search1.best_params_,open(filename, 'wb'))"
   ]
  },
  {
   "cell_type": "markdown",
   "id": "b4d7671d",
   "metadata": {},
   "source": [
    "# Predicting on test data"
   ]
  },
  {
   "cell_type": "code",
   "execution_count": 101,
   "id": "aae85ebd",
   "metadata": {},
   "outputs": [
    {
     "data": {
      "text/html": [
       "<div>\n",
       "<style scoped>\n",
       "    .dataframe tbody tr th:only-of-type {\n",
       "        vertical-align: middle;\n",
       "    }\n",
       "\n",
       "    .dataframe tbody tr th {\n",
       "        vertical-align: top;\n",
       "    }\n",
       "\n",
       "    .dataframe thead th {\n",
       "        text-align: right;\n",
       "    }\n",
       "</style>\n",
       "<table border=\"1\" class=\"dataframe\">\n",
       "  <thead>\n",
       "    <tr style=\"text-align: right;\">\n",
       "      <th></th>\n",
       "      <th>Predicted</th>\n",
       "    </tr>\n",
       "  </thead>\n",
       "  <tbody>\n",
       "    <tr>\n",
       "      <th>0</th>\n",
       "      <td>15409.758214</td>\n",
       "    </tr>\n",
       "    <tr>\n",
       "      <th>1</th>\n",
       "      <td>15396.275915</td>\n",
       "    </tr>\n",
       "    <tr>\n",
       "      <th>2</th>\n",
       "      <td>14841.796250</td>\n",
       "    </tr>\n",
       "    <tr>\n",
       "      <th>3</th>\n",
       "      <td>13724.103645</td>\n",
       "    </tr>\n",
       "    <tr>\n",
       "      <th>4</th>\n",
       "      <td>4546.565762</td>\n",
       "    </tr>\n",
       "    <tr>\n",
       "      <th>5</th>\n",
       "      <td>15409.758214</td>\n",
       "    </tr>\n",
       "    <tr>\n",
       "      <th>6</th>\n",
       "      <td>13182.216174</td>\n",
       "    </tr>\n",
       "    <tr>\n",
       "      <th>7</th>\n",
       "      <td>14993.025261</td>\n",
       "    </tr>\n",
       "    <tr>\n",
       "      <th>8</th>\n",
       "      <td>2768.436666</td>\n",
       "    </tr>\n",
       "    <tr>\n",
       "      <th>9</th>\n",
       "      <td>15396.275915</td>\n",
       "    </tr>\n",
       "  </tbody>\n",
       "</table>\n",
       "</div>"
      ],
      "text/plain": [
       "      Predicted\n",
       "0  15409.758214\n",
       "1  15396.275915\n",
       "2  14841.796250\n",
       "3  13724.103645\n",
       "4   4546.565762\n",
       "5  15409.758214\n",
       "6  13182.216174\n",
       "7  14993.025261\n",
       "8   2768.436666\n",
       "9  15396.275915"
      ]
     },
     "execution_count": 101,
     "metadata": {},
     "output_type": "execute_result"
    }
   ],
   "source": [
    "import numpy as np\n",
    "predicted=np.array(grid_search1.predict(test_new_z))\n",
    "data_com = pd.DataFrame({\"Predicted\":predicted})\n",
    "data_com.head(10)"
   ]
  },
  {
   "cell_type": "markdown",
   "id": "528c7e71",
   "metadata": {},
   "source": [
    "# Determining the name of the file and saving the excel"
   ]
  },
  {
   "cell_type": "code",
   "execution_count": 103,
   "id": "3266be36",
   "metadata": {},
   "outputs": [
    {
     "name": "stdout",
     "output_type": "stream",
     "text": [
      "DataFrame is written to Excel File successfully.\n"
     ]
    }
   ],
   "source": [
    "file_name = 'Predcted data for flight fare.xlsx'\n",
    "data_com.to_excel(file_name)\n",
    "print('DataFrame is written to Excel File successfully.')"
   ]
  },
  {
   "cell_type": "code",
   "execution_count": null,
   "id": "f3088b75",
   "metadata": {},
   "outputs": [],
   "source": []
  }
 ],
 "metadata": {
  "kernelspec": {
   "display_name": "Python 3",
   "language": "python",
   "name": "python3"
  },
  "language_info": {
   "codemirror_mode": {
    "name": "ipython",
    "version": 3
   },
   "file_extension": ".py",
   "mimetype": "text/x-python",
   "name": "python",
   "nbconvert_exporter": "python",
   "pygments_lexer": "ipython3",
   "version": "3.8.8"
  }
 },
 "nbformat": 4,
 "nbformat_minor": 5
}

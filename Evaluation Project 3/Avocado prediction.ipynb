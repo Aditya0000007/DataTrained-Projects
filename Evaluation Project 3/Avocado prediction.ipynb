{
 "cells": [
  {
   "cell_type": "markdown",
   "id": "02947787",
   "metadata": {},
   "source": [
    "# Problem Statement:\n",
    "### Avacado Project\n",
    "\n",
    "Avocado is a fruit consumed by people heavily in the United States. \n",
    "\n",
    "Content\n",
    "This data was downloaded from the Hass Avocado Board website in May of 2018 & compiled into a single CSV. \n",
    "\n",
    "The table below represents weekly 2018 retail scan data for National retail volume (units) and price. Retail scan data comes directly from retailers’ cash registers based on actual retail sales of Hass avocados. \n",
    "\n",
    "Starting in 2013, the table below reflects an expanded, multi-outlet retail data set. Multi-outlet reporting includes an aggregation of the following channels: grocery, mass, club, drug, dollar and military. The Average Price (of avocados) in the table reflects a per unit (per avocado) cost, even when multiple units (avocados) are sold in bags. \n",
    "\n",
    "The Product Lookup codes (PLU’s) in the table are only for Hass avocados. Other varieties of avocados (e.g. greenskins) are not included in this table.\n",
    "\n",
    "Some relevant columns in the dataset:\n",
    "\n",
    "Date - The date of the observation\n",
    "\n",
    "AveragePrice - the average price of a single avocado\n",
    "\n",
    "type - conventional or organic\n",
    "\n",
    "year - the year\n",
    "\n",
    "Region - the city or region of the observation\n",
    "\n",
    "Total Volume - Total number of avocados sold\n",
    "\n",
    "4046 - Total number of avocados with PLU 4046 sold\n",
    "\n",
    "4225 - Total number of avocados with PLU 4225 sold\n",
    "\n",
    "4770 - Total number of avocados with PLU 4770 sold\n",
    "\n",
    "\n",
    "Inspiration /Label \n",
    "\n",
    "The dataset can be seen in two angles to find the region and find the average price .\n",
    "\n",
    "Task: One of Classification and other of Regression\n",
    "\n",
    "Do both tasks in the same .ipynb file and submit at single file. "
   ]
  },
  {
   "cell_type": "markdown",
   "id": "76a71650",
   "metadata": {},
   "source": [
    "# Importing Libraries"
   ]
  },
  {
   "cell_type": "code",
   "execution_count": 180,
   "id": "aa842c05",
   "metadata": {},
   "outputs": [
    {
     "name": "stdout",
     "output_type": "stream",
     "text": [
      "######################################\n",
      "       Import Key Packages            \n",
      "######################################\n"
     ]
    }
   ],
   "source": [
    "print(\"######################################\")\n",
    "print(\"       Import Key Packages            \")\n",
    "print(\"######################################\")\n",
    "import pandas as pd\n",
    "import numpy as np\n",
    "import matplotlib.pyplot as plt\n",
    "import seaborn as sns\n",
    "from IPython.display import display\n",
    "import statsmodels as sm\n",
    "from statsmodels.stats.outliers_influence import variance_inflation_factor\n",
    "from sklearn.model_selection import train_test_split,GridSearchCV,RandomizedSearchCV\n",
    "from sklearn.linear_model import LinearRegression,Ridge,Lasso\n",
    "from sklearn.tree import DecisionTreeRegressor\n",
    "from sklearn.ensemble import RandomForestRegressor,GradientBoostingRegressor\n",
    "from sklearn.metrics import r2_score,mean_squared_error\n",
    "from sklearn import preprocessing\n",
    "import warnings\n",
    "from statsmodels.stats.outliers_influence import variance_inflation_factor\n",
    "warnings.filterwarnings('ignore')\n",
    "from scipy import stats"
   ]
  },
  {
   "cell_type": "markdown",
   "id": "5d504942",
   "metadata": {},
   "source": [
    "# Importing Dataset"
   ]
  },
  {
   "cell_type": "code",
   "execution_count": 181,
   "id": "e1e718b2",
   "metadata": {},
   "outputs": [],
   "source": [
    "df = pd.read_csv(\"avocado.csv\")"
   ]
  },
  {
   "cell_type": "code",
   "execution_count": 182,
   "id": "60ec953a",
   "metadata": {},
   "outputs": [
    {
     "data": {
      "text/html": [
       "<div>\n",
       "<style scoped>\n",
       "    .dataframe tbody tr th:only-of-type {\n",
       "        vertical-align: middle;\n",
       "    }\n",
       "\n",
       "    .dataframe tbody tr th {\n",
       "        vertical-align: top;\n",
       "    }\n",
       "\n",
       "    .dataframe thead th {\n",
       "        text-align: right;\n",
       "    }\n",
       "</style>\n",
       "<table border=\"1\" class=\"dataframe\">\n",
       "  <thead>\n",
       "    <tr style=\"text-align: right;\">\n",
       "      <th></th>\n",
       "      <th>Unnamed: 0</th>\n",
       "      <th>Date</th>\n",
       "      <th>AveragePrice</th>\n",
       "      <th>Total Volume</th>\n",
       "      <th>4046</th>\n",
       "      <th>4225</th>\n",
       "      <th>4770</th>\n",
       "      <th>Total Bags</th>\n",
       "      <th>Small Bags</th>\n",
       "      <th>Large Bags</th>\n",
       "      <th>XLarge Bags</th>\n",
       "      <th>type</th>\n",
       "      <th>year</th>\n",
       "      <th>region</th>\n",
       "    </tr>\n",
       "  </thead>\n",
       "  <tbody>\n",
       "    <tr>\n",
       "      <th>0</th>\n",
       "      <td>0</td>\n",
       "      <td>2015-12-27</td>\n",
       "      <td>1.33</td>\n",
       "      <td>64236.62</td>\n",
       "      <td>1036.74</td>\n",
       "      <td>54454.85</td>\n",
       "      <td>48.16</td>\n",
       "      <td>8696.87</td>\n",
       "      <td>8603.62</td>\n",
       "      <td>93.25</td>\n",
       "      <td>0.0</td>\n",
       "      <td>conventional</td>\n",
       "      <td>2015</td>\n",
       "      <td>Albany</td>\n",
       "    </tr>\n",
       "    <tr>\n",
       "      <th>1</th>\n",
       "      <td>1</td>\n",
       "      <td>2015-12-20</td>\n",
       "      <td>1.35</td>\n",
       "      <td>54876.98</td>\n",
       "      <td>674.28</td>\n",
       "      <td>44638.81</td>\n",
       "      <td>58.33</td>\n",
       "      <td>9505.56</td>\n",
       "      <td>9408.07</td>\n",
       "      <td>97.49</td>\n",
       "      <td>0.0</td>\n",
       "      <td>conventional</td>\n",
       "      <td>2015</td>\n",
       "      <td>Albany</td>\n",
       "    </tr>\n",
       "    <tr>\n",
       "      <th>2</th>\n",
       "      <td>2</td>\n",
       "      <td>2015-12-13</td>\n",
       "      <td>0.93</td>\n",
       "      <td>118220.22</td>\n",
       "      <td>794.70</td>\n",
       "      <td>109149.67</td>\n",
       "      <td>130.50</td>\n",
       "      <td>8145.35</td>\n",
       "      <td>8042.21</td>\n",
       "      <td>103.14</td>\n",
       "      <td>0.0</td>\n",
       "      <td>conventional</td>\n",
       "      <td>2015</td>\n",
       "      <td>Albany</td>\n",
       "    </tr>\n",
       "    <tr>\n",
       "      <th>3</th>\n",
       "      <td>3</td>\n",
       "      <td>2015-12-06</td>\n",
       "      <td>1.08</td>\n",
       "      <td>78992.15</td>\n",
       "      <td>1132.00</td>\n",
       "      <td>71976.41</td>\n",
       "      <td>72.58</td>\n",
       "      <td>5811.16</td>\n",
       "      <td>5677.40</td>\n",
       "      <td>133.76</td>\n",
       "      <td>0.0</td>\n",
       "      <td>conventional</td>\n",
       "      <td>2015</td>\n",
       "      <td>Albany</td>\n",
       "    </tr>\n",
       "    <tr>\n",
       "      <th>4</th>\n",
       "      <td>4</td>\n",
       "      <td>2015-11-29</td>\n",
       "      <td>1.28</td>\n",
       "      <td>51039.60</td>\n",
       "      <td>941.48</td>\n",
       "      <td>43838.39</td>\n",
       "      <td>75.78</td>\n",
       "      <td>6183.95</td>\n",
       "      <td>5986.26</td>\n",
       "      <td>197.69</td>\n",
       "      <td>0.0</td>\n",
       "      <td>conventional</td>\n",
       "      <td>2015</td>\n",
       "      <td>Albany</td>\n",
       "    </tr>\n",
       "  </tbody>\n",
       "</table>\n",
       "</div>"
      ],
      "text/plain": [
       "   Unnamed: 0        Date  AveragePrice  Total Volume     4046       4225  \\\n",
       "0           0  2015-12-27          1.33      64236.62  1036.74   54454.85   \n",
       "1           1  2015-12-20          1.35      54876.98   674.28   44638.81   \n",
       "2           2  2015-12-13          0.93     118220.22   794.70  109149.67   \n",
       "3           3  2015-12-06          1.08      78992.15  1132.00   71976.41   \n",
       "4           4  2015-11-29          1.28      51039.60   941.48   43838.39   \n",
       "\n",
       "     4770  Total Bags  Small Bags  Large Bags  XLarge Bags          type  \\\n",
       "0   48.16     8696.87     8603.62       93.25          0.0  conventional   \n",
       "1   58.33     9505.56     9408.07       97.49          0.0  conventional   \n",
       "2  130.50     8145.35     8042.21      103.14          0.0  conventional   \n",
       "3   72.58     5811.16     5677.40      133.76          0.0  conventional   \n",
       "4   75.78     6183.95     5986.26      197.69          0.0  conventional   \n",
       "\n",
       "   year  region  \n",
       "0  2015  Albany  \n",
       "1  2015  Albany  \n",
       "2  2015  Albany  \n",
       "3  2015  Albany  \n",
       "4  2015  Albany  "
      ]
     },
     "execution_count": 182,
     "metadata": {},
     "output_type": "execute_result"
    }
   ],
   "source": [
    "df.head()"
   ]
  },
  {
   "cell_type": "markdown",
   "id": "7b3774e9",
   "metadata": {},
   "source": [
    "I can see an unecessary column Unnamed:0 which should I dropped directly"
   ]
  },
  {
   "cell_type": "code",
   "execution_count": 183,
   "id": "88f7c982",
   "metadata": {},
   "outputs": [],
   "source": [
    "# Drop unnecessary feature\n",
    "\n",
    "df = df.drop('Unnamed: 0', axis=1)"
   ]
  },
  {
   "cell_type": "markdown",
   "id": "228fb8bc",
   "metadata": {},
   "source": [
    "# Check Null Values"
   ]
  },
  {
   "cell_type": "code",
   "execution_count": 184,
   "id": "636e1cc0",
   "metadata": {},
   "outputs": [
    {
     "data": {
      "text/plain": [
       "Date            0\n",
       "AveragePrice    0\n",
       "Total Volume    0\n",
       "4046            0\n",
       "4225            0\n",
       "4770            0\n",
       "Total Bags      0\n",
       "Small Bags      0\n",
       "Large Bags      0\n",
       "XLarge Bags     0\n",
       "type            0\n",
       "year            0\n",
       "region          0\n",
       "dtype: int64"
      ]
     },
     "execution_count": 184,
     "metadata": {},
     "output_type": "execute_result"
    }
   ],
   "source": [
    "df.isnull().sum()"
   ]
  },
  {
   "cell_type": "markdown",
   "id": "4e41a798",
   "metadata": {},
   "source": [
    "We have no null values hopefully!!"
   ]
  },
  {
   "cell_type": "code",
   "execution_count": 185,
   "id": "26c7548a",
   "metadata": {},
   "outputs": [
    {
     "name": "stdout",
     "output_type": "stream",
     "text": [
      "<class 'pandas.core.frame.DataFrame'>\n",
      "RangeIndex: 18249 entries, 0 to 18248\n",
      "Data columns (total 13 columns):\n",
      " #   Column        Non-Null Count  Dtype  \n",
      "---  ------        --------------  -----  \n",
      " 0   Date          18249 non-null  object \n",
      " 1   AveragePrice  18249 non-null  float64\n",
      " 2   Total Volume  18249 non-null  float64\n",
      " 3   4046          18249 non-null  float64\n",
      " 4   4225          18249 non-null  float64\n",
      " 5   4770          18249 non-null  float64\n",
      " 6   Total Bags    18249 non-null  float64\n",
      " 7   Small Bags    18249 non-null  float64\n",
      " 8   Large Bags    18249 non-null  float64\n",
      " 9   XLarge Bags   18249 non-null  float64\n",
      " 10  type          18249 non-null  object \n",
      " 11  year          18249 non-null  int64  \n",
      " 12  region        18249 non-null  object \n",
      "dtypes: float64(9), int64(1), object(3)\n",
      "memory usage: 1.8+ MB\n"
     ]
    }
   ],
   "source": [
    "df.info()"
   ]
  },
  {
   "cell_type": "markdown",
   "id": "e4e2f8b0",
   "metadata": {},
   "source": [
    "# Describing the data"
   ]
  },
  {
   "cell_type": "code",
   "execution_count": 186,
   "id": "3cf964da",
   "metadata": {},
   "outputs": [
    {
     "data": {
      "text/html": [
       "<div>\n",
       "<style scoped>\n",
       "    .dataframe tbody tr th:only-of-type {\n",
       "        vertical-align: middle;\n",
       "    }\n",
       "\n",
       "    .dataframe tbody tr th {\n",
       "        vertical-align: top;\n",
       "    }\n",
       "\n",
       "    .dataframe thead th {\n",
       "        text-align: right;\n",
       "    }\n",
       "</style>\n",
       "<table border=\"1\" class=\"dataframe\">\n",
       "  <thead>\n",
       "    <tr style=\"text-align: right;\">\n",
       "      <th></th>\n",
       "      <th>AveragePrice</th>\n",
       "      <th>Total Volume</th>\n",
       "      <th>4046</th>\n",
       "      <th>4225</th>\n",
       "      <th>4770</th>\n",
       "      <th>Total Bags</th>\n",
       "      <th>Small Bags</th>\n",
       "      <th>Large Bags</th>\n",
       "      <th>XLarge Bags</th>\n",
       "      <th>year</th>\n",
       "    </tr>\n",
       "  </thead>\n",
       "  <tbody>\n",
       "    <tr>\n",
       "      <th>count</th>\n",
       "      <td>18249.000000</td>\n",
       "      <td>1.824900e+04</td>\n",
       "      <td>1.824900e+04</td>\n",
       "      <td>1.824900e+04</td>\n",
       "      <td>1.824900e+04</td>\n",
       "      <td>1.824900e+04</td>\n",
       "      <td>1.824900e+04</td>\n",
       "      <td>1.824900e+04</td>\n",
       "      <td>18249.000000</td>\n",
       "      <td>18249.000000</td>\n",
       "    </tr>\n",
       "    <tr>\n",
       "      <th>mean</th>\n",
       "      <td>1.405978</td>\n",
       "      <td>8.506440e+05</td>\n",
       "      <td>2.930084e+05</td>\n",
       "      <td>2.951546e+05</td>\n",
       "      <td>2.283974e+04</td>\n",
       "      <td>2.396392e+05</td>\n",
       "      <td>1.821947e+05</td>\n",
       "      <td>5.433809e+04</td>\n",
       "      <td>3106.426507</td>\n",
       "      <td>2016.147899</td>\n",
       "    </tr>\n",
       "    <tr>\n",
       "      <th>std</th>\n",
       "      <td>0.402677</td>\n",
       "      <td>3.453545e+06</td>\n",
       "      <td>1.264989e+06</td>\n",
       "      <td>1.204120e+06</td>\n",
       "      <td>1.074641e+05</td>\n",
       "      <td>9.862424e+05</td>\n",
       "      <td>7.461785e+05</td>\n",
       "      <td>2.439660e+05</td>\n",
       "      <td>17692.894652</td>\n",
       "      <td>0.939938</td>\n",
       "    </tr>\n",
       "    <tr>\n",
       "      <th>min</th>\n",
       "      <td>0.440000</td>\n",
       "      <td>8.456000e+01</td>\n",
       "      <td>0.000000e+00</td>\n",
       "      <td>0.000000e+00</td>\n",
       "      <td>0.000000e+00</td>\n",
       "      <td>0.000000e+00</td>\n",
       "      <td>0.000000e+00</td>\n",
       "      <td>0.000000e+00</td>\n",
       "      <td>0.000000</td>\n",
       "      <td>2015.000000</td>\n",
       "    </tr>\n",
       "    <tr>\n",
       "      <th>25%</th>\n",
       "      <td>1.100000</td>\n",
       "      <td>1.083858e+04</td>\n",
       "      <td>8.540700e+02</td>\n",
       "      <td>3.008780e+03</td>\n",
       "      <td>0.000000e+00</td>\n",
       "      <td>5.088640e+03</td>\n",
       "      <td>2.849420e+03</td>\n",
       "      <td>1.274700e+02</td>\n",
       "      <td>0.000000</td>\n",
       "      <td>2015.000000</td>\n",
       "    </tr>\n",
       "    <tr>\n",
       "      <th>50%</th>\n",
       "      <td>1.370000</td>\n",
       "      <td>1.073768e+05</td>\n",
       "      <td>8.645300e+03</td>\n",
       "      <td>2.906102e+04</td>\n",
       "      <td>1.849900e+02</td>\n",
       "      <td>3.974383e+04</td>\n",
       "      <td>2.636282e+04</td>\n",
       "      <td>2.647710e+03</td>\n",
       "      <td>0.000000</td>\n",
       "      <td>2016.000000</td>\n",
       "    </tr>\n",
       "    <tr>\n",
       "      <th>75%</th>\n",
       "      <td>1.660000</td>\n",
       "      <td>4.329623e+05</td>\n",
       "      <td>1.110202e+05</td>\n",
       "      <td>1.502069e+05</td>\n",
       "      <td>6.243420e+03</td>\n",
       "      <td>1.107834e+05</td>\n",
       "      <td>8.333767e+04</td>\n",
       "      <td>2.202925e+04</td>\n",
       "      <td>132.500000</td>\n",
       "      <td>2017.000000</td>\n",
       "    </tr>\n",
       "    <tr>\n",
       "      <th>max</th>\n",
       "      <td>3.250000</td>\n",
       "      <td>6.250565e+07</td>\n",
       "      <td>2.274362e+07</td>\n",
       "      <td>2.047057e+07</td>\n",
       "      <td>2.546439e+06</td>\n",
       "      <td>1.937313e+07</td>\n",
       "      <td>1.338459e+07</td>\n",
       "      <td>5.719097e+06</td>\n",
       "      <td>551693.650000</td>\n",
       "      <td>2018.000000</td>\n",
       "    </tr>\n",
       "  </tbody>\n",
       "</table>\n",
       "</div>"
      ],
      "text/plain": [
       "       AveragePrice  Total Volume          4046          4225          4770  \\\n",
       "count  18249.000000  1.824900e+04  1.824900e+04  1.824900e+04  1.824900e+04   \n",
       "mean       1.405978  8.506440e+05  2.930084e+05  2.951546e+05  2.283974e+04   \n",
       "std        0.402677  3.453545e+06  1.264989e+06  1.204120e+06  1.074641e+05   \n",
       "min        0.440000  8.456000e+01  0.000000e+00  0.000000e+00  0.000000e+00   \n",
       "25%        1.100000  1.083858e+04  8.540700e+02  3.008780e+03  0.000000e+00   \n",
       "50%        1.370000  1.073768e+05  8.645300e+03  2.906102e+04  1.849900e+02   \n",
       "75%        1.660000  4.329623e+05  1.110202e+05  1.502069e+05  6.243420e+03   \n",
       "max        3.250000  6.250565e+07  2.274362e+07  2.047057e+07  2.546439e+06   \n",
       "\n",
       "         Total Bags    Small Bags    Large Bags    XLarge Bags          year  \n",
       "count  1.824900e+04  1.824900e+04  1.824900e+04   18249.000000  18249.000000  \n",
       "mean   2.396392e+05  1.821947e+05  5.433809e+04    3106.426507   2016.147899  \n",
       "std    9.862424e+05  7.461785e+05  2.439660e+05   17692.894652      0.939938  \n",
       "min    0.000000e+00  0.000000e+00  0.000000e+00       0.000000   2015.000000  \n",
       "25%    5.088640e+03  2.849420e+03  1.274700e+02       0.000000   2015.000000  \n",
       "50%    3.974383e+04  2.636282e+04  2.647710e+03       0.000000   2016.000000  \n",
       "75%    1.107834e+05  8.333767e+04  2.202925e+04     132.500000   2017.000000  \n",
       "max    1.937313e+07  1.338459e+07  5.719097e+06  551693.650000   2018.000000  "
      ]
     },
     "execution_count": 186,
     "metadata": {},
     "output_type": "execute_result"
    }
   ],
   "source": [
    "df.describe()"
   ]
  },
  {
   "cell_type": "markdown",
   "id": "d7a53390",
   "metadata": {},
   "source": [
    "There is no null in the data. We will explore other aspects such as\n",
    "\n",
    "Lets see for how many years does the data is available ?\n",
    "\n",
    "The types of avacados ?\n",
    "\n",
    "The regions ?"
   ]
  },
  {
   "cell_type": "code",
   "execution_count": 187,
   "id": "3ee17aab",
   "metadata": {},
   "outputs": [
    {
     "name": "stdout",
     "output_type": "stream",
     "text": [
      "['conventional' 'organic']\n",
      "[2015 2016 2017 2018]\n",
      "['Albany' 'Atlanta' 'BaltimoreWashington' 'Boise' 'Boston'\n",
      " 'BuffaloRochester' 'California' 'Charlotte' 'Chicago' 'CincinnatiDayton'\n",
      " 'Columbus' 'DallasFtWorth' 'Denver' 'Detroit' 'GrandRapids' 'GreatLakes'\n",
      " 'HarrisburgScranton' 'HartfordSpringfield' 'Houston' 'Indianapolis'\n",
      " 'Jacksonville' 'LasVegas' 'LosAngeles' 'Louisville' 'MiamiFtLauderdale'\n",
      " 'Midsouth' 'Nashville' 'NewOrleansMobile' 'NewYork' 'Northeast'\n",
      " 'NorthernNewEngland' 'Orlando' 'Philadelphia' 'PhoenixTucson'\n",
      " 'Pittsburgh' 'Plains' 'Portland' 'RaleighGreensboro' 'RichmondNorfolk'\n",
      " 'Roanoke' 'Sacramento' 'SanDiego' 'SanFrancisco' 'Seattle'\n",
      " 'SouthCarolina' 'SouthCentral' 'Southeast' 'Spokane' 'StLouis' 'Syracuse'\n",
      " 'Tampa' 'TotalUS' 'West' 'WestTexNewMexico']\n"
     ]
    }
   ],
   "source": [
    "print(df.type.unique())\n",
    "print(df.year.unique())\n",
    "print(df.region.unique())"
   ]
  },
  {
   "cell_type": "markdown",
   "id": "55d8a493",
   "metadata": {},
   "source": [
    "Observation- We can see there are 2 types of Avocado \n",
    "\n",
    "Years are from 2015 to 2018\n",
    "\n",
    "For region we have many regions present"
   ]
  },
  {
   "cell_type": "markdown",
   "id": "20d6d04d",
   "metadata": {},
   "source": [
    "# EDA"
   ]
  },
  {
   "cell_type": "code",
   "execution_count": 188,
   "id": "14e732f0",
   "metadata": {},
   "outputs": [
    {
     "data": {
      "text/plain": [
       "year  type        \n",
       "2015  conventional    2808\n",
       "      organic         2807\n",
       "2016  conventional    2808\n",
       "      organic         2808\n",
       "2017  conventional    2862\n",
       "      organic         2860\n",
       "2018  conventional     648\n",
       "      organic          648\n",
       "Name: type, dtype: int64"
      ]
     },
     "execution_count": 188,
     "metadata": {},
     "output_type": "execute_result"
    }
   ],
   "source": [
    "# lets check the quantity of Avocado type sold on these years\n",
    "df.groupby('year')['type'].value_counts()"
   ]
  },
  {
   "cell_type": "markdown",
   "id": "99234e2a",
   "metadata": {},
   "source": [
    "Observation- 2018 less sale has been occured"
   ]
  },
  {
   "cell_type": "markdown",
   "id": "8d47963a",
   "metadata": {},
   "source": [
    "# Visualization of Data :"
   ]
  },
  {
   "cell_type": "code",
   "execution_count": 189,
   "id": "5a2d1459",
   "metadata": {},
   "outputs": [
    {
     "name": "stdout",
     "output_type": "stream",
     "text": [
      "2017    5722\n",
      "2016    5616\n",
      "2015    5615\n",
      "2018    1296\n",
      "Name: year, dtype: int64\n"
     ]
    },
    {
     "data": {
      "image/png": "[encoded data removed]",
      "text/plain": [
       "<Figure size 432x288 with 1 Axes>"
      ]
     },
     "metadata": {
      "needs_background": "light"
     },
     "output_type": "display_data"
    }
   ],
   "source": [
    "ax = sns.countplot(x=\"year\",data=df)\n",
    "print(df[\"year\"].value_counts())"
   ]
  },
  {
   "cell_type": "code",
   "execution_count": 190,
   "id": "2897757f",
   "metadata": {},
   "outputs": [
    {
     "name": "stdout",
     "output_type": "stream",
     "text": [
      "conventional    9126\n",
      "organic         9123\n",
      "Name: type, dtype: int64\n"
     ]
    },
    {
     "data": {
      "image/png": "[encoded data removed]",
      "text/plain": [
       "<Figure size 432x288 with 1 Axes>"
      ]
     },
     "metadata": {
      "needs_background": "light"
     },
     "output_type": "display_data"
    }
   ],
   "source": [
    "ax = sns.countplot(x=\"type\",data=df)\n",
    "print(df[\"type\"].value_counts())"
   ]
  },
  {
   "cell_type": "code",
   "execution_count": 191,
   "id": "c28c6579",
   "metadata": {},
   "outputs": [
    {
     "data": {
      "text/plain": [
       "<AxesSubplot:xlabel='type', ylabel='year'>"
      ]
     },
     "execution_count": 191,
     "metadata": {},
     "output_type": "execute_result"
    },
    {
     "data": {
      "image/png": "[encoded data removed]",
      "text/plain": [
       "<Figure size 432x288 with 1 Axes>"
      ]
     },
     "metadata": {
      "needs_background": "light"
     },
     "output_type": "display_data"
    }
   ],
   "source": [
    "sns.barplot(x=\"type\",y=\"year\",data=df)"
   ]
  },
  {
   "cell_type": "markdown",
   "id": "35fdac27",
   "metadata": {},
   "source": [
    "Most sold in 2017 and and least on 2018"
   ]
  },
  {
   "cell_type": "markdown",
   "id": "49d31a64",
   "metadata": {},
   "source": [
    "# Distribution of Average Price:"
   ]
  },
  {
   "cell_type": "code",
   "execution_count": 192,
   "id": "364628c9",
   "metadata": {},
   "outputs": [],
   "source": [
    "cont_features = ['Total Volume', '4046', '4225', '4770', 'Total Bags', 'Small Bags', 'Large Bags', 'XLarge Bags']"
   ]
  },
  {
   "cell_type": "code",
   "execution_count": 206,
   "id": "def79e5e",
   "metadata": {},
   "outputs": [
    {
     "data": {
      "image/png": "[encoded data removed]",
      "text/plain": [
       "<Figure size 1080x864 with 6 Axes>"
      ]
     },
     "metadata": {
      "needs_background": "light"
     },
     "output_type": "display_data"
    }
   ],
   "source": [
    "fig = plt.figure(figsize=(15, 12))\n",
    "gs = fig.add_gridspec(3, 2)\n",
    "gs.update(hspace=0.2, wspace=0.3)\n",
    "\n",
    "ax0 = fig.add_subplot(gs[0, 0])\n",
    "ax1 = fig.add_subplot(gs[0, 1])\n",
    "ax2 = fig.add_subplot(gs[1, 0])\n",
    "ax3 = fig.add_subplot(gs[1, 1])\n",
    "ax4 = fig.add_subplot(gs[2, 0])\n",
    "ax5 = fig.add_subplot(gs[2, 1])\n",
    "\n",
    "\n",
    "axes = [ax0, ax1, ax2, ax3, ax4, ax5]\n",
    "\n",
    "\n",
    "# Title1\n",
    "ax0.text(0.5, 0.5, 'Distribution of AveragePrice',\n",
    "        horizontalalignment='center',\n",
    "        verticalalignment='center',\n",
    "        fontsize=18, fontweight='bold', fontfamily='serif')\n",
    "\n",
    "# Graph1\n",
    "sns.kdeplot(x='AveragePrice', data=df, fill=True, ax=ax1)\n",
    "\n",
    "\n",
    "\n",
    "# Title2\n",
    "ax2.text(0.5, 0.5, 'Distribution of AveragePrice\\nby Type',\n",
    "        horizontalalignment='center',\n",
    "        verticalalignment='center',\n",
    "        fontsize=18, fontweight='bold', fontfamily='serif')\n",
    "\n",
    "# Graph2\n",
    "sns.kdeplot(x='AveragePrice', data=df, fill=True, hue='type', ax=ax3)\n",
    "\n",
    "\n",
    "\n",
    "# Title3\n",
    "ax4.text(0.5, 0.5, 'Distribution of AveragePrice\\nby Year',\n",
    "        horizontalalignment='center',\n",
    "        verticalalignment='center',\n",
    "        fontsize=18, fontweight='bold', fontfamily='serif')\n",
    "\n",
    "# Graph3\n",
    "sns.kdeplot(x='AveragePrice', data=df, fill=True, hue='year', ax=ax5)\n",
    "\n",
    "\n",
    "\n",
    "# Settings\n",
    "for ax in axes:\n",
    "    \n",
    "    for s in ['top', 'right', 'left']:\n",
    "        ax.spines[s].set_visible(False)\n",
    "\n",
    "for ax in [ax0, ax2, ax4]:\n",
    "    ax.set_xticklabels([])\n",
    "    ax.set_yticklabels([])\n",
    "    ax.tick_params(left=False, bottom=False)"
   ]
  },
  {
   "cell_type": "markdown",
   "id": "2240ceaf",
   "metadata": {},
   "source": [
    "# Distribution of Continuous Features"
   ]
  },
  {
   "cell_type": "code",
   "execution_count": 97,
   "id": "926d4010",
   "metadata": {},
   "outputs": [],
   "source": [
    "cont_features = ['Total Volume', '4046', '4225', '4770', 'Total Bags', 'Small Bags', 'Large Bags', 'XLarge Bags']"
   ]
  },
  {
   "cell_type": "code",
   "execution_count": 98,
   "id": "a17cacb2",
   "metadata": {},
   "outputs": [
    {
     "data": {
      "image/png": "[encoded data removed]",
      "text/plain": [
       "<Figure size 1440x1080 with 9 Axes>"
      ]
     },
     "metadata": {
      "needs_background": "light"
     },
     "output_type": "display_data"
    }
   ],
   "source": [
    "fig = plt.figure(figsize=(20, 15))\n",
    "gs = fig.add_gridspec(3, 3)\n",
    "gs.update(wspace=0.4, hspace=0.5)\n",
    "\n",
    "ax0 = fig.add_subplot(gs[0, 0])\n",
    "ax1 = fig.add_subplot(gs[0, 1])\n",
    "ax2 = fig.add_subplot(gs[0, 2])\n",
    "ax3 = fig.add_subplot(gs[1, 0])\n",
    "ax4 = fig.add_subplot(gs[1, 1])\n",
    "ax5 = fig.add_subplot(gs[1, 2])\n",
    "ax6 = fig.add_subplot(gs[2, 0])\n",
    "ax7 = fig.add_subplot(gs[2, 1])\n",
    "ax8 = fig.add_subplot(gs[2, 2])\n",
    "axes = [ax0, ax1, ax2, ax3, ax4, ax5, ax6, ax7, ax8]\n",
    "\n",
    "\n",
    "# Title\n",
    "ax0.text(0.5, 0.5, 'Distribution of Continuous Features\\n_______________________',\n",
    "        fontsize=18, fontfamily='serif', fontweight='bold',\n",
    "        horizontalalignment='center',\n",
    "        verticalalignment='center')\n",
    "\n",
    "# Graphs\n",
    "for i, ax in enumerate(axes):\n",
    "    for s in ['top', 'right', 'left']:\n",
    "        ax.spines[s].set_visible(False)\n",
    "        \n",
    "  \n",
    "    \n",
    "    if i == 0:\n",
    "        ax.set_xticklabels([])\n",
    "        ax.set_yticklabels([])\n",
    "        ax.tick_params(left=False, bottom=False)\n",
    "       # ax.spines[['bottom']].set_visible(False)\n",
    "    else:\n",
    "        ax.set_title(cont_features[i-1], fontsize=14, fontfamily='serif', fontweight='bold')\n",
    "        ax.grid(color='#000000', linestyle=':', axis='y', zorder=0, dashes=(1,5))\n",
    "    \n",
    "        sns.kdeplot(x=cont_features[i-1], data=df, ax=ax, fill=True)\n",
    "        ax.set_xlabel('')\n",
    "        ax.set_ylabel('')"
   ]
  },
  {
   "cell_type": "markdown",
   "id": "afd21c4c",
   "metadata": {},
   "source": [
    "Observations- on 2017 we can see that price increased most. I have googled about this and find out that due to unsuccessful harvests and rises in demand, avocado prices are doubled on 2017. If you want more information you can read this article-https://globaledge.msu.edu/blog/post/53425/2017-sees-a-shocking-increase-in-avocado#:~:text=Due%20to%20unsuccessful%20harvests%20and,predicted%20to%20double%20this%20summer.\n",
    "\n",
    "Organic is high priced than conventional\n",
    "\n",
    "Continious features are very much skewed up"
   ]
  },
  {
   "cell_type": "markdown",
   "id": "caa9195b",
   "metadata": {},
   "source": [
    "# Correlation of the columns with the target columns :\n"
   ]
  },
  {
   "cell_type": "code",
   "execution_count": 207,
   "id": "29b94dbd",
   "metadata": {},
   "outputs": [
    {
     "data": {
      "text/html": [
       "<div>\n",
       "<style scoped>\n",
       "    .dataframe tbody tr th:only-of-type {\n",
       "        vertical-align: middle;\n",
       "    }\n",
       "\n",
       "    .dataframe tbody tr th {\n",
       "        vertical-align: top;\n",
       "    }\n",
       "\n",
       "    .dataframe thead th {\n",
       "        text-align: right;\n",
       "    }\n",
       "</style>\n",
       "<table border=\"1\" class=\"dataframe\">\n",
       "  <thead>\n",
       "    <tr style=\"text-align: right;\">\n",
       "      <th></th>\n",
       "      <th>AveragePrice</th>\n",
       "      <th>Total Volume</th>\n",
       "      <th>4046</th>\n",
       "      <th>4225</th>\n",
       "      <th>4770</th>\n",
       "      <th>Total Bags</th>\n",
       "      <th>Small Bags</th>\n",
       "      <th>Large Bags</th>\n",
       "      <th>XLarge Bags</th>\n",
       "      <th>year</th>\n",
       "    </tr>\n",
       "  </thead>\n",
       "  <tbody>\n",
       "    <tr>\n",
       "      <th>AveragePrice</th>\n",
       "      <td>1.000000</td>\n",
       "      <td>-0.192752</td>\n",
       "      <td>-0.208317</td>\n",
       "      <td>-0.172928</td>\n",
       "      <td>-0.179446</td>\n",
       "      <td>-0.177088</td>\n",
       "      <td>-0.174730</td>\n",
       "      <td>-0.172940</td>\n",
       "      <td>-0.117592</td>\n",
       "      <td>0.093197</td>\n",
       "    </tr>\n",
       "    <tr>\n",
       "      <th>Total Volume</th>\n",
       "      <td>-0.192752</td>\n",
       "      <td>1.000000</td>\n",
       "      <td>0.977863</td>\n",
       "      <td>0.974181</td>\n",
       "      <td>0.872202</td>\n",
       "      <td>0.963047</td>\n",
       "      <td>0.967238</td>\n",
       "      <td>0.880640</td>\n",
       "      <td>0.747157</td>\n",
       "      <td>0.017193</td>\n",
       "    </tr>\n",
       "    <tr>\n",
       "      <th>4046</th>\n",
       "      <td>-0.208317</td>\n",
       "      <td>0.977863</td>\n",
       "      <td>1.000000</td>\n",
       "      <td>0.926110</td>\n",
       "      <td>0.833389</td>\n",
       "      <td>0.920057</td>\n",
       "      <td>0.925280</td>\n",
       "      <td>0.838645</td>\n",
       "      <td>0.699377</td>\n",
       "      <td>0.003353</td>\n",
       "    </tr>\n",
       "    <tr>\n",
       "      <th>4225</th>\n",
       "      <td>-0.172928</td>\n",
       "      <td>0.974181</td>\n",
       "      <td>0.926110</td>\n",
       "      <td>1.000000</td>\n",
       "      <td>0.887855</td>\n",
       "      <td>0.905787</td>\n",
       "      <td>0.916031</td>\n",
       "      <td>0.810015</td>\n",
       "      <td>0.688809</td>\n",
       "      <td>-0.009559</td>\n",
       "    </tr>\n",
       "    <tr>\n",
       "      <th>4770</th>\n",
       "      <td>-0.179446</td>\n",
       "      <td>0.872202</td>\n",
       "      <td>0.833389</td>\n",
       "      <td>0.887855</td>\n",
       "      <td>1.000000</td>\n",
       "      <td>0.792314</td>\n",
       "      <td>0.802733</td>\n",
       "      <td>0.698471</td>\n",
       "      <td>0.679861</td>\n",
       "      <td>-0.036531</td>\n",
       "    </tr>\n",
       "    <tr>\n",
       "      <th>Total Bags</th>\n",
       "      <td>-0.177088</td>\n",
       "      <td>0.963047</td>\n",
       "      <td>0.920057</td>\n",
       "      <td>0.905787</td>\n",
       "      <td>0.792314</td>\n",
       "      <td>1.000000</td>\n",
       "      <td>0.994335</td>\n",
       "      <td>0.943009</td>\n",
       "      <td>0.804233</td>\n",
       "      <td>0.071552</td>\n",
       "    </tr>\n",
       "    <tr>\n",
       "      <th>Small Bags</th>\n",
       "      <td>-0.174730</td>\n",
       "      <td>0.967238</td>\n",
       "      <td>0.925280</td>\n",
       "      <td>0.916031</td>\n",
       "      <td>0.802733</td>\n",
       "      <td>0.994335</td>\n",
       "      <td>1.000000</td>\n",
       "      <td>0.902589</td>\n",
       "      <td>0.806845</td>\n",
       "      <td>0.063915</td>\n",
       "    </tr>\n",
       "    <tr>\n",
       "      <th>Large Bags</th>\n",
       "      <td>-0.172940</td>\n",
       "      <td>0.880640</td>\n",
       "      <td>0.838645</td>\n",
       "      <td>0.810015</td>\n",
       "      <td>0.698471</td>\n",
       "      <td>0.943009</td>\n",
       "      <td>0.902589</td>\n",
       "      <td>1.000000</td>\n",
       "      <td>0.710858</td>\n",
       "      <td>0.087891</td>\n",
       "    </tr>\n",
       "    <tr>\n",
       "      <th>XLarge Bags</th>\n",
       "      <td>-0.117592</td>\n",
       "      <td>0.747157</td>\n",
       "      <td>0.699377</td>\n",
       "      <td>0.688809</td>\n",
       "      <td>0.679861</td>\n",
       "      <td>0.804233</td>\n",
       "      <td>0.806845</td>\n",
       "      <td>0.710858</td>\n",
       "      <td>1.000000</td>\n",
       "      <td>0.081033</td>\n",
       "    </tr>\n",
       "    <tr>\n",
       "      <th>year</th>\n",
       "      <td>0.093197</td>\n",
       "      <td>0.017193</td>\n",
       "      <td>0.003353</td>\n",
       "      <td>-0.009559</td>\n",
       "      <td>-0.036531</td>\n",
       "      <td>0.071552</td>\n",
       "      <td>0.063915</td>\n",
       "      <td>0.087891</td>\n",
       "      <td>0.081033</td>\n",
       "      <td>1.000000</td>\n",
       "    </tr>\n",
       "  </tbody>\n",
       "</table>\n",
       "</div>"
      ],
      "text/plain": [
       "              AveragePrice  Total Volume      4046      4225      4770  \\\n",
       "AveragePrice      1.000000     -0.192752 -0.208317 -0.172928 -0.179446   \n",
       "Total Volume     -0.192752      1.000000  0.977863  0.974181  0.872202   \n",
       "4046             -0.208317      0.977863  1.000000  0.926110  0.833389   \n",
       "4225             -0.172928      0.974181  0.926110  1.000000  0.887855   \n",
       "4770             -0.179446      0.872202  0.833389  0.887855  1.000000   \n",
       "Total Bags       -0.177088      0.963047  0.920057  0.905787  0.792314   \n",
       "Small Bags       -0.174730      0.967238  0.925280  0.916031  0.802733   \n",
       "Large Bags       -0.172940      0.880640  0.838645  0.810015  0.698471   \n",
       "XLarge Bags      -0.117592      0.747157  0.699377  0.688809  0.679861   \n",
       "year              0.093197      0.017193  0.003353 -0.009559 -0.036531   \n",
       "\n",
       "              Total Bags  Small Bags  Large Bags  XLarge Bags      year  \n",
       "AveragePrice   -0.177088   -0.174730   -0.172940    -0.117592  0.093197  \n",
       "Total Volume    0.963047    0.967238    0.880640     0.747157  0.017193  \n",
       "4046            0.920057    0.925280    0.838645     0.699377  0.003353  \n",
       "4225            0.905787    0.916031    0.810015     0.688809 -0.009559  \n",
       "4770            0.792314    0.802733    0.698471     0.679861 -0.036531  \n",
       "Total Bags      1.000000    0.994335    0.943009     0.804233  0.071552  \n",
       "Small Bags      0.994335    1.000000    0.902589     0.806845  0.063915  \n",
       "Large Bags      0.943009    0.902589    1.000000     0.710858  0.087891  \n",
       "XLarge Bags     0.804233    0.806845    0.710858     1.000000  0.081033  \n",
       "year            0.071552    0.063915    0.087891     0.081033  1.000000  "
      ]
     },
     "execution_count": 207,
     "metadata": {},
     "output_type": "execute_result"
    }
   ],
   "source": [
    "df.corr()"
   ]
  },
  {
   "cell_type": "code",
   "execution_count": 208,
   "id": "5c3fdb82",
   "metadata": {
    "scrolled": true
   },
   "outputs": [
    {
     "data": {
      "text/plain": [
       "<AxesSubplot:>"
      ]
     },
     "execution_count": 208,
     "metadata": {},
     "output_type": "execute_result"
    },
    {
     "data": {
      "image/png": "[encoded data removed]",
      "text/plain": [
       "<Figure size 1440x1080 with 2 Axes>"
      ]
     },
     "metadata": {
      "needs_background": "light"
     },
     "output_type": "display_data"
    }
   ],
   "source": [
    "plt.figure(figsize=(20,15))\n",
    "sns.heatmap(df.corr(),annot = True, linewidths = 0.1,linecolor=\"black\",fmt= \"0.2f\")"
   ]
  },
  {
   "cell_type": "markdown",
   "id": "bf50c627",
   "metadata": {},
   "source": [
    "# Preprocessing"
   ]
  },
  {
   "cell_type": "code",
   "execution_count": 209,
   "id": "f0571185",
   "metadata": {},
   "outputs": [
    {
     "name": "stdout",
     "output_type": "stream",
     "text": [
      "<class 'pandas.core.frame.DataFrame'>\n",
      "RangeIndex: 18249 entries, 0 to 18248\n",
      "Data columns (total 13 columns):\n",
      " #   Column        Non-Null Count  Dtype  \n",
      "---  ------        --------------  -----  \n",
      " 0   Date          18249 non-null  object \n",
      " 1   AveragePrice  18249 non-null  float64\n",
      " 2   Total Volume  18249 non-null  float64\n",
      " 3   4046          18249 non-null  float64\n",
      " 4   4225          18249 non-null  float64\n",
      " 5   4770          18249 non-null  float64\n",
      " 6   Total Bags    18249 non-null  float64\n",
      " 7   Small Bags    18249 non-null  float64\n",
      " 8   Large Bags    18249 non-null  float64\n",
      " 9   XLarge Bags   18249 non-null  float64\n",
      " 10  type          18249 non-null  object \n",
      " 11  year          18249 non-null  int64  \n",
      " 12  region        18249 non-null  object \n",
      "dtypes: float64(9), int64(1), object(3)\n",
      "memory usage: 1.8+ MB\n"
     ]
    }
   ],
   "source": [
    "df.info()"
   ]
  },
  {
   "cell_type": "markdown",
   "id": "fa5cbea2",
   "metadata": {},
   "source": [
    "### Using Label encoder for categorical features"
   ]
  },
  {
   "cell_type": "code",
   "execution_count": 210,
   "id": "43c15c87",
   "metadata": {},
   "outputs": [],
   "source": [
    "from sklearn.preprocessing import LabelEncoder\n",
    "\n",
    "label = LabelEncoder()\n",
    "df['type'] = label.fit_transform(df['type'])\n",
    "df['region'] = label.fit_transform(df['region'])"
   ]
  },
  {
   "cell_type": "code",
   "execution_count": 211,
   "id": "c734b66c",
   "metadata": {},
   "outputs": [],
   "source": [
    "df['Month'] = pd.to_datetime(df['Date']).dt.month\n",
    "df.drop('Date', axis=1, inplace=True)"
   ]
  },
  {
   "cell_type": "code",
   "execution_count": 212,
   "id": "7eda18f0",
   "metadata": {},
   "outputs": [
    {
     "data": {
      "text/html": [
       "<div>\n",
       "<style scoped>\n",
       "    .dataframe tbody tr th:only-of-type {\n",
       "        vertical-align: middle;\n",
       "    }\n",
       "\n",
       "    .dataframe tbody tr th {\n",
       "        vertical-align: top;\n",
       "    }\n",
       "\n",
       "    .dataframe thead th {\n",
       "        text-align: right;\n",
       "    }\n",
       "</style>\n",
       "<table border=\"1\" class=\"dataframe\">\n",
       "  <thead>\n",
       "    <tr style=\"text-align: right;\">\n",
       "      <th></th>\n",
       "      <th>AveragePrice</th>\n",
       "      <th>Total Volume</th>\n",
       "      <th>4046</th>\n",
       "      <th>4225</th>\n",
       "      <th>4770</th>\n",
       "      <th>Total Bags</th>\n",
       "      <th>Small Bags</th>\n",
       "      <th>Large Bags</th>\n",
       "      <th>XLarge Bags</th>\n",
       "      <th>type</th>\n",
       "      <th>year</th>\n",
       "      <th>region</th>\n",
       "      <th>Month</th>\n",
       "    </tr>\n",
       "  </thead>\n",
       "  <tbody>\n",
       "    <tr>\n",
       "      <th>0</th>\n",
       "      <td>1.33</td>\n",
       "      <td>64236.62</td>\n",
       "      <td>1036.74</td>\n",
       "      <td>54454.85</td>\n",
       "      <td>48.16</td>\n",
       "      <td>8696.87</td>\n",
       "      <td>8603.62</td>\n",
       "      <td>93.25</td>\n",
       "      <td>0.0</td>\n",
       "      <td>0</td>\n",
       "      <td>2015</td>\n",
       "      <td>0</td>\n",
       "      <td>12</td>\n",
       "    </tr>\n",
       "    <tr>\n",
       "      <th>1</th>\n",
       "      <td>1.35</td>\n",
       "      <td>54876.98</td>\n",
       "      <td>674.28</td>\n",
       "      <td>44638.81</td>\n",
       "      <td>58.33</td>\n",
       "      <td>9505.56</td>\n",
       "      <td>9408.07</td>\n",
       "      <td>97.49</td>\n",
       "      <td>0.0</td>\n",
       "      <td>0</td>\n",
       "      <td>2015</td>\n",
       "      <td>0</td>\n",
       "      <td>12</td>\n",
       "    </tr>\n",
       "    <tr>\n",
       "      <th>2</th>\n",
       "      <td>0.93</td>\n",
       "      <td>118220.22</td>\n",
       "      <td>794.70</td>\n",
       "      <td>109149.67</td>\n",
       "      <td>130.50</td>\n",
       "      <td>8145.35</td>\n",
       "      <td>8042.21</td>\n",
       "      <td>103.14</td>\n",
       "      <td>0.0</td>\n",
       "      <td>0</td>\n",
       "      <td>2015</td>\n",
       "      <td>0</td>\n",
       "      <td>12</td>\n",
       "    </tr>\n",
       "    <tr>\n",
       "      <th>3</th>\n",
       "      <td>1.08</td>\n",
       "      <td>78992.15</td>\n",
       "      <td>1132.00</td>\n",
       "      <td>71976.41</td>\n",
       "      <td>72.58</td>\n",
       "      <td>5811.16</td>\n",
       "      <td>5677.40</td>\n",
       "      <td>133.76</td>\n",
       "      <td>0.0</td>\n",
       "      <td>0</td>\n",
       "      <td>2015</td>\n",
       "      <td>0</td>\n",
       "      <td>12</td>\n",
       "    </tr>\n",
       "    <tr>\n",
       "      <th>4</th>\n",
       "      <td>1.28</td>\n",
       "      <td>51039.60</td>\n",
       "      <td>941.48</td>\n",
       "      <td>43838.39</td>\n",
       "      <td>75.78</td>\n",
       "      <td>6183.95</td>\n",
       "      <td>5986.26</td>\n",
       "      <td>197.69</td>\n",
       "      <td>0.0</td>\n",
       "      <td>0</td>\n",
       "      <td>2015</td>\n",
       "      <td>0</td>\n",
       "      <td>11</td>\n",
       "    </tr>\n",
       "    <tr>\n",
       "      <th>...</th>\n",
       "      <td>...</td>\n",
       "      <td>...</td>\n",
       "      <td>...</td>\n",
       "      <td>...</td>\n",
       "      <td>...</td>\n",
       "      <td>...</td>\n",
       "      <td>...</td>\n",
       "      <td>...</td>\n",
       "      <td>...</td>\n",
       "      <td>...</td>\n",
       "      <td>...</td>\n",
       "      <td>...</td>\n",
       "      <td>...</td>\n",
       "    </tr>\n",
       "    <tr>\n",
       "      <th>18244</th>\n",
       "      <td>1.63</td>\n",
       "      <td>17074.83</td>\n",
       "      <td>2046.96</td>\n",
       "      <td>1529.20</td>\n",
       "      <td>0.00</td>\n",
       "      <td>13498.67</td>\n",
       "      <td>13066.82</td>\n",
       "      <td>431.85</td>\n",
       "      <td>0.0</td>\n",
       "      <td>1</td>\n",
       "      <td>2018</td>\n",
       "      <td>53</td>\n",
       "      <td>2</td>\n",
       "    </tr>\n",
       "    <tr>\n",
       "      <th>18245</th>\n",
       "      <td>1.71</td>\n",
       "      <td>13888.04</td>\n",
       "      <td>1191.70</td>\n",
       "      <td>3431.50</td>\n",
       "      <td>0.00</td>\n",
       "      <td>9264.84</td>\n",
       "      <td>8940.04</td>\n",
       "      <td>324.80</td>\n",
       "      <td>0.0</td>\n",
       "      <td>1</td>\n",
       "      <td>2018</td>\n",
       "      <td>53</td>\n",
       "      <td>1</td>\n",
       "    </tr>\n",
       "    <tr>\n",
       "      <th>18246</th>\n",
       "      <td>1.87</td>\n",
       "      <td>13766.76</td>\n",
       "      <td>1191.92</td>\n",
       "      <td>2452.79</td>\n",
       "      <td>727.94</td>\n",
       "      <td>9394.11</td>\n",
       "      <td>9351.80</td>\n",
       "      <td>42.31</td>\n",
       "      <td>0.0</td>\n",
       "      <td>1</td>\n",
       "      <td>2018</td>\n",
       "      <td>53</td>\n",
       "      <td>1</td>\n",
       "    </tr>\n",
       "    <tr>\n",
       "      <th>18247</th>\n",
       "      <td>1.93</td>\n",
       "      <td>16205.22</td>\n",
       "      <td>1527.63</td>\n",
       "      <td>2981.04</td>\n",
       "      <td>727.01</td>\n",
       "      <td>10969.54</td>\n",
       "      <td>10919.54</td>\n",
       "      <td>50.00</td>\n",
       "      <td>0.0</td>\n",
       "      <td>1</td>\n",
       "      <td>2018</td>\n",
       "      <td>53</td>\n",
       "      <td>1</td>\n",
       "    </tr>\n",
       "    <tr>\n",
       "      <th>18248</th>\n",
       "      <td>1.62</td>\n",
       "      <td>17489.58</td>\n",
       "      <td>2894.77</td>\n",
       "      <td>2356.13</td>\n",
       "      <td>224.53</td>\n",
       "      <td>12014.15</td>\n",
       "      <td>11988.14</td>\n",
       "      <td>26.01</td>\n",
       "      <td>0.0</td>\n",
       "      <td>1</td>\n",
       "      <td>2018</td>\n",
       "      <td>53</td>\n",
       "      <td>1</td>\n",
       "    </tr>\n",
       "  </tbody>\n",
       "</table>\n",
       "<p>18249 rows × 13 columns</p>\n",
       "</div>"
      ],
      "text/plain": [
       "       AveragePrice  Total Volume     4046       4225    4770  Total Bags  \\\n",
       "0              1.33      64236.62  1036.74   54454.85   48.16     8696.87   \n",
       "1              1.35      54876.98   674.28   44638.81   58.33     9505.56   \n",
       "2              0.93     118220.22   794.70  109149.67  130.50     8145.35   \n",
       "3              1.08      78992.15  1132.00   71976.41   72.58     5811.16   \n",
       "4              1.28      51039.60   941.48   43838.39   75.78     6183.95   \n",
       "...             ...           ...      ...        ...     ...         ...   \n",
       "18244          1.63      17074.83  2046.96    1529.20    0.00    13498.67   \n",
       "18245          1.71      13888.04  1191.70    3431.50    0.00     9264.84   \n",
       "18246          1.87      13766.76  1191.92    2452.79  727.94     9394.11   \n",
       "18247          1.93      16205.22  1527.63    2981.04  727.01    10969.54   \n",
       "18248          1.62      17489.58  2894.77    2356.13  224.53    12014.15   \n",
       "\n",
       "       Small Bags  Large Bags  XLarge Bags  type  year  region  Month  \n",
       "0         8603.62       93.25          0.0     0  2015       0     12  \n",
       "1         9408.07       97.49          0.0     0  2015       0     12  \n",
       "2         8042.21      103.14          0.0     0  2015       0     12  \n",
       "3         5677.40      133.76          0.0     0  2015       0     12  \n",
       "4         5986.26      197.69          0.0     0  2015       0     11  \n",
       "...           ...         ...          ...   ...   ...     ...    ...  \n",
       "18244    13066.82      431.85          0.0     1  2018      53      2  \n",
       "18245     8940.04      324.80          0.0     1  2018      53      1  \n",
       "18246     9351.80       42.31          0.0     1  2018      53      1  \n",
       "18247    10919.54       50.00          0.0     1  2018      53      1  \n",
       "18248    11988.14       26.01          0.0     1  2018      53      1  \n",
       "\n",
       "[18249 rows x 13 columns]"
      ]
     },
     "execution_count": 212,
     "metadata": {},
     "output_type": "execute_result"
    }
   ],
   "source": [
    "df"
   ]
  },
  {
   "cell_type": "markdown",
   "id": "1c4b632a",
   "metadata": {},
   "source": [
    "# Checking skewness"
   ]
  },
  {
   "cell_type": "code",
   "execution_count": 213,
   "id": "6ee49a38",
   "metadata": {},
   "outputs": [
    {
     "data": {
      "text/plain": [
       "AveragePrice     0.580303\n",
       "Total Volume     9.007687\n",
       "4046             8.648220\n",
       "4225             8.942466\n",
       "4770            10.159396\n",
       "Total Bags       9.756072\n",
       "Small Bags       9.540660\n",
       "Large Bags       9.796455\n",
       "XLarge Bags     13.139751\n",
       "type             0.000329\n",
       "year             0.215339\n",
       "region           0.000030\n",
       "Month            0.106617\n",
       "dtype: float64"
      ]
     },
     "execution_count": 213,
     "metadata": {},
     "output_type": "execute_result"
    }
   ],
   "source": [
    "df.skew()"
   ]
  },
  {
   "cell_type": "markdown",
   "id": "af213341",
   "metadata": {},
   "source": [
    "#### Observation- considering skewness between +0.5 and -0.5\n",
    "Apart from AveragePrice,year and Month all the other columns are having skewness"
   ]
  },
  {
   "cell_type": "markdown",
   "id": "e1788a4f",
   "metadata": {},
   "source": [
    "# Removing skewness-\n"
   ]
  },
  {
   "cell_type": "code",
   "execution_count": 214,
   "id": "9db89ff0",
   "metadata": {},
   "outputs": [
    {
     "data": {
      "text/plain": [
       "(18249, 13)"
      ]
     },
     "execution_count": 214,
     "metadata": {},
     "output_type": "execute_result"
    }
   ],
   "source": [
    "df.shape"
   ]
  },
  {
   "cell_type": "markdown",
   "id": "9059cae1",
   "metadata": {},
   "source": [
    "### Using numpy.log1p() to remove the skewness nearest to 0.55\n",
    "This mathematical function helps user to calculate natural logarithmic value of x+1 where x belongs to all the input array elements.\n",
    "\n",
    "log1p is reverse of exp(x) – 1"
   ]
  },
  {
   "cell_type": "code",
   "execution_count": 215,
   "id": "c16445e5",
   "metadata": {},
   "outputs": [],
   "source": [
    "for col in cont_features:\n",
    "    if df.skew().loc[col]>0.55:\n",
    "        df[col] = np.log1p(df[col])"
   ]
  },
  {
   "cell_type": "code",
   "execution_count": 216,
   "id": "2560b325",
   "metadata": {},
   "outputs": [
    {
     "data": {
      "text/plain": [
       "AveragePrice    0.580303\n",
       "Total Volume    0.088098\n",
       "4046           -0.328195\n",
       "4225           -0.486654\n",
       "4770            0.099986\n",
       "Total Bags     -0.218874\n",
       "Small Bags     -0.622148\n",
       "Large Bags     -0.547765\n",
       "XLarge Bags     1.176494\n",
       "type            0.000329\n",
       "year            0.215339\n",
       "region          0.000030\n",
       "Month           0.106617\n",
       "dtype: float64"
      ]
     },
     "execution_count": 216,
     "metadata": {},
     "output_type": "execute_result"
    }
   ],
   "source": [
    "df.skew()"
   ]
  },
  {
   "cell_type": "markdown",
   "id": "2eceb98d",
   "metadata": {},
   "source": [
    " now the skewness has been removed from the dataset"
   ]
  },
  {
   "cell_type": "markdown",
   "id": "bdae5f80",
   "metadata": {},
   "source": [
    "# Lets check the distribution of continious data again"
   ]
  },
  {
   "cell_type": "code",
   "execution_count": 217,
   "id": "906c7388",
   "metadata": {},
   "outputs": [
    {
     "data": {
      "image/png": "[encoded data removed]",
      "text/plain": [
       "<Figure size 1440x1080 with 9 Axes>"
      ]
     },
     "metadata": {
      "needs_background": "light"
     },
     "output_type": "display_data"
    }
   ],
   "source": [
    "fig = plt.figure(figsize=(20, 15))\n",
    "gs = fig.add_gridspec(3, 3)\n",
    "gs.update(wspace=0.4, hspace=0.5)\n",
    "\n",
    "ax0 = fig.add_subplot(gs[0, 0])\n",
    "ax1 = fig.add_subplot(gs[0, 1])\n",
    "ax2 = fig.add_subplot(gs[0, 2])\n",
    "ax3 = fig.add_subplot(gs[1, 0])\n",
    "ax4 = fig.add_subplot(gs[1, 1])\n",
    "ax5 = fig.add_subplot(gs[1, 2])\n",
    "ax6 = fig.add_subplot(gs[2, 0])\n",
    "ax7 = fig.add_subplot(gs[2, 1])\n",
    "ax8 = fig.add_subplot(gs[2, 2])\n",
    "axes = [ax0, ax1, ax2, ax3, ax4, ax5, ax6, ax7, ax8]\n",
    "\n",
    "\n",
    "# Title\n",
    "ax0.text(0.5, 0.5, 'Distribution of Continuous Features\\n_______________________',\n",
    "        fontsize=18, fontfamily='serif', fontweight='bold',\n",
    "        horizontalalignment='center',\n",
    "        verticalalignment='center')\n",
    "\n",
    "# Graphs\n",
    "for i, ax in enumerate(axes):\n",
    "    for s in ['top', 'right', 'left']:\n",
    "        ax.spines[s].set_visible(False)\n",
    "        \n",
    "  \n",
    "    \n",
    "    if i == 0:\n",
    "        ax.set_xticklabels([])\n",
    "        ax.set_yticklabels([])\n",
    "        ax.tick_params(left=False, bottom=False)\n",
    "       # ax.spines[['bottom']].set_visible(False)\n",
    "    else:\n",
    "        ax.set_title(cont_features[i-1], fontsize=14, fontfamily='serif', fontweight='bold')\n",
    "        ax.grid(color='#000000', linestyle=':', axis='y', zorder=0, dashes=(1,5))\n",
    "    \n",
    "        sns.kdeplot(x=cont_features[i-1], data=df, ax=ax, fill=True)\n",
    "        ax.set_xlabel('')\n",
    "        ax.set_ylabel('')"
   ]
  },
  {
   "cell_type": "markdown",
   "id": "09c7543b",
   "metadata": {},
   "source": [
    "Now the data is looking good\n",
    "\n",
    "Observation- 4770,XLarge is left skewed\n",
    "\n",
    "Others columns are right skewed"
   ]
  },
  {
   "cell_type": "markdown",
   "id": "8562ec3c",
   "metadata": {},
   "source": [
    "# Lets check the outliers using BoxPlot"
   ]
  },
  {
   "cell_type": "code",
   "execution_count": 218,
   "id": "e636326a",
   "metadata": {},
   "outputs": [
    {
     "data": {
      "text/plain": [
       "AveragePrice        AxesSubplot(0.125,0.71587;0.133621x0.16413)\n",
       "Total Volume     AxesSubplot(0.285345,0.71587;0.133621x0.16413)\n",
       "4046              AxesSubplot(0.44569,0.71587;0.133621x0.16413)\n",
       "4225             AxesSubplot(0.606034,0.71587;0.133621x0.16413)\n",
       "4770             AxesSubplot(0.766379,0.71587;0.133621x0.16413)\n",
       "Total Bags         AxesSubplot(0.125,0.518913;0.133621x0.16413)\n",
       "Small Bags      AxesSubplot(0.285345,0.518913;0.133621x0.16413)\n",
       "Large Bags       AxesSubplot(0.44569,0.518913;0.133621x0.16413)\n",
       "XLarge Bags     AxesSubplot(0.606034,0.518913;0.133621x0.16413)\n",
       "type            AxesSubplot(0.766379,0.518913;0.133621x0.16413)\n",
       "year               AxesSubplot(0.125,0.321957;0.133621x0.16413)\n",
       "region          AxesSubplot(0.285345,0.321957;0.133621x0.16413)\n",
       "Month            AxesSubplot(0.44569,0.321957;0.133621x0.16413)\n",
       "dtype: object"
      ]
     },
     "execution_count": 218,
     "metadata": {},
     "output_type": "execute_result"
    },
    {
     "data": {
      "image/png": "[encoded data removed]",
      "text/plain": [
       "<Figure size 1080x720 with 20 Axes>"
      ]
     },
     "metadata": {
      "needs_background": "light"
     },
     "output_type": "display_data"
    }
   ],
   "source": [
    "df.plot(kind='box',subplots=True, layout=(4,5),figsize=(15,10))"
   ]
  },
  {
   "cell_type": "markdown",
   "id": "043a8fc9",
   "metadata": {},
   "source": [
    "Observation- AveragePrice, 4225,Total Bags, Small Bags and XLarge has outliers present so I will go with the outliers removal technique\n"
   ]
  },
  {
   "cell_type": "markdown",
   "id": "36091ded",
   "metadata": {},
   "source": [
    "# Considering the Outlier removal"
   ]
  },
  {
   "cell_type": "code",
   "execution_count": 219,
   "id": "1880cd23",
   "metadata": {},
   "outputs": [
    {
     "data": {
      "text/plain": [
       "(18249, 13)"
      ]
     },
     "execution_count": 219,
     "metadata": {},
     "output_type": "execute_result"
    }
   ],
   "source": [
    "df.shape"
   ]
  },
  {
   "cell_type": "code",
   "execution_count": 220,
   "id": "5b576419",
   "metadata": {},
   "outputs": [
    {
     "data": {
      "text/plain": [
       "(array([ 5482,  5483,  5484,  5485,  8344,  8345,  9189,  9190,  9191,\n",
       "         9192,  9192,  9203,  9204,  9205,  9206,  9211,  9212,  9212,\n",
       "         9213,  9218,  9219,  9220,  9221,  9293,  9294,  9298,  9668,\n",
       "         9894,  9894, 10154, 10232, 10234, 10324, 10325, 10326, 10327,\n",
       "        10331, 10332, 10333, 10334, 10334, 10375, 10377, 10380, 10382,\n",
       "        10388, 10392, 10397, 10398, 10417, 10419, 10420, 10531, 10532,\n",
       "        10533, 10534, 10535, 10536, 10562, 10563, 10566, 11011, 11012,\n",
       "        11014, 11015, 11016, 11017, 11018, 11019, 11020, 11021, 11022,\n",
       "        11023, 11024, 11024, 11025, 11026, 11027, 11028, 11029, 11030,\n",
       "        11031, 11032, 11033, 11034, 11035, 11036, 11037, 11039, 11040,\n",
       "        11041, 11042, 11314, 11316, 11318, 11319, 11320, 11320, 11320,\n",
       "        11321, 11321, 11321, 11322, 11323, 11324, 11324, 11325, 11325,\n",
       "        11325, 11326, 11326, 11327, 11327, 11328, 11329, 11329, 11330,\n",
       "        11330, 11331, 11331, 11332, 11332, 11333, 11333, 11334, 11335,\n",
       "        11336, 11337, 11338, 11338, 11339, 11340, 11341, 11342, 11347,\n",
       "        11347, 11348, 11348, 11349, 11349, 11350, 11350, 11351, 11352,\n",
       "        11353, 11354, 11354, 11373, 11374, 11375, 11376, 11378, 11379,\n",
       "        11380, 11381, 11382, 11383, 11384, 11385, 11386, 11387, 11387,\n",
       "        11388, 11388, 11389, 11390, 11391, 11392, 11393, 11394, 11395,\n",
       "        11397, 11398, 11399, 11400, 11401, 11402, 11403, 11404, 11405,\n",
       "        11406, 11571, 11572, 11573, 11574, 11578, 11579, 11583, 11584,\n",
       "        11585, 11586, 11587, 11588, 11589, 11590, 11591, 11592, 11593,\n",
       "        11594, 11594, 11595, 11595, 11596, 11596, 11597, 11597, 11598,\n",
       "        11598, 11599, 11600, 11601, 11602, 11603, 11604, 11605, 11606,\n",
       "        11609, 11610, 11611, 11611, 11612, 11613, 11614, 11614, 11662,\n",
       "        11662, 11663, 11734, 11735, 11736, 11737, 11738, 11739, 11740,\n",
       "        11742, 11743, 11744, 11746, 11747, 11748, 11749, 11751, 11771,\n",
       "        11985, 11986, 11993, 12097, 12131, 12132, 12132, 12564, 12565,\n",
       "        12566, 12821, 12823, 12982, 13033, 13035, 13037, 13038, 13178,\n",
       "        13179, 13225, 13228, 13338, 13341, 13342, 13343, 13345, 13346,\n",
       "        13349, 13350, 13351, 13354, 13356, 13357, 13359, 13360, 13361,\n",
       "        13363, 13365, 13366, 13367, 13369, 13381, 13382, 13383, 13385,\n",
       "        13395, 13657, 13661, 13847, 13853, 14019, 14020, 14073, 14074,\n",
       "        14119, 14120, 14121, 14122, 14123, 14124, 14125, 14126, 14128,\n",
       "        14129, 14177, 14385, 14385, 14385, 14386, 14387, 14401, 14404,\n",
       "        14405, 14406, 14407, 14408, 14409, 14410, 14411, 14412, 14413,\n",
       "        14414, 14416, 14419, 14420, 14421, 14424, 14425, 14426, 14427,\n",
       "        14428, 14463, 14465, 14699, 14701, 14702, 14807, 14842, 14843,\n",
       "        14844, 14845, 14846, 14911, 14912, 14913, 14914, 14915, 14916,\n",
       "        14917, 14918, 14919, 15124, 15125, 15127, 15128, 15129, 15130,\n",
       "        15510, 15511, 15667, 15668, 15671, 15673, 15674, 15814, 15871,\n",
       "        16024, 16050, 16055, 16202, 16203, 16205, 16206, 16209, 16210,\n",
       "        16211, 16212, 16213, 16214, 16215, 16217, 16218, 16220, 16223,\n",
       "        16395, 16399, 16421, 16570, 16572, 16589, 16660, 16661, 16662,\n",
       "        16663, 16664, 16665, 16666, 16667, 16714, 16715, 16717, 16718,\n",
       "        16719, 16720, 16721, 16734, 16737, 16738, 16985, 16986, 16994,\n",
       "        16995, 16996, 16997, 16998, 16999, 17000, 17007, 17008, 17009,\n",
       "        17010, 17015, 17017, 17031, 17032, 17033, 17034, 17035, 17036,\n",
       "        17037, 17038, 17039, 17040, 17047, 17244, 17245, 17246, 17247,\n",
       "        17248, 17249, 17250, 17251, 17255, 17300, 17301, 17302, 17303,\n",
       "        17304, 17402, 17428], dtype=int64),\n",
       " array([8, 8, 8, 8, 8, 8, 6, 6, 6, 5, 6, 6, 6, 6, 6, 6, 5, 6, 6, 6, 6, 6,\n",
       "        6, 6, 6, 6, 6, 5, 6, 6, 5, 6, 6, 6, 6, 6, 6, 6, 6, 5, 6, 3, 3, 3,\n",
       "        3, 3, 3, 3, 3, 3, 3, 3, 3, 3, 3, 3, 3, 3, 3, 3, 3, 6, 6, 6, 6, 6,\n",
       "        6, 6, 6, 6, 6, 6, 6, 5, 6, 6, 6, 6, 6, 6, 6, 6, 6, 6, 6, 6, 6, 6,\n",
       "        6, 6, 6, 6, 6, 5, 5, 5, 0, 5, 6, 0, 5, 6, 5, 0, 0, 5, 0, 5, 6, 0,\n",
       "        5, 0, 5, 0, 0, 5, 0, 5, 0, 5, 0, 5, 5, 6, 5, 5, 5, 5, 5, 6, 5, 5,\n",
       "        5, 5, 5, 6, 5, 6, 5, 6, 5, 6, 5, 5, 5, 5, 6, 6, 6, 6, 6, 6, 6, 6,\n",
       "        6, 6, 6, 6, 6, 6, 5, 6, 5, 6, 6, 6, 6, 6, 6, 6, 6, 6, 6, 6, 6, 6,\n",
       "        6, 6, 6, 6, 6, 6, 6, 6, 6, 6, 6, 6, 6, 6, 6, 6, 6, 6, 6, 6, 6, 6,\n",
       "        5, 6, 5, 6, 5, 6, 5, 6, 5, 6, 6, 6, 6, 6, 6, 6, 6, 6, 6, 6, 5, 6,\n",
       "        6, 6, 5, 6, 5, 6, 5, 3, 3, 3, 3, 3, 3, 3, 3, 3, 3, 3, 3, 3, 3, 3,\n",
       "        3, 6, 6, 6, 6, 6, 5, 6, 6, 6, 6, 0, 0, 6, 0, 0, 0, 0, 6, 6, 3, 3,\n",
       "        3, 3, 3, 3, 3, 3, 3, 3, 3, 3, 3, 3, 3, 3, 3, 3, 3, 3, 3, 3, 3, 3,\n",
       "        3, 3, 0, 0, 0, 6, 6, 0, 0, 0, 0, 0, 0, 0, 0, 0, 0, 0, 0, 0, 0, 0,\n",
       "        0, 5, 6, 6, 6, 6, 5, 6, 6, 6, 6, 6, 6, 6, 6, 6, 6, 6, 6, 6, 6, 6,\n",
       "        6, 6, 6, 6, 6, 6, 0, 0, 0, 0, 6, 6, 6, 6, 6, 0, 0, 0, 0, 0, 0, 0,\n",
       "        0, 0, 0, 0, 0, 0, 0, 0, 0, 0, 0, 0, 0, 0, 0, 0, 0, 0, 0, 0, 3, 3,\n",
       "        3, 3, 3, 3, 3, 3, 3, 3, 3, 3, 3, 3, 3, 0, 0, 0, 3, 3, 3, 0, 0, 0,\n",
       "        0, 0, 0, 0, 0, 0, 0, 0, 0, 0, 0, 0, 0, 0, 0, 0, 0, 0, 0, 0, 0, 0,\n",
       "        0, 0, 0, 0, 0, 0, 0, 0, 0, 0, 0, 0, 0, 0, 0, 0, 0, 0, 0, 0, 0, 0,\n",
       "        0, 0, 0, 0, 0, 0, 0, 0, 0, 0, 0, 0, 0], dtype=int64))"
      ]
     },
     "execution_count": 220,
     "metadata": {},
     "output_type": "execute_result"
    }
   ],
   "source": [
    "from scipy.stats import zscore\n",
    "import numpy as np\n",
    "z= np.abs(zscore(df))\n",
    "threshold =3 \n",
    "np.where(z>3)"
   ]
  },
  {
   "cell_type": "code",
   "execution_count": 221,
   "id": "3af08df5",
   "metadata": {},
   "outputs": [
    {
     "data": {
      "text/html": [
       "<div>\n",
       "<style scoped>\n",
       "    .dataframe tbody tr th:only-of-type {\n",
       "        vertical-align: middle;\n",
       "    }\n",
       "\n",
       "    .dataframe tbody tr th {\n",
       "        vertical-align: top;\n",
       "    }\n",
       "\n",
       "    .dataframe thead th {\n",
       "        text-align: right;\n",
       "    }\n",
       "</style>\n",
       "<table border=\"1\" class=\"dataframe\">\n",
       "  <thead>\n",
       "    <tr style=\"text-align: right;\">\n",
       "      <th></th>\n",
       "      <th>AveragePrice</th>\n",
       "      <th>Total Volume</th>\n",
       "      <th>4046</th>\n",
       "      <th>4225</th>\n",
       "      <th>4770</th>\n",
       "      <th>Total Bags</th>\n",
       "      <th>Small Bags</th>\n",
       "      <th>Large Bags</th>\n",
       "      <th>XLarge Bags</th>\n",
       "      <th>type</th>\n",
       "      <th>year</th>\n",
       "      <th>region</th>\n",
       "      <th>Month</th>\n",
       "    </tr>\n",
       "  </thead>\n",
       "  <tbody>\n",
       "    <tr>\n",
       "      <th>0</th>\n",
       "      <td>1.33</td>\n",
       "      <td>11.070344</td>\n",
       "      <td>6.944801</td>\n",
       "      <td>10.905146</td>\n",
       "      <td>3.895080</td>\n",
       "      <td>9.070833</td>\n",
       "      <td>9.060055</td>\n",
       "      <td>4.545951</td>\n",
       "      <td>0.0</td>\n",
       "      <td>0</td>\n",
       "      <td>2015</td>\n",
       "      <td>0</td>\n",
       "      <td>12</td>\n",
       "    </tr>\n",
       "    <tr>\n",
       "      <th>1</th>\n",
       "      <td>1.35</td>\n",
       "      <td>10.912867</td>\n",
       "      <td>6.515127</td>\n",
       "      <td>10.706381</td>\n",
       "      <td>4.083115</td>\n",
       "      <td>9.159737</td>\n",
       "      <td>9.149429</td>\n",
       "      <td>4.589955</td>\n",
       "      <td>0.0</td>\n",
       "      <td>0</td>\n",
       "      <td>2015</td>\n",
       "      <td>0</td>\n",
       "      <td>12</td>\n",
       "    </tr>\n",
       "    <tr>\n",
       "      <th>2</th>\n",
       "      <td>0.93</td>\n",
       "      <td>11.680313</td>\n",
       "      <td>6.679222</td>\n",
       "      <td>11.600485</td>\n",
       "      <td>4.879007</td>\n",
       "      <td>9.005325</td>\n",
       "      <td>8.992584</td>\n",
       "      <td>4.645736</td>\n",
       "      <td>0.0</td>\n",
       "      <td>0</td>\n",
       "      <td>2015</td>\n",
       "      <td>0</td>\n",
       "      <td>12</td>\n",
       "    </tr>\n",
       "    <tr>\n",
       "      <th>3</th>\n",
       "      <td>1.08</td>\n",
       "      <td>11.277116</td>\n",
       "      <td>7.032624</td>\n",
       "      <td>11.184108</td>\n",
       "      <td>4.298373</td>\n",
       "      <td>8.667708</td>\n",
       "      <td>8.644425</td>\n",
       "      <td>4.903495</td>\n",
       "      <td>0.0</td>\n",
       "      <td>0</td>\n",
       "      <td>2015</td>\n",
       "      <td>0</td>\n",
       "      <td>12</td>\n",
       "    </tr>\n",
       "    <tr>\n",
       "      <th>4</th>\n",
       "      <td>1.28</td>\n",
       "      <td>10.840377</td>\n",
       "      <td>6.848515</td>\n",
       "      <td>10.688288</td>\n",
       "      <td>4.340944</td>\n",
       "      <td>8.729874</td>\n",
       "      <td>8.697389</td>\n",
       "      <td>5.291746</td>\n",
       "      <td>0.0</td>\n",
       "      <td>0</td>\n",
       "      <td>2015</td>\n",
       "      <td>0</td>\n",
       "      <td>11</td>\n",
       "    </tr>\n",
       "    <tr>\n",
       "      <th>...</th>\n",
       "      <td>...</td>\n",
       "      <td>...</td>\n",
       "      <td>...</td>\n",
       "      <td>...</td>\n",
       "      <td>...</td>\n",
       "      <td>...</td>\n",
       "      <td>...</td>\n",
       "      <td>...</td>\n",
       "      <td>...</td>\n",
       "      <td>...</td>\n",
       "      <td>...</td>\n",
       "      <td>...</td>\n",
       "      <td>...</td>\n",
       "    </tr>\n",
       "    <tr>\n",
       "      <th>18244</th>\n",
       "      <td>1.63</td>\n",
       "      <td>9.745419</td>\n",
       "      <td>7.624599</td>\n",
       "      <td>7.333154</td>\n",
       "      <td>0.000000</td>\n",
       "      <td>9.510421</td>\n",
       "      <td>9.477908</td>\n",
       "      <td>6.070391</td>\n",
       "      <td>0.0</td>\n",
       "      <td>1</td>\n",
       "      <td>2018</td>\n",
       "      <td>53</td>\n",
       "      <td>2</td>\n",
       "    </tr>\n",
       "    <tr>\n",
       "      <th>18245</th>\n",
       "      <td>1.71</td>\n",
       "      <td>9.538855</td>\n",
       "      <td>7.083975</td>\n",
       "      <td>8.141044</td>\n",
       "      <td>0.000000</td>\n",
       "      <td>9.134090</td>\n",
       "      <td>9.098407</td>\n",
       "      <td>5.786284</td>\n",
       "      <td>0.0</td>\n",
       "      <td>1</td>\n",
       "      <td>2018</td>\n",
       "      <td>53</td>\n",
       "      <td>1</td>\n",
       "    </tr>\n",
       "    <tr>\n",
       "      <th>18246</th>\n",
       "      <td>1.87</td>\n",
       "      <td>9.530085</td>\n",
       "      <td>7.084159</td>\n",
       "      <td>7.805389</td>\n",
       "      <td>6.591591</td>\n",
       "      <td>9.147945</td>\n",
       "      <td>9.143431</td>\n",
       "      <td>3.768384</td>\n",
       "      <td>0.0</td>\n",
       "      <td>1</td>\n",
       "      <td>2018</td>\n",
       "      <td>53</td>\n",
       "      <td>1</td>\n",
       "    </tr>\n",
       "    <tr>\n",
       "      <th>18247</th>\n",
       "      <td>1.93</td>\n",
       "      <td>9.693150</td>\n",
       "      <td>7.332127</td>\n",
       "      <td>8.000363</td>\n",
       "      <td>6.590315</td>\n",
       "      <td>9.302969</td>\n",
       "      <td>9.298401</td>\n",
       "      <td>3.931826</td>\n",
       "      <td>0.0</td>\n",
       "      <td>1</td>\n",
       "      <td>2018</td>\n",
       "      <td>53</td>\n",
       "      <td>1</td>\n",
       "    </tr>\n",
       "    <tr>\n",
       "      <th>18248</th>\n",
       "      <td>1.62</td>\n",
       "      <td>9.769418</td>\n",
       "      <td>7.971006</td>\n",
       "      <td>7.765200</td>\n",
       "      <td>5.418453</td>\n",
       "      <td>9.393924</td>\n",
       "      <td>9.391757</td>\n",
       "      <td>3.296207</td>\n",
       "      <td>0.0</td>\n",
       "      <td>1</td>\n",
       "      <td>2018</td>\n",
       "      <td>53</td>\n",
       "      <td>1</td>\n",
       "    </tr>\n",
       "  </tbody>\n",
       "</table>\n",
       "<p>17834 rows × 13 columns</p>\n",
       "</div>"
      ],
      "text/plain": [
       "       AveragePrice  Total Volume      4046       4225      4770  Total Bags  \\\n",
       "0              1.33     11.070344  6.944801  10.905146  3.895080    9.070833   \n",
       "1              1.35     10.912867  6.515127  10.706381  4.083115    9.159737   \n",
       "2              0.93     11.680313  6.679222  11.600485  4.879007    9.005325   \n",
       "3              1.08     11.277116  7.032624  11.184108  4.298373    8.667708   \n",
       "4              1.28     10.840377  6.848515  10.688288  4.340944    8.729874   \n",
       "...             ...           ...       ...        ...       ...         ...   \n",
       "18244          1.63      9.745419  7.624599   7.333154  0.000000    9.510421   \n",
       "18245          1.71      9.538855  7.083975   8.141044  0.000000    9.134090   \n",
       "18246          1.87      9.530085  7.084159   7.805389  6.591591    9.147945   \n",
       "18247          1.93      9.693150  7.332127   8.000363  6.590315    9.302969   \n",
       "18248          1.62      9.769418  7.971006   7.765200  5.418453    9.393924   \n",
       "\n",
       "       Small Bags  Large Bags  XLarge Bags  type  year  region  Month  \n",
       "0        9.060055    4.545951          0.0     0  2015       0     12  \n",
       "1        9.149429    4.589955          0.0     0  2015       0     12  \n",
       "2        8.992584    4.645736          0.0     0  2015       0     12  \n",
       "3        8.644425    4.903495          0.0     0  2015       0     12  \n",
       "4        8.697389    5.291746          0.0     0  2015       0     11  \n",
       "...           ...         ...          ...   ...   ...     ...    ...  \n",
       "18244    9.477908    6.070391          0.0     1  2018      53      2  \n",
       "18245    9.098407    5.786284          0.0     1  2018      53      1  \n",
       "18246    9.143431    3.768384          0.0     1  2018      53      1  \n",
       "18247    9.298401    3.931826          0.0     1  2018      53      1  \n",
       "18248    9.391757    3.296207          0.0     1  2018      53      1  \n",
       "\n",
       "[17834 rows x 13 columns]"
      ]
     },
     "execution_count": 221,
     "metadata": {},
     "output_type": "execute_result"
    }
   ],
   "source": [
    "df_new_z = df[(z<3).all(axis=1)]\n",
    "df_new_z"
   ]
  },
  {
   "cell_type": "code",
   "execution_count": 222,
   "id": "29ad8344",
   "metadata": {},
   "outputs": [
    {
     "data": {
      "text/plain": [
       "(17834, 13)"
      ]
     },
     "execution_count": 222,
     "metadata": {},
     "output_type": "execute_result"
    }
   ],
   "source": [
    "df_new_z.shape"
   ]
  },
  {
   "cell_type": "markdown",
   "id": "a487cf48",
   "metadata": {},
   "source": [
    "# Percentage of Loss of data:"
   ]
  },
  {
   "cell_type": "code",
   "execution_count": 225,
   "id": "98232c5d",
   "metadata": {},
   "outputs": [],
   "source": [
    "data_loss = ((18249-17834)/18249)*100"
   ]
  },
  {
   "cell_type": "code",
   "execution_count": 226,
   "id": "cd892f2c",
   "metadata": {},
   "outputs": [
    {
     "data": {
      "text/plain": [
       "2.2740972108060715"
      ]
     },
     "execution_count": 226,
     "metadata": {},
     "output_type": "execute_result"
    }
   ],
   "source": [
    "data_loss"
   ]
  },
  {
   "cell_type": "markdown",
   "id": "fb36b740",
   "metadata": {},
   "source": [
    "around 2% of Data has been loss. To remove skewness of so many columns I think it is good as only 3.5% data is loss"
   ]
  },
  {
   "cell_type": "code",
   "execution_count": 227,
   "id": "5024af5a",
   "metadata": {
    "scrolled": true
   },
   "outputs": [
    {
     "data": {
      "text/plain": [
       "AveragePrice    0.413916\n",
       "Total Volume    0.062751\n",
       "4046           -0.356673\n",
       "4225           -0.413289\n",
       "4770            0.063880\n",
       "Total Bags     -0.117007\n",
       "Small Bags     -0.262736\n",
       "Large Bags     -0.567968\n",
       "XLarge Bags     1.142228\n",
       "type            0.045547\n",
       "year            0.209500\n",
       "region          0.021042\n",
       "Month           0.116169\n",
       "dtype: float64"
      ]
     },
     "execution_count": 227,
     "metadata": {},
     "output_type": "execute_result"
    }
   ],
   "source": [
    "df_new_z.skew()"
   ]
  },
  {
   "cell_type": "markdown",
   "id": "9af797da",
   "metadata": {},
   "source": [
    "# Checking again Box plot for skewness"
   ]
  },
  {
   "cell_type": "code",
   "execution_count": 228,
   "id": "92b13f08",
   "metadata": {},
   "outputs": [
    {
     "data": {
      "text/plain": [
       "AveragePrice        AxesSubplot(0.125,0.71587;0.133621x0.16413)\n",
       "Total Volume     AxesSubplot(0.285345,0.71587;0.133621x0.16413)\n",
       "4046              AxesSubplot(0.44569,0.71587;0.133621x0.16413)\n",
       "4225             AxesSubplot(0.606034,0.71587;0.133621x0.16413)\n",
       "4770             AxesSubplot(0.766379,0.71587;0.133621x0.16413)\n",
       "Total Bags         AxesSubplot(0.125,0.518913;0.133621x0.16413)\n",
       "Small Bags      AxesSubplot(0.285345,0.518913;0.133621x0.16413)\n",
       "Large Bags       AxesSubplot(0.44569,0.518913;0.133621x0.16413)\n",
       "XLarge Bags     AxesSubplot(0.606034,0.518913;0.133621x0.16413)\n",
       "type            AxesSubplot(0.766379,0.518913;0.133621x0.16413)\n",
       "year               AxesSubplot(0.125,0.321957;0.133621x0.16413)\n",
       "region          AxesSubplot(0.285345,0.321957;0.133621x0.16413)\n",
       "Month            AxesSubplot(0.44569,0.321957;0.133621x0.16413)\n",
       "dtype: object"
      ]
     },
     "execution_count": 228,
     "metadata": {},
     "output_type": "execute_result"
    },
    {
     "data": {
      "image/png": "[encoded data removed]",
      "text/plain": [
       "<Figure size 1080x720 with 20 Axes>"
      ]
     },
     "metadata": {
      "needs_background": "light"
     },
     "output_type": "display_data"
    }
   ],
   "source": [
    "df_new_z.plot(kind='box',subplots=True, layout=(4,5),figsize=(15,10))"
   ]
  },
  {
   "cell_type": "markdown",
   "id": "aed39ac7",
   "metadata": {},
   "source": [
    "Now the skewness has been reduced to a certain extent now lets see the heatmap with correlation"
   ]
  },
  {
   "cell_type": "markdown",
   "id": "ccbe91d0",
   "metadata": {},
   "source": [
    "### Checking Heatmap for correlation"
   ]
  },
  {
   "cell_type": "code",
   "execution_count": 229,
   "id": "5bbe78fd",
   "metadata": {},
   "outputs": [
    {
     "data": {
      "text/plain": [
       "<AxesSubplot:>"
      ]
     },
     "execution_count": 229,
     "metadata": {},
     "output_type": "execute_result"
    },
    {
     "data": {
      "image/png": "[encoded data removed]",
      "text/plain": [
       "<Figure size 1584x504 with 2 Axes>"
      ]
     },
     "metadata": {
      "needs_background": "light"
     },
     "output_type": "display_data"
    }
   ],
   "source": [
    "import matplotlib.pyplot as plt\n",
    "plt.figure(figsize=(22,7))\n",
    "sns.heatmap(df_new_z.corr(),annot = True, linewidths = 0.1,linecolor=\"black\",fmt= \"0.2f\")"
   ]
  },
  {
   "cell_type": "markdown",
   "id": "e7749ca6",
   "metadata": {},
   "source": [
    "# Checking VIF "
   ]
  },
  {
   "cell_type": "code",
   "execution_count": 230,
   "id": "d122ab23",
   "metadata": {},
   "outputs": [],
   "source": [
    "names = list(df_new_z.drop(columns=[\"AveragePrice\",\"type\"]))"
   ]
  },
  {
   "cell_type": "code",
   "execution_count": 231,
   "id": "b871247f",
   "metadata": {},
   "outputs": [
    {
     "name": "stdout",
     "output_type": "stream",
     "text": [
      "R Square value of Total Volume column is 1.0 keeping all other columns as independent features\n",
      "Variance Inflation Factor of Total Volume column is 1386.07 n\n",
      "\n",
      "R Square value of 4046 column is 0.98 keeping all other columns as independent features\n",
      "Variance Inflation Factor of 4046 column is 53.1 n\n",
      "\n",
      "R Square value of 4225 column is 0.99 keeping all other columns as independent features\n",
      "Variance Inflation Factor of 4225 column is 142.87 n\n",
      "\n",
      "R Square value of 4770 column is 0.9 keeping all other columns as independent features\n",
      "Variance Inflation Factor of 4770 column is 10.2 n\n",
      "\n",
      "R Square value of Total Bags column is 1.0 keeping all other columns as independent features\n",
      "Variance Inflation Factor of Total Bags column is 726.21 n\n",
      "\n",
      "R Square value of Small Bags column is 1.0 keeping all other columns as independent features\n",
      "Variance Inflation Factor of Small Bags column is 291.33 n\n",
      "\n",
      "R Square value of Large Bags column is 0.93 keeping all other columns as independent features\n",
      "Variance Inflation Factor of Large Bags column is 13.74 n\n",
      "\n",
      "R Square value of XLarge Bags column is 0.64 keeping all other columns as independent features\n",
      "Variance Inflation Factor of XLarge Bags column is 2.8 n\n",
      "\n",
      "R Square value of year column is 0.99 keeping all other columns as independent features\n",
      "Variance Inflation Factor of year column is 194.22 n\n",
      "\n",
      "R Square value of region column is 0.76 keeping all other columns as independent features\n",
      "Variance Inflation Factor of region column is 4.24 n\n",
      "\n",
      "R Square value of Month column is 0.76 keeping all other columns as independent features\n",
      "Variance Inflation Factor of Month column is 4.23 n\n",
      "\n"
     ]
    }
   ],
   "source": [
    "import statsmodels.api as sm\n",
    "\n",
    "for index in range(0, len(names)):\n",
    "            y = df_new_z.loc[:, df.columns == names[index]]\n",
    "            x = df_new_z.loc[:, df.columns != names[index]]\n",
    "            model = sm.OLS(y, x)                       #Fit ordinary least squares methodhttp://localhost:8888/notebooks/baseball%20predict.ipynb#\n",
    "            results = model.fit()\n",
    "            rsq = results.rsquared\n",
    "            vif = round(1 / (1 - rsq), 2)\n",
    "            print(\"R Square value of {} column is {} keeping all other columns as independent features\".format(\n",
    "              names [index], (round(rsq, 2))))\n",
    "           \n",
    "            print(\"Variance Inflation Factor of {} column is {} n\".format(\n",
    "                 names[index], vif))\n",
    "            print()"
   ]
  },
  {
   "cell_type": "markdown",
   "id": "d2a8695b",
   "metadata": {},
   "source": [
    "# Model Building"
   ]
  },
  {
   "cell_type": "markdown",
   "id": "8782b8ea",
   "metadata": {},
   "source": [
    "## Predicting Average Price"
   ]
  },
  {
   "cell_type": "code",
   "execution_count": 232,
   "id": "23aa515f",
   "metadata": {},
   "outputs": [],
   "source": [
    "from sklearn.linear_model import LinearRegression, Ridge\n",
    "from sklearn.ensemble import RandomForestRegressor, GradientBoostingRegressor\n",
    "from sklearn.neighbors import KNeighborsRegressor\n",
    "from sklearn.tree import DecisionTreeRegressor\n",
    "\n",
    "from sklearn.model_selection import train_test_split\n",
    "from sklearn.preprocessing import StandardScaler\n",
    "\n",
    "\n",
    "X = df_new_z.drop('AveragePrice', axis=1)\n",
    "y = df_new_z['AveragePrice']\n",
    "\n",
    "scaler = StandardScaler()\n",
    "X_scaled = scaler.fit_transform(X)\n",
    "\n",
    "X_train, X_test, y_train, y_test = train_test_split(X_scaled, y, test_size=0.2, random_state=0)"
   ]
  },
  {
   "cell_type": "markdown",
   "id": "227c18ff",
   "metadata": {},
   "source": [
    "### Linear Regression"
   ]
  },
  {
   "cell_type": "code",
   "execution_count": 233,
   "id": "bc409452",
   "metadata": {},
   "outputs": [
    {
     "name": "stdout",
     "output_type": "stream",
     "text": [
      "Train Score : 0.5733\n",
      "Test Score : 0.5701\n"
     ]
    }
   ],
   "source": [
    "model = LinearRegression()\n",
    "model.fit(X_train, y_train)\n",
    "print('Train Score : {:.4f}'.format(model.score(X_train, y_train)))\n",
    "print('Test Score : {:.4f}'.format(model.score(X_test, y_test)))"
   ]
  },
  {
   "cell_type": "markdown",
   "id": "160ea282",
   "metadata": {},
   "source": [
    "### Ridge"
   ]
  },
  {
   "cell_type": "code",
   "execution_count": 234,
   "id": "3a2789e0",
   "metadata": {},
   "outputs": [
    {
     "name": "stdout",
     "output_type": "stream",
     "text": [
      "Train Score : 0.5733\n",
      "Test Score : 0.5701\n"
     ]
    }
   ],
   "source": [
    "model = Ridge()\n",
    "model.fit(X_train, y_train)\n",
    "print('Train Score : {:.4f}'.format(model.score(X_train, y_train)))\n",
    "print('Test Score : {:.4f}'.format(model.score(X_test, y_test)))"
   ]
  },
  {
   "cell_type": "markdown",
   "id": "438ae565",
   "metadata": {},
   "source": [
    "### Gradient Boost"
   ]
  },
  {
   "cell_type": "code",
   "execution_count": 235,
   "id": "7742029a",
   "metadata": {},
   "outputs": [
    {
     "name": "stdout",
     "output_type": "stream",
     "text": [
      "Train Score : 0.7669\n",
      "Test Score : 0.7575\n"
     ]
    }
   ],
   "source": [
    "model = GradientBoostingRegressor()\n",
    "model.fit(X_train, y_train)\n",
    "print('Train Score : {:.4f}'.format(model.score(X_train, y_train)))\n",
    "print('Test Score : {:.4f}'.format(model.score(X_test, y_test)))"
   ]
  },
  {
   "cell_type": "markdown",
   "id": "f7c63641",
   "metadata": {},
   "source": [
    "### K-Nearest Neighbors"
   ]
  },
  {
   "cell_type": "code",
   "execution_count": 236,
   "id": "daa04f62",
   "metadata": {},
   "outputs": [
    {
     "name": "stdout",
     "output_type": "stream",
     "text": [
      "Train Score : 0.9252\n",
      "Test Score : 0.8689\n"
     ]
    }
   ],
   "source": [
    "model = KNeighborsRegressor()\n",
    "model.fit(X_train, y_train)\n",
    "print('Train Score : {:.4f}'.format(model.score(X_train, y_train)))\n",
    "print('Test Score : {:.4f}'.format(model.score(X_test, y_test)))"
   ]
  },
  {
   "cell_type": "markdown",
   "id": "99b6e138",
   "metadata": {},
   "source": [
    "### Random Forest"
   ]
  },
  {
   "cell_type": "code",
   "execution_count": 237,
   "id": "a1c57485",
   "metadata": {},
   "outputs": [
    {
     "name": "stdout",
     "output_type": "stream",
     "text": [
      "Train Score : 0.9846\n",
      "Test Score : 0.8935\n"
     ]
    }
   ],
   "source": [
    "model = RandomForestRegressor()\n",
    "\n",
    "model.fit(X_train, y_train)\n",
    "print('Train Score : {:.4f}'.format(model.score(X_train, y_train)))\n",
    "print('Test Score : {:.4f}'.format(model.score(X_test, y_test)))"
   ]
  },
  {
   "cell_type": "markdown",
   "id": "b8a06376",
   "metadata": {},
   "source": [
    "### Decision Tree"
   ]
  },
  {
   "cell_type": "code",
   "execution_count": 238,
   "id": "d0a140ef",
   "metadata": {},
   "outputs": [
    {
     "name": "stdout",
     "output_type": "stream",
     "text": [
      "Train Score : 1.0000\n",
      "Test Score : 0.7527\n"
     ]
    }
   ],
   "source": [
    "model = DecisionTreeRegressor()\n",
    "\n",
    "model.fit(X_train, y_train)\n",
    "print('Train Score : {:.4f}'.format(model.score(X_train, y_train)))\n",
    "print('Test Score : {:.4f}'.format(model.score(X_test, y_test)))"
   ]
  },
  {
   "cell_type": "markdown",
   "id": "410fda8e",
   "metadata": {},
   "source": [
    "# Hyperparameter Tuning"
   ]
  },
  {
   "cell_type": "code",
   "execution_count": 239,
   "id": "1cbb4e75",
   "metadata": {},
   "outputs": [],
   "source": [
    "from sklearn.model_selection import GridSearchCV\n",
    "\n",
    "models = []\n",
    "scores = []"
   ]
  },
  {
   "cell_type": "markdown",
   "id": "89327ec7",
   "metadata": {},
   "source": [
    "### Ridge"
   ]
  },
  {
   "cell_type": "code",
   "execution_count": 240,
   "id": "fa9d4361",
   "metadata": {},
   "outputs": [
    {
     "name": "stdout",
     "output_type": "stream",
     "text": [
      "Test Score : 0.5701\n",
      "Best Parameters : {'alpha': 1}\n",
      "Best CV Score : 0.5722\n"
     ]
    }
   ],
   "source": [
    "param_grid = {'alpha' : [0.0001, 0.0001, 0.001, 0.01, 0.1, 1, 10, 100]}\n",
    "model = Ridge()\n",
    "\n",
    "grid_search = GridSearchCV(model, param_grid, cv=5)\n",
    "grid_search.fit(X_train, y_train)\n",
    "ridge_score = grid_search.score(X_test, y_test)\n",
    "\n",
    "print('Test Score : {:.4f}'.format(ridge_score))\n",
    "print('Best Parameters :', grid_search.best_params_)\n",
    "print('Best CV Score : {:.4f}'.format(grid_search.best_score_))\n",
    "\n",
    "models.append('Ridge')\n",
    "scores.append(ridge_score)"
   ]
  },
  {
   "cell_type": "markdown",
   "id": "e28c2a63",
   "metadata": {},
   "source": [
    "### Gradient Boost"
   ]
  },
  {
   "cell_type": "code",
   "execution_count": 241,
   "id": "1a1bd077",
   "metadata": {},
   "outputs": [
    {
     "name": "stdout",
     "output_type": "stream",
     "text": [
      "Test Score : 0.9098\n",
      "Best Parameters : {'max_depth': 9}\n",
      "Best CV Score : 0.9019\n"
     ]
    }
   ],
   "source": [
    "param_grid = {'max_depth' : [2, 3, 4, 5, 6, 7, 8, 9,10,11,12]}\n",
    "model = GradientBoostingRegressor()\n",
    "\n",
    "grid_search = GridSearchCV(model, param_grid, cv=5)\n",
    "grid_search.fit(X_train, y_train)\n",
    "gb_score = grid_search.score(X_test, y_test)\n",
    "  \n",
    "\n",
    "print('Test Score : {:.4f}'.format(gb_score))\n",
    "print('Best Parameters :', grid_search.best_params_)\n",
    "print('Best CV Score : {:.4f}'.format(grid_search.best_score_))\n",
    "\n",
    "models.append('Gradient Boost')\n",
    "scores.append(gb_score)"
   ]
  },
  {
   "cell_type": "markdown",
   "id": "38909c85",
   "metadata": {},
   "source": [
    "### K-Nearest Neighbors"
   ]
  },
  {
   "cell_type": "code",
   "execution_count": 242,
   "id": "61710d6a",
   "metadata": {},
   "outputs": [
    {
     "name": "stdout",
     "output_type": "stream",
     "text": [
      "Test Score : 0.8769\n",
      "Best Parameters : {'n_neighbors': 3}\n",
      "Best CV Score : 0.8725\n"
     ]
    }
   ],
   "source": [
    "param_grid = {'n_neighbors' : range(1, 20)}\n",
    "model = KNeighborsRegressor()\n",
    "\n",
    "grid_search = GridSearchCV(model, param_grid, cv=5)\n",
    "grid_search.fit(X_train, y_train)\n",
    "knr_score = grid_search.score(X_test, y_test)\n",
    "\n",
    "print('Test Score : {:.4f}'.format(knr_score))\n",
    "print('Best Parameters :', grid_search.best_params_)\n",
    "print('Best CV Score : {:.4f}'.format(grid_search.best_score_))\n",
    "\n",
    "models.append('K-Nearest Neighbors')\n",
    "scores.append(knr_score)"
   ]
  },
  {
   "cell_type": "markdown",
   "id": "52bb16e7",
   "metadata": {},
   "source": [
    "### Random Forest"
   ]
  },
  {
   "cell_type": "code",
   "execution_count": 243,
   "id": "4edf3d1b",
   "metadata": {},
   "outputs": [
    {
     "name": "stdout",
     "output_type": "stream",
     "text": [
      "Test Score : 0.8924\n",
      "Best Parameters : {'max_depth': 25}\n",
      "Best CV Score : 0.8825\n"
     ]
    }
   ],
   "source": [
    "param_grid = {'max_depth' : [5, 10, 15, 20, 25, 30]}\n",
    "model = RandomForestRegressor()\n",
    "\n",
    "grid_search = GridSearchCV(model, param_grid, cv=5)\n",
    "grid_search.fit(X_train, y_train)\n",
    "rf_score = grid_search.score(X_test, y_test)\n",
    "\n",
    "print('Test Score : {:.4f}'.format(rf_score))\n",
    "print('Best Parameters :', grid_search.best_params_)\n",
    "print('Best CV Score : {:.4f}'.format(grid_search.best_score_))\n",
    "\n",
    "models.append('Random Forest')\n",
    "scores.append(rf_score)"
   ]
  },
  {
   "cell_type": "markdown",
   "id": "5fc2c61a",
   "metadata": {},
   "source": [
    "### Decision Tree"
   ]
  },
  {
   "cell_type": "code",
   "execution_count": 244,
   "id": "7f9dcafd",
   "metadata": {},
   "outputs": [
    {
     "name": "stdout",
     "output_type": "stream",
     "text": [
      "Test Score : 0.7601\n",
      "Best Parameters : {'max_depth': 15}\n",
      "Best CV Score : 0.7538\n"
     ]
    }
   ],
   "source": [
    "am_grid = {'max_depth' : range(2, 20), \"min_samples_leaf\" : range(2, 10)}\n",
    "model = DecisionTreeRegressor()\n",
    "\n",
    "grid_search = GridSearchCV(model, param_grid, cv=5)\n",
    "grid_search.fit(X_train, y_train)\n",
    "dt_score = grid_search.score(X_test, y_test)\n",
    "\n",
    "print('Test Score : {:.4f}'.format(dt_score))\n",
    "print('Best Parameters :', grid_search.best_params_)\n",
    "print('Best CV Score : {:.4f}'.format(grid_search.best_score_))\n",
    "\n",
    "models.append('Decision Tree')\n",
    "scores.append(dt_score)"
   ]
  },
  {
   "cell_type": "markdown",
   "id": "c75aeebf",
   "metadata": {},
   "source": [
    "### Result"
   ]
  },
  {
   "cell_type": "code",
   "execution_count": 245,
   "id": "f704475d",
   "metadata": {},
   "outputs": [
    {
     "data": {
      "text/html": [
       "<div>\n",
       "<style scoped>\n",
       "    .dataframe tbody tr th:only-of-type {\n",
       "        vertical-align: middle;\n",
       "    }\n",
       "\n",
       "    .dataframe tbody tr th {\n",
       "        vertical-align: top;\n",
       "    }\n",
       "\n",
       "    .dataframe thead th {\n",
       "        text-align: right;\n",
       "    }\n",
       "</style>\n",
       "<table border=\"1\" class=\"dataframe\">\n",
       "  <thead>\n",
       "    <tr style=\"text-align: right;\">\n",
       "      <th></th>\n",
       "      <th>Model</th>\n",
       "      <th>Score</th>\n",
       "    </tr>\n",
       "  </thead>\n",
       "  <tbody>\n",
       "    <tr>\n",
       "      <th>0</th>\n",
       "      <td>Ridge</td>\n",
       "      <td>0.570124</td>\n",
       "    </tr>\n",
       "    <tr>\n",
       "      <th>1</th>\n",
       "      <td>Gradient Boost</td>\n",
       "      <td>0.909785</td>\n",
       "    </tr>\n",
       "    <tr>\n",
       "      <th>2</th>\n",
       "      <td>K-Nearest Neighbors</td>\n",
       "      <td>0.876870</td>\n",
       "    </tr>\n",
       "    <tr>\n",
       "      <th>3</th>\n",
       "      <td>Random Forest</td>\n",
       "      <td>0.892398</td>\n",
       "    </tr>\n",
       "    <tr>\n",
       "      <th>4</th>\n",
       "      <td>Decision Tree</td>\n",
       "      <td>0.760069</td>\n",
       "    </tr>\n",
       "  </tbody>\n",
       "</table>\n",
       "</div>"
      ],
      "text/plain": [
       "                 Model     Score\n",
       "0                Ridge  0.570124\n",
       "1       Gradient Boost  0.909785\n",
       "2  K-Nearest Neighbors  0.876870\n",
       "3        Random Forest  0.892398\n",
       "4        Decision Tree  0.760069"
      ]
     },
     "execution_count": 245,
     "metadata": {},
     "output_type": "execute_result"
    }
   ],
   "source": [
    "df_result = pd.DataFrame({'Model' : models, 'Score' : scores})\n",
    "df_result"
   ]
  },
  {
   "cell_type": "markdown",
   "id": "2d6bf9e3",
   "metadata": {},
   "source": [
    "### Conclusion\n",
    "Gradient Boost Regression gave the best accuracy so we can use Gradient Boost to predict the Average Price"
   ]
  },
  {
   "cell_type": "markdown",
   "id": "eb6b1666",
   "metadata": {},
   "source": [
    "# Prediction with Region"
   ]
  },
  {
   "cell_type": "code",
   "execution_count": 246,
   "id": "05fe9cf7",
   "metadata": {},
   "outputs": [],
   "source": [
    "from sklearn.linear_model import LogisticRegression\n",
    "from sklearn.metrics import accuracy_score\n",
    "from sklearn.metrics import confusion_matrix,classification_report\n",
    "from sklearn.model_selection import train_test_split"
   ]
  },
  {
   "cell_type": "code",
   "execution_count": 247,
   "id": "cec1558b",
   "metadata": {},
   "outputs": [],
   "source": [
    "X1 = df_new_z.drop('region', axis=1)\n",
    "y1 = df_new_z['region']\n",
    "\n",
    "scaler = StandardScaler()\n",
    "X_scaled = scaler.fit_transform(X1)\n",
    "\n",
    "x_train, x_test, y_train, y_test = train_test_split(X_scaled, y1, test_size=0.2, random_state=0)"
   ]
  },
  {
   "cell_type": "markdown",
   "id": "6c18510a",
   "metadata": {},
   "source": [
    "## Logistic Regression"
   ]
  },
  {
   "cell_type": "code",
   "execution_count": 248,
   "id": "0a5d1724",
   "metadata": {},
   "outputs": [
    {
     "name": "stdout",
     "output_type": "stream",
     "text": [
      "Accuracy  55.11634426689095\n",
      "[[50  0  0 ...  0  0  0]\n",
      " [ 0 22  0 ...  0  0  0]\n",
      " [ 0  0 45 ...  0  0  3]\n",
      " ...\n",
      " [ 0  0  0 ... 66  0  0]\n",
      " [ 0  0  0 ...  0 55  0]\n",
      " [ 0  2  0 ...  0  0 15]]\n",
      "              precision    recall  f1-score   support\n",
      "\n",
      "           0       0.79      0.67      0.72        75\n",
      "           1       0.23      0.36      0.28        61\n",
      "           2       0.66      0.68      0.67        66\n",
      "           3       0.65      0.43      0.52        69\n",
      "           4       0.50      0.48      0.49        75\n",
      "           5       0.58      0.62      0.60        52\n",
      "           6       0.95      0.93      0.94        86\n",
      "           7       0.66      0.57      0.61        68\n",
      "           8       0.75      0.81      0.78        72\n",
      "           9       0.52      0.76      0.62        63\n",
      "          10       0.42      0.36      0.39        75\n",
      "          11       0.61      0.71      0.66        65\n",
      "          12       0.65      0.54      0.59        89\n",
      "          13       0.28      0.21      0.24        63\n",
      "          14       0.67      0.55      0.60        75\n",
      "          15       0.67      0.82      0.74        73\n",
      "          16       0.51      0.48      0.50        62\n",
      "          17       0.58      0.79      0.67        57\n",
      "          18       0.50      0.45      0.47        65\n",
      "          19       0.54      0.68      0.60        56\n",
      "          20       0.46      0.48      0.47        66\n",
      "          21       0.38      0.28      0.32        81\n",
      "          22       0.60      0.66      0.63        58\n",
      "          23       0.60      0.86      0.71        64\n",
      "          24       0.11      0.07      0.08        58\n",
      "          25       0.57      0.63      0.60        75\n",
      "          26       0.06      0.03      0.04        75\n",
      "          27       0.34      0.45      0.39        56\n",
      "          28       0.74      0.67      0.70        78\n",
      "          29       0.73      0.78      0.76        60\n",
      "          30       0.63      0.49      0.55        69\n",
      "          31       0.31      0.34      0.32        62\n",
      "          32       0.54      0.55      0.54        73\n",
      "          33       0.34      0.54      0.42        61\n",
      "          34       0.22      0.25      0.23        65\n",
      "          35       0.54      0.45      0.49        71\n",
      "          36       0.67      0.33      0.44        67\n",
      "          37       0.52      0.58      0.55        62\n",
      "          38       0.55      0.56      0.56        62\n",
      "          39       0.36      0.60      0.45        55\n",
      "          40       0.67      0.80      0.73        80\n",
      "          41       0.34      0.32      0.33        62\n",
      "          42       0.80      0.74      0.77        54\n",
      "          43       0.70      0.55      0.62        60\n",
      "          44       0.43      0.59      0.50        66\n",
      "          45       0.73      0.92      0.81        52\n",
      "          46       0.69      0.61      0.65        62\n",
      "          47       0.56      0.63      0.59        60\n",
      "          48       0.43      0.22      0.29        72\n",
      "          49       0.59      0.69      0.64        59\n",
      "          50       0.24      0.15      0.18        62\n",
      "          51       1.00      1.00      1.00        66\n",
      "          52       0.83      0.92      0.87        60\n",
      "          53       0.34      0.22      0.27        67\n",
      "\n",
      "    accuracy                           0.55      3567\n",
      "   macro avg       0.54      0.55      0.54      3567\n",
      "weighted avg       0.55      0.55      0.54      3567\n",
      "\n"
     ]
    }
   ],
   "source": [
    "from sklearn.linear_model import LogisticRegression\n",
    "Lr = LogisticRegression()\n",
    "Lr.fit(x_train,y_train)\n",
    "predlr = Lr.predict(x_test)\n",
    "print(\"Accuracy \", accuracy_score(y_test,predlr)*100)\n",
    "print(confusion_matrix(y_test,predlr))\n",
    "print(classification_report(y_test,predlr))"
   ]
  },
  {
   "cell_type": "markdown",
   "id": "60a647e3",
   "metadata": {},
   "source": [
    "## Decision Tree Classifier"
   ]
  },
  {
   "cell_type": "code",
   "execution_count": 249,
   "id": "23899fee",
   "metadata": {},
   "outputs": [
    {
     "name": "stdout",
     "output_type": "stream",
     "text": [
      "Accuracy  79.81497056349875\n",
      "[[53  0  0 ...  0  0  0]\n",
      " [ 0 46  0 ...  0  0  2]\n",
      " [ 0  0 63 ...  0  0  2]\n",
      " ...\n",
      " [ 0  0  0 ... 66  0  0]\n",
      " [ 0  0  0 ...  1 54  0]\n",
      " [ 0  1  2 ...  0  0 38]]\n",
      "              precision    recall  f1-score   support\n",
      "\n",
      "           0       0.79      0.71      0.75        75\n",
      "           1       0.77      0.75      0.76        61\n",
      "           2       0.82      0.95      0.88        66\n",
      "           3       0.84      0.75      0.79        69\n",
      "           4       0.81      0.77      0.79        75\n",
      "           5       0.56      0.63      0.59        52\n",
      "           6       0.94      0.98      0.96        86\n",
      "           7       0.90      0.79      0.84        68\n",
      "           8       0.94      0.90      0.92        72\n",
      "           9       0.79      0.86      0.82        63\n",
      "          10       0.68      0.72      0.70        75\n",
      "          11       0.88      0.92      0.90        65\n",
      "          12       0.86      0.75      0.80        89\n",
      "          13       0.71      0.70      0.70        63\n",
      "          14       0.83      0.77      0.80        75\n",
      "          15       0.95      0.95      0.95        73\n",
      "          16       0.82      0.90      0.86        62\n",
      "          17       0.82      0.81      0.81        57\n",
      "          18       0.79      0.85      0.81        65\n",
      "          19       0.74      0.89      0.81        56\n",
      "          20       0.87      0.82      0.84        66\n",
      "          21       0.67      0.62      0.64        81\n",
      "          22       0.87      0.93      0.90        58\n",
      "          23       0.64      0.78      0.70        64\n",
      "          24       0.57      0.64      0.60        58\n",
      "          25       0.93      0.92      0.93        75\n",
      "          26       0.70      0.71      0.70        75\n",
      "          27       0.94      0.79      0.85        56\n",
      "          28       0.88      0.88      0.88        78\n",
      "          29       0.92      0.93      0.93        60\n",
      "          30       0.87      0.75      0.81        69\n",
      "          31       0.65      0.60      0.62        62\n",
      "          32       0.77      0.79      0.78        73\n",
      "          33       0.74      0.79      0.76        61\n",
      "          34       0.71      0.77      0.74        65\n",
      "          35       0.91      0.87      0.89        71\n",
      "          36       0.68      0.72      0.70        67\n",
      "          37       0.77      0.77      0.77        62\n",
      "          38       0.73      0.79      0.76        62\n",
      "          39       0.77      0.84      0.80        55\n",
      "          40       0.81      0.75      0.78        80\n",
      "          41       0.78      0.82      0.80        62\n",
      "          42       0.81      0.89      0.85        54\n",
      "          43       0.74      0.67      0.70        60\n",
      "          44       0.77      0.77      0.77        66\n",
      "          45       0.94      0.96      0.95        52\n",
      "          46       0.95      0.92      0.93        62\n",
      "          47       0.81      0.73      0.77        60\n",
      "          48       0.75      0.75      0.75        72\n",
      "          49       0.77      0.75      0.76        59\n",
      "          50       0.58      0.56      0.57        62\n",
      "          51       0.99      1.00      0.99        66\n",
      "          52       0.98      0.90      0.94        60\n",
      "          53       0.60      0.57      0.58        67\n",
      "\n",
      "    accuracy                           0.80      3567\n",
      "   macro avg       0.80      0.80      0.80      3567\n",
      "weighted avg       0.80      0.80      0.80      3567\n",
      "\n"
     ]
    }
   ],
   "source": [
    "from sklearn.tree import DecisionTreeClassifier\n",
    "dt = DecisionTreeClassifier()\n",
    "dt.fit(x_train,y_train)\n",
    "preddt = dt.predict(x_test)\n",
    "print(\"Accuracy \", accuracy_score(y_test,preddt)*100)\n",
    "print(confusion_matrix(y_test,preddt))\n",
    "print(classification_report(y_test,preddt))"
   ]
  },
  {
   "cell_type": "markdown",
   "id": "6d82f5d6",
   "metadata": {},
   "source": [
    "## Random Forest Classifier"
   ]
  },
  {
   "cell_type": "code",
   "execution_count": 250,
   "id": "0f30f7db",
   "metadata": {},
   "outputs": [
    {
     "name": "stdout",
     "output_type": "stream",
     "text": [
      "Accuracy  91.47743201569946\n",
      "[[69  0  0 ...  0  0  0]\n",
      " [ 0 53  0 ...  0  0  0]\n",
      " [ 0  0 66 ...  0  0  0]\n",
      " ...\n",
      " [ 0  0  0 ... 66  0  0]\n",
      " [ 0  0  0 ...  1 59  0]\n",
      " [ 0  0  1 ...  0  0 54]]\n",
      "              precision    recall  f1-score   support\n",
      "\n",
      "           0       0.91      0.92      0.91        75\n",
      "           1       0.87      0.87      0.87        61\n",
      "           2       0.96      1.00      0.98        66\n",
      "           3       0.93      0.80      0.86        69\n",
      "           4       0.95      0.99      0.97        75\n",
      "           5       0.89      0.75      0.81        52\n",
      "           6       0.99      0.99      0.99        86\n",
      "           7       0.98      0.93      0.95        68\n",
      "           8       0.99      0.99      0.99        72\n",
      "           9       0.87      0.92      0.89        63\n",
      "          10       0.82      0.91      0.86        75\n",
      "          11       0.93      0.98      0.96        65\n",
      "          12       0.99      0.94      0.97        89\n",
      "          13       0.78      0.84      0.81        63\n",
      "          14       0.90      0.92      0.91        75\n",
      "          15       0.99      0.99      0.99        73\n",
      "          16       0.95      0.97      0.96        62\n",
      "          17       0.90      0.95      0.92        57\n",
      "          18       0.97      0.91      0.94        65\n",
      "          19       0.96      0.88      0.92        56\n",
      "          20       0.97      0.89      0.93        66\n",
      "          21       0.86      0.88      0.87        81\n",
      "          22       0.94      1.00      0.97        58\n",
      "          23       0.77      0.95      0.85        64\n",
      "          24       0.75      0.76      0.75        58\n",
      "          25       0.99      0.99      0.99        75\n",
      "          26       0.90      0.76      0.83        75\n",
      "          27       0.94      0.89      0.92        56\n",
      "          28       0.94      0.97      0.96        78\n",
      "          29       0.98      0.98      0.98        60\n",
      "          30       1.00      0.94      0.97        69\n",
      "          31       0.79      0.71      0.75        62\n",
      "          32       0.96      0.95      0.95        73\n",
      "          33       0.91      0.95      0.93        61\n",
      "          34       0.95      0.94      0.95        65\n",
      "          35       0.96      0.96      0.96        71\n",
      "          36       0.90      0.82      0.86        67\n",
      "          37       0.92      0.94      0.93        62\n",
      "          38       0.88      0.90      0.89        62\n",
      "          39       0.91      0.95      0.93        55\n",
      "          40       0.92      0.95      0.93        80\n",
      "          41       0.89      0.92      0.90        62\n",
      "          42       0.89      0.94      0.92        54\n",
      "          43       0.90      0.88      0.89        60\n",
      "          44       0.92      0.89      0.91        66\n",
      "          45       1.00      1.00      1.00        52\n",
      "          46       1.00      0.98      0.99        62\n",
      "          47       0.93      0.90      0.92        60\n",
      "          48       0.87      0.86      0.87        72\n",
      "          49       0.87      0.92      0.89        59\n",
      "          50       0.64      0.73      0.68        62\n",
      "          51       0.99      1.00      0.99        66\n",
      "          52       1.00      0.98      0.99        60\n",
      "          53       0.89      0.81      0.84        67\n",
      "\n",
      "    accuracy                           0.91      3567\n",
      "   macro avg       0.92      0.91      0.91      3567\n",
      "weighted avg       0.92      0.91      0.91      3567\n",
      "\n"
     ]
    }
   ],
   "source": [
    "    from sklearn.ensemble import RandomForestClassifier\n",
    "\n",
    "    rf = RandomForestClassifier()\n",
    "    rf.fit(x_train,y_train)\n",
    "    predrf = rf.predict(x_test)\n",
    "    print(\"Accuracy \", accuracy_score(y_test,predrf)*100)\n",
    "    print(confusion_matrix(y_test,predrf))\n",
    "    print(classification_report(y_test,predrf))"
   ]
  },
  {
   "cell_type": "markdown",
   "id": "5a0ada1c",
   "metadata": {},
   "source": [
    "## SVC"
   ]
  },
  {
   "cell_type": "code",
   "execution_count": 251,
   "id": "1d666d37",
   "metadata": {},
   "outputs": [
    {
     "name": "stdout",
     "output_type": "stream",
     "text": [
      "Accuracy  82.02971684889263\n",
      "[[68  0  0 ...  0  0  0]\n",
      " [ 0 36  0 ...  0  0  0]\n",
      " [ 0  0 66 ...  0  0  0]\n",
      " ...\n",
      " [ 0  0  0 ... 66  0  0]\n",
      " [ 0  0  0 ...  0 58  0]\n",
      " [ 0  1  1 ...  0  0 49]]\n",
      "              precision    recall  f1-score   support\n",
      "\n",
      "           0       0.83      0.91      0.87        75\n",
      "           1       0.56      0.59      0.58        61\n",
      "           2       0.92      1.00      0.96        66\n",
      "           3       0.88      0.62      0.73        69\n",
      "           4       0.89      0.91      0.90        75\n",
      "           5       0.91      0.79      0.85        52\n",
      "           6       0.99      0.99      0.99        86\n",
      "           7       0.85      0.81      0.83        68\n",
      "           8       0.97      0.99      0.98        72\n",
      "           9       0.65      0.86      0.74        63\n",
      "          10       0.59      0.72      0.65        75\n",
      "          11       0.87      0.91      0.89        65\n",
      "          12       0.93      0.94      0.94        89\n",
      "          13       0.63      0.54      0.58        63\n",
      "          14       0.84      0.89      0.86        75\n",
      "          15       0.92      0.97      0.95        73\n",
      "          16       0.98      0.94      0.96        62\n",
      "          17       0.96      0.95      0.96        57\n",
      "          18       0.86      0.85      0.85        65\n",
      "          19       0.78      0.70      0.74        56\n",
      "          20       0.93      0.83      0.88        66\n",
      "          21       0.66      0.56      0.60        81\n",
      "          22       1.00      0.98      0.99        58\n",
      "          23       0.72      0.86      0.79        64\n",
      "          24       0.75      0.62      0.68        58\n",
      "          25       0.95      0.93      0.94        75\n",
      "          26       0.79      0.45      0.58        75\n",
      "          27       0.79      0.54      0.64        56\n",
      "          28       0.99      0.99      0.99        78\n",
      "          29       0.98      0.98      0.98        60\n",
      "          30       0.94      0.84      0.89        69\n",
      "          31       0.49      0.52      0.50        62\n",
      "          32       0.96      0.89      0.92        73\n",
      "          33       0.64      0.84      0.72        61\n",
      "          34       0.67      0.85      0.75        65\n",
      "          35       0.93      0.90      0.91        71\n",
      "          36       0.85      0.69      0.76        67\n",
      "          37       0.67      0.82      0.74        62\n",
      "          38       0.71      0.73      0.72        62\n",
      "          39       0.71      0.95      0.81        55\n",
      "          40       0.83      0.90      0.86        80\n",
      "          41       0.73      0.71      0.72        62\n",
      "          42       0.88      0.96      0.92        54\n",
      "          43       0.88      0.73      0.80        60\n",
      "          44       0.77      0.82      0.79        66\n",
      "          45       0.98      0.96      0.97        52\n",
      "          46       0.89      0.95      0.92        62\n",
      "          47       0.78      0.78      0.78        60\n",
      "          48       0.79      0.81      0.80        72\n",
      "          49       0.84      0.81      0.83        59\n",
      "          50       0.38      0.42      0.40        62\n",
      "          51       1.00      1.00      1.00        66\n",
      "          52       1.00      0.97      0.98        60\n",
      "          53       0.78      0.73      0.75        67\n",
      "\n",
      "    accuracy                           0.82      3567\n",
      "   macro avg       0.82      0.82      0.82      3567\n",
      "weighted avg       0.83      0.82      0.82      3567\n",
      "\n"
     ]
    }
   ],
   "source": [
    "from sklearn.svm import SVC\n",
    "\n",
    "svc = SVC()\n",
    "svc.fit(x_train,y_train)\n",
    "predsv = svc.predict(x_test)\n",
    "print(\"Accuracy \", accuracy_score(y_test,predsv)*100)\n",
    "print(confusion_matrix(y_test,predsv))\n",
    "print(classification_report(y_test,predsv))"
   ]
  },
  {
   "cell_type": "markdown",
   "id": "6be6c8a2",
   "metadata": {},
   "source": [
    "# Cross Validation"
   ]
  },
  {
   "cell_type": "markdown",
   "id": "4bcea132",
   "metadata": {},
   "source": [
    "### Logistic Regression"
   ]
  },
  {
   "cell_type": "code",
   "execution_count": 252,
   "id": "6db2a81e",
   "metadata": {},
   "outputs": [
    {
     "name": "stdout",
     "output_type": "stream",
     "text": [
      "Cross validation score of Logistic  model : 0.4091012822248438\n"
     ]
    }
   ],
   "source": [
    "from sklearn.model_selection import cross_val_score\n",
    "scr = cross_val_score(Lr,X_scaled,y1,cv=5)\n",
    "print(\"Cross validation score of Logistic  model :\", scr.mean())"
   ]
  },
  {
   "cell_type": "markdown",
   "id": "1b097c38",
   "metadata": {},
   "source": [
    "### Random Forest"
   ]
  },
  {
   "cell_type": "code",
   "execution_count": 253,
   "id": "33e1a0e2",
   "metadata": {},
   "outputs": [
    {
     "name": "stdout",
     "output_type": "stream",
     "text": [
      "Cross validation score of Random Forest  model : 0.6800947364299874\n"
     ]
    }
   ],
   "source": [
    "scr = cross_val_score(rf,X_scaled,y1,cv=5)\n",
    "print(\"Cross validation score of Random Forest  model :\", scr.mean())"
   ]
  },
  {
   "cell_type": "markdown",
   "id": "be415636",
   "metadata": {},
   "source": [
    "### SVC "
   ]
  },
  {
   "cell_type": "code",
   "execution_count": 254,
   "id": "d273883e",
   "metadata": {},
   "outputs": [
    {
     "name": "stdout",
     "output_type": "stream",
     "text": [
      "Cross validation score of SVC model : 0.5948097008770966\n"
     ]
    }
   ],
   "source": [
    "scr = cross_val_score(svc,X_scaled,y1,cv=5)\n",
    "print(\"Cross validation score of SVC model :\", scr.mean())"
   ]
  },
  {
   "cell_type": "markdown",
   "id": "3e1e84e0",
   "metadata": {},
   "source": [
    "#### Observation-\n",
    "Random Forest gave us the most accuracy with highest Cross validation score as well as we will try to hyper tune the Random forest classifier"
   ]
  },
  {
   "cell_type": "markdown",
   "id": "68551149",
   "metadata": {},
   "source": [
    "# Hyper Parameter Tuning"
   ]
  },
  {
   "cell_type": "code",
   "execution_count": 259,
   "id": "36cc01a6",
   "metadata": {},
   "outputs": [],
   "source": [
    "from sklearn.model_selection import GridSearchCV\n",
    "\n",
    "parameters= {'max_features' : ['auto','sqrt','log2'],\n",
    "             'max_depth' : [7,8,9,10,11],\n",
    "             'criterion': ['gini','entropy']}"
   ]
  },
  {
   "cell_type": "code",
   "execution_count": 260,
   "id": "dd608ac4",
   "metadata": {},
   "outputs": [
    {
     "data": {
      "text/plain": [
       "{'criterion': 'entropy', 'max_depth': 11, 'max_features': 'auto'}"
      ]
     },
     "execution_count": 260,
     "metadata": {},
     "output_type": "execute_result"
    }
   ],
   "source": [
    "GCV = GridSearchCV(RandomForestClassifier(),parameters,cv=5,scoring=\"accuracy\")\n",
    "GCV.fit(x_train,y_train) \n",
    "GCV.best_params_\n"
   ]
  },
  {
   "cell_type": "code",
   "execution_count": 261,
   "id": "182abdb4",
   "metadata": {},
   "outputs": [
    {
     "data": {
      "text/plain": [
       "0.8861788617886179"
      ]
     },
     "execution_count": 261,
     "metadata": {},
     "output_type": "execute_result"
    }
   ],
   "source": [
    "GCV_pred= GCV.best_estimator_.predict(x_test)\n",
    "accuracy_score(y_test,GCV_pred)"
   ]
  },
  {
   "cell_type": "markdown",
   "id": "cca461ff",
   "metadata": {},
   "source": [
    "# Conslusion"
   ]
  },
  {
   "cell_type": "code",
   "execution_count": 262,
   "id": "2226259b",
   "metadata": {},
   "outputs": [
    {
     "data": {
      "text/html": [
       "<div>\n",
       "<style scoped>\n",
       "    .dataframe tbody tr th:only-of-type {\n",
       "        vertical-align: middle;\n",
       "    }\n",
       "\n",
       "    .dataframe tbody tr th {\n",
       "        vertical-align: top;\n",
       "    }\n",
       "\n",
       "    .dataframe thead th {\n",
       "        text-align: right;\n",
       "    }\n",
       "</style>\n",
       "<table border=\"1\" class=\"dataframe\">\n",
       "  <thead>\n",
       "    <tr style=\"text-align: right;\">\n",
       "      <th></th>\n",
       "      <th>Original</th>\n",
       "      <th>Predicted</th>\n",
       "    </tr>\n",
       "  </thead>\n",
       "  <tbody>\n",
       "    <tr>\n",
       "      <th>0</th>\n",
       "      <td>32</td>\n",
       "      <td>32</td>\n",
       "    </tr>\n",
       "    <tr>\n",
       "      <th>1</th>\n",
       "      <td>30</td>\n",
       "      <td>30</td>\n",
       "    </tr>\n",
       "    <tr>\n",
       "      <th>2</th>\n",
       "      <td>30</td>\n",
       "      <td>30</td>\n",
       "    </tr>\n",
       "    <tr>\n",
       "      <th>3</th>\n",
       "      <td>20</td>\n",
       "      <td>20</td>\n",
       "    </tr>\n",
       "    <tr>\n",
       "      <th>4</th>\n",
       "      <td>9</td>\n",
       "      <td>9</td>\n",
       "    </tr>\n",
       "    <tr>\n",
       "      <th>...</th>\n",
       "      <td>...</td>\n",
       "      <td>...</td>\n",
       "    </tr>\n",
       "    <tr>\n",
       "      <th>3562</th>\n",
       "      <td>7</td>\n",
       "      <td>7</td>\n",
       "    </tr>\n",
       "    <tr>\n",
       "      <th>3563</th>\n",
       "      <td>7</td>\n",
       "      <td>7</td>\n",
       "    </tr>\n",
       "    <tr>\n",
       "      <th>3564</th>\n",
       "      <td>14</td>\n",
       "      <td>14</td>\n",
       "    </tr>\n",
       "    <tr>\n",
       "      <th>3565</th>\n",
       "      <td>28</td>\n",
       "      <td>28</td>\n",
       "    </tr>\n",
       "    <tr>\n",
       "      <th>3566</th>\n",
       "      <td>34</td>\n",
       "      <td>34</td>\n",
       "    </tr>\n",
       "  </tbody>\n",
       "</table>\n",
       "<p>3567 rows × 2 columns</p>\n",
       "</div>"
      ],
      "text/plain": [
       "      Original  Predicted\n",
       "0           32         32\n",
       "1           30         30\n",
       "2           30         30\n",
       "3           20         20\n",
       "4            9          9\n",
       "...        ...        ...\n",
       "3562         7          7\n",
       "3563         7          7\n",
       "3564        14         14\n",
       "3565        28         28\n",
       "3566        34         34\n",
       "\n",
       "[3567 rows x 2 columns]"
      ]
     },
     "execution_count": 262,
     "metadata": {},
     "output_type": "execute_result"
    }
   ],
   "source": [
    "import numpy as np\n",
    "a=np.array(y_test)\n",
    "predicted=np.array(GCV.best_estimator_.predict(x_test))\n",
    "data_com = pd.DataFrame({\"Original\": a,\"Predicted\":predicted},index = range(len(a)))\n",
    "data_com"
   ]
  },
  {
   "cell_type": "markdown",
   "id": "655760db",
   "metadata": {},
   "source": [
    "# Saving Model"
   ]
  },
  {
   "cell_type": "markdown",
   "id": "39e1c078",
   "metadata": {},
   "source": [
    "### For Average Price"
   ]
  },
  {
   "cell_type": "code",
   "execution_count": 263,
   "id": "e58faa31",
   "metadata": {},
   "outputs": [],
   "source": [
    "import pickle\n",
    "filename = 'Avocado_avg_price.pkl'\n",
    "pickle.dump(model,open(filename, 'wb'))"
   ]
  },
  {
   "cell_type": "markdown",
   "id": "1d71f3f5",
   "metadata": {},
   "source": [
    "### For Region Prediction"
   ]
  },
  {
   "cell_type": "code",
   "execution_count": 179,
   "id": "27b7c197",
   "metadata": {},
   "outputs": [],
   "source": [
    "import pickle\n",
    "filename = 'Avocado_region_select.pkl'\n",
    "pickle.dump(GCV.best_params_,open(filename, 'wb'))"
   ]
  },
  {
   "cell_type": "code",
   "execution_count": null,
   "id": "fb49e86b",
   "metadata": {},
   "outputs": [],
   "source": []
  }
 ],
 "metadata": {
  "kernelspec": {
   "display_name": "Python 3",
   "language": "python",
   "name": "python3"
  },
  "language_info": {
   "codemirror_mode": {
    "name": "ipython",
    "version": 3
   },
   "file_extension": ".py",
   "mimetype": "text/x-python",
   "name": "python",
   "nbconvert_exporter": "python",
   "pygments_lexer": "ipython3",
   "version": "3.8.8"
  }
 },
 "nbformat": 4,
 "nbformat_minor": 5
}

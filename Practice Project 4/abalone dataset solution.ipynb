{
 "cells": [
  {
   "cell_type": "markdown",
   "id": "6cd18189",
   "metadata": {},
   "source": [
    "# Importing Dataset"
   ]
  },
  {
   "cell_type": "code",
   "execution_count": 1,
   "id": "06c36d02",
   "metadata": {},
   "outputs": [],
   "source": [
    "import pandas as pd\n",
    "import numpy as np"
   ]
  },
  {
   "cell_type": "code",
   "execution_count": 2,
   "id": "5c19850f",
   "metadata": {},
   "outputs": [],
   "source": [
    "df = pd.read_csv(\"abalone.csv\")"
   ]
  },
  {
   "cell_type": "code",
   "execution_count": 3,
   "id": "7d400405",
   "metadata": {},
   "outputs": [
    {
     "data": {
      "text/html": [
       "<div>\n",
       "<style scoped>\n",
       "    .dataframe tbody tr th:only-of-type {\n",
       "        vertical-align: middle;\n",
       "    }\n",
       "\n",
       "    .dataframe tbody tr th {\n",
       "        vertical-align: top;\n",
       "    }\n",
       "\n",
       "    .dataframe thead th {\n",
       "        text-align: right;\n",
       "    }\n",
       "</style>\n",
       "<table border=\"1\" class=\"dataframe\">\n",
       "  <thead>\n",
       "    <tr style=\"text-align: right;\">\n",
       "      <th></th>\n",
       "      <th>Sex</th>\n",
       "      <th>Length</th>\n",
       "      <th>Diameter</th>\n",
       "      <th>Height</th>\n",
       "      <th>Whole weight</th>\n",
       "      <th>Shucked weight</th>\n",
       "      <th>Viscera weight</th>\n",
       "      <th>Shell weight</th>\n",
       "      <th>Rings</th>\n",
       "    </tr>\n",
       "  </thead>\n",
       "  <tbody>\n",
       "    <tr>\n",
       "      <th>0</th>\n",
       "      <td>M</td>\n",
       "      <td>0.455</td>\n",
       "      <td>0.365</td>\n",
       "      <td>0.095</td>\n",
       "      <td>0.5140</td>\n",
       "      <td>0.2245</td>\n",
       "      <td>0.1010</td>\n",
       "      <td>0.150</td>\n",
       "      <td>15</td>\n",
       "    </tr>\n",
       "    <tr>\n",
       "      <th>1</th>\n",
       "      <td>M</td>\n",
       "      <td>0.350</td>\n",
       "      <td>0.265</td>\n",
       "      <td>0.090</td>\n",
       "      <td>0.2255</td>\n",
       "      <td>0.0995</td>\n",
       "      <td>0.0485</td>\n",
       "      <td>0.070</td>\n",
       "      <td>7</td>\n",
       "    </tr>\n",
       "    <tr>\n",
       "      <th>2</th>\n",
       "      <td>F</td>\n",
       "      <td>0.530</td>\n",
       "      <td>0.420</td>\n",
       "      <td>0.135</td>\n",
       "      <td>0.6770</td>\n",
       "      <td>0.2565</td>\n",
       "      <td>0.1415</td>\n",
       "      <td>0.210</td>\n",
       "      <td>9</td>\n",
       "    </tr>\n",
       "    <tr>\n",
       "      <th>3</th>\n",
       "      <td>M</td>\n",
       "      <td>0.440</td>\n",
       "      <td>0.365</td>\n",
       "      <td>0.125</td>\n",
       "      <td>0.5160</td>\n",
       "      <td>0.2155</td>\n",
       "      <td>0.1140</td>\n",
       "      <td>0.155</td>\n",
       "      <td>10</td>\n",
       "    </tr>\n",
       "    <tr>\n",
       "      <th>4</th>\n",
       "      <td>I</td>\n",
       "      <td>0.330</td>\n",
       "      <td>0.255</td>\n",
       "      <td>0.080</td>\n",
       "      <td>0.2050</td>\n",
       "      <td>0.0895</td>\n",
       "      <td>0.0395</td>\n",
       "      <td>0.055</td>\n",
       "      <td>7</td>\n",
       "    </tr>\n",
       "  </tbody>\n",
       "</table>\n",
       "</div>"
      ],
      "text/plain": [
       "  Sex  Length  Diameter  Height  Whole weight  Shucked weight  Viscera weight  \\\n",
       "0   M   0.455     0.365   0.095        0.5140          0.2245          0.1010   \n",
       "1   M   0.350     0.265   0.090        0.2255          0.0995          0.0485   \n",
       "2   F   0.530     0.420   0.135        0.6770          0.2565          0.1415   \n",
       "3   M   0.440     0.365   0.125        0.5160          0.2155          0.1140   \n",
       "4   I   0.330     0.255   0.080        0.2050          0.0895          0.0395   \n",
       "\n",
       "   Shell weight  Rings  \n",
       "0         0.150     15  \n",
       "1         0.070      7  \n",
       "2         0.210      9  \n",
       "3         0.155     10  \n",
       "4         0.055      7  "
      ]
     },
     "execution_count": 3,
     "metadata": {},
     "output_type": "execute_result"
    }
   ],
   "source": [
    "df.head()"
   ]
  },
  {
   "cell_type": "code",
   "execution_count": 11,
   "id": "3eebb9e8",
   "metadata": {},
   "outputs": [
    {
     "data": {
      "text/plain": [
       "Sex               0\n",
       "Length            0\n",
       "Diameter          0\n",
       "Height            0\n",
       "Whole weight      0\n",
       "Shucked weight    0\n",
       "Viscera weight    0\n",
       "Shell weight      0\n",
       "Rings             0\n",
       "dtype: int64"
      ]
     },
     "execution_count": 11,
     "metadata": {},
     "output_type": "execute_result"
    }
   ],
   "source": [
    "df.isnull().sum()"
   ]
  },
  {
   "cell_type": "markdown",
   "id": "7720b8fb",
   "metadata": {},
   "source": [
    "Since no null value present we are good to continue"
   ]
  },
  {
   "cell_type": "code",
   "execution_count": 12,
   "id": "1610eeac",
   "metadata": {},
   "outputs": [
    {
     "data": {
      "text/plain": [
       "Index(['Sex', 'Length', 'Diameter', 'Height', 'Whole weight', 'Shucked weight',\n",
       "       'Viscera weight', 'Shell weight', 'Rings'],\n",
       "      dtype='object')"
      ]
     },
     "execution_count": 12,
     "metadata": {},
     "output_type": "execute_result"
    }
   ],
   "source": [
    "df.columns"
   ]
  },
  {
   "cell_type": "markdown",
   "id": "a125e460",
   "metadata": {},
   "source": [
    "## Dataframe Description\n",
    "\n",
    "\n",
    "The age of abalone is determined by cutting the shell through the cone, staining it, and counting the number of rings through a microscope -- a boring and time-consuming task. Other measurements, which are easier to obtain, are used to predict the age. Further information, such as weather patterns and location (hence food availability) may be required to solve the problem.\n",
    "\n",
    "Attribute Information\n",
    "\n",
    "Given is the attribute name, attribute type, the measurement unit and a brief description. The number of rings is the value to predict. \n",
    "\n",
    "Name / Data Type / Measurement Unit / Description\n",
    "-----------------------------\n",
    "Sex / nominal / -- / M, F, and I (infant)\n",
    "Length / continuous / mm / Longest shell measurement\n",
    "Diameter / continuous / mm / perpendicular to length\n",
    "Height / continuous / mm / with meat in shell\n",
    "Whole weight / continuous / grams / whole abalone\n",
    "Shucked weight / continuous / grams / weight of meat\n",
    "Viscera weight / continuous / grams / gut weight (after bleeding)\n",
    "Shell weight / continuous / grams / after being dried\n",
    "Rings / integer / -- / +1.5 gives the age in years. \n",
    "\n"
   ]
  },
  {
   "cell_type": "markdown",
   "id": "896cea43",
   "metadata": {},
   "source": [
    "# Checking the Datatype of columns"
   ]
  },
  {
   "cell_type": "code",
   "execution_count": 15,
   "id": "41f13e28",
   "metadata": {},
   "outputs": [
    {
     "data": {
      "text/plain": [
       "Sex                object\n",
       "Length            float64\n",
       "Diameter          float64\n",
       "Height            float64\n",
       "Whole weight      float64\n",
       "Shucked weight    float64\n",
       "Viscera weight    float64\n",
       "Shell weight      float64\n",
       "Rings               int64\n",
       "dtype: object"
      ]
     },
     "execution_count": 15,
     "metadata": {},
     "output_type": "execute_result"
    }
   ],
   "source": [
    "df.dtypes"
   ]
  },
  {
   "cell_type": "code",
   "execution_count": 16,
   "id": "31551d20",
   "metadata": {},
   "outputs": [
    {
     "data": {
      "text/plain": [
       "array(['M', 'F', 'I'], dtype=object)"
      ]
     },
     "execution_count": 16,
     "metadata": {},
     "output_type": "execute_result"
    }
   ],
   "source": [
    "df['Sex'].unique()"
   ]
  },
  {
   "cell_type": "code",
   "execution_count": 17,
   "id": "66374560",
   "metadata": {},
   "outputs": [
    {
     "data": {
      "text/html": [
       "<div>\n",
       "<style scoped>\n",
       "    .dataframe tbody tr th:only-of-type {\n",
       "        vertical-align: middle;\n",
       "    }\n",
       "\n",
       "    .dataframe tbody tr th {\n",
       "        vertical-align: top;\n",
       "    }\n",
       "\n",
       "    .dataframe thead th {\n",
       "        text-align: right;\n",
       "    }\n",
       "</style>\n",
       "<table border=\"1\" class=\"dataframe\">\n",
       "  <thead>\n",
       "    <tr style=\"text-align: right;\">\n",
       "      <th></th>\n",
       "      <th>Sex</th>\n",
       "      <th>Length</th>\n",
       "      <th>Diameter</th>\n",
       "      <th>Height</th>\n",
       "      <th>Whole weight</th>\n",
       "      <th>Shucked weight</th>\n",
       "      <th>Viscera weight</th>\n",
       "      <th>Shell weight</th>\n",
       "      <th>Rings</th>\n",
       "    </tr>\n",
       "  </thead>\n",
       "  <tbody>\n",
       "  </tbody>\n",
       "</table>\n",
       "</div>"
      ],
      "text/plain": [
       "Empty DataFrame\n",
       "Columns: [Sex, Length, Diameter, Height, Whole weight, Shucked weight, Viscera weight, Shell weight, Rings]\n",
       "Index: []"
      ]
     },
     "execution_count": 17,
     "metadata": {},
     "output_type": "execute_result"
    }
   ],
   "source": [
    "df.loc[df['Sex']== \" \"]"
   ]
  },
  {
   "cell_type": "markdown",
   "id": "9ae79074",
   "metadata": {},
   "source": [
    "#### None of the Sex column is blank that is good"
   ]
  },
  {
   "cell_type": "code",
   "execution_count": 18,
   "id": "c1be49c1",
   "metadata": {},
   "outputs": [
    {
     "data": {
      "text/html": [
       "<div>\n",
       "<style scoped>\n",
       "    .dataframe tbody tr th:only-of-type {\n",
       "        vertical-align: middle;\n",
       "    }\n",
       "\n",
       "    .dataframe tbody tr th {\n",
       "        vertical-align: top;\n",
       "    }\n",
       "\n",
       "    .dataframe thead th {\n",
       "        text-align: right;\n",
       "    }\n",
       "</style>\n",
       "<table border=\"1\" class=\"dataframe\">\n",
       "  <thead>\n",
       "    <tr style=\"text-align: right;\">\n",
       "      <th></th>\n",
       "      <th>Length</th>\n",
       "      <th>Diameter</th>\n",
       "      <th>Height</th>\n",
       "      <th>Whole weight</th>\n",
       "      <th>Shucked weight</th>\n",
       "      <th>Viscera weight</th>\n",
       "      <th>Shell weight</th>\n",
       "      <th>Rings</th>\n",
       "    </tr>\n",
       "  </thead>\n",
       "  <tbody>\n",
       "    <tr>\n",
       "      <th>count</th>\n",
       "      <td>4177.000000</td>\n",
       "      <td>4177.000000</td>\n",
       "      <td>4177.000000</td>\n",
       "      <td>4177.000000</td>\n",
       "      <td>4177.000000</td>\n",
       "      <td>4177.000000</td>\n",
       "      <td>4177.000000</td>\n",
       "      <td>4177.000000</td>\n",
       "    </tr>\n",
       "    <tr>\n",
       "      <th>mean</th>\n",
       "      <td>0.523992</td>\n",
       "      <td>0.407881</td>\n",
       "      <td>0.139516</td>\n",
       "      <td>0.828742</td>\n",
       "      <td>0.359367</td>\n",
       "      <td>0.180594</td>\n",
       "      <td>0.238831</td>\n",
       "      <td>9.933684</td>\n",
       "    </tr>\n",
       "    <tr>\n",
       "      <th>std</th>\n",
       "      <td>0.120093</td>\n",
       "      <td>0.099240</td>\n",
       "      <td>0.041827</td>\n",
       "      <td>0.490389</td>\n",
       "      <td>0.221963</td>\n",
       "      <td>0.109614</td>\n",
       "      <td>0.139203</td>\n",
       "      <td>3.224169</td>\n",
       "    </tr>\n",
       "    <tr>\n",
       "      <th>min</th>\n",
       "      <td>0.075000</td>\n",
       "      <td>0.055000</td>\n",
       "      <td>0.000000</td>\n",
       "      <td>0.002000</td>\n",
       "      <td>0.001000</td>\n",
       "      <td>0.000500</td>\n",
       "      <td>0.001500</td>\n",
       "      <td>1.000000</td>\n",
       "    </tr>\n",
       "    <tr>\n",
       "      <th>25%</th>\n",
       "      <td>0.450000</td>\n",
       "      <td>0.350000</td>\n",
       "      <td>0.115000</td>\n",
       "      <td>0.441500</td>\n",
       "      <td>0.186000</td>\n",
       "      <td>0.093500</td>\n",
       "      <td>0.130000</td>\n",
       "      <td>8.000000</td>\n",
       "    </tr>\n",
       "    <tr>\n",
       "      <th>50%</th>\n",
       "      <td>0.545000</td>\n",
       "      <td>0.425000</td>\n",
       "      <td>0.140000</td>\n",
       "      <td>0.799500</td>\n",
       "      <td>0.336000</td>\n",
       "      <td>0.171000</td>\n",
       "      <td>0.234000</td>\n",
       "      <td>9.000000</td>\n",
       "    </tr>\n",
       "    <tr>\n",
       "      <th>75%</th>\n",
       "      <td>0.615000</td>\n",
       "      <td>0.480000</td>\n",
       "      <td>0.165000</td>\n",
       "      <td>1.153000</td>\n",
       "      <td>0.502000</td>\n",
       "      <td>0.253000</td>\n",
       "      <td>0.329000</td>\n",
       "      <td>11.000000</td>\n",
       "    </tr>\n",
       "    <tr>\n",
       "      <th>max</th>\n",
       "      <td>0.815000</td>\n",
       "      <td>0.650000</td>\n",
       "      <td>1.130000</td>\n",
       "      <td>2.825500</td>\n",
       "      <td>1.488000</td>\n",
       "      <td>0.760000</td>\n",
       "      <td>1.005000</td>\n",
       "      <td>29.000000</td>\n",
       "    </tr>\n",
       "  </tbody>\n",
       "</table>\n",
       "</div>"
      ],
      "text/plain": [
       "            Length     Diameter       Height  Whole weight  Shucked weight  \\\n",
       "count  4177.000000  4177.000000  4177.000000   4177.000000     4177.000000   \n",
       "mean      0.523992     0.407881     0.139516      0.828742        0.359367   \n",
       "std       0.120093     0.099240     0.041827      0.490389        0.221963   \n",
       "min       0.075000     0.055000     0.000000      0.002000        0.001000   \n",
       "25%       0.450000     0.350000     0.115000      0.441500        0.186000   \n",
       "50%       0.545000     0.425000     0.140000      0.799500        0.336000   \n",
       "75%       0.615000     0.480000     0.165000      1.153000        0.502000   \n",
       "max       0.815000     0.650000     1.130000      2.825500        1.488000   \n",
       "\n",
       "       Viscera weight  Shell weight        Rings  \n",
       "count     4177.000000   4177.000000  4177.000000  \n",
       "mean         0.180594      0.238831     9.933684  \n",
       "std          0.109614      0.139203     3.224169  \n",
       "min          0.000500      0.001500     1.000000  \n",
       "25%          0.093500      0.130000     8.000000  \n",
       "50%          0.171000      0.234000     9.000000  \n",
       "75%          0.253000      0.329000    11.000000  \n",
       "max          0.760000      1.005000    29.000000  "
      ]
     },
     "execution_count": 18,
     "metadata": {},
     "output_type": "execute_result"
    }
   ],
   "source": [
    "df.describe()"
   ]
  },
  {
   "cell_type": "markdown",
   "id": "743e14c7",
   "metadata": {},
   "source": [
    "### We can see that Height is maintained as zero which is not possible"
   ]
  },
  {
   "cell_type": "code",
   "execution_count": 19,
   "id": "8575ba9c",
   "metadata": {},
   "outputs": [
    {
     "data": {
      "text/html": [
       "<div>\n",
       "<style scoped>\n",
       "    .dataframe tbody tr th:only-of-type {\n",
       "        vertical-align: middle;\n",
       "    }\n",
       "\n",
       "    .dataframe tbody tr th {\n",
       "        vertical-align: top;\n",
       "    }\n",
       "\n",
       "    .dataframe thead th {\n",
       "        text-align: right;\n",
       "    }\n",
       "</style>\n",
       "<table border=\"1\" class=\"dataframe\">\n",
       "  <thead>\n",
       "    <tr style=\"text-align: right;\">\n",
       "      <th></th>\n",
       "      <th>Sex</th>\n",
       "      <th>Length</th>\n",
       "      <th>Diameter</th>\n",
       "      <th>Height</th>\n",
       "      <th>Whole weight</th>\n",
       "      <th>Shucked weight</th>\n",
       "      <th>Viscera weight</th>\n",
       "      <th>Shell weight</th>\n",
       "      <th>Rings</th>\n",
       "    </tr>\n",
       "  </thead>\n",
       "  <tbody>\n",
       "    <tr>\n",
       "      <th>1257</th>\n",
       "      <td>I</td>\n",
       "      <td>0.430</td>\n",
       "      <td>0.34</td>\n",
       "      <td>0.0</td>\n",
       "      <td>0.428</td>\n",
       "      <td>0.2065</td>\n",
       "      <td>0.0860</td>\n",
       "      <td>0.1150</td>\n",
       "      <td>8</td>\n",
       "    </tr>\n",
       "    <tr>\n",
       "      <th>3996</th>\n",
       "      <td>I</td>\n",
       "      <td>0.315</td>\n",
       "      <td>0.23</td>\n",
       "      <td>0.0</td>\n",
       "      <td>0.134</td>\n",
       "      <td>0.0575</td>\n",
       "      <td>0.0285</td>\n",
       "      <td>0.3505</td>\n",
       "      <td>6</td>\n",
       "    </tr>\n",
       "  </tbody>\n",
       "</table>\n",
       "</div>"
      ],
      "text/plain": [
       "     Sex  Length  Diameter  Height  Whole weight  Shucked weight  \\\n",
       "1257   I   0.430      0.34     0.0         0.428          0.2065   \n",
       "3996   I   0.315      0.23     0.0         0.134          0.0575   \n",
       "\n",
       "      Viscera weight  Shell weight  Rings  \n",
       "1257          0.0860        0.1150      8  \n",
       "3996          0.0285        0.3505      6  "
      ]
     },
     "execution_count": 19,
     "metadata": {},
     "output_type": "execute_result"
    }
   ],
   "source": [
    "df.loc[df['Height']== 0]"
   ]
  },
  {
   "cell_type": "code",
   "execution_count": 21,
   "id": "eace4443",
   "metadata": {},
   "outputs": [
    {
     "data": {
      "text/plain": [
       "(4177, 9)"
      ]
     },
     "execution_count": 21,
     "metadata": {},
     "output_type": "execute_result"
    }
   ],
   "source": [
    "df.shape"
   ]
  },
  {
   "cell_type": "markdown",
   "id": "343b73d1",
   "metadata": {},
   "source": [
    "#### We have total 4177 rows so dropping 2 rows I dont think will make any big difference"
   ]
  },
  {
   "cell_type": "code",
   "execution_count": 22,
   "id": "52f6ed02",
   "metadata": {},
   "outputs": [],
   "source": [
    "df = df.drop(labels=[1257,3996], axis=0)"
   ]
  },
  {
   "cell_type": "code",
   "execution_count": 31,
   "id": "d0252c0d",
   "metadata": {},
   "outputs": [
    {
     "data": {
      "text/html": [
       "<div>\n",
       "<style scoped>\n",
       "    .dataframe tbody tr th:only-of-type {\n",
       "        vertical-align: middle;\n",
       "    }\n",
       "\n",
       "    .dataframe tbody tr th {\n",
       "        vertical-align: top;\n",
       "    }\n",
       "\n",
       "    .dataframe thead th {\n",
       "        text-align: right;\n",
       "    }\n",
       "</style>\n",
       "<table border=\"1\" class=\"dataframe\">\n",
       "  <thead>\n",
       "    <tr style=\"text-align: right;\">\n",
       "      <th></th>\n",
       "      <th>Length</th>\n",
       "      <th>Diameter</th>\n",
       "      <th>Height</th>\n",
       "      <th>Whole weight</th>\n",
       "      <th>Shucked weight</th>\n",
       "      <th>Viscera weight</th>\n",
       "      <th>Shell weight</th>\n",
       "      <th>Rings</th>\n",
       "    </tr>\n",
       "  </thead>\n",
       "  <tbody>\n",
       "    <tr>\n",
       "      <th>count</th>\n",
       "      <td>4175.000000</td>\n",
       "      <td>4175.00000</td>\n",
       "      <td>4175.000000</td>\n",
       "      <td>4175.000000</td>\n",
       "      <td>4175.000000</td>\n",
       "      <td>4175.000000</td>\n",
       "      <td>4175.000000</td>\n",
       "      <td>4175.000000</td>\n",
       "    </tr>\n",
       "    <tr>\n",
       "      <th>mean</th>\n",
       "      <td>0.524065</td>\n",
       "      <td>0.40794</td>\n",
       "      <td>0.139583</td>\n",
       "      <td>0.829005</td>\n",
       "      <td>0.359476</td>\n",
       "      <td>0.180653</td>\n",
       "      <td>0.238834</td>\n",
       "      <td>9.935090</td>\n",
       "    </tr>\n",
       "    <tr>\n",
       "      <th>std</th>\n",
       "      <td>0.120069</td>\n",
       "      <td>0.09922</td>\n",
       "      <td>0.041725</td>\n",
       "      <td>0.490349</td>\n",
       "      <td>0.221954</td>\n",
       "      <td>0.109605</td>\n",
       "      <td>0.139212</td>\n",
       "      <td>3.224227</td>\n",
       "    </tr>\n",
       "    <tr>\n",
       "      <th>min</th>\n",
       "      <td>0.075000</td>\n",
       "      <td>0.05500</td>\n",
       "      <td>0.010000</td>\n",
       "      <td>0.002000</td>\n",
       "      <td>0.001000</td>\n",
       "      <td>0.000500</td>\n",
       "      <td>0.001500</td>\n",
       "      <td>1.000000</td>\n",
       "    </tr>\n",
       "    <tr>\n",
       "      <th>25%</th>\n",
       "      <td>0.450000</td>\n",
       "      <td>0.35000</td>\n",
       "      <td>0.115000</td>\n",
       "      <td>0.442250</td>\n",
       "      <td>0.186250</td>\n",
       "      <td>0.093500</td>\n",
       "      <td>0.130000</td>\n",
       "      <td>8.000000</td>\n",
       "    </tr>\n",
       "    <tr>\n",
       "      <th>50%</th>\n",
       "      <td>0.545000</td>\n",
       "      <td>0.42500</td>\n",
       "      <td>0.140000</td>\n",
       "      <td>0.800000</td>\n",
       "      <td>0.336000</td>\n",
       "      <td>0.171000</td>\n",
       "      <td>0.234000</td>\n",
       "      <td>9.000000</td>\n",
       "    </tr>\n",
       "    <tr>\n",
       "      <th>75%</th>\n",
       "      <td>0.615000</td>\n",
       "      <td>0.48000</td>\n",
       "      <td>0.165000</td>\n",
       "      <td>1.153500</td>\n",
       "      <td>0.502000</td>\n",
       "      <td>0.253000</td>\n",
       "      <td>0.328750</td>\n",
       "      <td>11.000000</td>\n",
       "    </tr>\n",
       "    <tr>\n",
       "      <th>max</th>\n",
       "      <td>0.815000</td>\n",
       "      <td>0.65000</td>\n",
       "      <td>1.130000</td>\n",
       "      <td>2.825500</td>\n",
       "      <td>1.488000</td>\n",
       "      <td>0.760000</td>\n",
       "      <td>1.005000</td>\n",
       "      <td>29.000000</td>\n",
       "    </tr>\n",
       "  </tbody>\n",
       "</table>\n",
       "</div>"
      ],
      "text/plain": [
       "            Length    Diameter       Height  Whole weight  Shucked weight  \\\n",
       "count  4175.000000  4175.00000  4175.000000   4175.000000     4175.000000   \n",
       "mean      0.524065     0.40794     0.139583      0.829005        0.359476   \n",
       "std       0.120069     0.09922     0.041725      0.490349        0.221954   \n",
       "min       0.075000     0.05500     0.010000      0.002000        0.001000   \n",
       "25%       0.450000     0.35000     0.115000      0.442250        0.186250   \n",
       "50%       0.545000     0.42500     0.140000      0.800000        0.336000   \n",
       "75%       0.615000     0.48000     0.165000      1.153500        0.502000   \n",
       "max       0.815000     0.65000     1.130000      2.825500        1.488000   \n",
       "\n",
       "       Viscera weight  Shell weight        Rings  \n",
       "count     4175.000000   4175.000000  4175.000000  \n",
       "mean         0.180653      0.238834     9.935090  \n",
       "std          0.109605      0.139212     3.224227  \n",
       "min          0.000500      0.001500     1.000000  \n",
       "25%          0.093500      0.130000     8.000000  \n",
       "50%          0.171000      0.234000     9.000000  \n",
       "75%          0.253000      0.328750    11.000000  \n",
       "max          0.760000      1.005000    29.000000  "
      ]
     },
     "execution_count": 31,
     "metadata": {},
     "output_type": "execute_result"
    }
   ],
   "source": [
    "df.describe()"
   ]
  },
  {
   "cell_type": "markdown",
   "id": "3cbe78c9",
   "metadata": {},
   "source": [
    " # Making DataFrame for Nominal data"
   ]
  },
  {
   "cell_type": "code",
   "execution_count": 33,
   "id": "01734999",
   "metadata": {},
   "outputs": [],
   "source": [
    "df_visualization_nominal = df[['Sex','Length','Diameter','Height','Whole weight','Shucked weight','Viscera weight','Shell weight','Rings']].copy()"
   ]
  },
  {
   "cell_type": "code",
   "execution_count": 34,
   "id": "986d0af5",
   "metadata": {},
   "outputs": [
    {
     "data": {
      "text/html": [
       "<div>\n",
       "<style scoped>\n",
       "    .dataframe tbody tr th:only-of-type {\n",
       "        vertical-align: middle;\n",
       "    }\n",
       "\n",
       "    .dataframe tbody tr th {\n",
       "        vertical-align: top;\n",
       "    }\n",
       "\n",
       "    .dataframe thead th {\n",
       "        text-align: right;\n",
       "    }\n",
       "</style>\n",
       "<table border=\"1\" class=\"dataframe\">\n",
       "  <thead>\n",
       "    <tr style=\"text-align: right;\">\n",
       "      <th></th>\n",
       "      <th>Length</th>\n",
       "      <th>Diameter</th>\n",
       "      <th>Height</th>\n",
       "      <th>Whole weight</th>\n",
       "      <th>Shucked weight</th>\n",
       "      <th>Viscera weight</th>\n",
       "      <th>Shell weight</th>\n",
       "      <th>Rings</th>\n",
       "    </tr>\n",
       "  </thead>\n",
       "  <tbody>\n",
       "    <tr>\n",
       "      <th>count</th>\n",
       "      <td>4175.000000</td>\n",
       "      <td>4175.00000</td>\n",
       "      <td>4175.000000</td>\n",
       "      <td>4175.000000</td>\n",
       "      <td>4175.000000</td>\n",
       "      <td>4175.000000</td>\n",
       "      <td>4175.000000</td>\n",
       "      <td>4175.000000</td>\n",
       "    </tr>\n",
       "    <tr>\n",
       "      <th>mean</th>\n",
       "      <td>0.524065</td>\n",
       "      <td>0.40794</td>\n",
       "      <td>0.139583</td>\n",
       "      <td>0.829005</td>\n",
       "      <td>0.359476</td>\n",
       "      <td>0.180653</td>\n",
       "      <td>0.238834</td>\n",
       "      <td>9.935090</td>\n",
       "    </tr>\n",
       "    <tr>\n",
       "      <th>std</th>\n",
       "      <td>0.120069</td>\n",
       "      <td>0.09922</td>\n",
       "      <td>0.041725</td>\n",
       "      <td>0.490349</td>\n",
       "      <td>0.221954</td>\n",
       "      <td>0.109605</td>\n",
       "      <td>0.139212</td>\n",
       "      <td>3.224227</td>\n",
       "    </tr>\n",
       "    <tr>\n",
       "      <th>min</th>\n",
       "      <td>0.075000</td>\n",
       "      <td>0.05500</td>\n",
       "      <td>0.010000</td>\n",
       "      <td>0.002000</td>\n",
       "      <td>0.001000</td>\n",
       "      <td>0.000500</td>\n",
       "      <td>0.001500</td>\n",
       "      <td>1.000000</td>\n",
       "    </tr>\n",
       "    <tr>\n",
       "      <th>25%</th>\n",
       "      <td>0.450000</td>\n",
       "      <td>0.35000</td>\n",
       "      <td>0.115000</td>\n",
       "      <td>0.442250</td>\n",
       "      <td>0.186250</td>\n",
       "      <td>0.093500</td>\n",
       "      <td>0.130000</td>\n",
       "      <td>8.000000</td>\n",
       "    </tr>\n",
       "    <tr>\n",
       "      <th>50%</th>\n",
       "      <td>0.545000</td>\n",
       "      <td>0.42500</td>\n",
       "      <td>0.140000</td>\n",
       "      <td>0.800000</td>\n",
       "      <td>0.336000</td>\n",
       "      <td>0.171000</td>\n",
       "      <td>0.234000</td>\n",
       "      <td>9.000000</td>\n",
       "    </tr>\n",
       "    <tr>\n",
       "      <th>75%</th>\n",
       "      <td>0.615000</td>\n",
       "      <td>0.48000</td>\n",
       "      <td>0.165000</td>\n",
       "      <td>1.153500</td>\n",
       "      <td>0.502000</td>\n",
       "      <td>0.253000</td>\n",
       "      <td>0.328750</td>\n",
       "      <td>11.000000</td>\n",
       "    </tr>\n",
       "    <tr>\n",
       "      <th>max</th>\n",
       "      <td>0.815000</td>\n",
       "      <td>0.65000</td>\n",
       "      <td>1.130000</td>\n",
       "      <td>2.825500</td>\n",
       "      <td>1.488000</td>\n",
       "      <td>0.760000</td>\n",
       "      <td>1.005000</td>\n",
       "      <td>29.000000</td>\n",
       "    </tr>\n",
       "  </tbody>\n",
       "</table>\n",
       "</div>"
      ],
      "text/plain": [
       "            Length    Diameter       Height  Whole weight  Shucked weight  \\\n",
       "count  4175.000000  4175.00000  4175.000000   4175.000000     4175.000000   \n",
       "mean      0.524065     0.40794     0.139583      0.829005        0.359476   \n",
       "std       0.120069     0.09922     0.041725      0.490349        0.221954   \n",
       "min       0.075000     0.05500     0.010000      0.002000        0.001000   \n",
       "25%       0.450000     0.35000     0.115000      0.442250        0.186250   \n",
       "50%       0.545000     0.42500     0.140000      0.800000        0.336000   \n",
       "75%       0.615000     0.48000     0.165000      1.153500        0.502000   \n",
       "max       0.815000     0.65000     1.130000      2.825500        1.488000   \n",
       "\n",
       "       Viscera weight  Shell weight        Rings  \n",
       "count     4175.000000   4175.000000  4175.000000  \n",
       "mean         0.180653      0.238834     9.935090  \n",
       "std          0.109605      0.139212     3.224227  \n",
       "min          0.000500      0.001500     1.000000  \n",
       "25%          0.093500      0.130000     8.000000  \n",
       "50%          0.171000      0.234000     9.000000  \n",
       "75%          0.253000      0.328750    11.000000  \n",
       "max          0.760000      1.005000    29.000000  "
      ]
     },
     "execution_count": 34,
     "metadata": {},
     "output_type": "execute_result"
    }
   ],
   "source": [
    "df_visualization_nominal.describe()"
   ]
  },
  {
   "cell_type": "markdown",
   "id": "7907b094",
   "metadata": {},
   "source": [
    "# Visualization of Data :"
   ]
  },
  {
   "cell_type": "code",
   "execution_count": 37,
   "id": "2b16af11",
   "metadata": {},
   "outputs": [],
   "source": [
    "import seaborn as sns"
   ]
  },
  {
   "cell_type": "code",
   "execution_count": 38,
   "id": "eb5fc56a",
   "metadata": {},
   "outputs": [
    {
     "name": "stdout",
     "output_type": "stream",
     "text": [
      "M    1528\n",
      "I    1340\n",
      "F    1307\n",
      "Name: Sex, dtype: int64\n"
     ]
    },
    {
     "data": {
      "image/png": "[encoded data removed]",
      "text/plain": [
       "<Figure size 432x288 with 1 Axes>"
      ]
     },
     "metadata": {
      "needs_background": "light"
     },
     "output_type": "display_data"
    }
   ],
   "source": [
    "ax = sns.countplot(x=\"Sex\",data=df_visualization_nominal)\n",
    "print(df_visualization_nominal[\"Sex\"].value_counts())"
   ]
  },
  {
   "cell_type": "markdown",
   "id": "a3945618",
   "metadata": {},
   "source": [
    "From the above data we can see that 1528 is Male, 1340 is Infant and 1307 is Female"
   ]
  },
  {
   "cell_type": "markdown",
   "id": "9582418a",
   "metadata": {},
   "source": [
    "# Visualization of ordinal Data"
   ]
  },
  {
   "cell_type": "code",
   "execution_count": 39,
   "id": "9924b6d3",
   "metadata": {},
   "outputs": [],
   "source": [
    "df_visualization_ordinal = df[[\"Sex\",\"Rings\"]].copy"
   ]
  },
  {
   "cell_type": "code",
   "execution_count": 40,
   "id": "8ef43854",
   "metadata": {},
   "outputs": [
    {
     "data": {
      "text/plain": [
       "<seaborn.axisgrid.FacetGrid at 0x1c6ac610f40>"
      ]
     },
     "execution_count": 40,
     "metadata": {},
     "output_type": "execute_result"
    },
    {
     "data": {
      "image/png": "[encoded data removed]",
      "text/plain": [
       "<Figure size 360x360 with 1 Axes>"
      ]
     },
     "metadata": {
      "needs_background": "light"
     },
     "output_type": "display_data"
    }
   ],
   "source": [
    "sns.catplot(x=\"Sex\", y= \"Rings\", data=df)"
   ]
  },
  {
   "cell_type": "markdown",
   "id": "550057ba",
   "metadata": {},
   "source": [
    "# Checking the distribution of continious  value of the float datatype"
   ]
  },
  {
   "cell_type": "code",
   "execution_count": 45,
   "id": "257a0781",
   "metadata": {},
   "outputs": [],
   "source": [
    "df_visualization_continious= df[['Length','Diameter','Height','Whole weight','Shucked weight','Viscera weight','Shell weight','Rings']]"
   ]
  },
  {
   "cell_type": "code",
   "execution_count": 49,
   "id": "0819a0b0",
   "metadata": {},
   "outputs": [
    {
     "data": {
      "text/plain": [
       "<AxesSubplot:xlabel='Length', ylabel='Density'>"
      ]
     },
     "execution_count": 49,
     "metadata": {},
     "output_type": "execute_result"
    },
    {
     "data": {
      "image/png": "[encoded data removed]",
      "text/plain": [
       "<Figure size 432x288 with 1 Axes>"
      ]
     },
     "metadata": {
      "needs_background": "light"
     },
     "output_type": "display_data"
    }
   ],
   "source": [
    "import seaborn as sns\n",
    "sns.distplot(df_visualization_continious['Length'],kde=True)"
   ]
  },
  {
   "cell_type": "code",
   "execution_count": 51,
   "id": "f363f5ab",
   "metadata": {},
   "outputs": [
    {
     "data": {
      "text/plain": [
       "<AxesSubplot:xlabel='Diameter', ylabel='Density'>"
      ]
     },
     "execution_count": 51,
     "metadata": {},
     "output_type": "execute_result"
    },
    {
     "data": {
      "image/png": "[encoded data removed]",
      "text/plain": [
       "<Figure size 432x288 with 1 Axes>"
      ]
     },
     "metadata": {
      "needs_background": "light"
     },
     "output_type": "display_data"
    }
   ],
   "source": [
    "sns.distplot(df_visualization_continious['Diameter'],kde=True)"
   ]
  },
  {
   "cell_type": "code",
   "execution_count": 52,
   "id": "6aaba968",
   "metadata": {},
   "outputs": [
    {
     "data": {
      "text/plain": [
       "<AxesSubplot:xlabel='Height', ylabel='Density'>"
      ]
     },
     "execution_count": 52,
     "metadata": {},
     "output_type": "execute_result"
    },
    {
     "data": {
      "image/png": "[encoded data removed]",
      "text/plain": [
       "<Figure size 432x288 with 1 Axes>"
      ]
     },
     "metadata": {
      "needs_background": "light"
     },
     "output_type": "display_data"
    }
   ],
   "source": [
    "sns.distplot(df_visualization_continious['Height'],kde=True)"
   ]
  },
  {
   "cell_type": "code",
   "execution_count": 53,
   "id": "466471f2",
   "metadata": {},
   "outputs": [
    {
     "data": {
      "text/plain": [
       "<AxesSubplot:xlabel='Whole weight', ylabel='Density'>"
      ]
     },
     "execution_count": 53,
     "metadata": {},
     "output_type": "execute_result"
    },
    {
     "data": {
      "image/png": "[encoded data removed]",
      "text/plain": [
       "<Figure size 432x288 with 1 Axes>"
      ]
     },
     "metadata": {
      "needs_background": "light"
     },
     "output_type": "display_data"
    }
   ],
   "source": [
    "sns.distplot(df_visualization_continious['Whole weight'],kde=True)"
   ]
  },
  {
   "cell_type": "code",
   "execution_count": 54,
   "id": "c6b7658a",
   "metadata": {},
   "outputs": [
    {
     "data": {
      "text/plain": [
       "<AxesSubplot:xlabel='Shucked weight', ylabel='Density'>"
      ]
     },
     "execution_count": 54,
     "metadata": {},
     "output_type": "execute_result"
    },
    {
     "data": {
      "image/png": "[encoded data removed]",
      "text/plain": [
       "<Figure size 432x288 with 1 Axes>"
      ]
     },
     "metadata": {
      "needs_background": "light"
     },
     "output_type": "display_data"
    }
   ],
   "source": [
    "sns.distplot(df_visualization_continious['Shucked weight'],kde=True)"
   ]
  },
  {
   "cell_type": "code",
   "execution_count": 55,
   "id": "ba297c6f",
   "metadata": {},
   "outputs": [
    {
     "data": {
      "text/plain": [
       "<AxesSubplot:xlabel='Viscera weight', ylabel='Density'>"
      ]
     },
     "execution_count": 55,
     "metadata": {},
     "output_type": "execute_result"
    },
    {
     "data": {
      "image/png": "[encoded data removed]",
      "text/plain": [
       "<Figure size 432x288 with 1 Axes>"
      ]
     },
     "metadata": {
      "needs_background": "light"
     },
     "output_type": "display_data"
    }
   ],
   "source": [
    "sns.distplot(df_visualization_continious['Viscera weight'],kde=True)"
   ]
  },
  {
   "cell_type": "code",
   "execution_count": 56,
   "id": "497df584",
   "metadata": {},
   "outputs": [
    {
     "data": {
      "text/plain": [
       "<AxesSubplot:xlabel='Shell weight', ylabel='Density'>"
      ]
     },
     "execution_count": 56,
     "metadata": {},
     "output_type": "execute_result"
    },
    {
     "data": {
      "image/png": "[encoded data removed]",
      "text/plain": [
       "<Figure size 432x288 with 1 Axes>"
      ]
     },
     "metadata": {
      "needs_background": "light"
     },
     "output_type": "display_data"
    }
   ],
   "source": [
    "sns.distplot(df_visualization_continious['Shell weight'],kde=True)"
   ]
  },
  {
   "cell_type": "code",
   "execution_count": 57,
   "id": "5ebcd062",
   "metadata": {},
   "outputs": [
    {
     "data": {
      "text/plain": [
       "<AxesSubplot:xlabel='Rings', ylabel='Density'>"
      ]
     },
     "execution_count": 57,
     "metadata": {},
     "output_type": "execute_result"
    },
    {
     "data": {
      "image/png": "[encoded data removed]",
      "text/plain": [
       "<Figure size 432x288 with 1 Axes>"
      ]
     },
     "metadata": {
      "needs_background": "light"
     },
     "output_type": "display_data"
    }
   ],
   "source": [
    "sns.distplot(df_visualization_continious['Rings'],kde=True)"
   ]
  },
  {
   "cell_type": "markdown",
   "id": "db326e3a",
   "metadata": {},
   "source": [
    "# Encoding of DataFrame :"
   ]
  },
  {
   "cell_type": "code",
   "execution_count": 59,
   "id": "1c437743",
   "metadata": {},
   "outputs": [],
   "source": [
    "from sklearn.preprocessing import OrdinalEncoder\n",
    "enc= OrdinalEncoder()"
   ]
  },
  {
   "cell_type": "code",
   "execution_count": 60,
   "id": "f22c9f0a",
   "metadata": {},
   "outputs": [],
   "source": [
    "for i in df.columns:\n",
    "    if df[i].dtypes==\"object\":\n",
    "        df[i]=enc.fit_transform(df[i].values.reshape(-1,1))"
   ]
  },
  {
   "cell_type": "code",
   "execution_count": 66,
   "id": "a56eb1b2",
   "metadata": {},
   "outputs": [
    {
     "data": {
      "text/html": [
       "<div>\n",
       "<style scoped>\n",
       "    .dataframe tbody tr th:only-of-type {\n",
       "        vertical-align: middle;\n",
       "    }\n",
       "\n",
       "    .dataframe tbody tr th {\n",
       "        vertical-align: top;\n",
       "    }\n",
       "\n",
       "    .dataframe thead th {\n",
       "        text-align: right;\n",
       "    }\n",
       "</style>\n",
       "<table border=\"1\" class=\"dataframe\">\n",
       "  <thead>\n",
       "    <tr style=\"text-align: right;\">\n",
       "      <th></th>\n",
       "      <th>Sex</th>\n",
       "      <th>Length</th>\n",
       "      <th>Diameter</th>\n",
       "      <th>Height</th>\n",
       "      <th>Whole weight</th>\n",
       "      <th>Shucked weight</th>\n",
       "      <th>Viscera weight</th>\n",
       "      <th>Shell weight</th>\n",
       "      <th>Rings</th>\n",
       "    </tr>\n",
       "  </thead>\n",
       "  <tbody>\n",
       "    <tr>\n",
       "      <th>0</th>\n",
       "      <td>2.0</td>\n",
       "      <td>0.455</td>\n",
       "      <td>0.365</td>\n",
       "      <td>0.095</td>\n",
       "      <td>0.5140</td>\n",
       "      <td>0.2245</td>\n",
       "      <td>0.1010</td>\n",
       "      <td>0.1500</td>\n",
       "      <td>15</td>\n",
       "    </tr>\n",
       "    <tr>\n",
       "      <th>1</th>\n",
       "      <td>2.0</td>\n",
       "      <td>0.350</td>\n",
       "      <td>0.265</td>\n",
       "      <td>0.090</td>\n",
       "      <td>0.2255</td>\n",
       "      <td>0.0995</td>\n",
       "      <td>0.0485</td>\n",
       "      <td>0.0700</td>\n",
       "      <td>7</td>\n",
       "    </tr>\n",
       "    <tr>\n",
       "      <th>2</th>\n",
       "      <td>0.0</td>\n",
       "      <td>0.530</td>\n",
       "      <td>0.420</td>\n",
       "      <td>0.135</td>\n",
       "      <td>0.6770</td>\n",
       "      <td>0.2565</td>\n",
       "      <td>0.1415</td>\n",
       "      <td>0.2100</td>\n",
       "      <td>9</td>\n",
       "    </tr>\n",
       "    <tr>\n",
       "      <th>3</th>\n",
       "      <td>2.0</td>\n",
       "      <td>0.440</td>\n",
       "      <td>0.365</td>\n",
       "      <td>0.125</td>\n",
       "      <td>0.5160</td>\n",
       "      <td>0.2155</td>\n",
       "      <td>0.1140</td>\n",
       "      <td>0.1550</td>\n",
       "      <td>10</td>\n",
       "    </tr>\n",
       "    <tr>\n",
       "      <th>4</th>\n",
       "      <td>1.0</td>\n",
       "      <td>0.330</td>\n",
       "      <td>0.255</td>\n",
       "      <td>0.080</td>\n",
       "      <td>0.2050</td>\n",
       "      <td>0.0895</td>\n",
       "      <td>0.0395</td>\n",
       "      <td>0.0550</td>\n",
       "      <td>7</td>\n",
       "    </tr>\n",
       "    <tr>\n",
       "      <th>...</th>\n",
       "      <td>...</td>\n",
       "      <td>...</td>\n",
       "      <td>...</td>\n",
       "      <td>...</td>\n",
       "      <td>...</td>\n",
       "      <td>...</td>\n",
       "      <td>...</td>\n",
       "      <td>...</td>\n",
       "      <td>...</td>\n",
       "    </tr>\n",
       "    <tr>\n",
       "      <th>4172</th>\n",
       "      <td>0.0</td>\n",
       "      <td>0.565</td>\n",
       "      <td>0.450</td>\n",
       "      <td>0.165</td>\n",
       "      <td>0.8870</td>\n",
       "      <td>0.3700</td>\n",
       "      <td>0.2390</td>\n",
       "      <td>0.2490</td>\n",
       "      <td>11</td>\n",
       "    </tr>\n",
       "    <tr>\n",
       "      <th>4173</th>\n",
       "      <td>2.0</td>\n",
       "      <td>0.590</td>\n",
       "      <td>0.440</td>\n",
       "      <td>0.135</td>\n",
       "      <td>0.9660</td>\n",
       "      <td>0.4390</td>\n",
       "      <td>0.2145</td>\n",
       "      <td>0.2605</td>\n",
       "      <td>10</td>\n",
       "    </tr>\n",
       "    <tr>\n",
       "      <th>4174</th>\n",
       "      <td>2.0</td>\n",
       "      <td>0.600</td>\n",
       "      <td>0.475</td>\n",
       "      <td>0.205</td>\n",
       "      <td>1.1760</td>\n",
       "      <td>0.5255</td>\n",
       "      <td>0.2875</td>\n",
       "      <td>0.3080</td>\n",
       "      <td>9</td>\n",
       "    </tr>\n",
       "    <tr>\n",
       "      <th>4175</th>\n",
       "      <td>0.0</td>\n",
       "      <td>0.625</td>\n",
       "      <td>0.485</td>\n",
       "      <td>0.150</td>\n",
       "      <td>1.0945</td>\n",
       "      <td>0.5310</td>\n",
       "      <td>0.2610</td>\n",
       "      <td>0.2960</td>\n",
       "      <td>10</td>\n",
       "    </tr>\n",
       "    <tr>\n",
       "      <th>4176</th>\n",
       "      <td>2.0</td>\n",
       "      <td>0.710</td>\n",
       "      <td>0.555</td>\n",
       "      <td>0.195</td>\n",
       "      <td>1.9485</td>\n",
       "      <td>0.9455</td>\n",
       "      <td>0.3765</td>\n",
       "      <td>0.4950</td>\n",
       "      <td>12</td>\n",
       "    </tr>\n",
       "  </tbody>\n",
       "</table>\n",
       "<p>4175 rows × 9 columns</p>\n",
       "</div>"
      ],
      "text/plain": [
       "      Sex  Length  Diameter  Height  Whole weight  Shucked weight  \\\n",
       "0     2.0   0.455     0.365   0.095        0.5140          0.2245   \n",
       "1     2.0   0.350     0.265   0.090        0.2255          0.0995   \n",
       "2     0.0   0.530     0.420   0.135        0.6770          0.2565   \n",
       "3     2.0   0.440     0.365   0.125        0.5160          0.2155   \n",
       "4     1.0   0.330     0.255   0.080        0.2050          0.0895   \n",
       "...   ...     ...       ...     ...           ...             ...   \n",
       "4172  0.0   0.565     0.450   0.165        0.8870          0.3700   \n",
       "4173  2.0   0.590     0.440   0.135        0.9660          0.4390   \n",
       "4174  2.0   0.600     0.475   0.205        1.1760          0.5255   \n",
       "4175  0.0   0.625     0.485   0.150        1.0945          0.5310   \n",
       "4176  2.0   0.710     0.555   0.195        1.9485          0.9455   \n",
       "\n",
       "      Viscera weight  Shell weight  Rings  \n",
       "0             0.1010        0.1500     15  \n",
       "1             0.0485        0.0700      7  \n",
       "2             0.1415        0.2100      9  \n",
       "3             0.1140        0.1550     10  \n",
       "4             0.0395        0.0550      7  \n",
       "...              ...           ...    ...  \n",
       "4172          0.2390        0.2490     11  \n",
       "4173          0.2145        0.2605     10  \n",
       "4174          0.2875        0.3080      9  \n",
       "4175          0.2610        0.2960     10  \n",
       "4176          0.3765        0.4950     12  \n",
       "\n",
       "[4175 rows x 9 columns]"
      ]
     },
     "execution_count": 66,
     "metadata": {},
     "output_type": "execute_result"
    }
   ],
   "source": [
    "df"
   ]
  },
  {
   "cell_type": "markdown",
   "id": "2a353dad",
   "metadata": {},
   "source": [
    "# Describe the Data"
   ]
  },
  {
   "cell_type": "code",
   "execution_count": 67,
   "id": "98b89052",
   "metadata": {},
   "outputs": [
    {
     "data": {
      "text/html": [
       "<div>\n",
       "<style scoped>\n",
       "    .dataframe tbody tr th:only-of-type {\n",
       "        vertical-align: middle;\n",
       "    }\n",
       "\n",
       "    .dataframe tbody tr th {\n",
       "        vertical-align: top;\n",
       "    }\n",
       "\n",
       "    .dataframe thead th {\n",
       "        text-align: right;\n",
       "    }\n",
       "</style>\n",
       "<table border=\"1\" class=\"dataframe\">\n",
       "  <thead>\n",
       "    <tr style=\"text-align: right;\">\n",
       "      <th></th>\n",
       "      <th>Sex</th>\n",
       "      <th>Length</th>\n",
       "      <th>Diameter</th>\n",
       "      <th>Height</th>\n",
       "      <th>Whole weight</th>\n",
       "      <th>Shucked weight</th>\n",
       "      <th>Viscera weight</th>\n",
       "      <th>Shell weight</th>\n",
       "      <th>Rings</th>\n",
       "    </tr>\n",
       "  </thead>\n",
       "  <tbody>\n",
       "    <tr>\n",
       "      <th>count</th>\n",
       "      <td>4175.000000</td>\n",
       "      <td>4175.000000</td>\n",
       "      <td>4175.00000</td>\n",
       "      <td>4175.000000</td>\n",
       "      <td>4175.000000</td>\n",
       "      <td>4175.000000</td>\n",
       "      <td>4175.000000</td>\n",
       "      <td>4175.000000</td>\n",
       "      <td>4175.000000</td>\n",
       "    </tr>\n",
       "    <tr>\n",
       "      <th>mean</th>\n",
       "      <td>1.052934</td>\n",
       "      <td>0.524065</td>\n",
       "      <td>0.40794</td>\n",
       "      <td>0.139583</td>\n",
       "      <td>0.829005</td>\n",
       "      <td>0.359476</td>\n",
       "      <td>0.180653</td>\n",
       "      <td>0.238834</td>\n",
       "      <td>9.935090</td>\n",
       "    </tr>\n",
       "    <tr>\n",
       "      <th>std</th>\n",
       "      <td>0.822437</td>\n",
       "      <td>0.120069</td>\n",
       "      <td>0.09922</td>\n",
       "      <td>0.041725</td>\n",
       "      <td>0.490349</td>\n",
       "      <td>0.221954</td>\n",
       "      <td>0.109605</td>\n",
       "      <td>0.139212</td>\n",
       "      <td>3.224227</td>\n",
       "    </tr>\n",
       "    <tr>\n",
       "      <th>min</th>\n",
       "      <td>0.000000</td>\n",
       "      <td>0.075000</td>\n",
       "      <td>0.05500</td>\n",
       "      <td>0.010000</td>\n",
       "      <td>0.002000</td>\n",
       "      <td>0.001000</td>\n",
       "      <td>0.000500</td>\n",
       "      <td>0.001500</td>\n",
       "      <td>1.000000</td>\n",
       "    </tr>\n",
       "    <tr>\n",
       "      <th>25%</th>\n",
       "      <td>0.000000</td>\n",
       "      <td>0.450000</td>\n",
       "      <td>0.35000</td>\n",
       "      <td>0.115000</td>\n",
       "      <td>0.442250</td>\n",
       "      <td>0.186250</td>\n",
       "      <td>0.093500</td>\n",
       "      <td>0.130000</td>\n",
       "      <td>8.000000</td>\n",
       "    </tr>\n",
       "    <tr>\n",
       "      <th>50%</th>\n",
       "      <td>1.000000</td>\n",
       "      <td>0.545000</td>\n",
       "      <td>0.42500</td>\n",
       "      <td>0.140000</td>\n",
       "      <td>0.800000</td>\n",
       "      <td>0.336000</td>\n",
       "      <td>0.171000</td>\n",
       "      <td>0.234000</td>\n",
       "      <td>9.000000</td>\n",
       "    </tr>\n",
       "    <tr>\n",
       "      <th>75%</th>\n",
       "      <td>2.000000</td>\n",
       "      <td>0.615000</td>\n",
       "      <td>0.48000</td>\n",
       "      <td>0.165000</td>\n",
       "      <td>1.153500</td>\n",
       "      <td>0.502000</td>\n",
       "      <td>0.253000</td>\n",
       "      <td>0.328750</td>\n",
       "      <td>11.000000</td>\n",
       "    </tr>\n",
       "    <tr>\n",
       "      <th>max</th>\n",
       "      <td>2.000000</td>\n",
       "      <td>0.815000</td>\n",
       "      <td>0.65000</td>\n",
       "      <td>1.130000</td>\n",
       "      <td>2.825500</td>\n",
       "      <td>1.488000</td>\n",
       "      <td>0.760000</td>\n",
       "      <td>1.005000</td>\n",
       "      <td>29.000000</td>\n",
       "    </tr>\n",
       "  </tbody>\n",
       "</table>\n",
       "</div>"
      ],
      "text/plain": [
       "               Sex       Length    Diameter       Height  Whole weight  \\\n",
       "count  4175.000000  4175.000000  4175.00000  4175.000000   4175.000000   \n",
       "mean      1.052934     0.524065     0.40794     0.139583      0.829005   \n",
       "std       0.822437     0.120069     0.09922     0.041725      0.490349   \n",
       "min       0.000000     0.075000     0.05500     0.010000      0.002000   \n",
       "25%       0.000000     0.450000     0.35000     0.115000      0.442250   \n",
       "50%       1.000000     0.545000     0.42500     0.140000      0.800000   \n",
       "75%       2.000000     0.615000     0.48000     0.165000      1.153500   \n",
       "max       2.000000     0.815000     0.65000     1.130000      2.825500   \n",
       "\n",
       "       Shucked weight  Viscera weight  Shell weight        Rings  \n",
       "count     4175.000000     4175.000000   4175.000000  4175.000000  \n",
       "mean         0.359476        0.180653      0.238834     9.935090  \n",
       "std          0.221954        0.109605      0.139212     3.224227  \n",
       "min          0.001000        0.000500      0.001500     1.000000  \n",
       "25%          0.186250        0.093500      0.130000     8.000000  \n",
       "50%          0.336000        0.171000      0.234000     9.000000  \n",
       "75%          0.502000        0.253000      0.328750    11.000000  \n",
       "max          1.488000        0.760000      1.005000    29.000000  "
      ]
     },
     "execution_count": 67,
     "metadata": {},
     "output_type": "execute_result"
    }
   ],
   "source": [
    "df.describe() "
   ]
  },
  {
   "cell_type": "code",
   "execution_count": 73,
   "id": "d1dcc32e",
   "metadata": {},
   "outputs": [
    {
     "data": {
      "text/plain": [
       "<AxesSubplot:>"
      ]
     },
     "execution_count": 73,
     "metadata": {},
     "output_type": "execute_result"
    },
    {
     "data": {
      "image/png": "[encoded data removed]",
      "text/plain": [
       "<Figure size 1584x504 with 2 Axes>"
      ]
     },
     "metadata": {
      "needs_background": "light"
     },
     "output_type": "display_data"
    }
   ],
   "source": [
    "import matplotlib.pyplot as plt\n",
    "plt.figure(figsize=(22,7))\n",
    "sns.heatmap(df.describe(),annot = True, linewidths = 0.1,linecolor=\"black\",fmt= \"0.2f\")"
   ]
  },
  {
   "cell_type": "markdown",
   "id": "a227a7b6",
   "metadata": {},
   "source": [
    "# Correlation of the columns with the target columns :"
   ]
  },
  {
   "cell_type": "code",
   "execution_count": 74,
   "id": "287e2f59",
   "metadata": {},
   "outputs": [
    {
     "data": {
      "text/html": [
       "<div>\n",
       "<style scoped>\n",
       "    .dataframe tbody tr th:only-of-type {\n",
       "        vertical-align: middle;\n",
       "    }\n",
       "\n",
       "    .dataframe tbody tr th {\n",
       "        vertical-align: top;\n",
       "    }\n",
       "\n",
       "    .dataframe thead th {\n",
       "        text-align: right;\n",
       "    }\n",
       "</style>\n",
       "<table border=\"1\" class=\"dataframe\">\n",
       "  <thead>\n",
       "    <tr style=\"text-align: right;\">\n",
       "      <th></th>\n",
       "      <th>Sex</th>\n",
       "      <th>Length</th>\n",
       "      <th>Diameter</th>\n",
       "      <th>Height</th>\n",
       "      <th>Whole weight</th>\n",
       "      <th>Shucked weight</th>\n",
       "      <th>Viscera weight</th>\n",
       "      <th>Shell weight</th>\n",
       "      <th>Rings</th>\n",
       "    </tr>\n",
       "  </thead>\n",
       "  <tbody>\n",
       "    <tr>\n",
       "      <th>Sex</th>\n",
       "      <td>1.000000</td>\n",
       "      <td>-0.036121</td>\n",
       "      <td>-0.038930</td>\n",
       "      <td>-0.042293</td>\n",
       "      <td>-0.021433</td>\n",
       "      <td>-0.001405</td>\n",
       "      <td>-0.032112</td>\n",
       "      <td>-0.034862</td>\n",
       "      <td>-0.034663</td>\n",
       "    </tr>\n",
       "    <tr>\n",
       "      <th>Length</th>\n",
       "      <td>-0.036121</td>\n",
       "      <td>1.000000</td>\n",
       "      <td>0.986802</td>\n",
       "      <td>0.828108</td>\n",
       "      <td>0.925217</td>\n",
       "      <td>0.897859</td>\n",
       "      <td>0.902960</td>\n",
       "      <td>0.898419</td>\n",
       "      <td>0.556464</td>\n",
       "    </tr>\n",
       "    <tr>\n",
       "      <th>Diameter</th>\n",
       "      <td>-0.038930</td>\n",
       "      <td>0.986802</td>\n",
       "      <td>1.000000</td>\n",
       "      <td>0.834298</td>\n",
       "      <td>0.925414</td>\n",
       "      <td>0.893108</td>\n",
       "      <td>0.899672</td>\n",
       "      <td>0.906084</td>\n",
       "      <td>0.574418</td>\n",
       "    </tr>\n",
       "    <tr>\n",
       "      <th>Height</th>\n",
       "      <td>-0.042293</td>\n",
       "      <td>0.828108</td>\n",
       "      <td>0.834298</td>\n",
       "      <td>1.000000</td>\n",
       "      <td>0.819886</td>\n",
       "      <td>0.775621</td>\n",
       "      <td>0.798908</td>\n",
       "      <td>0.819596</td>\n",
       "      <td>0.557625</td>\n",
       "    </tr>\n",
       "    <tr>\n",
       "      <th>Whole weight</th>\n",
       "      <td>-0.021433</td>\n",
       "      <td>0.925217</td>\n",
       "      <td>0.925414</td>\n",
       "      <td>0.819886</td>\n",
       "      <td>1.000000</td>\n",
       "      <td>0.969389</td>\n",
       "      <td>0.966354</td>\n",
       "      <td>0.955924</td>\n",
       "      <td>0.540151</td>\n",
       "    </tr>\n",
       "    <tr>\n",
       "      <th>Shucked weight</th>\n",
       "      <td>-0.001405</td>\n",
       "      <td>0.897859</td>\n",
       "      <td>0.893108</td>\n",
       "      <td>0.775621</td>\n",
       "      <td>0.969389</td>\n",
       "      <td>1.000000</td>\n",
       "      <td>0.931924</td>\n",
       "      <td>0.883129</td>\n",
       "      <td>0.420597</td>\n",
       "    </tr>\n",
       "    <tr>\n",
       "      <th>Viscera weight</th>\n",
       "      <td>-0.032112</td>\n",
       "      <td>0.902960</td>\n",
       "      <td>0.899672</td>\n",
       "      <td>0.798908</td>\n",
       "      <td>0.966354</td>\n",
       "      <td>0.931924</td>\n",
       "      <td>1.000000</td>\n",
       "      <td>0.908186</td>\n",
       "      <td>0.503562</td>\n",
       "    </tr>\n",
       "    <tr>\n",
       "      <th>Shell weight</th>\n",
       "      <td>-0.034862</td>\n",
       "      <td>0.898419</td>\n",
       "      <td>0.906084</td>\n",
       "      <td>0.819596</td>\n",
       "      <td>0.955924</td>\n",
       "      <td>0.883129</td>\n",
       "      <td>0.908186</td>\n",
       "      <td>1.000000</td>\n",
       "      <td>0.627928</td>\n",
       "    </tr>\n",
       "    <tr>\n",
       "      <th>Rings</th>\n",
       "      <td>-0.034663</td>\n",
       "      <td>0.556464</td>\n",
       "      <td>0.574418</td>\n",
       "      <td>0.557625</td>\n",
       "      <td>0.540151</td>\n",
       "      <td>0.420597</td>\n",
       "      <td>0.503562</td>\n",
       "      <td>0.627928</td>\n",
       "      <td>1.000000</td>\n",
       "    </tr>\n",
       "  </tbody>\n",
       "</table>\n",
       "</div>"
      ],
      "text/plain": [
       "                     Sex    Length  Diameter    Height  Whole weight  \\\n",
       "Sex             1.000000 -0.036121 -0.038930 -0.042293     -0.021433   \n",
       "Length         -0.036121  1.000000  0.986802  0.828108      0.925217   \n",
       "Diameter       -0.038930  0.986802  1.000000  0.834298      0.925414   \n",
       "Height         -0.042293  0.828108  0.834298  1.000000      0.819886   \n",
       "Whole weight   -0.021433  0.925217  0.925414  0.819886      1.000000   \n",
       "Shucked weight -0.001405  0.897859  0.893108  0.775621      0.969389   \n",
       "Viscera weight -0.032112  0.902960  0.899672  0.798908      0.966354   \n",
       "Shell weight   -0.034862  0.898419  0.906084  0.819596      0.955924   \n",
       "Rings          -0.034663  0.556464  0.574418  0.557625      0.540151   \n",
       "\n",
       "                Shucked weight  Viscera weight  Shell weight     Rings  \n",
       "Sex                  -0.001405       -0.032112     -0.034862 -0.034663  \n",
       "Length                0.897859        0.902960      0.898419  0.556464  \n",
       "Diameter              0.893108        0.899672      0.906084  0.574418  \n",
       "Height                0.775621        0.798908      0.819596  0.557625  \n",
       "Whole weight          0.969389        0.966354      0.955924  0.540151  \n",
       "Shucked weight        1.000000        0.931924      0.883129  0.420597  \n",
       "Viscera weight        0.931924        1.000000      0.908186  0.503562  \n",
       "Shell weight          0.883129        0.908186      1.000000  0.627928  \n",
       "Rings                 0.420597        0.503562      0.627928  1.000000  "
      ]
     },
     "execution_count": 74,
     "metadata": {},
     "output_type": "execute_result"
    }
   ],
   "source": [
    "df.corr()"
   ]
  },
  {
   "cell_type": "code",
   "execution_count": 76,
   "id": "130b8ca4",
   "metadata": {},
   "outputs": [
    {
     "data": {
      "text/plain": [
       "<AxesSubplot:>"
      ]
     },
     "execution_count": 76,
     "metadata": {},
     "output_type": "execute_result"
    },
    {
     "data": {
      "image/png": "[encoded data removed]",
      "text/plain": [
       "<Figure size 1440x504 with 2 Axes>"
      ]
     },
     "metadata": {
      "needs_background": "light"
     },
     "output_type": "display_data"
    }
   ],
   "source": [
    "plt.figure(figsize=(20,7))\n",
    "sns.heatmap(df.corr(),annot = True, linewidths = 0.1,linecolor=\"black\",fmt= \"0.2f\")"
   ]
  },
  {
   "cell_type": "code",
   "execution_count": 77,
   "id": "526a18f4",
   "metadata": {},
   "outputs": [
    {
     "data": {
      "text/plain": [
       "Sex              -0.098224\n",
       "Length           -0.640993\n",
       "Diameter         -0.610182\n",
       "Height            3.166364\n",
       "Whole weight      0.530549\n",
       "Shucked weight    0.718735\n",
       "Viscera weight    0.591455\n",
       "Shell weight      0.621081\n",
       "Rings             1.113754\n",
       "dtype: float64"
      ]
     },
     "execution_count": 77,
     "metadata": {},
     "output_type": "execute_result"
    }
   ],
   "source": [
    "df.skew()"
   ]
  },
  {
   "cell_type": "markdown",
   "id": "e65ba8bf",
   "metadata": {},
   "source": [
    "Keeping +/-0.5 as range of skewness, here are the columns which does not lie within the Range\n",
    "\n",
    "Sex- Categorical \n",
    "\n",
    "Rings - target variable\n",
    "\n",
    "Height is highly positively skewd\n",
    "\n",
    "Shucked weight,Shell weight is positively Skewd\n",
    "\n",
    "Length and Daimenter is Negatively Skewd"
   ]
  },
  {
   "cell_type": "markdown",
   "id": "0083e48a",
   "metadata": {},
   "source": [
    "# Outliers Check"
   ]
  },
  {
   "cell_type": "code",
   "execution_count": 78,
   "id": "14f01f9d",
   "metadata": {},
   "outputs": [
    {
     "data": {
      "text/plain": [
       "Sex               float64\n",
       "Length            float64\n",
       "Diameter          float64\n",
       "Height            float64\n",
       "Whole weight      float64\n",
       "Shucked weight    float64\n",
       "Viscera weight    float64\n",
       "Shell weight      float64\n",
       "Rings               int64\n",
       "dtype: object"
      ]
     },
     "execution_count": 78,
     "metadata": {},
     "output_type": "execute_result"
    }
   ],
   "source": [
    "df.dtypes"
   ]
  },
  {
   "cell_type": "code",
   "execution_count": 79,
   "id": "3c9c50b4",
   "metadata": {},
   "outputs": [
    {
     "data": {
      "text/plain": [
       "<AxesSubplot:>"
      ]
     },
     "execution_count": 79,
     "metadata": {},
     "output_type": "execute_result"
    },
    {
     "data": {
      "image/png": "[encoded data removed]",
      "text/plain": [
       "<Figure size 432x288 with 1 Axes>"
      ]
     },
     "metadata": {
      "needs_background": "light"
     },
     "output_type": "display_data"
    }
   ],
   "source": [
    "df['Sex'].plot.box()"
   ]
  },
  {
   "cell_type": "code",
   "execution_count": 80,
   "id": "b447c225",
   "metadata": {},
   "outputs": [
    {
     "data": {
      "text/plain": [
       "<AxesSubplot:>"
      ]
     },
     "execution_count": 80,
     "metadata": {},
     "output_type": "execute_result"
    },
    {
     "data": {
      "image/png": "[encoded data removed]",
      "text/plain": [
       "<Figure size 432x288 with 1 Axes>"
      ]
     },
     "metadata": {
      "needs_background": "light"
     },
     "output_type": "display_data"
    }
   ],
   "source": [
    " df['Length'].plot.box()"
   ]
  },
  {
   "cell_type": "code",
   "execution_count": 81,
   "id": "d2dbef33",
   "metadata": {},
   "outputs": [
    {
     "data": {
      "text/plain": [
       "<AxesSubplot:>"
      ]
     },
     "execution_count": 81,
     "metadata": {},
     "output_type": "execute_result"
    },
    {
     "data": {
      "image/png": "[encoded data removed]",
      "text/plain": [
       "<Figure size 432x288 with 1 Axes>"
      ]
     },
     "metadata": {
      "needs_background": "light"
     },
     "output_type": "display_data"
    }
   ],
   "source": [
    " df['Diameter'].plot.box()"
   ]
  },
  {
   "cell_type": "code",
   "execution_count": 82,
   "id": "8bc3b636",
   "metadata": {},
   "outputs": [
    {
     "data": {
      "text/plain": [
       "<AxesSubplot:>"
      ]
     },
     "execution_count": 82,
     "metadata": {},
     "output_type": "execute_result"
    },
    {
     "data": {
      "image/png": "[encoded data removed]",
      "text/plain": [
       "<Figure size 432x288 with 1 Axes>"
      ]
     },
     "metadata": {
      "needs_background": "light"
     },
     "output_type": "display_data"
    }
   ],
   "source": [
    " df['Height'].plot.box()"
   ]
  },
  {
   "cell_type": "code",
   "execution_count": 83,
   "id": "785349de",
   "metadata": {},
   "outputs": [
    {
     "data": {
      "text/plain": [
       "<AxesSubplot:>"
      ]
     },
     "execution_count": 83,
     "metadata": {},
     "output_type": "execute_result"
    },
    {
     "data": {
      "image/png": "[encoded data removed]",
      "text/plain": [
       "<Figure size 432x288 with 1 Axes>"
      ]
     },
     "metadata": {
      "needs_background": "light"
     },
     "output_type": "display_data"
    }
   ],
   "source": [
    " df['Shucked weight'].plot.box()"
   ]
  },
  {
   "cell_type": "code",
   "execution_count": 85,
   "id": "47f1a329",
   "metadata": {},
   "outputs": [
    {
     "data": {
      "text/plain": [
       "<AxesSubplot:>"
      ]
     },
     "execution_count": 85,
     "metadata": {},
     "output_type": "execute_result"
    },
    {
     "data": {
      "image/png": "[encoded data removed]",
      "text/plain": [
       "<Figure size 432x288 with 1 Axes>"
      ]
     },
     "metadata": {
      "needs_background": "light"
     },
     "output_type": "display_data"
    }
   ],
   "source": [
    " df['Shell weight'].plot.box()"
   ]
  },
  {
   "cell_type": "markdown",
   "id": "55680160",
   "metadata": {},
   "source": [
    "# Considering the Outlier removal"
   ]
  },
  {
   "cell_type": "code",
   "execution_count": 86,
   "id": "10a26911",
   "metadata": {},
   "outputs": [
    {
     "data": {
      "text/plain": [
       "(4175, 9)"
      ]
     },
     "execution_count": 86,
     "metadata": {},
     "output_type": "execute_result"
    }
   ],
   "source": [
    "df.shape"
   ]
  },
  {
   "cell_type": "code",
   "execution_count": 88,
   "id": "c1358aa1",
   "metadata": {},
   "outputs": [
    {
     "data": {
      "text/plain": [
       "(array([   6,   72,   81,   83,  129,  163,  164,  165,  165,  165,  166,\n",
       "         166,  167,  168,  170,  181,  232,  236,  236,  236,  237,  237,\n",
       "         238,  238,  239,  270,  275,  277,  278,  294,  310,  313,  314,\n",
       "         334,  351,  355,  358,  358,  362,  375,  416,  417,  428,  431,\n",
       "         433,  469,  478,  480,  501,  526,  526,  530,  572,  628,  673,\n",
       "         674,  675,  678,  694,  696,  696,  719,  719,  720,  720,  744,\n",
       "         754,  756,  811,  891,  891,  891, 1048, 1051, 1051, 1052, 1193,\n",
       "        1197, 1199, 1202, 1204, 1206, 1206, 1207, 1207, 1207, 1207, 1209,\n",
       "        1209, 1416, 1416, 1417, 1421, 1425, 1426, 1426, 1426, 1427, 1428,\n",
       "        1428, 1527, 1753, 1755, 1756, 1758, 1760, 1761, 1761, 1761, 1762,\n",
       "        1762, 1762, 1820, 1981, 1985, 1986, 1986, 2050, 2089, 2107, 2107,\n",
       "        2113, 2113, 2156, 2160, 2175, 2179, 2198, 2200, 2207, 2208, 2273,\n",
       "        2274, 2304, 2333, 2333, 2333, 2334, 2343, 2357, 2367, 2380, 2435,\n",
       "        2458, 2470, 2543, 2622, 2623, 2623, 2623, 2624, 2708, 2709, 2709,\n",
       "        2809, 2809, 2810, 2810, 2810, 2861, 2862, 2862, 2862, 3006, 3007,\n",
       "        3139, 3147, 3148, 3148, 3150, 3150, 3187, 3192, 3279, 3358, 3426,\n",
       "        3426, 3426, 3598, 3598, 3627, 3712, 3714, 3714, 3714, 3714, 3799,\n",
       "        3836, 3898, 3898, 3901, 3923, 3929, 3943, 3960, 3961, 4143, 4146],\n",
       "       dtype=int64),\n",
       " array([8, 8, 7, 8, 7, 7, 7, 4, 5, 7, 7, 8, 8, 7, 6, 8, 8, 1, 2, 3, 1, 2,\n",
       "        1, 2, 1, 8, 8, 7, 8, 8, 8, 8, 8, 7, 8, 8, 4, 7, 8, 8, 8, 8, 8, 8,\n",
       "        8, 8, 8, 8, 8, 1, 2, 8, 8, 8, 8, 8, 8, 8, 2, 1, 2, 1, 2, 1, 2, 8,\n",
       "        8, 8, 8, 4, 5, 7, 6, 4, 5, 4, 5, 5, 5, 5, 6, 5, 6, 4, 5, 6, 7, 4,\n",
       "        5, 3, 5, 5, 6, 5, 4, 5, 6, 7, 1, 2, 5, 5, 5, 6, 6, 5, 4, 5, 6, 4,\n",
       "        5, 6, 5, 5, 1, 1, 2, 3, 7, 7, 8, 1, 2, 7, 7, 8, 8, 8, 8, 7, 8, 7,\n",
       "        8, 8, 4, 6, 8, 8, 8, 8, 7, 1, 8, 8, 8, 5, 4, 4, 5, 6, 5, 6, 5, 6,\n",
       "        5, 6, 4, 5, 6, 5, 4, 5, 6, 5, 7, 8, 7, 7, 8, 7, 8, 7, 8, 8, 8, 4,\n",
       "        5, 6, 4, 5, 6, 5, 4, 5, 6, 7, 4, 2, 1, 2, 1, 8, 8, 8, 5, 5, 7, 6],\n",
       "       dtype=int64))"
      ]
     },
     "execution_count": 88,
     "metadata": {},
     "output_type": "execute_result"
    }
   ],
   "source": [
    "from scipy.stats import zscore\n",
    "import numpy as np\n",
    "z= np.abs(zscore(df))\n",
    "threshold =3 \n",
    "np.where(z>3)"
   ]
  },
  {
   "cell_type": "code",
   "execution_count": 181,
   "id": "5040bc9e",
   "metadata": {},
   "outputs": [
    {
     "data": {
      "text/html": [
       "<div>\n",
       "<style scoped>\n",
       "    .dataframe tbody tr th:only-of-type {\n",
       "        vertical-align: middle;\n",
       "    }\n",
       "\n",
       "    .dataframe tbody tr th {\n",
       "        vertical-align: top;\n",
       "    }\n",
       "\n",
       "    .dataframe thead th {\n",
       "        text-align: right;\n",
       "    }\n",
       "</style>\n",
       "<table border=\"1\" class=\"dataframe\">\n",
       "  <thead>\n",
       "    <tr style=\"text-align: right;\">\n",
       "      <th></th>\n",
       "      <th>Sex</th>\n",
       "      <th>Length</th>\n",
       "      <th>Diameter</th>\n",
       "      <th>Height</th>\n",
       "      <th>Whole weight</th>\n",
       "      <th>Shucked weight</th>\n",
       "      <th>Viscera weight</th>\n",
       "      <th>Shell weight</th>\n",
       "      <th>Rings</th>\n",
       "    </tr>\n",
       "  </thead>\n",
       "  <tbody>\n",
       "    <tr>\n",
       "      <th>0</th>\n",
       "      <td>2.0</td>\n",
       "      <td>0.455</td>\n",
       "      <td>0.365</td>\n",
       "      <td>0.095</td>\n",
       "      <td>0.5140</td>\n",
       "      <td>0.2245</td>\n",
       "      <td>0.1010</td>\n",
       "      <td>0.1500</td>\n",
       "      <td>15</td>\n",
       "    </tr>\n",
       "    <tr>\n",
       "      <th>1</th>\n",
       "      <td>2.0</td>\n",
       "      <td>0.350</td>\n",
       "      <td>0.265</td>\n",
       "      <td>0.090</td>\n",
       "      <td>0.2255</td>\n",
       "      <td>0.0995</td>\n",
       "      <td>0.0485</td>\n",
       "      <td>0.0700</td>\n",
       "      <td>7</td>\n",
       "    </tr>\n",
       "    <tr>\n",
       "      <th>2</th>\n",
       "      <td>0.0</td>\n",
       "      <td>0.530</td>\n",
       "      <td>0.420</td>\n",
       "      <td>0.135</td>\n",
       "      <td>0.6770</td>\n",
       "      <td>0.2565</td>\n",
       "      <td>0.1415</td>\n",
       "      <td>0.2100</td>\n",
       "      <td>9</td>\n",
       "    </tr>\n",
       "    <tr>\n",
       "      <th>3</th>\n",
       "      <td>2.0</td>\n",
       "      <td>0.440</td>\n",
       "      <td>0.365</td>\n",
       "      <td>0.125</td>\n",
       "      <td>0.5160</td>\n",
       "      <td>0.2155</td>\n",
       "      <td>0.1140</td>\n",
       "      <td>0.1550</td>\n",
       "      <td>10</td>\n",
       "    </tr>\n",
       "    <tr>\n",
       "      <th>4</th>\n",
       "      <td>1.0</td>\n",
       "      <td>0.330</td>\n",
       "      <td>0.255</td>\n",
       "      <td>0.080</td>\n",
       "      <td>0.2050</td>\n",
       "      <td>0.0895</td>\n",
       "      <td>0.0395</td>\n",
       "      <td>0.0550</td>\n",
       "      <td>7</td>\n",
       "    </tr>\n",
       "    <tr>\n",
       "      <th>...</th>\n",
       "      <td>...</td>\n",
       "      <td>...</td>\n",
       "      <td>...</td>\n",
       "      <td>...</td>\n",
       "      <td>...</td>\n",
       "      <td>...</td>\n",
       "      <td>...</td>\n",
       "      <td>...</td>\n",
       "      <td>...</td>\n",
       "    </tr>\n",
       "    <tr>\n",
       "      <th>4172</th>\n",
       "      <td>0.0</td>\n",
       "      <td>0.565</td>\n",
       "      <td>0.450</td>\n",
       "      <td>0.165</td>\n",
       "      <td>0.8870</td>\n",
       "      <td>0.3700</td>\n",
       "      <td>0.2390</td>\n",
       "      <td>0.2490</td>\n",
       "      <td>11</td>\n",
       "    </tr>\n",
       "    <tr>\n",
       "      <th>4173</th>\n",
       "      <td>2.0</td>\n",
       "      <td>0.590</td>\n",
       "      <td>0.440</td>\n",
       "      <td>0.135</td>\n",
       "      <td>0.9660</td>\n",
       "      <td>0.4390</td>\n",
       "      <td>0.2145</td>\n",
       "      <td>0.2605</td>\n",
       "      <td>10</td>\n",
       "    </tr>\n",
       "    <tr>\n",
       "      <th>4174</th>\n",
       "      <td>2.0</td>\n",
       "      <td>0.600</td>\n",
       "      <td>0.475</td>\n",
       "      <td>0.205</td>\n",
       "      <td>1.1760</td>\n",
       "      <td>0.5255</td>\n",
       "      <td>0.2875</td>\n",
       "      <td>0.3080</td>\n",
       "      <td>9</td>\n",
       "    </tr>\n",
       "    <tr>\n",
       "      <th>4175</th>\n",
       "      <td>0.0</td>\n",
       "      <td>0.625</td>\n",
       "      <td>0.485</td>\n",
       "      <td>0.150</td>\n",
       "      <td>1.0945</td>\n",
       "      <td>0.5310</td>\n",
       "      <td>0.2610</td>\n",
       "      <td>0.2960</td>\n",
       "      <td>10</td>\n",
       "    </tr>\n",
       "    <tr>\n",
       "      <th>4176</th>\n",
       "      <td>2.0</td>\n",
       "      <td>0.710</td>\n",
       "      <td>0.555</td>\n",
       "      <td>0.195</td>\n",
       "      <td>1.9485</td>\n",
       "      <td>0.9455</td>\n",
       "      <td>0.3765</td>\n",
       "      <td>0.4950</td>\n",
       "      <td>12</td>\n",
       "    </tr>\n",
       "  </tbody>\n",
       "</table>\n",
       "<p>4027 rows × 9 columns</p>\n",
       "</div>"
      ],
      "text/plain": [
       "      Sex  Length  Diameter  Height  Whole weight  Shucked weight  \\\n",
       "0     2.0   0.455     0.365   0.095        0.5140          0.2245   \n",
       "1     2.0   0.350     0.265   0.090        0.2255          0.0995   \n",
       "2     0.0   0.530     0.420   0.135        0.6770          0.2565   \n",
       "3     2.0   0.440     0.365   0.125        0.5160          0.2155   \n",
       "4     1.0   0.330     0.255   0.080        0.2050          0.0895   \n",
       "...   ...     ...       ...     ...           ...             ...   \n",
       "4172  0.0   0.565     0.450   0.165        0.8870          0.3700   \n",
       "4173  2.0   0.590     0.440   0.135        0.9660          0.4390   \n",
       "4174  2.0   0.600     0.475   0.205        1.1760          0.5255   \n",
       "4175  0.0   0.625     0.485   0.150        1.0945          0.5310   \n",
       "4176  2.0   0.710     0.555   0.195        1.9485          0.9455   \n",
       "\n",
       "      Viscera weight  Shell weight  Rings  \n",
       "0             0.1010        0.1500     15  \n",
       "1             0.0485        0.0700      7  \n",
       "2             0.1415        0.2100      9  \n",
       "3             0.1140        0.1550     10  \n",
       "4             0.0395        0.0550      7  \n",
       "...              ...           ...    ...  \n",
       "4172          0.2390        0.2490     11  \n",
       "4173          0.2145        0.2605     10  \n",
       "4174          0.2875        0.3080      9  \n",
       "4175          0.2610        0.2960     10  \n",
       "4176          0.3765        0.4950     12  \n",
       "\n",
       "[4027 rows x 9 columns]"
      ]
     },
     "execution_count": 181,
     "metadata": {},
     "output_type": "execute_result"
    }
   ],
   "source": [
    "df_new_z = df[(z<3).all(axis=1)]\n",
    "df_new_z"
   ]
  },
  {
   "cell_type": "code",
   "execution_count": 182,
   "id": "f3a6927c",
   "metadata": {},
   "outputs": [
    {
     "data": {
      "text/plain": [
       "(4027, 9)"
      ]
     },
     "execution_count": 182,
     "metadata": {},
     "output_type": "execute_result"
    }
   ],
   "source": [
    "df_new_z.shape"
   ]
  },
  {
   "cell_type": "markdown",
   "id": "43fe3d39",
   "metadata": {},
   "source": [
    "# Percentage of Loss of data:"
   ]
  },
  {
   "cell_type": "code",
   "execution_count": 183,
   "id": "e4875507",
   "metadata": {},
   "outputs": [],
   "source": [
    "data_loss = ((4175-4027)/4175)*100"
   ]
  },
  {
   "cell_type": "code",
   "execution_count": 184,
   "id": "aa7e2113",
   "metadata": {},
   "outputs": [
    {
     "data": {
      "text/plain": [
       "3.5449101796407185"
      ]
     },
     "execution_count": 184,
     "metadata": {},
     "output_type": "execute_result"
    }
   ],
   "source": [
    "data_loss"
   ]
  },
  {
   "cell_type": "markdown",
   "id": "e3b58bcb",
   "metadata": {},
   "source": [
    "around 3.5% of Data has been loss. To remove skewness of so many columns I think it is good as only 3.5% data is loss"
   ]
  },
  {
   "cell_type": "code",
   "execution_count": 185,
   "id": "2e066729",
   "metadata": {},
   "outputs": [
    {
     "data": {
      "text/plain": [
       "Sex              -0.094886\n",
       "Length           -0.623076\n",
       "Diameter         -0.598650\n",
       "Height           -0.244251\n",
       "Whole weight      0.334204\n",
       "Shucked weight    0.458295\n",
       "Viscera weight    0.437116\n",
       "Shell weight      0.349471\n",
       "Rings             0.725464\n",
       "dtype: float64"
      ]
     },
     "execution_count": 185,
     "metadata": {},
     "output_type": "execute_result"
    }
   ],
   "source": [
    "df_new_z.skew()"
   ]
  },
  {
   "cell_type": "markdown",
   "id": "b2f1e2dd",
   "metadata": {},
   "source": [
    "I have run the model with the new dataset after running ZScore but the accuracy was not so good thats why I will go ahead with the outliers present in the Dataset"
   ]
  },
  {
   "cell_type": "markdown",
   "id": "bf441c58",
   "metadata": {},
   "source": [
    "# Seperating the columns into features and target :"
   ]
  },
  {
   "cell_type": "code",
   "execution_count": 233,
   "id": "77af6539",
   "metadata": {},
   "outputs": [],
   "source": [
    "features = df.drop([\"Rings\"],axis=1)\n",
    "target = df[\"Rings\"]"
   ]
  },
  {
   "cell_type": "code",
   "execution_count": 234,
   "id": "b22dd0e8",
   "metadata": {},
   "outputs": [],
   "source": [
    "from sklearn.preprocessing import MinMaxScaler\n",
    "mms = MinMaxScaler()\n",
    "from sklearn.linear_model import LinearRegression\n",
    "lr = LinearRegression()\n",
    "from sklearn.metrics import r2_score\n",
    "from sklearn.model_selection import train_test_split"
   ]
  },
  {
   "cell_type": "code",
   "execution_count": 235,
   "id": "3df1f25c",
   "metadata": {},
   "outputs": [],
   "source": [
    "import warnings\n",
    "warnings.filterwarnings('ignore')"
   ]
  },
  {
   "cell_type": "code",
   "execution_count": 236,
   "id": "9a24d6a4",
   "metadata": {},
   "outputs": [
    {
     "name": "stdout",
     "output_type": "stream",
     "text": [
      " At random state0, the training accuracy is: 0.5368340814164809\n",
      " At random state 0, the testing accuracy is: 0.4945203419484766\n",
      "\n",
      "\n",
      " At random state1, the training accuracy is: 0.5284932843190442\n",
      " At random state 1, the testing accuracy is: 0.5235385444032963\n",
      "\n",
      "\n",
      " At random state2, the training accuracy is: 0.5329352506587253\n",
      " At random state 2, the testing accuracy is: 0.5118231087524326\n",
      "\n",
      "\n",
      " At random state3, the training accuracy is: 0.520315419539036\n",
      " At random state 3, the testing accuracy is: 0.5483412641968808\n",
      "\n",
      "\n",
      " At random state4, the training accuracy is: 0.533396317839031\n",
      " At random state 4, the testing accuracy is: 0.5091349797942825\n",
      "\n",
      "\n",
      " At random state5, the training accuracy is: 0.5365735114978696\n",
      " At random state 5, the testing accuracy is: 0.481782291562722\n",
      "\n",
      "\n",
      " At random state6, the training accuracy is: 0.5369227672286132\n",
      " At random state 6, the testing accuracy is: 0.4809046813828851\n",
      "\n",
      "\n",
      " At random state7, the training accuracy is: 0.5387324004768261\n",
      " At random state 7, the testing accuracy is: 0.460504397640882\n",
      "\n",
      "\n",
      " At random state8, the training accuracy is: 0.5472738030495095\n",
      " At random state 8, the testing accuracy is: 0.4668380353769801\n",
      "\n",
      "\n",
      " At random state9, the training accuracy is: 0.5210346403390864\n",
      " At random state 9, the testing accuracy is: 0.5452163264708232\n",
      "\n",
      "\n",
      " At random state10, the training accuracy is: 0.5243609060241854\n",
      " At random state 10, the testing accuracy is: 0.5367521290901687\n",
      "\n",
      "\n",
      " At random state11, the training accuracy is: 0.5257212867797816\n",
      " At random state 11, the testing accuracy is: 0.5316738329580668\n",
      "\n",
      "\n",
      " At random state12, the training accuracy is: 0.5218952535737129\n",
      " At random state 12, the testing accuracy is: 0.5414067577962182\n",
      "\n",
      "\n",
      " At random state13, the training accuracy is: 0.5266384157460555\n",
      " At random state 13, the testing accuracy is: 0.5299784366967359\n",
      "\n",
      "\n",
      " At random state14, the training accuracy is: 0.5307981357783085\n",
      " At random state 14, the testing accuracy is: 0.5163909260438816\n",
      "\n",
      "\n",
      " At random state15, the training accuracy is: 0.535809147752782\n",
      " At random state 15, the testing accuracy is: 0.46893582139117995\n",
      "\n",
      "\n",
      " At random state16, the training accuracy is: 0.5246770212716414\n",
      " At random state 16, the testing accuracy is: 0.5355955465430442\n",
      "\n",
      "\n",
      " At random state17, the training accuracy is: 0.5286202189990246\n",
      " At random state 17, the testing accuracy is: 0.5219499115689519\n",
      "\n",
      "\n",
      " At random state18, the training accuracy is: 0.5218660148608469\n",
      " At random state 18, the testing accuracy is: 0.5424430867615944\n",
      "\n",
      "\n",
      " At random state19, the training accuracy is: 0.5459035038725922\n",
      " At random state 19, the testing accuracy is: 0.4711484892679203\n",
      "\n",
      "\n",
      " At random state20, the training accuracy is: 0.5415574252485518\n",
      " At random state 20, the testing accuracy is: 0.45365534391001616\n",
      "\n",
      "\n",
      " At random state21, the training accuracy is: 0.5321701988075338\n",
      " At random state 21, the testing accuracy is: 0.5128116764909385\n",
      "\n",
      "\n",
      " At random state22, the training accuracy is: 0.5359742031411606\n",
      " At random state 22, the testing accuracy is: 0.5006178033462292\n",
      "\n",
      "\n",
      " At random state23, the training accuracy is: 0.5467254307827534\n",
      " At random state 23, the testing accuracy is: 0.46945232971803996\n",
      "\n",
      "\n",
      " At random state24, the training accuracy is: 0.536912711964551\n",
      " At random state 24, the testing accuracy is: 0.49325376339383076\n",
      "\n",
      "\n",
      " At random state25, the training accuracy is: 0.5246244636127076\n",
      " At random state 25, the testing accuracy is: 0.5360510379390535\n",
      "\n",
      "\n",
      " At random state26, the training accuracy is: 0.5213875781378928\n",
      " At random state 26, the testing accuracy is: 0.5391124070727651\n",
      "\n",
      "\n",
      " At random state27, the training accuracy is: 0.5223393426260178\n",
      " At random state 27, the testing accuracy is: 0.5429629551284932\n",
      "\n",
      "\n",
      " At random state28, the training accuracy is: 0.5132178766135291\n",
      " At random state 28, the testing accuracy is: 0.5629363236672905\n",
      "\n",
      "\n",
      " At random state29, the training accuracy is: 0.5280634729887488\n",
      " At random state 29, the testing accuracy is: 0.525701994137448\n",
      "\n",
      "\n",
      " At random state30, the training accuracy is: 0.5162414935164257\n",
      " At random state 30, the testing accuracy is: 0.560930264648739\n",
      "\n",
      "\n",
      " At random state31, the training accuracy is: 0.5249033855706711\n",
      " At random state 31, the testing accuracy is: 0.5289225323267606\n",
      "\n",
      "\n",
      " At random state32, the training accuracy is: 0.5185453618955393\n",
      " At random state 32, the testing accuracy is: 0.549601166401082\n",
      "\n",
      "\n",
      " At random state33, the training accuracy is: 0.5284138153104656\n",
      " At random state 33, the testing accuracy is: 0.5241714105082472\n",
      "\n",
      "\n",
      " At random state34, the training accuracy is: 0.5379249939957488\n",
      " At random state 34, the testing accuracy is: 0.4917488391403355\n",
      "\n",
      "\n",
      " At random state35, the training accuracy is: 0.5286135754972348\n",
      " At random state 35, the testing accuracy is: 0.5219138404363515\n",
      "\n",
      "\n",
      " At random state36, the training accuracy is: 0.5350614799503536\n",
      " At random state 36, the testing accuracy is: 0.5011968269949617\n",
      "\n",
      "\n",
      " At random state37, the training accuracy is: 0.522831750740014\n",
      " At random state 37, the testing accuracy is: 0.5415260689035911\n",
      "\n",
      "\n",
      " At random state38, the training accuracy is: 0.5284444036225933\n",
      " At random state 38, the testing accuracy is: 0.5204974986013597\n",
      "\n",
      "\n",
      " At random state39, the training accuracy is: 0.5243822531350727\n",
      " At random state 39, the testing accuracy is: 0.5369442477108575\n",
      "\n",
      "\n",
      " At random state40, the training accuracy is: 0.5389222920750861\n",
      " At random state 40, the testing accuracy is: 0.47172532758084695\n",
      "\n",
      "\n",
      " At random state41, the training accuracy is: 0.5374236501786122\n",
      " At random state 41, the testing accuracy is: 0.46014203146341215\n",
      "\n",
      "\n",
      " At random state42, the training accuracy is: 0.5131824586755181\n",
      " At random state 42, the testing accuracy is: 0.5666104844300184\n",
      "\n",
      "\n",
      " At random state43, the training accuracy is: 0.5298930172999379\n",
      " At random state 43, the testing accuracy is: 0.5198627900162287\n",
      "\n",
      "\n",
      " At random state44, the training accuracy is: 0.5352021958875122\n",
      " At random state 44, the testing accuracy is: 0.5018380118840096\n",
      "\n",
      "\n",
      " At random state45, the training accuracy is: 0.5317962652683514\n",
      " At random state 45, the testing accuracy is: 0.5147984852734764\n",
      "\n",
      "\n",
      " At random state46, the training accuracy is: 0.5313516527949977\n",
      " At random state 46, the testing accuracy is: 0.5112423043993224\n",
      "\n",
      "\n",
      " At random state47, the training accuracy is: 0.532682360391052\n",
      " At random state 47, the testing accuracy is: 0.5069645883806866\n",
      "\n",
      "\n",
      " At random state48, the training accuracy is: 0.5248358501942121\n",
      " At random state 48, the testing accuracy is: 0.5360577166073952\n",
      "\n",
      "\n",
      " At random state49, the training accuracy is: 0.526055361975697\n",
      " At random state 49, the testing accuracy is: 0.5285183507702544\n",
      "\n",
      "\n",
      " At random state50, the training accuracy is: 0.5224536179630183\n",
      " At random state 50, the testing accuracy is: 0.5402348012356893\n",
      "\n",
      "\n",
      " At random state51, the training accuracy is: 0.5271907458257995\n",
      " At random state 51, the testing accuracy is: 0.5273698208399897\n",
      "\n",
      "\n",
      " At random state52, the training accuracy is: 0.521825194475965\n",
      " At random state 52, the testing accuracy is: 0.5461892331933228\n",
      "\n",
      "\n",
      " At random state53, the training accuracy is: 0.5278342643043239\n",
      " At random state 53, the testing accuracy is: 0.5231903374339159\n",
      "\n",
      "\n",
      " At random state54, the training accuracy is: 0.533495153677489\n",
      " At random state 54, the testing accuracy is: 0.5092482084631272\n",
      "\n",
      "\n",
      " At random state55, the training accuracy is: 0.5329874300082854\n",
      " At random state 55, the testing accuracy is: 0.5078303997835409\n",
      "\n",
      "\n",
      " At random state56, the training accuracy is: 0.5283632018218795\n",
      " At random state 56, the testing accuracy is: 0.5204860147991497\n",
      "\n",
      "\n",
      " At random state57, the training accuracy is: 0.533194196889829\n",
      " At random state 57, the testing accuracy is: 0.5089428349079959\n",
      "\n",
      "\n",
      " At random state58, the training accuracy is: 0.5125806210669769\n",
      " At random state 58, the testing accuracy is: 0.5486787343653379\n",
      "\n",
      "\n",
      " At random state59, the training accuracy is: 0.5292846299825096\n",
      " At random state 59, the testing accuracy is: 0.5206048560809016\n",
      "\n",
      "\n",
      " At random state60, the training accuracy is: 0.5273324015690095\n",
      " At random state 60, the testing accuracy is: 0.5274924109473489\n",
      "\n",
      "\n",
      " At random state61, the training accuracy is: 0.5319549024476655\n",
      " At random state 61, the testing accuracy is: 0.49327109867272523\n",
      "\n",
      "\n",
      " At random state62, the training accuracy is: 0.530056013448329\n",
      " At random state 62, the testing accuracy is: 0.5182635409631664\n",
      "\n",
      "\n",
      " At random state63, the training accuracy is: 0.5286675248515922\n",
      " At random state 63, the testing accuracy is: 0.5239441344092832\n",
      "\n",
      "\n",
      " At random state64, the training accuracy is: 0.5371129874629872\n",
      " At random state 64, the testing accuracy is: 0.49990342180773206\n",
      "\n",
      "\n",
      " At random state65, the training accuracy is: 0.539573981130403\n",
      " At random state 65, the testing accuracy is: 0.4697544627414936\n",
      "\n",
      "\n",
      " At random state66, the training accuracy is: 0.5326996188481568\n"
     ]
    },
    {
     "name": "stdout",
     "output_type": "stream",
     "text": [
      " At random state 66, the testing accuracy is: 0.5116239729246836\n",
      "\n",
      "\n",
      " At random state67, the training accuracy is: 0.5346820581496015\n",
      " At random state 67, the testing accuracy is: 0.49171309171239186\n",
      "\n",
      "\n",
      " At random state68, the training accuracy is: 0.5349382878393649\n",
      " At random state 68, the testing accuracy is: 0.5046847260818887\n",
      "\n",
      "\n",
      " At random state69, the training accuracy is: 0.5312717432652343\n",
      " At random state 69, the testing accuracy is: 0.5147559702847839\n",
      "\n",
      "\n",
      " At random state70, the training accuracy is: 0.5289068320033853\n",
      " At random state 70, the testing accuracy is: 0.5207524654176054\n",
      "\n",
      "\n",
      " At random state71, the training accuracy is: 0.5347510835438404\n",
      " At random state 71, the testing accuracy is: 0.5037956990678727\n",
      "\n",
      "\n",
      " At random state72, the training accuracy is: 0.5366572454011074\n",
      " At random state 72, the testing accuracy is: 0.500885272798604\n",
      "\n",
      "\n",
      " At random state73, the training accuracy is: 0.5452333498830391\n",
      " At random state 73, the testing accuracy is: 0.4535085543054801\n",
      "\n",
      "\n",
      " At random state74, the training accuracy is: 0.5404214657339135\n",
      " At random state 74, the testing accuracy is: 0.4836180777926491\n",
      "\n",
      "\n",
      " At random state75, the training accuracy is: 0.5383361301985101\n",
      " At random state 75, the testing accuracy is: 0.4883832247641817\n",
      "\n",
      "\n",
      " At random state76, the training accuracy is: 0.5282843339394716\n",
      " At random state 76, the testing accuracy is: 0.5240416541137574\n",
      "\n",
      "\n",
      " At random state77, the training accuracy is: 0.5092248191828699\n",
      " At random state 77, the testing accuracy is: 0.5788332667849436\n",
      "\n",
      "\n",
      " At random state78, the training accuracy is: 0.51957014613331\n",
      " At random state 78, the testing accuracy is: 0.5491189212092861\n",
      "\n",
      "\n",
      " At random state79, the training accuracy is: 0.5354410023198535\n",
      " At random state 79, the testing accuracy is: 0.4626513730719618\n",
      "\n",
      "\n",
      " At random state80, the training accuracy is: 0.5289940703387404\n",
      " At random state 80, the testing accuracy is: 0.5231049791798137\n",
      "\n",
      "\n",
      " At random state81, the training accuracy is: 0.5218808891619344\n",
      " At random state 81, the testing accuracy is: 0.5435982899411815\n",
      "\n",
      "\n",
      " At random state82, the training accuracy is: 0.5245877934765779\n",
      " At random state 82, the testing accuracy is: 0.536435929213134\n",
      "\n",
      "\n",
      " At random state83, the training accuracy is: 0.5295636042979326\n",
      " At random state 83, the testing accuracy is: 0.5195279149002852\n",
      "\n",
      "\n",
      " At random state84, the training accuracy is: 0.5252902274586404\n",
      " At random state 84, the testing accuracy is: 0.5357548610010616\n",
      "\n",
      "\n",
      " At random state85, the training accuracy is: 0.5380718919995544\n",
      " At random state 85, the testing accuracy is: 0.46997936118375294\n",
      "\n",
      "\n",
      " At random state86, the training accuracy is: 0.5260021468406955\n",
      " At random state 86, the testing accuracy is: 0.5289018486935125\n",
      "\n",
      "\n",
      " At random state87, the training accuracy is: 0.5322334367019614\n",
      " At random state 87, the testing accuracy is: 0.5105052803043777\n",
      "\n",
      "\n",
      " At random state88, the training accuracy is: 0.51807078904487\n",
      " At random state 88, the testing accuracy is: 0.5540146608208812\n",
      "\n",
      "\n",
      " At random state89, the training accuracy is: 0.5368834536207695\n",
      " At random state 89, the testing accuracy is: 0.4704246992368477\n",
      "\n",
      "\n",
      " At random state90, the training accuracy is: 0.5269860423441067\n",
      " At random state 90, the testing accuracy is: 0.5258530364229193\n",
      "\n",
      "\n",
      " At random state91, the training accuracy is: 0.5464207142788096\n",
      " At random state 91, the testing accuracy is: 0.43502503533634984\n",
      "\n",
      "\n",
      " At random state92, the training accuracy is: 0.5308687346595575\n",
      " At random state 92, the testing accuracy is: 0.5168726243265693\n",
      "\n",
      "\n",
      " At random state93, the training accuracy is: 0.5247753124185143\n",
      " At random state 93, the testing accuracy is: 0.5340478489069274\n",
      "\n",
      "\n",
      " At random state94, the training accuracy is: 0.5181722613098652\n",
      " At random state 94, the testing accuracy is: 0.552555392149592\n",
      "\n",
      "\n",
      " At random state95, the training accuracy is: 0.538132544794907\n",
      " At random state 95, the testing accuracy is: 0.4827877460870157\n",
      "\n",
      "\n",
      " At random state96, the training accuracy is: 0.5303870771690248\n",
      " At random state 96, the testing accuracy is: 0.5159053916444869\n",
      "\n",
      "\n",
      " At random state97, the training accuracy is: 0.5216424946289921\n",
      " At random state 97, the testing accuracy is: 0.546461449860606\n",
      "\n",
      "\n",
      " At random state98, the training accuracy is: 0.5328113144333482\n",
      " At random state 98, the testing accuracy is: 0.5126194075625226\n",
      "\n",
      "\n",
      " At random state99, the training accuracy is: 0.5395965841958618\n",
      " At random state 99, the testing accuracy is: 0.486588205628959\n",
      "\n",
      "\n",
      "Max accuracy on train : 0.486588205628959\n",
      "Max accuracy on test : 0.5395965841958618\n"
     ]
    }
   ],
   "source": [
    "rr1_max =0\n",
    "rr2_max = 0\n",
    "for i in range(0,100):\n",
    "    features_train,features_test,target_train,target_test=train_test_split(features,target,test_size=0.25,random_state=i)\n",
    "    lr.fit(features_train,target_train)\n",
    "    pred_train=lr.predict(features_train)\n",
    "    pred_test=lr.predict(features_test)\n",
    "    print(f\" At random state{i}, the training accuracy is: {r2_score(target_train,pred_train)}\")\n",
    "    rr1 = r2_score(target_train,pred_train)\n",
    "    print(f\" At random state {i}, the testing accuracy is: {r2_score(target_test,pred_test)}\")\n",
    "    rr2 = r2_score(target_test,pred_test)\n",
    "    print(\"\\n\")\n",
    "    if rr1_max < rr1:\n",
    "        rr1_max = rr1\n",
    "    if rr2_max < rr2:\n",
    "        rr2_max = rr2\n",
    "print (\"Max accuracy on train :\", rr2)\n",
    "print (\"Max accuracy on test :\", rr1)"
   ]
  },
  {
   "cell_type": "code",
   "execution_count": 237,
   "id": "3138768f",
   "metadata": {},
   "outputs": [],
   "source": [
    "features_train,features_test,target_train,target_test= train_test_split(features,target,test_size=0.25, random_state= 28)"
   ]
  },
  {
   "cell_type": "code",
   "execution_count": 238,
   "id": "731d39a3",
   "metadata": {},
   "outputs": [
    {
     "data": {
      "text/plain": [
       "LinearRegression()"
      ]
     },
     "execution_count": 238,
     "metadata": {},
     "output_type": "execute_result"
    }
   ],
   "source": [
    "lr.fit(features_train,target_train)"
   ]
  },
  {
   "cell_type": "code",
   "execution_count": 239,
   "id": "927f20e8",
   "metadata": {},
   "outputs": [],
   "source": [
    "pred_test = lr.predict(features_test)"
   ]
  },
  {
   "cell_type": "code",
   "execution_count": 240,
   "id": "a9a689f8",
   "metadata": {},
   "outputs": [
    {
     "name": "stdout",
     "output_type": "stream",
     "text": [
      "0.5629363236672905\n"
     ]
    }
   ],
   "source": [
    "print(r2_score(target_test,pred_test))"
   ]
  },
  {
   "cell_type": "markdown",
   "id": "36a2a2bb",
   "metadata": {},
   "source": [
    "# Cross Validation of the model"
   ]
  },
  {
   "cell_type": "code",
   "execution_count": 241,
   "id": "674cdd46",
   "metadata": {},
   "outputs": [
    {
     "name": "stdout",
     "output_type": "stream",
     "text": [
      "At cross fold 2 the cv score is 0.5050768906989977 and accuracy score for training is -0.6036456213864883 and accuracy for testing is 0.5629363236672905\n",
      "\n",
      "\n",
      "At cross fold 3 the cv score is 0.4855781829026004 and accuracy score for training is -0.6036456213864883 and accuracy for testing is 0.5629363236672905\n",
      "\n",
      "\n",
      "At cross fold 4 the cv score is 0.37052450609470655 and accuracy score for training is -0.6036456213864883 and accuracy for testing is 0.5629363236672905\n",
      "\n",
      "\n",
      "At cross fold 5 the cv score is 0.39818666715139034 and accuracy score for training is -0.6036456213864883 and accuracy for testing is 0.5629363236672905\n",
      "\n",
      "\n",
      "At cross fold 6 the cv score is 0.3734260054087423 and accuracy score for training is -0.6036456213864883 and accuracy for testing is 0.5629363236672905\n",
      "\n",
      "\n",
      "At cross fold 7 the cv score is 0.4277250865453634 and accuracy score for training is -0.6036456213864883 and accuracy for testing is 0.5629363236672905\n",
      "\n",
      "\n",
      "At cross fold 8 the cv score is 0.3354055907575474 and accuracy score for training is -0.6036456213864883 and accuracy for testing is 0.5629363236672905\n",
      "\n",
      "\n",
      "At cross fold 9 the cv score is 0.4078216468765562 and accuracy score for training is -0.6036456213864883 and accuracy for testing is 0.5629363236672905\n",
      "\n",
      "\n"
     ]
    }
   ],
   "source": [
    "Train_accuracy = r2_score(target_train,pred_train)\n",
    "Test_accuracy = r2_score(target_test,pred_test)\n",
    "\n",
    "\n",
    "from sklearn.model_selection import cross_val_score\n",
    "for j in range(2,10):\n",
    "    cv_score = cross_val_score(lr,features,target,cv=j)\n",
    "    cv_mean=cv_score.mean()\n",
    "    print(f\"At cross fold {j} the cv score is {cv_mean} and accuracy score for training is {Train_accuracy} and accuracy for testing is {Test_accuracy}\")\n",
    "    print(\"\\n\")      "
   ]
  },
  {
   "cell_type": "markdown",
   "id": "9301f926",
   "metadata": {},
   "source": [
    "Since the number of folds don't have such impact on accuracy and cv_score , So CV= 2"
   ]
  },
  {
   "cell_type": "code",
   "execution_count": 242,
   "id": "c6d5dccf",
   "metadata": {},
   "outputs": [
    {
     "data": {
      "image/png": "[encoded data removed]",
      "text/plain": [
       "<Figure size 576x432 with 1 Axes>"
      ]
     },
     "metadata": {
      "needs_background": "light"
     },
     "output_type": "display_data"
    }
   ],
   "source": [
    "import matplotlib.pyplot as plt\n",
    "plt.figure(figsize=(8,6))\n",
    "plt.scatter(x=target_test,y=pred_test,color='r')\n",
    "plt.plot(target_test,target_test,color='b')\n",
    "plt.xlabel('Actual charges',fontsize= 14)\n",
    "plt.ylabel('Predicted charges',fontsize= 14)\n",
    "plt.title('Linear Regression',fontsize= 18)\n",
    "plt.show()"
   ]
  },
  {
   "cell_type": "markdown",
   "id": "c7bd4814",
   "metadata": {},
   "source": [
    "# Regularization"
   ]
  },
  {
   "cell_type": "code",
   "execution_count": 243,
   "id": "8568f558",
   "metadata": {},
   "outputs": [],
   "source": [
    "from sklearn.model_selection import GridSearchCV\n",
    "from sklearn.model_selection import cross_val_score\n",
    "import warnings\n",
    "warnings.filterwarnings('ignore')"
   ]
  },
  {
   "cell_type": "code",
   "execution_count": 244,
   "id": "23bedeac",
   "metadata": {},
   "outputs": [
    {
     "name": "stdout",
     "output_type": "stream",
     "text": [
      "{'alpha': 0.001, 'random_state': 0}\n"
     ]
    }
   ],
   "source": [
    "from sklearn.linear_model import Lasso\n",
    "parameters = {'alpha': [.0001,.001,.01,.1,1,10,100],'random_state': list(range(0,15))}\n",
    "ls = Lasso()\n",
    "clf=GridSearchCV(ls,parameters)\n",
    "clf.fit(features_train,target_train)\n",
    "print(clf.best_params_)"
   ]
  },
  {
   "cell_type": "code",
   "execution_count": 246,
   "id": "2fa53be0",
   "metadata": {},
   "outputs": [
    {
     "data": {
      "text/plain": [
       "0.5624033336325491"
      ]
     },
     "execution_count": 246,
     "metadata": {},
     "output_type": "execute_result"
    }
   ],
   "source": [
    "ls = Lasso(alpha=0.001, random_state=0)\n",
    "ls.fit(features_train,target_train)\n",
    "ls.score(features_train,target_train)\n",
    "pred_ls = ls.predict(features_test)\n",
    "lss= r2_score(target_test,pred_ls)\n",
    "lss"
   ]
  },
  {
   "cell_type": "code",
   "execution_count": 247,
   "id": "db516ce9",
   "metadata": {},
   "outputs": [
    {
     "data": {
      "text/plain": [
       "0.5095219726923168"
      ]
     },
     "execution_count": 247,
     "metadata": {},
     "output_type": "execute_result"
    }
   ],
   "source": [
    "cv_score= cross_val_score(ls,features,target,cv=2)\n",
    "cv_mean= cv_score.mean()\n",
    "cv_mean"
   ]
  },
  {
   "cell_type": "markdown",
   "id": "15396216",
   "metadata": {},
   "source": [
    "# Ensemble technique:"
   ]
  },
  {
   "cell_type": "code",
   "execution_count": 248,
   "id": "9cef9d56",
   "metadata": {},
   "outputs": [
    {
     "name": "stdout",
     "output_type": "stream",
     "text": [
      "{'criterion': 'mse', 'max_features': 'log2'}\n"
     ]
    }
   ],
   "source": [
    "from sklearn.model_selection import GridSearchCV\n",
    "from sklearn.ensemble import RandomForestRegressor\n",
    "\n",
    "parameters = {'criterion': ['mse','mae'],'max_features': [\"auto\", \"sqrt\",\"log2\"]}\n",
    "rf = RandomForestRegressor()\n",
    "\n",
    "clf = GridSearchCV(rf,parameters)\n",
    "clf.fit(features_train,target_train)\n",
    "\n",
    "print(clf.best_params_)"
   ]
  },
  {
   "cell_type": "code",
   "execution_count": 249,
   "id": "ff572639",
   "metadata": {},
   "outputs": [
    {
     "name": "stdout",
     "output_type": "stream",
     "text": [
      "R2 Score:  58.99720705315239\n",
      "Cross Val Score : 54.33346750664252\n"
     ]
    }
   ],
   "source": [
    "rf = RandomForestRegressor(criterion=\"mse\",max_features=\"log2\")\n",
    "rf.fit(features_train,target_train)\n",
    "rf.score(features_train,target_train)\n",
    "pred_decision = rf.predict(features_test)\n",
    "\n",
    "rfs = r2_score(target_test,pred_decision)\n",
    "print('R2 Score: ',rfs*100)\n",
    "\n",
    "rfscore= cross_val_score(rf,features,target,cv=2)\n",
    "rfc = rfscore.mean()\n",
    "print('Cross Val Score :', rfc*100)"
   ]
  },
  {
   "cell_type": "markdown",
   "id": "3ea828c3",
   "metadata": {},
   "source": [
    "# Saving the Model"
   ]
  },
  {
   "cell_type": "code",
   "execution_count": 250,
   "id": "ae5a9a1f",
   "metadata": {},
   "outputs": [],
   "source": [
    "import pickle\n",
    "filename = 'abalone.pkl'\n",
    "pickle.dump(rf,open(filename, 'wb'))"
   ]
  },
  {
   "cell_type": "code",
   "execution_count": null,
   "id": "2d80b0db",
   "metadata": {},
   "outputs": [],
   "source": []
  }
 ],
 "metadata": {
  "kernelspec": {
   "display_name": "Python 3",
   "language": "python",
   "name": "python3"
  },
  "language_info": {
   "codemirror_mode": {
    "name": "ipython",
    "version": 3
   },
   "file_extension": ".py",
   "mimetype": "text/x-python",
   "name": "python",
   "nbconvert_exporter": "python",
   "pygments_lexer": "ipython3",
   "version": "3.8.8"
  }
 },
 "nbformat": 4,
 "nbformat_minor": 5
}

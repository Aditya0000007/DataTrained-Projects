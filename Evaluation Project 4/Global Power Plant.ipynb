{
 "cells": [
  {
   "cell_type": "markdown",
   "id": "bfacda6d",
   "metadata": {},
   "source": [
    "# Problem Statement\n",
    "\n",
    "### Global Power Plant Database\n",
    "\n",
    "#### Problem Statement:\n",
    "#### Description\n",
    "\n",
    "The Global Power Plant Database is a comprehensive, open source database of power plants around the world. It centralizes power plant data to make it easier to navigate, compare and draw insights for one’s own analysis. The database covers approximately 35,000 power plants from 167 countries and includes thermal plants (e.g. coal, gas, oil, nuclear, biomass, waste, geothermal) and renewables (e.g. hydro, wind, solar). Each power plant is geolocated and entries contain information on plant capacity, generation, ownership, and fuel type. It will be continuously updated as data becomes available.\n",
    "\n",
    "Fuel Type Aggregation\n",
    "\n",
    "We define the \"Fuel Type\" attribute of our database based on common fuel categories. \n",
    "\n",
    "Prediction :   Make two prediction  1) Primary Fuel    2) capacity_mw "
   ]
  },
  {
   "cell_type": "markdown",
   "id": "5e4fd13d",
   "metadata": {},
   "source": [
    "# Importing Libraries"
   ]
  },
  {
   "cell_type": "code",
   "execution_count": 1,
   "id": "9521abdd",
   "metadata": {},
   "outputs": [
    {
     "name": "stdout",
     "output_type": "stream",
     "text": [
      "######################################\n",
      "       Import Key Packages            \n",
      "######################################\n"
     ]
    }
   ],
   "source": [
    "print(\"######################################\")\n",
    "print(\"       Import Key Packages            \")\n",
    "print(\"######################################\")\n",
    "import pandas as pd # data processing, CSV file I/O (e.g. pd.read_csv)\n",
    "import matplotlib.pyplot as plt\n",
    "import seaborn as sns ; sns.set()\n",
    "import warnings \n",
    "warnings.filterwarnings(\"ignore\")\n",
    "import numpy as np\n",
    "\n",
    "from sklearn.model_selection import train_test_split, cross_validate\n",
    "from sklearn.preprocessing import LabelEncoder\n",
    "from sklearn.linear_model import LogisticRegression\n",
    "from sklearn.tree import DecisionTreeClassifier\n",
    "from sklearn.model_selection import train_test_split,GridSearchCV\n",
    "from sklearn.preprocessing import StandardScaler\n",
    "from sklearn.metrics import accuracy_score,confusion_matrix,roc_curve,roc_auc_score\n",
    "import matplotlib.pyplot as plt\n",
    "%matplotlib inline\n",
    "import statsmodels as sm\n",
    "from statsmodels.stats.outliers_influence import variance_inflation_factor\n",
    "\n",
    "import seaborn as sns\n",
    "import warnings\n",
    "from statsmodels.stats.outliers_influence import variance_inflation_factor\n",
    "warnings.filterwarnings('ignore')\n",
    "from sklearn.metrics import classification_report\n",
    "\n",
    "import pandas as pd\n",
    "import numpy as np\n",
    "import matplotlib.pyplot as plt\n",
    "import seaborn as sns\n",
    "from IPython.display import display\n",
    "import statsmodels as sm\n",
    "from statsmodels.stats.outliers_influence import variance_inflation_factor\n",
    "from sklearn.model_selection import train_test_split,GridSearchCV,RandomizedSearchCV\n",
    "from sklearn.linear_model import LinearRegression,Ridge,Lasso\n",
    "from sklearn.tree import DecisionTreeRegressor\n",
    "from sklearn.ensemble import RandomForestRegressor,GradientBoostingRegressor\n",
    "from sklearn.metrics import r2_score,mean_squared_error\n",
    "from sklearn import preprocessing\n",
    "import warnings\n",
    "from statsmodels.stats.outliers_influence import variance_inflation_factor\n",
    "warnings.filterwarnings('ignore')\n",
    "from scipy import stats\n",
    "import statsmodels.api as sm\n"
   ]
  },
  {
   "cell_type": "markdown",
   "id": "3faa6643",
   "metadata": {},
   "source": [
    "# Reading dataFrame"
   ]
  },
  {
   "cell_type": "code",
   "execution_count": 3,
   "id": "ce33c16f",
   "metadata": {},
   "outputs": [],
   "source": [
    "df = pd.read_csv('database_IND.csv')"
   ]
  },
  {
   "cell_type": "markdown",
   "id": "dd7c03ec",
   "metadata": {},
   "source": [
    "# Checking the data overview"
   ]
  },
  {
   "cell_type": "code",
   "execution_count": 4,
   "id": "77a9be02",
   "metadata": {},
   "outputs": [
    {
     "data": {
      "text/html": [
       "<div>\n",
       "<style scoped>\n",
       "    .dataframe tbody tr th:only-of-type {\n",
       "        vertical-align: middle;\n",
       "    }\n",
       "\n",
       "    .dataframe tbody tr th {\n",
       "        vertical-align: top;\n",
       "    }\n",
       "\n",
       "    .dataframe thead th {\n",
       "        text-align: right;\n",
       "    }\n",
       "</style>\n",
       "<table border=\"1\" class=\"dataframe\">\n",
       "  <thead>\n",
       "    <tr style=\"text-align: right;\">\n",
       "      <th></th>\n",
       "      <th>country</th>\n",
       "      <th>country_long</th>\n",
       "      <th>name</th>\n",
       "      <th>gppd_idnr</th>\n",
       "      <th>capacity_mw</th>\n",
       "      <th>latitude</th>\n",
       "      <th>longitude</th>\n",
       "      <th>primary_fuel</th>\n",
       "      <th>other_fuel1</th>\n",
       "      <th>other_fuel2</th>\n",
       "      <th>...</th>\n",
       "      <th>year_of_capacity_data</th>\n",
       "      <th>generation_gwh_2013</th>\n",
       "      <th>generation_gwh_2014</th>\n",
       "      <th>generation_gwh_2015</th>\n",
       "      <th>generation_gwh_2016</th>\n",
       "      <th>generation_gwh_2017</th>\n",
       "      <th>generation_gwh_2018</th>\n",
       "      <th>generation_gwh_2019</th>\n",
       "      <th>generation_data_source</th>\n",
       "      <th>estimated_generation_gwh</th>\n",
       "    </tr>\n",
       "  </thead>\n",
       "  <tbody>\n",
       "    <tr>\n",
       "      <th>0</th>\n",
       "      <td>IND</td>\n",
       "      <td>India</td>\n",
       "      <td>ACME Solar Tower</td>\n",
       "      <td>WRI1020239</td>\n",
       "      <td>2.5</td>\n",
       "      <td>28.1839</td>\n",
       "      <td>73.2407</td>\n",
       "      <td>Solar</td>\n",
       "      <td>NaN</td>\n",
       "      <td>NaN</td>\n",
       "      <td>...</td>\n",
       "      <td>NaN</td>\n",
       "      <td>NaN</td>\n",
       "      <td>NaN</td>\n",
       "      <td>NaN</td>\n",
       "      <td>NaN</td>\n",
       "      <td>NaN</td>\n",
       "      <td>NaN</td>\n",
       "      <td>NaN</td>\n",
       "      <td>NaN</td>\n",
       "      <td>NaN</td>\n",
       "    </tr>\n",
       "    <tr>\n",
       "      <th>1</th>\n",
       "      <td>IND</td>\n",
       "      <td>India</td>\n",
       "      <td>ADITYA CEMENT WORKS</td>\n",
       "      <td>WRI1019881</td>\n",
       "      <td>98.0</td>\n",
       "      <td>24.7663</td>\n",
       "      <td>74.6090</td>\n",
       "      <td>Coal</td>\n",
       "      <td>NaN</td>\n",
       "      <td>NaN</td>\n",
       "      <td>...</td>\n",
       "      <td>NaN</td>\n",
       "      <td>NaN</td>\n",
       "      <td>NaN</td>\n",
       "      <td>NaN</td>\n",
       "      <td>NaN</td>\n",
       "      <td>NaN</td>\n",
       "      <td>NaN</td>\n",
       "      <td>NaN</td>\n",
       "      <td>NaN</td>\n",
       "      <td>NaN</td>\n",
       "    </tr>\n",
       "    <tr>\n",
       "      <th>2</th>\n",
       "      <td>IND</td>\n",
       "      <td>India</td>\n",
       "      <td>AES Saurashtra Windfarms</td>\n",
       "      <td>WRI1026669</td>\n",
       "      <td>39.2</td>\n",
       "      <td>21.9038</td>\n",
       "      <td>69.3732</td>\n",
       "      <td>Wind</td>\n",
       "      <td>NaN</td>\n",
       "      <td>NaN</td>\n",
       "      <td>...</td>\n",
       "      <td>NaN</td>\n",
       "      <td>NaN</td>\n",
       "      <td>NaN</td>\n",
       "      <td>NaN</td>\n",
       "      <td>NaN</td>\n",
       "      <td>NaN</td>\n",
       "      <td>NaN</td>\n",
       "      <td>NaN</td>\n",
       "      <td>NaN</td>\n",
       "      <td>NaN</td>\n",
       "    </tr>\n",
       "    <tr>\n",
       "      <th>3</th>\n",
       "      <td>IND</td>\n",
       "      <td>India</td>\n",
       "      <td>AGARTALA GT</td>\n",
       "      <td>IND0000001</td>\n",
       "      <td>135.0</td>\n",
       "      <td>23.8712</td>\n",
       "      <td>91.3602</td>\n",
       "      <td>Gas</td>\n",
       "      <td>NaN</td>\n",
       "      <td>NaN</td>\n",
       "      <td>...</td>\n",
       "      <td>2019.0</td>\n",
       "      <td>NaN</td>\n",
       "      <td>617.789264</td>\n",
       "      <td>843.747</td>\n",
       "      <td>886.004428</td>\n",
       "      <td>663.774500</td>\n",
       "      <td>626.239128</td>\n",
       "      <td>NaN</td>\n",
       "      <td>Central Electricity Authority</td>\n",
       "      <td>NaN</td>\n",
       "    </tr>\n",
       "    <tr>\n",
       "      <th>4</th>\n",
       "      <td>IND</td>\n",
       "      <td>India</td>\n",
       "      <td>AKALTARA TPP</td>\n",
       "      <td>IND0000002</td>\n",
       "      <td>1800.0</td>\n",
       "      <td>21.9603</td>\n",
       "      <td>82.4091</td>\n",
       "      <td>Coal</td>\n",
       "      <td>Oil</td>\n",
       "      <td>NaN</td>\n",
       "      <td>...</td>\n",
       "      <td>2019.0</td>\n",
       "      <td>NaN</td>\n",
       "      <td>3035.550000</td>\n",
       "      <td>5916.370</td>\n",
       "      <td>6243.000000</td>\n",
       "      <td>5385.579736</td>\n",
       "      <td>7279.000000</td>\n",
       "      <td>NaN</td>\n",
       "      <td>Central Electricity Authority</td>\n",
       "      <td>NaN</td>\n",
       "    </tr>\n",
       "  </tbody>\n",
       "</table>\n",
       "<p>5 rows × 27 columns</p>\n",
       "</div>"
      ],
      "text/plain": [
       "  country country_long                      name   gppd_idnr  capacity_mw  \\\n",
       "0     IND        India          ACME Solar Tower  WRI1020239          2.5   \n",
       "1     IND        India       ADITYA CEMENT WORKS  WRI1019881         98.0   \n",
       "2     IND        India  AES Saurashtra Windfarms  WRI1026669         39.2   \n",
       "3     IND        India               AGARTALA GT  IND0000001        135.0   \n",
       "4     IND        India              AKALTARA TPP  IND0000002       1800.0   \n",
       "\n",
       "   latitude  longitude primary_fuel other_fuel1 other_fuel2  ...  \\\n",
       "0   28.1839    73.2407        Solar         NaN         NaN  ...   \n",
       "1   24.7663    74.6090         Coal         NaN         NaN  ...   \n",
       "2   21.9038    69.3732         Wind         NaN         NaN  ...   \n",
       "3   23.8712    91.3602          Gas         NaN         NaN  ...   \n",
       "4   21.9603    82.4091         Coal         Oil         NaN  ...   \n",
       "\n",
       "   year_of_capacity_data  generation_gwh_2013 generation_gwh_2014  \\\n",
       "0                    NaN                  NaN                 NaN   \n",
       "1                    NaN                  NaN                 NaN   \n",
       "2                    NaN                  NaN                 NaN   \n",
       "3                 2019.0                  NaN          617.789264   \n",
       "4                 2019.0                  NaN         3035.550000   \n",
       "\n",
       "  generation_gwh_2015 generation_gwh_2016 generation_gwh_2017  \\\n",
       "0                 NaN                 NaN                 NaN   \n",
       "1                 NaN                 NaN                 NaN   \n",
       "2                 NaN                 NaN                 NaN   \n",
       "3             843.747          886.004428          663.774500   \n",
       "4            5916.370         6243.000000         5385.579736   \n",
       "\n",
       "   generation_gwh_2018  generation_gwh_2019         generation_data_source  \\\n",
       "0                  NaN                  NaN                            NaN   \n",
       "1                  NaN                  NaN                            NaN   \n",
       "2                  NaN                  NaN                            NaN   \n",
       "3           626.239128                  NaN  Central Electricity Authority   \n",
       "4          7279.000000                  NaN  Central Electricity Authority   \n",
       "\n",
       "   estimated_generation_gwh  \n",
       "0                       NaN  \n",
       "1                       NaN  \n",
       "2                       NaN  \n",
       "3                       NaN  \n",
       "4                       NaN  \n",
       "\n",
       "[5 rows x 27 columns]"
      ]
     },
     "execution_count": 4,
     "metadata": {},
     "output_type": "execute_result"
    }
   ],
   "source": [
    "df.head()"
   ]
  },
  {
   "cell_type": "markdown",
   "id": "e3a29d91",
   "metadata": {},
   "source": [
    "# Checking data information"
   ]
  },
  {
   "cell_type": "code",
   "execution_count": 5,
   "id": "59619747",
   "metadata": {},
   "outputs": [
    {
     "name": "stdout",
     "output_type": "stream",
     "text": [
      "<class 'pandas.core.frame.DataFrame'>\n",
      "RangeIndex: 907 entries, 0 to 906\n",
      "Data columns (total 27 columns):\n",
      " #   Column                    Non-Null Count  Dtype  \n",
      "---  ------                    --------------  -----  \n",
      " 0   country                   907 non-null    object \n",
      " 1   country_long              907 non-null    object \n",
      " 2   name                      907 non-null    object \n",
      " 3   gppd_idnr                 907 non-null    object \n",
      " 4   capacity_mw               907 non-null    float64\n",
      " 5   latitude                  861 non-null    float64\n",
      " 6   longitude                 861 non-null    float64\n",
      " 7   primary_fuel              907 non-null    object \n",
      " 8   other_fuel1               198 non-null    object \n",
      " 9   other_fuel2               1 non-null      object \n",
      " 10  other_fuel3               0 non-null      float64\n",
      " 11  commissioning_year        527 non-null    float64\n",
      " 12  owner                     342 non-null    object \n",
      " 13  source                    907 non-null    object \n",
      " 14  url                       907 non-null    object \n",
      " 15  geolocation_source        888 non-null    object \n",
      " 16  wepp_id                   0 non-null      float64\n",
      " 17  year_of_capacity_data     519 non-null    float64\n",
      " 18  generation_gwh_2013       0 non-null      float64\n",
      " 19  generation_gwh_2014       398 non-null    float64\n",
      " 20  generation_gwh_2015       422 non-null    float64\n",
      " 21  generation_gwh_2016       434 non-null    float64\n",
      " 22  generation_gwh_2017       440 non-null    float64\n",
      " 23  generation_gwh_2018       448 non-null    float64\n",
      " 24  generation_gwh_2019       0 non-null      float64\n",
      " 25  generation_data_source    449 non-null    object \n",
      " 26  estimated_generation_gwh  0 non-null      float64\n",
      "dtypes: float64(15), object(12)\n",
      "memory usage: 191.4+ KB\n"
     ]
    }
   ],
   "source": [
    "df.info()"
   ]
  },
  {
   "cell_type": "markdown",
   "id": "350cbe94",
   "metadata": {},
   "source": [
    "## Lets see the output types"
   ]
  },
  {
   "cell_type": "code",
   "execution_count": 6,
   "id": "ffaaca4f",
   "metadata": {},
   "outputs": [
    {
     "data": {
      "text/plain": [
       "array(['Solar', 'Coal', 'Wind', 'Gas', 'Hydro', 'Biomass', 'Oil',\n",
       "       'Nuclear'], dtype=object)"
      ]
     },
     "execution_count": 6,
     "metadata": {},
     "output_type": "execute_result"
    }
   ],
   "source": [
    "df['primary_fuel'].unique()"
   ]
  },
  {
   "cell_type": "markdown",
   "id": "420c9774",
   "metadata": {},
   "source": [
    "Observation- For Primary_fuel we need to create classifiction model"
   ]
  },
  {
   "cell_type": "code",
   "execution_count": 7,
   "id": "9c05c338",
   "metadata": {},
   "outputs": [
    {
     "data": {
      "text/plain": [
       "array([2.50000e+00, 9.80000e+01, 3.92000e+01, 1.35000e+02, 1.80000e+03,\n",
       "       2.50000e+02, 6.00000e+01, 1.92000e+02, 2.90000e+02, 2.10000e+02,\n",
       "       1.35000e+03, 1.34000e+02, 1.20000e+03, 1.69500e+01, 9.00000e+00,\n",
       "       2.63000e+03, 4.19330e+02, 6.00000e+02, 1.00000e+01, 1.70000e+01,\n",
       "       2.40000e+01, 6.52000e+02, 4.60000e+01, 5.00000e+01, 1.00000e+00,\n",
       "       1.65000e+01, 1.13600e+02, 1.98000e+01, 1.32000e+01, 5.00000e+00,\n",
       "       7.05000e+02, 2.80000e+01, 4.50000e+02, 1.80000e+02, 1.05000e+03,\n",
       "       5.10000e+02, 6.75000e+01, 3.00000e+02, 3.35000e+02, 1.20000e+01,\n",
       "       3.15000e+02, 3.00000e+01, 2.00000e+01, 4.20000e+01, 7.20000e+02,\n",
       "       9.00000e+01, 1.32000e+03, 1.20000e+02, 6.60000e+01, 2.70000e+02,\n",
       "       2.28000e+01, 1.50000e+01, 2.52000e+01, 1.80000e+01, 1.70000e+03,\n",
       "       2.60000e+01, 4.10000e+01, 1.37900e+03, 3.40000e+01, 1.60000e+01,\n",
       "       5.00000e+02, 8.00000e+01, 7.50000e+01, 1.21000e+03, 9.90000e+01,\n",
       "       6.96000e+01, 6.00000e+00, 7.50000e+02, 4.00000e+01, 1.65000e+02,\n",
       "       7.00000e+01, 8.15000e+01, 1.12000e+01, 3.63000e+01, 1.70000e+00,\n",
       "       2.48000e+01, 5.04000e+01, 1.50000e+02, 9.87000e+01, 3.00000e+00,\n",
       "       4.20000e+00, 5.40000e+02, 2.31000e+02, 3.50000e+01, 2.34000e+02,\n",
       "       6.30000e+02, 2.92000e+03, 3.60000e+01, 3.75000e+00, 3.28000e+01,\n",
       "       2.32000e+03, 2.40000e+02, 1.44000e+02, 4.40000e+01, 1.10000e+02,\n",
       "       2.21000e+02, 2.10000e+01, 6.60000e+02, 1.82000e+03, 8.29780e+02,\n",
       "       1.00000e+02, 1.60000e+03, 2.50000e+01, 9.90000e+02, 3.37500e+01,\n",
       "       5.10000e+01, 2.80000e+02, 3.30000e+02, 5.95200e+02, 2.20000e+01,\n",
       "       9.60000e+01, 1.55000e+01, 1.29600e+01, 6.76000e+01, 3.90000e+02,\n",
       "       1.28000e+01, 1.00000e+03, 1.25000e+02, 2.00000e+00, 3.75000e+01,\n",
       "       2.82000e+01, 2.25000e+01, 5.15000e+02, 6.88000e+01, 2.10000e+03,\n",
       "       4.31586e+02, 4.25000e+00, 3.10000e+02, 3.90000e+01, 8.00000e+02,\n",
       "       1.05000e+01, 2.25000e+02, 6.48000e+02, 1.15000e+02, 7.76500e+01,\n",
       "       4.68570e+02, 2.31000e+01, 3.20000e+01, 9.20000e+02, 2.05240e+02,\n",
       "       7.68000e+02, 5.50000e+01, 2.56000e+01, 7.50000e+00, 1.80000e+00,\n",
       "       2.55000e+01, 1.56100e+02, 3.51430e+02, 1.89000e+01, 3.47500e+02,\n",
       "       3.44000e+01, 2.73000e+01, 8.88000e+01, 6.05000e+02, 4.90000e+01,\n",
       "       4.20000e+02, 7.80000e+02, 3.50000e+02, 1.50000e+03, 1.00800e+02,\n",
       "       1.08000e+03, 6.35000e+01, 5.45000e+01, 1.55000e+02, 4.45674e+02,\n",
       "       1.39200e+02, 4.27500e+02, 9.18000e+01, 2.96000e+01, 3.30000e+01,\n",
       "       1.02500e+01, 4.00000e+02, 2.34000e+03, 8.80000e+02, 1.10000e+03,\n",
       "       4.40000e+02, 8.55000e+02, 4.00000e+00, 3.25000e+01, 1.19800e+02,\n",
       "       2.18400e+01, 1.95000e+02, 2.91000e+02, 6.45000e+02, 7.20000e+01,\n",
       "       4.14000e+01, 1.26000e+03, 1.75000e+01, 4.45000e+02, 1.45800e+03,\n",
       "       2.00000e+02, 2.40000e+03, 2.60000e+03, 8.90000e+02, 1.34000e+03,\n",
       "       1.24000e+03, 1.07880e+02, 1.95600e+03, 5.55000e+02, 2.00000e+03,\n",
       "       1.01000e+02, 7.56000e+01, 5.20000e+00, 2.08000e+01, 5.62500e+01,\n",
       "       2.11955e+02, 1.98000e+03, 1.26000e+02, 3.15000e+01, 1.05000e+02,\n",
       "       4.60000e+02, 9.70000e+00, 3.68000e+01, 2.10000e+00, 2.40000e+00,\n",
       "       1.14750e+02, 4.50000e+00, 1.40000e+02, 3.14000e+01, 6.32000e+01,\n",
       "       1.86000e+02, 3.94000e+02, 1.66500e+02, 3.88000e+02, 4.50000e+01,\n",
       "       3.06000e+01, 8.40000e+02, 2.46000e+02, 9.30000e+00, 7.89000e+01,\n",
       "       2.07000e+02, 3.12000e+01, 4.62000e+03, 4.00000e+03, 2.83000e+01,\n",
       "       6.10000e+02, 1.46500e+01, 6.60000e+00, 5.25000e+01, 8.15600e+02,\n",
       "       4.55000e+01, 6.50000e+01, 1.61750e+02, 1.16000e+01, 1.22700e+01,\n",
       "       1.47000e+03, 3.32000e+01, 2.76500e+01, 6.25000e+00, 3.76000e+01,\n",
       "       5.80000e+00, 7.20000e+00, 1.09400e+03, 5.20000e+02, 1.02000e+02,\n",
       "       3.30500e+02, 6.55000e+02, 7.26600e+02, 1.75000e+02, 1.14000e+03,\n",
       "       1.17000e+03, 2.04000e+01, 2.20000e+02, 1.60000e+02, 1.61000e+02,\n",
       "       7.02860e+02, 3.96000e+02, 1.37120e+03, 9.00000e+02, 5.92000e+01,\n",
       "       6.56000e+01, 3.52000e+01, 2.18000e+01, 1.48500e+01, 9.90000e+00,\n",
       "       1.52000e+01, 1.90000e+01, 1.72000e+02, 1.87000e+01, 4.80000e+00,\n",
       "       1.72000e+03, 1.37000e+03, 3.85000e+01, 1.40000e+03, 1.10000e+01,\n",
       "       1.98000e+02, 2.70500e+02, 4.12020e+02, 4.05000e+02, 1.25000e+01,\n",
       "       1.96708e+03, 1.65000e+03, 4.80000e+01, 3.00000e+03, 9.48000e+01,\n",
       "       6.30000e+01, 6.25000e+01, 2.64000e+01, 3.05000e+01, 3.51000e+01,\n",
       "       6.90000e+02, 1.05700e+02, 1.06000e+02, 1.97000e+01, 3.96000e+03,\n",
       "       2.90000e+01, 1.33000e+03, 1.03500e+03, 1.72000e+01, 5.40000e+01,\n",
       "       3.36000e+01, 2.98000e+03, 4.30000e+01, 3.30000e+00, 7.70000e+02,\n",
       "       1.30000e+02, 1.14750e+03, 1.50000e+00, 8.50000e+00, 2.25000e+00,\n",
       "       2.52000e+03, 8.40000e+00, 6.30000e+00, 3.60000e+00, 9.42000e+01,\n",
       "       9.70000e+01, 1.35000e+01, 1.32000e+02, 3.30000e+03, 2.60000e+02,\n",
       "       4.22000e+02, 9.35000e+00, 1.44000e+01, 7.40000e+01, 0.00000e+00,\n",
       "       4.96000e+01, 9.13500e+01, 8.00000e+00, 1.44000e+03, 1.11000e+03,\n",
       "       1.55000e+03, 3.82500e+02, 3.20000e+02, 6.72000e+02, 6.26000e+01,\n",
       "       4.80000e+02, 3.74571e+02, 2.57000e+01, 5.28000e+01, 1.87200e+02,\n",
       "       2.58000e+01, 3.07500e+01, 5.07000e+01, 3.88500e+02, 2.72300e+02,\n",
       "       4.76000e+03, 1.04000e+03, 4.25000e+01, 6.24000e+01, 3.46500e+01,\n",
       "       1.06600e+02])"
      ]
     },
     "execution_count": 7,
     "metadata": {},
     "output_type": "execute_result"
    }
   ],
   "source": [
    "df['capacity_mw'].unique()"
   ]
  },
  {
   "cell_type": "markdown",
   "id": "ef9217f5",
   "metadata": {},
   "source": [
    "Observation- For capacity_mw it will be regression model"
   ]
  },
  {
   "cell_type": "markdown",
   "id": "ac779834",
   "metadata": {},
   "source": [
    "# Lets see the Data types of the columns\n"
   ]
  },
  {
   "cell_type": "code",
   "execution_count": 8,
   "id": "446e4527",
   "metadata": {},
   "outputs": [
    {
     "data": {
      "text/plain": [
       "country                      object\n",
       "country_long                 object\n",
       "name                         object\n",
       "gppd_idnr                    object\n",
       "capacity_mw                 float64\n",
       "latitude                    float64\n",
       "longitude                   float64\n",
       "primary_fuel                 object\n",
       "other_fuel1                  object\n",
       "other_fuel2                  object\n",
       "other_fuel3                 float64\n",
       "commissioning_year          float64\n",
       "owner                        object\n",
       "source                       object\n",
       "url                          object\n",
       "geolocation_source           object\n",
       "wepp_id                     float64\n",
       "year_of_capacity_data       float64\n",
       "generation_gwh_2013         float64\n",
       "generation_gwh_2014         float64\n",
       "generation_gwh_2015         float64\n",
       "generation_gwh_2016         float64\n",
       "generation_gwh_2017         float64\n",
       "generation_gwh_2018         float64\n",
       "generation_gwh_2019         float64\n",
       "generation_data_source       object\n",
       "estimated_generation_gwh    float64\n",
       "dtype: object"
      ]
     },
     "execution_count": 8,
     "metadata": {},
     "output_type": "execute_result"
    }
   ],
   "source": [
    "df.dtypes"
   ]
  },
  {
   "cell_type": "markdown",
   "id": "39dd62ad",
   "metadata": {},
   "source": [
    "# Dropping unnecessary columns"
   ]
  },
  {
   "cell_type": "code",
   "execution_count": 9,
   "id": "1cc947a8",
   "metadata": {},
   "outputs": [],
   "source": [
    "df.drop([\"url\", \"country\",\"source\",\"generation_data_source\",\"wepp_id\"],axis=1,inplace=True)"
   ]
  },
  {
   "cell_type": "code",
   "execution_count": 10,
   "id": "e58b9a3f",
   "metadata": {},
   "outputs": [
    {
     "data": {
      "text/plain": [
       "(907, 22)"
      ]
     },
     "execution_count": 10,
     "metadata": {},
     "output_type": "execute_result"
    }
   ],
   "source": [
    "df.shape"
   ]
  },
  {
   "cell_type": "code",
   "execution_count": 11,
   "id": "021e59ba",
   "metadata": {},
   "outputs": [
    {
     "name": "stdout",
     "output_type": "stream",
     "text": [
      "<class 'pandas.core.frame.DataFrame'>\n",
      "RangeIndex: 907 entries, 0 to 906\n",
      "Data columns (total 22 columns):\n",
      " #   Column                    Non-Null Count  Dtype  \n",
      "---  ------                    --------------  -----  \n",
      " 0   country_long              907 non-null    object \n",
      " 1   name                      907 non-null    object \n",
      " 2   gppd_idnr                 907 non-null    object \n",
      " 3   capacity_mw               907 non-null    float64\n",
      " 4   latitude                  861 non-null    float64\n",
      " 5   longitude                 861 non-null    float64\n",
      " 6   primary_fuel              907 non-null    object \n",
      " 7   other_fuel1               198 non-null    object \n",
      " 8   other_fuel2               1 non-null      object \n",
      " 9   other_fuel3               0 non-null      float64\n",
      " 10  commissioning_year        527 non-null    float64\n",
      " 11  owner                     342 non-null    object \n",
      " 12  geolocation_source        888 non-null    object \n",
      " 13  year_of_capacity_data     519 non-null    float64\n",
      " 14  generation_gwh_2013       0 non-null      float64\n",
      " 15  generation_gwh_2014       398 non-null    float64\n",
      " 16  generation_gwh_2015       422 non-null    float64\n",
      " 17  generation_gwh_2016       434 non-null    float64\n",
      " 18  generation_gwh_2017       440 non-null    float64\n",
      " 19  generation_gwh_2018       448 non-null    float64\n",
      " 20  generation_gwh_2019       0 non-null      float64\n",
      " 21  estimated_generation_gwh  0 non-null      float64\n",
      "dtypes: float64(14), object(8)\n",
      "memory usage: 156.0+ KB\n"
     ]
    }
   ],
   "source": [
    "df.info()"
   ]
  },
  {
   "cell_type": "code",
   "execution_count": 12,
   "id": "f46aada4",
   "metadata": {},
   "outputs": [
    {
     "data": {
      "text/plain": [
       "array(['WRI1020239', 'WRI1019881', 'WRI1026669', 'IND0000001',\n",
       "       'IND0000002', 'IND0000003', 'IND0000004', 'IND0000005',\n",
       "       'IND0000006', 'IND0000007', 'IND0000008', 'IND0000009',\n",
       "       'IND0000010', 'IND0000011', 'IND0000012', 'IND0000013',\n",
       "       'IND0000014', 'WRI1019996', 'IND0000015', 'WRI1019938',\n",
       "       'WRI1019939', 'WRI1019904', 'IND0000016', 'IND0000017',\n",
       "       'WRI1019940', 'WRI1020238', 'WRI1026104', 'WRI1026069',\n",
       "       'WRI1026105', 'WRI1026768', 'WRI1026347', 'WRI1026068',\n",
       "       'WRI1026106', 'WRI1026107', 'WRI1026108', 'WRI1026109',\n",
       "       'WRI1026110', 'WRI1026111', 'WRI1026112', 'IND0000019',\n",
       "       'WRI1019905', 'IND0000020', 'IND0000021', 'IND0000022',\n",
       "       'IND0000023', 'IND0000025', 'IND0000024', 'WRI1019941',\n",
       "       'WRI1019882', 'IND0000026', 'IND0000027', 'IND0000028',\n",
       "       'IND0000029', 'IND0000030', 'IND0000031', 'IND0000032',\n",
       "       'WRI1019883', 'IND0000033', 'IND0000034', 'IND0000035',\n",
       "       'IND0000036', 'IND0000037', 'IND0000038', 'IND0000039',\n",
       "       'IND0000040', 'IND0000041', 'IND0000042', 'WRI1026675',\n",
       "       'WRI1026664', 'WRI1019942', 'WRI1019906', 'WRI1019907',\n",
       "       'IND0000044', 'WRI1019908', 'WRI1019909', 'IND0000045',\n",
       "       'IND0000046', 'WRI1019910', 'IND0000047', 'WRI1019943',\n",
       "       'WRI1019944', 'IND0000048', 'IND0000049', 'IND0000050',\n",
       "       'IND0000514', 'IND0000052', 'IND0000053', 'IND0000051',\n",
       "       'WRI1019945', 'IND0000054', 'IND0000055', 'IND0000056',\n",
       "       'IND0000057', 'IND0000058', 'WRI1019884', 'WRI1019997',\n",
       "       'IND0000059', 'WRI1019885', 'IND0000527', 'IND0000060',\n",
       "       'IND0000061', 'IND0000063', 'IND0000064', 'IND0000066',\n",
       "       'WRI1026079', 'IND0000067', 'IND0000068', 'IND0000069',\n",
       "       'IND0000070', 'WRI1019946', 'IND0000071', 'WRI1026113',\n",
       "       'WRI1026114', 'WRI1026655', 'WRI1026115', 'WRI1026116',\n",
       "       'WRI1026117', 'WRI1026118', 'WRI1026119', 'WRI1026120',\n",
       "       'WRI1026121', 'WRI1026122', 'WRI1026090', 'WRI1026075',\n",
       "       'WRI1026073', 'WRI1026074', 'WRI1026083', 'WRI1026123',\n",
       "       'WRI1026088', 'WRI1026124', 'WRI1026125', 'WRI1026126',\n",
       "       'WRI1026127', 'IND0000072', 'IND0000073', 'IND0000074',\n",
       "       'IND0000075', 'WRI1019947', 'WRI1019886', 'WRI1019887',\n",
       "       'WRI1019948', 'WRI1019949', 'IND0000078', 'IND0000076',\n",
       "       'IND0000515', 'IND0000079', 'IND0000080', 'IND0000081',\n",
       "       'IND0000082', 'IND0000083', 'IND0000084', 'IND0000085',\n",
       "       'WRI1019911', 'WRI1026128', 'WRI1026129', 'WRI1026672',\n",
       "       'WRI1026130', 'IND0000087', 'IND0000088', 'IND0000089',\n",
       "       'IND0000086', 'WRI1019902', 'IND0000090', 'WRI1019912',\n",
       "       'WRI1019950', 'WRI1019914', 'IND0000091', 'IND0000092',\n",
       "       'IND0000093', 'IND0000094', 'IND0000095', 'IND0000096',\n",
       "       'IND0000097', 'IND0000098', 'IND0000099', 'IND0000101',\n",
       "       'WRI1019951', 'IND0000528', 'IND0000102', 'IND0000103',\n",
       "       'WRI1019952', 'WRI1019953', 'IND0000104', 'IND0000105',\n",
       "       'IND0000106', 'WRI1019915', 'IND0000107', 'WRI1019998',\n",
       "       'IND0000108', 'IND0000109', 'WRI1026131', 'WRI1019913',\n",
       "       'WRI1026100', 'WRI1026132', 'WRI1026089', 'WRI1026133',\n",
       "       'WRI1026134', 'WRI1026135', 'WRI1020240', 'WRI1020241',\n",
       "       'WRI1026136', 'IND0000110', 'IND0000111', 'WRI1026662',\n",
       "       'IND0000114', 'WRI1026670', 'WRI1026095', 'WRI1026667',\n",
       "       'WRI1026101', 'IND0000117', 'IND0000115', 'WRI1026653',\n",
       "       'IND0000118', 'WRI1026671', 'IND0000539', 'WRI1019888',\n",
       "       'IND0000119', 'IND0000516', 'IND0000120', 'IND0000121',\n",
       "       'IND0000122', 'IND0000123', 'IND0000124', 'IND0000125',\n",
       "       'IND0000126', 'WRI1026793', 'IND0000127', 'IND0000128',\n",
       "       'IND0000129', 'IND0000130', 'WRI1019955', 'IND0000132',\n",
       "       'WRI1026658', 'IND0000112', 'IND0000134', 'IND0000136',\n",
       "       'WRI1019956', 'IND0000137', 'WRI1019916', 'IND0000135',\n",
       "       'WRI1026072', 'WRI1026137', 'WRI1026138', 'WRI1026139',\n",
       "       'WRI1026140', 'WRI1020242', 'WRI1026141', 'WRI1026142',\n",
       "       'WRI1026081', 'WRI1026143', 'WRI1020243', 'WRI1026144',\n",
       "       'WRI1026145', 'IND0000139', 'IND0000140', 'WRI1019958',\n",
       "       'IND0000141', 'WRI1019917', 'IND0000142', 'IND0000143',\n",
       "       'WRI1019957', 'IND0000144', 'WRI1019918', 'WRI1026795',\n",
       "       'WRI1026080', 'WRI1026656', 'WRI1026094', 'WRI1026794',\n",
       "       'IND0000138', 'WRI1026071', 'WRI1026146', 'IND0000145',\n",
       "       'IND0000146', 'IND0000148', 'IND0000149', 'IND0000150',\n",
       "       'WRI1026766', 'IND0000153', 'IND0000529', 'IND0000151',\n",
       "       'IND0000154', 'IND0000152', 'WRI1026661', 'WRI1026147',\n",
       "       'WRI1026148', 'IND0000155', 'WRI1019903', 'IND0000156',\n",
       "       'IND0000157', 'WRI1019889', 'WRI1019999', 'WRI1020000',\n",
       "       'WRI1020001', 'IND0000158', 'IND0000159', 'IND0000160',\n",
       "       'IND0000161', 'IND0000162', 'WRI1026149', 'WRI1026150',\n",
       "       'WRI1026096', 'WRI1026777', 'WRI1026099', 'WRI1026082',\n",
       "       'WRI1026339', 'IND0000166', 'IND0000167', 'IND0000168',\n",
       "       'IND0000169', 'IND0000170', 'IND0000171', 'IND0000172',\n",
       "       'IND0000173', 'IND0000174', 'IND0000175', 'IND0000176',\n",
       "       'IND0000177', 'WRI1019919', 'WRI1020002', 'IND0000178',\n",
       "       'IND0000179', 'WRI1019959', 'IND0000180', 'IND0000181',\n",
       "       'IND0000182', 'IND0000183', 'IND0000184', 'IND0000185',\n",
       "       'IND0000186', 'IND0000517', 'IND0000518', 'WRI1020003',\n",
       "       'IND0000187', 'IND0000188', 'IND0000189', 'IND0000190',\n",
       "       'IND0000191', 'WRI1019920', 'IND0000192', 'IND0000193',\n",
       "       'IND0000194', 'IND0000195', 'IND0000196', 'IND0000197',\n",
       "       'IND0000198', 'WRI1019960', 'IND0000530', 'WRI1019921',\n",
       "       'IND0000199', 'IND0000200', 'IND0000201', 'IND0000202',\n",
       "       'IND0000203', 'IND0000204', 'WRI1019961', 'WRI1019962',\n",
       "       'WRI1019963', 'WRI1019922', 'IND0000205', 'IND0000206',\n",
       "       'IND0000207', 'WRI1019923', 'WRI1019924', 'IND0000208',\n",
       "       'IND0000209', 'IND0000210', 'IND0000211', 'IND0000212',\n",
       "       'IND0000213', 'WRI1019890', 'IND0000214', 'IND0000215',\n",
       "       'IND0000216', 'IND0000217', 'WRI1026340', 'IND0000519',\n",
       "       'IND0000218', 'IND0000219', 'IND0000220', 'WRI1019925',\n",
       "       'IND0000221', 'IND0000222', 'IND0000223', 'IND0000224',\n",
       "       'IND0000225', 'IND0000226', 'WRI1020244', 'WRI1020004',\n",
       "       'IND0000227', 'IND0000163', 'IND0000164', 'IND0000165',\n",
       "       'WRI1026341', 'WRI1026151', 'WRI1026152', 'WRI1026778',\n",
       "       'WRI1026153', 'WRI1026154', 'WRI1026155', 'WRI1026156',\n",
       "       'WRI1026157', 'WRI1026158', 'WRI1026159', 'WRI1026160',\n",
       "       'WRI1026161', 'WRI1026162', 'WRI1026163', 'WRI1026164',\n",
       "       'WRI1026668', 'WRI1026342', 'WRI1026165', 'WRI1026086',\n",
       "       'WRI1026067', 'WRI1026775', 'WRI1026848', 'WRI1019891',\n",
       "       'IND0000228', 'IND0000230', 'IND0000531', 'IND0000229',\n",
       "       'IND0000231', 'IND0000232', 'IND0000233', 'WRI1026343',\n",
       "       'WRI1026674', 'WRI1019964', 'WRI1019965', 'IND0000234',\n",
       "       'IND0000235', 'IND0000236', 'IND0000237', 'IND0000238',\n",
       "       'IND0000239', 'IND0000240', 'WRI1026344', 'IND0000241',\n",
       "       'WRI1026166', 'WRI1026167', 'WRI1026168', 'WRI1026345',\n",
       "       'WRI1026790', 'WRI1026169', 'WRI1026346', 'IND0000242',\n",
       "       'IND0000243', 'IND0000244', 'IND0000245', 'IND0000246',\n",
       "       'IND0000247', 'IND0000248', 'WRI1019966', 'IND0000249',\n",
       "       'WRI1019967', 'WRI1020005', 'IND0000250', 'IND0000252',\n",
       "       'IND0000253', 'IND0000254', 'IND0000255', 'WRI1019926',\n",
       "       'IND0000520', 'WRI1019892', 'IND0000256', 'IND0000257',\n",
       "       'WRI1019968', 'IND0000258', 'IND0000259', 'WRI1019969',\n",
       "       'IND0000260', 'IND0000261', 'IND0000532', 'IND0000262',\n",
       "       'IND0000263', 'IND0000264', 'IND0000265', 'IND0000266',\n",
       "       'IND0000267', 'IND0000268', 'IND0000270', 'IND0000271',\n",
       "       'IND0000272', 'WRI1019893', 'IND0000273', 'IND0000274',\n",
       "       'IND0000275', 'WRI1026348', 'WRI1026070', 'WRI1019927',\n",
       "       'IND0000276', 'WRI1019970', 'WRI1019971', 'WRI1020014',\n",
       "       'WRI1020015', 'IND0000278', 'IND0000279', 'IND0000280',\n",
       "       'WRI1019928', 'WRI1019972', 'IND0000281', 'IND0000282',\n",
       "       'WRI1026077', 'WRI1026170', 'WRI1020245', 'WRI1026171',\n",
       "       'WRI1026172', 'WRI1026173', 'WRI1026093', 'WRI1026092',\n",
       "       'WRI1026174', 'WRI1026175', 'IND0000283', 'IND0000287',\n",
       "       'IND0000286', 'IND0000521', 'WRI1020006', 'WRI1019973',\n",
       "       'WRI1019974', 'WRI1019975', 'WRI1019976', 'IND0000288',\n",
       "       'WRI1020007', 'IND0000289', 'IND0000291', 'IND0000292',\n",
       "       'WRI1019977', 'IND0000293', 'IND0000294', 'IND0000522',\n",
       "       'WRI1020008', 'IND0000533', 'IND0000297', 'IND0000298',\n",
       "       'IND0000299', 'IND0000300', 'IND0000301', 'IND0000302',\n",
       "       'WRI1019894', 'IND0000303', 'IND0000304', 'WRI1019895',\n",
       "       'IND0000305', 'IND0000306', 'WRI1026349', 'IND0000307',\n",
       "       'IND0000308', 'WRI1026676', 'IND0000309', 'IND0000284',\n",
       "       'IND0000285', 'WRI1026350', 'WRI1026064', 'WRI1026176',\n",
       "       'WRI1026351', 'WRI1026352', 'WRI1026177', 'WRI1026178',\n",
       "       'WRI1026179', 'WRI1026065', 'IND0000310', 'IND0000311',\n",
       "       'IND0000312', 'WRI1026091', 'WRI1026085', 'IND0000313',\n",
       "       'IND0000314', 'IND0000315', 'IND0000316', 'IND0000317',\n",
       "       'IND0000318', 'IND0000319', 'IND0000320', 'IND0000321',\n",
       "       'IND0000323', 'IND0000324', 'IND0000325', 'IND0000326',\n",
       "       'WRI1019954', 'IND0000540', 'IND0000327', 'IND0000328',\n",
       "       'IND0000329', 'WRI1020017', 'IND0000330', 'IND0000331',\n",
       "       'IND0000333', 'IND0000334', 'IND0000335', 'IND0000336',\n",
       "       'IND0000337', 'IND0000338', 'IND0000339', 'IND0000340',\n",
       "       'IND0000341', 'IND0000342', 'IND0000343', 'IND0000344',\n",
       "       'IND0000345', 'IND0000346', 'IND0000523', 'WRI1019978',\n",
       "       'IND0000347', 'IND0000348', 'IND0000349', 'WRI1026180',\n",
       "       'WRI1026663', 'WRI1026750', 'WRI1026751', 'WRI1026181',\n",
       "       'WRI1026182', 'WRI1026183', 'WRI1026184', 'WRI1026673',\n",
       "       'WRI1026788', 'WRI1026792', 'WRI1026791', 'WRI1026185',\n",
       "       'WRI1026186', 'WRI1026187', 'IND0000350', 'IND0000351',\n",
       "       'WRI1019896', 'IND0000354', 'IND0000355', 'IND0000356',\n",
       "       'WRI1019929', 'IND0000357', 'IND0000358', 'WRI1019930',\n",
       "       'IND0000359', 'IND0000360', 'IND0000361', 'WRI1019897',\n",
       "       'IND0000362', 'WRI1019931', 'IND0000363', 'IND0000364',\n",
       "       'IND0000365', 'IND0000366', 'IND0000367', 'IND0000368',\n",
       "       'WRI1019979', 'IND0000369', 'WRI1019898', 'IND0000370',\n",
       "       'IND0000371', 'IND0000372', 'IND0000373', 'IND0000374',\n",
       "       'IND0000375', 'IND0000376', 'IND0000377', 'IND0000378',\n",
       "       'IND0000379', 'IND0000380', 'IND0000381', 'WRI1026679',\n",
       "       'IND0000352', 'IND0000353', 'WRI1026188', 'WRI1026189',\n",
       "       'WRI1026190', 'WRI1026191', 'WRI1026192', 'WRI1026193',\n",
       "       'WRI1026194', 'WRI1026770', 'WRI1026195', 'WRI1026196',\n",
       "       'WRI1026197', 'WRI1026198', 'WRI1026752', 'WRI1026666',\n",
       "       'WRI1026199', 'WRI1026084', 'WRI1026678', 'IND0000382',\n",
       "       'IND0000383', 'IND0000384', 'IND0000385', 'WRI1019980',\n",
       "       'IND0000534', 'IND0000386', 'IND0000387', 'IND0000388',\n",
       "       'IND0000389', 'IND0000390', 'WRI1019932', 'WRI1019981',\n",
       "       'WRI1019982', 'WRI1019983', 'IND0000391', 'IND0000392',\n",
       "       'WRI1019933', 'IND0000393', 'IND0000394', 'IND0000395',\n",
       "       'WRI1020009', 'IND0000396', 'WRI1019984', 'IND0000397',\n",
       "       'IND0000524', 'IND0000398', 'IND0000399', 'IND0000400',\n",
       "       'IND0000401', 'IND0000402', 'IND0000403', 'IND0000404',\n",
       "       'IND0000405', 'IND0000406', 'WRI1019985', 'IND0000535',\n",
       "       'IND0000407', 'IND0000408', 'IND0000409', 'WRI1019899',\n",
       "       'WRI1019934', 'WRI1019986', 'WRI1019900', 'WRI1026789',\n",
       "       'IND0000411', 'IND0000412', 'IND0000413', 'IND0000414',\n",
       "       'IND0000415', 'IND0000416', 'IND0000417', 'IND0000525',\n",
       "       'IND0000418', 'IND0000536', 'WRI1019987', 'IND0000419',\n",
       "       'IND0000420', 'IND0000421', 'IND0000422', 'IND0000423',\n",
       "       'IND0000424', 'IND0000425', 'IND0000426', 'IND0000427',\n",
       "       'IND0000428', 'IND0000429', 'IND0000430', 'IND0000431',\n",
       "       'IND0000432', 'IND0000433', 'IND0000434', 'IND0000435',\n",
       "       'WRI1026771', 'WRI1026773', 'WRI1026772', 'WRI1026200',\n",
       "       'WRI1026201', 'WRI1026657', 'WRI1026202', 'WRI1026203',\n",
       "       'WRI1026204', 'WRI1026076', 'WRI1026205', 'WRI1026206',\n",
       "       'WRI1026207', 'WRI1026208', 'WRI1026209', 'WRI1026210',\n",
       "       'WRI1026786', 'WRI1026785', 'WRI1026784', 'IND0000410',\n",
       "       'WRI1026211', 'WRI1026212', 'WRI1026677', 'WRI1026213',\n",
       "       'WRI1026764', 'WRI1026754', 'WRI1026755', 'WRI1026756',\n",
       "       'WRI1026757', 'WRI1026762', 'WRI1026763', 'WRI1026214',\n",
       "       'WRI1026087', 'IND0000436', 'WRI1020016', 'WRI1019988',\n",
       "       'IND0000437', 'IND0000438', 'IND0000439', 'IND0000440',\n",
       "       'IND0000441', 'IND0000442', 'IND0000443', 'IND0000444',\n",
       "       'IND0000445', 'IND0000537', 'IND0000446', 'IND0000447',\n",
       "       'IND0000450', 'IND0000449', 'IND0000448', 'IND0000526',\n",
       "       'IND0000451', 'IND0000452', 'WRI1019989', 'IND0000453',\n",
       "       'WRI1019990', 'IND0000454', 'IND0000455', 'IND0000456',\n",
       "       'IND0000457', 'IND0000458', 'IND0000459', 'IND0000460',\n",
       "       'IND0000461', 'IND0000462', 'IND0000463', 'WRI1019991',\n",
       "       'IND0000464', 'IND0000465', 'IND0000538', 'WRI1019935',\n",
       "       'IND0000466', 'IND0000468', 'IND0000467', 'WRI1026758',\n",
       "       'WRI1026774', 'WRI1026767', 'WRI1026660', 'WRI1026215',\n",
       "       'WRI1026102', 'WRI1026216', 'WRI1026787', 'WRI1026078',\n",
       "       'WRI1026217', 'WRI1026654', 'WRI1026659', 'WRI1026218',\n",
       "       'WRI1026098', 'WRI1026097', 'WRI1026765', 'IND0000469',\n",
       "       'IND0000470', 'IND0000471', 'IND0000472', 'IND0000473',\n",
       "       'IND0000474', 'IND0000475', 'IND0000476', 'IND0000477',\n",
       "       'IND0000478', 'IND0000479', 'IND0000480', 'WRI1026759',\n",
       "       'IND0000481', 'IND0000482', 'IND0000483', 'IND0000484',\n",
       "       'IND0000485', 'WRI1019992', 'IND0000486', 'IND0000487',\n",
       "       'IND0000488', 'IND0000489', 'IND0000491', 'WRI1026066',\n",
       "       'IND0000492', 'IND0000493', 'IND0000494', 'IND0000495',\n",
       "       'IND0000496', 'IND0000497', 'WRI1020010', 'WRI1020011',\n",
       "       'WRI1019936', 'IND0000499', 'WRI1019993', 'WRI1020012',\n",
       "       'IND0000500', 'IND0000501', 'IND0000502', 'WRI1020013',\n",
       "       'IND0000503', 'IND0000504', 'IND0000505', 'IND0000506',\n",
       "       'WRI1026103', 'WRI1026665', 'WRI1026680', 'WRI1026219',\n",
       "       'WRI1019937', 'IND0000507', 'IND0000508', 'WRI1019994',\n",
       "       'IND0000509', 'IND0000510', 'WRI1026220', 'WRI1026221',\n",
       "       'WRI1026760', 'WRI1026753', 'WRI1026769', 'IND0000511',\n",
       "       'WRI1019995', 'IND0000512', 'IND0000513', 'WRI1026222',\n",
       "       'WRI1026776', 'WRI1019901', 'WRI1026761'], dtype=object)"
      ]
     },
     "execution_count": 12,
     "metadata": {},
     "output_type": "execute_result"
    }
   ],
   "source": [
    "df['gppd_idnr'].unique()"
   ]
  },
  {
   "cell_type": "markdown",
   "id": "0bf540ae",
   "metadata": {},
   "source": [
    "Observation- gppd_idnr is unique for each plant so I can drop this column"
   ]
  },
  {
   "cell_type": "code",
   "execution_count": 13,
   "id": "b32c9b56",
   "metadata": {},
   "outputs": [],
   "source": [
    "df.drop([\"gppd_idnr\"],axis=1,inplace=True)"
   ]
  },
  {
   "cell_type": "code",
   "execution_count": 14,
   "id": "2a3dd7cd",
   "metadata": {},
   "outputs": [
    {
     "data": {
      "text/plain": [
       "(907, 21)"
      ]
     },
     "execution_count": 14,
     "metadata": {},
     "output_type": "execute_result"
    }
   ],
   "source": [
    "df.shape"
   ]
  },
  {
   "cell_type": "code",
   "execution_count": 15,
   "id": "b177b8e0",
   "metadata": {},
   "outputs": [
    {
     "data": {
      "text/plain": [
       "array(['National Renewable Energy Laboratory', 'WRI', nan,\n",
       "       'Industry About'], dtype=object)"
      ]
     },
     "execution_count": 15,
     "metadata": {},
     "output_type": "execute_result"
    }
   ],
   "source": [
    "df['geolocation_source'].unique()"
   ]
  },
  {
   "cell_type": "markdown",
   "id": "483fd42e",
   "metadata": {},
   "source": [
    "Observation- We can see NAN is present in this columns"
   ]
  },
  {
   "cell_type": "code",
   "execution_count": 16,
   "id": "65e4789f",
   "metadata": {},
   "outputs": [
    {
     "data": {
      "text/plain": [
       "0     NaN\n",
       "1     NaN\n",
       "2     NaN\n",
       "3     NaN\n",
       "4     NaN\n",
       "       ..\n",
       "902   NaN\n",
       "903   NaN\n",
       "904   NaN\n",
       "905   NaN\n",
       "906   NaN\n",
       "Name: estimated_generation_gwh, Length: 907, dtype: float64"
      ]
     },
     "execution_count": 16,
     "metadata": {},
     "output_type": "execute_result"
    }
   ],
   "source": [
    "df['estimated_generation_gwh']"
   ]
  },
  {
   "cell_type": "markdown",
   "id": "388b078c",
   "metadata": {},
   "source": [
    "observation- I can see all values are NAN and we are good to drop this column"
   ]
  },
  {
   "cell_type": "code",
   "execution_count": 17,
   "id": "d9920c79",
   "metadata": {},
   "outputs": [],
   "source": [
    "df.drop([\"estimated_generation_gwh\"],axis=1,inplace=True)"
   ]
  },
  {
   "cell_type": "code",
   "execution_count": 18,
   "id": "74a3c1ed",
   "metadata": {},
   "outputs": [
    {
     "data": {
      "text/plain": [
       "(907, 20)"
      ]
     },
     "execution_count": 18,
     "metadata": {},
     "output_type": "execute_result"
    }
   ],
   "source": [
    "df.shape"
   ]
  },
  {
   "cell_type": "code",
   "execution_count": 19,
   "id": "c91aadf0",
   "metadata": {},
   "outputs": [
    {
     "data": {
      "text/plain": [
       "array([nan])"
      ]
     },
     "execution_count": 19,
     "metadata": {},
     "output_type": "execute_result"
    }
   ],
   "source": [
    "df['generation_gwh_2019'].unique()"
   ]
  },
  {
   "cell_type": "code",
   "execution_count": 20,
   "id": "784b328e",
   "metadata": {},
   "outputs": [
    {
     "data": {
      "text/plain": [
       "array([nan])"
      ]
     },
     "execution_count": 20,
     "metadata": {},
     "output_type": "execute_result"
    }
   ],
   "source": [
    "df['generation_gwh_2013'].unique()"
   ]
  },
  {
   "cell_type": "code",
   "execution_count": 21,
   "id": "2acbd4cf",
   "metadata": {},
   "outputs": [
    {
     "data": {
      "text/plain": [
       "Oil             195\n",
       "Gas               2\n",
       "Cogeneration      1\n",
       "Name: other_fuel1, dtype: int64"
      ]
     },
     "execution_count": 21,
     "metadata": {},
     "output_type": "execute_result"
    }
   ],
   "source": [
    "df['other_fuel1'].value_counts()"
   ]
  },
  {
   "cell_type": "code",
   "execution_count": 22,
   "id": "5f76f304",
   "metadata": {},
   "outputs": [
    {
     "data": {
      "text/plain": [
       "Oil    1\n",
       "Name: other_fuel2, dtype: int64"
      ]
     },
     "execution_count": 22,
     "metadata": {},
     "output_type": "execute_result"
    }
   ],
   "source": [
    "df['other_fuel2'].value_counts()"
   ]
  },
  {
   "cell_type": "code",
   "execution_count": 23,
   "id": "ff6f4305",
   "metadata": {},
   "outputs": [
    {
     "data": {
      "text/plain": [
       "array([nan])"
      ]
     },
     "execution_count": 23,
     "metadata": {},
     "output_type": "execute_result"
    }
   ],
   "source": [
    "df['other_fuel3'].unique()"
   ]
  },
  {
   "cell_type": "markdown",
   "id": "16866786",
   "metadata": {},
   "source": [
    "Observation- generation_gwh_2019,generation_gwh_2013 and other_fuel3, other_fuel2 has all null values present so I am dropping them off"
   ]
  },
  {
   "cell_type": "code",
   "execution_count": 24,
   "id": "59ff718d",
   "metadata": {},
   "outputs": [],
   "source": [
    "df.drop([\"generation_gwh_2019\", \"generation_gwh_2013\",\"other_fuel3\"],axis=1,inplace=True)"
   ]
  },
  {
   "cell_type": "code",
   "execution_count": 25,
   "id": "9c2f0027",
   "metadata": {},
   "outputs": [],
   "source": [
    "df.drop([\"other_fuel2\"],axis=1,inplace=True)"
   ]
  },
  {
   "cell_type": "code",
   "execution_count": 26,
   "id": "3020183f",
   "metadata": {},
   "outputs": [
    {
     "data": {
      "text/plain": [
       "(907, 16)"
      ]
     },
     "execution_count": 26,
     "metadata": {},
     "output_type": "execute_result"
    }
   ],
   "source": [
    "df.shape"
   ]
  },
  {
   "cell_type": "code",
   "execution_count": 27,
   "id": "ed5cd49c",
   "metadata": {},
   "outputs": [
    {
     "name": "stdout",
     "output_type": "stream",
     "text": [
      "<class 'pandas.core.frame.DataFrame'>\n",
      "RangeIndex: 907 entries, 0 to 906\n",
      "Data columns (total 16 columns):\n",
      " #   Column                 Non-Null Count  Dtype  \n",
      "---  ------                 --------------  -----  \n",
      " 0   country_long           907 non-null    object \n",
      " 1   name                   907 non-null    object \n",
      " 2   capacity_mw            907 non-null    float64\n",
      " 3   latitude               861 non-null    float64\n",
      " 4   longitude              861 non-null    float64\n",
      " 5   primary_fuel           907 non-null    object \n",
      " 6   other_fuel1            198 non-null    object \n",
      " 7   commissioning_year     527 non-null    float64\n",
      " 8   owner                  342 non-null    object \n",
      " 9   geolocation_source     888 non-null    object \n",
      " 10  year_of_capacity_data  519 non-null    float64\n",
      " 11  generation_gwh_2014    398 non-null    float64\n",
      " 12  generation_gwh_2015    422 non-null    float64\n",
      " 13  generation_gwh_2016    434 non-null    float64\n",
      " 14  generation_gwh_2017    440 non-null    float64\n",
      " 15  generation_gwh_2018    448 non-null    float64\n",
      "dtypes: float64(10), object(6)\n",
      "memory usage: 113.5+ KB\n"
     ]
    }
   ],
   "source": [
    "df.info()"
   ]
  },
  {
   "cell_type": "code",
   "execution_count": 28,
   "id": "36cb9c79",
   "metadata": {},
   "outputs": [
    {
     "data": {
      "text/plain": [
       "name                                   owner                                                \n",
       "ACME Solar Tower                       Solar Paces                                              1\n",
       "Phagi Solar Power Plant                Rajasthan Renewable Energy Corporation Limited (RREC)    1\n",
       "Punjawa - Sikh Wala Solar Power Plant  Azure Urja Private Limited                               1\n",
       "Precious Solar Power Plant             Precious Energy Services Pvt Ltd                         1\n",
       "Pratapgarh Solar Power Plant           Integrated Coal Mining (ICML)                            1\n",
       "                                                                                               ..\n",
       "IL&FS Kaladeh Wind Farm                IL&FS Wind Power Limited                                 1\n",
       "Horti Solar Power Plant                Essel MP Energy Limited                                  1\n",
       "HZL Samana Wind Farm                   Hindustan Zinc Ltd.                                      1\n",
       "HZL Palladum Wind Farm                 HZL                                                      1\n",
       "iEnergy Theni Wind Farm                iEnergy Wind Farms                                       1\n",
       "Length: 342, dtype: int64"
      ]
     },
     "execution_count": 28,
     "metadata": {},
     "output_type": "execute_result"
    }
   ],
   "source": [
    "df[['name','owner']].value_counts()"
   ]
  },
  {
   "cell_type": "markdown",
   "id": "cbf850ee",
   "metadata": {},
   "source": [
    "Observation- Name and owner are having mostly similarities and I am dropping the owner column as it has more null values"
   ]
  },
  {
   "cell_type": "code",
   "execution_count": 29,
   "id": "b857850e",
   "metadata": {},
   "outputs": [],
   "source": [
    "df.drop([\"owner\"],axis=1,inplace=True)"
   ]
  },
  {
   "cell_type": "code",
   "execution_count": 30,
   "id": "3000c2b3",
   "metadata": {},
   "outputs": [
    {
     "data": {
      "text/plain": [
       "(907, 15)"
      ]
     },
     "execution_count": 30,
     "metadata": {},
     "output_type": "execute_result"
    }
   ],
   "source": [
    "df.shape"
   ]
  },
  {
   "cell_type": "markdown",
   "id": "f3979350",
   "metadata": {},
   "source": [
    "### Lets take a closer look into geolocation_source"
   ]
  },
  {
   "cell_type": "code",
   "execution_count": 31,
   "id": "870c7a61",
   "metadata": {},
   "outputs": [
    {
     "data": {
      "text/plain": [
       "WRI                                     765\n",
       "Industry About                          119\n",
       "National Renewable Energy Laboratory      4\n",
       "Name: geolocation_source, dtype: int64"
      ]
     },
     "execution_count": 31,
     "metadata": {},
     "output_type": "execute_result"
    }
   ],
   "source": [
    "df['geolocation_source'].value_counts()"
   ]
  },
  {
   "cell_type": "code",
   "execution_count": 32,
   "id": "a5e032d6",
   "metadata": {},
   "outputs": [
    {
     "data": {
      "text/html": [
       "<div>\n",
       "<style scoped>\n",
       "    .dataframe tbody tr th:only-of-type {\n",
       "        vertical-align: middle;\n",
       "    }\n",
       "\n",
       "    .dataframe tbody tr th {\n",
       "        vertical-align: top;\n",
       "    }\n",
       "\n",
       "    .dataframe thead th {\n",
       "        text-align: right;\n",
       "    }\n",
       "</style>\n",
       "<table border=\"1\" class=\"dataframe\">\n",
       "  <thead>\n",
       "    <tr style=\"text-align: right;\">\n",
       "      <th></th>\n",
       "      <th>country_long</th>\n",
       "      <th>name</th>\n",
       "      <th>capacity_mw</th>\n",
       "      <th>latitude</th>\n",
       "      <th>longitude</th>\n",
       "      <th>primary_fuel</th>\n",
       "      <th>other_fuel1</th>\n",
       "      <th>commissioning_year</th>\n",
       "      <th>geolocation_source</th>\n",
       "      <th>year_of_capacity_data</th>\n",
       "      <th>generation_gwh_2014</th>\n",
       "      <th>generation_gwh_2015</th>\n",
       "      <th>generation_gwh_2016</th>\n",
       "      <th>generation_gwh_2017</th>\n",
       "      <th>generation_gwh_2018</th>\n",
       "    </tr>\n",
       "  </thead>\n",
       "  <tbody>\n",
       "    <tr>\n",
       "      <th>0</th>\n",
       "      <td>India</td>\n",
       "      <td>ACME Solar Tower</td>\n",
       "      <td>2.5</td>\n",
       "      <td>28.1839</td>\n",
       "      <td>73.2407</td>\n",
       "      <td>Solar</td>\n",
       "      <td>NaN</td>\n",
       "      <td>2011.0</td>\n",
       "      <td>National Renewable Energy Laboratory</td>\n",
       "      <td>NaN</td>\n",
       "      <td>NaN</td>\n",
       "      <td>NaN</td>\n",
       "      <td>NaN</td>\n",
       "      <td>NaN</td>\n",
       "      <td>NaN</td>\n",
       "    </tr>\n",
       "    <tr>\n",
       "      <th>198</th>\n",
       "      <td>India</td>\n",
       "      <td>Dhursar</td>\n",
       "      <td>125.0</td>\n",
       "      <td>26.7846</td>\n",
       "      <td>72.0083</td>\n",
       "      <td>Solar</td>\n",
       "      <td>NaN</td>\n",
       "      <td>2014.0</td>\n",
       "      <td>National Renewable Energy Laboratory</td>\n",
       "      <td>NaN</td>\n",
       "      <td>NaN</td>\n",
       "      <td>NaN</td>\n",
       "      <td>NaN</td>\n",
       "      <td>NaN</td>\n",
       "      <td>NaN</td>\n",
       "    </tr>\n",
       "    <tr>\n",
       "      <th>199</th>\n",
       "      <td>India</td>\n",
       "      <td>Diwakar</td>\n",
       "      <td>100.0</td>\n",
       "      <td>27.7355</td>\n",
       "      <td>71.6917</td>\n",
       "      <td>Solar</td>\n",
       "      <td>NaN</td>\n",
       "      <td>2013.0</td>\n",
       "      <td>National Renewable Energy Laboratory</td>\n",
       "      <td>NaN</td>\n",
       "      <td>NaN</td>\n",
       "      <td>NaN</td>\n",
       "      <td>NaN</td>\n",
       "      <td>NaN</td>\n",
       "      <td>NaN</td>\n",
       "    </tr>\n",
       "    <tr>\n",
       "      <th>245</th>\n",
       "      <td>India</td>\n",
       "      <td>Godawari</td>\n",
       "      <td>50.0</td>\n",
       "      <td>27.6003</td>\n",
       "      <td>72.2241</td>\n",
       "      <td>Solar</td>\n",
       "      <td>NaN</td>\n",
       "      <td>2013.0</td>\n",
       "      <td>National Renewable Energy Laboratory</td>\n",
       "      <td>NaN</td>\n",
       "      <td>NaN</td>\n",
       "      <td>NaN</td>\n",
       "      <td>NaN</td>\n",
       "      <td>NaN</td>\n",
       "      <td>NaN</td>\n",
       "    </tr>\n",
       "  </tbody>\n",
       "</table>\n",
       "</div>"
      ],
      "text/plain": [
       "    country_long              name  capacity_mw  latitude  longitude  \\\n",
       "0          India  ACME Solar Tower          2.5   28.1839    73.2407   \n",
       "198        India           Dhursar        125.0   26.7846    72.0083   \n",
       "199        India           Diwakar        100.0   27.7355    71.6917   \n",
       "245        India          Godawari         50.0   27.6003    72.2241   \n",
       "\n",
       "    primary_fuel other_fuel1  commissioning_year  \\\n",
       "0          Solar         NaN              2011.0   \n",
       "198        Solar         NaN              2014.0   \n",
       "199        Solar         NaN              2013.0   \n",
       "245        Solar         NaN              2013.0   \n",
       "\n",
       "                       geolocation_source  year_of_capacity_data  \\\n",
       "0    National Renewable Energy Laboratory                    NaN   \n",
       "198  National Renewable Energy Laboratory                    NaN   \n",
       "199  National Renewable Energy Laboratory                    NaN   \n",
       "245  National Renewable Energy Laboratory                    NaN   \n",
       "\n",
       "     generation_gwh_2014  generation_gwh_2015  generation_gwh_2016  \\\n",
       "0                    NaN                  NaN                  NaN   \n",
       "198                  NaN                  NaN                  NaN   \n",
       "199                  NaN                  NaN                  NaN   \n",
       "245                  NaN                  NaN                  NaN   \n",
       "\n",
       "     generation_gwh_2017  generation_gwh_2018  \n",
       "0                    NaN                  NaN  \n",
       "198                  NaN                  NaN  \n",
       "199                  NaN                  NaN  \n",
       "245                  NaN                  NaN  "
      ]
     },
     "execution_count": 32,
     "metadata": {},
     "output_type": "execute_result"
    }
   ],
   "source": [
    "df.loc[df['geolocation_source']=='National Renewable Energy Laboratory']"
   ]
  },
  {
   "cell_type": "code",
   "execution_count": 33,
   "id": "18a922f0",
   "metadata": {},
   "outputs": [
    {
     "data": {
      "text/html": [
       "<div>\n",
       "<style scoped>\n",
       "    .dataframe tbody tr th:only-of-type {\n",
       "        vertical-align: middle;\n",
       "    }\n",
       "\n",
       "    .dataframe tbody tr th {\n",
       "        vertical-align: top;\n",
       "    }\n",
       "\n",
       "    .dataframe thead th {\n",
       "        text-align: right;\n",
       "    }\n",
       "</style>\n",
       "<table border=\"1\" class=\"dataframe\">\n",
       "  <thead>\n",
       "    <tr style=\"text-align: right;\">\n",
       "      <th></th>\n",
       "      <th>country_long</th>\n",
       "      <th>name</th>\n",
       "      <th>capacity_mw</th>\n",
       "      <th>latitude</th>\n",
       "      <th>longitude</th>\n",
       "      <th>primary_fuel</th>\n",
       "      <th>other_fuel1</th>\n",
       "      <th>commissioning_year</th>\n",
       "      <th>geolocation_source</th>\n",
       "      <th>year_of_capacity_data</th>\n",
       "      <th>generation_gwh_2014</th>\n",
       "      <th>generation_gwh_2015</th>\n",
       "      <th>generation_gwh_2016</th>\n",
       "      <th>generation_gwh_2017</th>\n",
       "      <th>generation_gwh_2018</th>\n",
       "    </tr>\n",
       "  </thead>\n",
       "  <tbody>\n",
       "    <tr>\n",
       "      <th>26</th>\n",
       "      <td>India</td>\n",
       "      <td>Amarsar Solar Power Plant</td>\n",
       "      <td>1.0</td>\n",
       "      <td>28.3615</td>\n",
       "      <td>74.2402</td>\n",
       "      <td>Solar</td>\n",
       "      <td>NaN</td>\n",
       "      <td>NaN</td>\n",
       "      <td>Industry About</td>\n",
       "      <td>NaN</td>\n",
       "      <td>NaN</td>\n",
       "      <td>NaN</td>\n",
       "      <td>NaN</td>\n",
       "      <td>NaN</td>\n",
       "      <td>NaN</td>\n",
       "    </tr>\n",
       "    <tr>\n",
       "      <th>28</th>\n",
       "      <td>India</td>\n",
       "      <td>Ananthapur - Meil Solar Power Plant</td>\n",
       "      <td>50.0</td>\n",
       "      <td>14.9455</td>\n",
       "      <td>77.6870</td>\n",
       "      <td>Solar</td>\n",
       "      <td>NaN</td>\n",
       "      <td>NaN</td>\n",
       "      <td>Industry About</td>\n",
       "      <td>NaN</td>\n",
       "      <td>NaN</td>\n",
       "      <td>NaN</td>\n",
       "      <td>NaN</td>\n",
       "      <td>NaN</td>\n",
       "      <td>NaN</td>\n",
       "    </tr>\n",
       "    <tr>\n",
       "      <th>32</th>\n",
       "      <td>India</td>\n",
       "      <td>Askandra - DREPL Solar Power Plant</td>\n",
       "      <td>5.0</td>\n",
       "      <td>27.3473</td>\n",
       "      <td>71.6917</td>\n",
       "      <td>Solar</td>\n",
       "      <td>NaN</td>\n",
       "      <td>NaN</td>\n",
       "      <td>Industry About</td>\n",
       "      <td>NaN</td>\n",
       "      <td>NaN</td>\n",
       "      <td>NaN</td>\n",
       "      <td>NaN</td>\n",
       "      <td>NaN</td>\n",
       "      <td>NaN</td>\n",
       "    </tr>\n",
       "    <tr>\n",
       "      <th>33</th>\n",
       "      <td>India</td>\n",
       "      <td>Askandra - Electromech Maritech Solar Power Plant</td>\n",
       "      <td>5.0</td>\n",
       "      <td>27.3600</td>\n",
       "      <td>71.6918</td>\n",
       "      <td>Solar</td>\n",
       "      <td>NaN</td>\n",
       "      <td>NaN</td>\n",
       "      <td>Industry About</td>\n",
       "      <td>NaN</td>\n",
       "      <td>NaN</td>\n",
       "      <td>NaN</td>\n",
       "      <td>NaN</td>\n",
       "      <td>NaN</td>\n",
       "      <td>NaN</td>\n",
       "    </tr>\n",
       "    <tr>\n",
       "      <th>34</th>\n",
       "      <td>India</td>\n",
       "      <td>Askandra - Finehope Solar Power Plant</td>\n",
       "      <td>5.0</td>\n",
       "      <td>27.3632</td>\n",
       "      <td>71.6918</td>\n",
       "      <td>Solar</td>\n",
       "      <td>NaN</td>\n",
       "      <td>NaN</td>\n",
       "      <td>Industry About</td>\n",
       "      <td>NaN</td>\n",
       "      <td>NaN</td>\n",
       "      <td>NaN</td>\n",
       "      <td>NaN</td>\n",
       "      <td>NaN</td>\n",
       "      <td>NaN</td>\n",
       "    </tr>\n",
       "    <tr>\n",
       "      <th>...</th>\n",
       "      <td>...</td>\n",
       "      <td>...</td>\n",
       "      <td>...</td>\n",
       "      <td>...</td>\n",
       "      <td>...</td>\n",
       "      <td>...</td>\n",
       "      <td>...</td>\n",
       "      <td>...</td>\n",
       "      <td>...</td>\n",
       "      <td>...</td>\n",
       "      <td>...</td>\n",
       "      <td>...</td>\n",
       "      <td>...</td>\n",
       "      <td>...</td>\n",
       "      <td>...</td>\n",
       "    </tr>\n",
       "    <tr>\n",
       "      <th>835</th>\n",
       "      <td>India</td>\n",
       "      <td>Tinwari - MB Solar Power Plant</td>\n",
       "      <td>5.0</td>\n",
       "      <td>26.5182</td>\n",
       "      <td>72.8536</td>\n",
       "      <td>Solar</td>\n",
       "      <td>NaN</td>\n",
       "      <td>NaN</td>\n",
       "      <td>Industry About</td>\n",
       "      <td>NaN</td>\n",
       "      <td>NaN</td>\n",
       "      <td>NaN</td>\n",
       "      <td>NaN</td>\n",
       "      <td>NaN</td>\n",
       "      <td>NaN</td>\n",
       "    </tr>\n",
       "    <tr>\n",
       "      <th>887</th>\n",
       "      <td>India</td>\n",
       "      <td>Vastan Solar Power Plant</td>\n",
       "      <td>5.0</td>\n",
       "      <td>21.4239</td>\n",
       "      <td>73.1273</td>\n",
       "      <td>Solar</td>\n",
       "      <td>NaN</td>\n",
       "      <td>NaN</td>\n",
       "      <td>Industry About</td>\n",
       "      <td>NaN</td>\n",
       "      <td>NaN</td>\n",
       "      <td>NaN</td>\n",
       "      <td>NaN</td>\n",
       "      <td>NaN</td>\n",
       "      <td>NaN</td>\n",
       "    </tr>\n",
       "    <tr>\n",
       "      <th>894</th>\n",
       "      <td>India</td>\n",
       "      <td>Wadgam Solar Power Plant</td>\n",
       "      <td>15.0</td>\n",
       "      <td>22.3172</td>\n",
       "      <td>72.4397</td>\n",
       "      <td>Solar</td>\n",
       "      <td>NaN</td>\n",
       "      <td>NaN</td>\n",
       "      <td>Industry About</td>\n",
       "      <td>NaN</td>\n",
       "      <td>NaN</td>\n",
       "      <td>NaN</td>\n",
       "      <td>NaN</td>\n",
       "      <td>NaN</td>\n",
       "      <td>NaN</td>\n",
       "    </tr>\n",
       "    <tr>\n",
       "      <th>895</th>\n",
       "      <td>India</td>\n",
       "      <td>Warora Solar Power Plant</td>\n",
       "      <td>25.0</td>\n",
       "      <td>20.3010</td>\n",
       "      <td>79.0237</td>\n",
       "      <td>Solar</td>\n",
       "      <td>NaN</td>\n",
       "      <td>NaN</td>\n",
       "      <td>Industry About</td>\n",
       "      <td>NaN</td>\n",
       "      <td>NaN</td>\n",
       "      <td>NaN</td>\n",
       "      <td>NaN</td>\n",
       "      <td>NaN</td>\n",
       "      <td>NaN</td>\n",
       "    </tr>\n",
       "    <tr>\n",
       "      <th>903</th>\n",
       "      <td>India</td>\n",
       "      <td>Yelesandra Solar Power Plant</td>\n",
       "      <td>3.0</td>\n",
       "      <td>12.8932</td>\n",
       "      <td>78.1654</td>\n",
       "      <td>Solar</td>\n",
       "      <td>NaN</td>\n",
       "      <td>NaN</td>\n",
       "      <td>Industry About</td>\n",
       "      <td>NaN</td>\n",
       "      <td>NaN</td>\n",
       "      <td>NaN</td>\n",
       "      <td>NaN</td>\n",
       "      <td>NaN</td>\n",
       "      <td>NaN</td>\n",
       "    </tr>\n",
       "  </tbody>\n",
       "</table>\n",
       "<p>119 rows × 15 columns</p>\n",
       "</div>"
      ],
      "text/plain": [
       "    country_long                                               name  \\\n",
       "26         India                          Amarsar Solar Power Plant   \n",
       "28         India                Ananthapur - Meil Solar Power Plant   \n",
       "32         India                 Askandra - DREPL Solar Power Plant   \n",
       "33         India  Askandra - Electromech Maritech Solar Power Plant   \n",
       "34         India              Askandra - Finehope Solar Power Plant   \n",
       "..           ...                                                ...   \n",
       "835        India                     Tinwari - MB Solar Power Plant   \n",
       "887        India                           Vastan Solar Power Plant   \n",
       "894        India                           Wadgam Solar Power Plant   \n",
       "895        India                           Warora Solar Power Plant   \n",
       "903        India                       Yelesandra Solar Power Plant   \n",
       "\n",
       "     capacity_mw  latitude  longitude primary_fuel other_fuel1  \\\n",
       "26           1.0   28.3615    74.2402        Solar         NaN   \n",
       "28          50.0   14.9455    77.6870        Solar         NaN   \n",
       "32           5.0   27.3473    71.6917        Solar         NaN   \n",
       "33           5.0   27.3600    71.6918        Solar         NaN   \n",
       "34           5.0   27.3632    71.6918        Solar         NaN   \n",
       "..           ...       ...        ...          ...         ...   \n",
       "835          5.0   26.5182    72.8536        Solar         NaN   \n",
       "887          5.0   21.4239    73.1273        Solar         NaN   \n",
       "894         15.0   22.3172    72.4397        Solar         NaN   \n",
       "895         25.0   20.3010    79.0237        Solar         NaN   \n",
       "903          3.0   12.8932    78.1654        Solar         NaN   \n",
       "\n",
       "     commissioning_year geolocation_source  year_of_capacity_data  \\\n",
       "26                  NaN     Industry About                    NaN   \n",
       "28                  NaN     Industry About                    NaN   \n",
       "32                  NaN     Industry About                    NaN   \n",
       "33                  NaN     Industry About                    NaN   \n",
       "34                  NaN     Industry About                    NaN   \n",
       "..                  ...                ...                    ...   \n",
       "835                 NaN     Industry About                    NaN   \n",
       "887                 NaN     Industry About                    NaN   \n",
       "894                 NaN     Industry About                    NaN   \n",
       "895                 NaN     Industry About                    NaN   \n",
       "903                 NaN     Industry About                    NaN   \n",
       "\n",
       "     generation_gwh_2014  generation_gwh_2015  generation_gwh_2016  \\\n",
       "26                   NaN                  NaN                  NaN   \n",
       "28                   NaN                  NaN                  NaN   \n",
       "32                   NaN                  NaN                  NaN   \n",
       "33                   NaN                  NaN                  NaN   \n",
       "34                   NaN                  NaN                  NaN   \n",
       "..                   ...                  ...                  ...   \n",
       "835                  NaN                  NaN                  NaN   \n",
       "887                  NaN                  NaN                  NaN   \n",
       "894                  NaN                  NaN                  NaN   \n",
       "895                  NaN                  NaN                  NaN   \n",
       "903                  NaN                  NaN                  NaN   \n",
       "\n",
       "     generation_gwh_2017  generation_gwh_2018  \n",
       "26                   NaN                  NaN  \n",
       "28                   NaN                  NaN  \n",
       "32                   NaN                  NaN  \n",
       "33                   NaN                  NaN  \n",
       "34                   NaN                  NaN  \n",
       "..                   ...                  ...  \n",
       "835                  NaN                  NaN  \n",
       "887                  NaN                  NaN  \n",
       "894                  NaN                  NaN  \n",
       "895                  NaN                  NaN  \n",
       "903                  NaN                  NaN  \n",
       "\n",
       "[119 rows x 15 columns]"
      ]
     },
     "execution_count": 33,
     "metadata": {},
     "output_type": "execute_result"
    }
   ],
   "source": [
    "df.loc[df['geolocation_source']=='Industry About']"
   ]
  },
  {
   "cell_type": "code",
   "execution_count": 34,
   "id": "411bba09",
   "metadata": {},
   "outputs": [
    {
     "data": {
      "text/html": [
       "<div>\n",
       "<style scoped>\n",
       "    .dataframe tbody tr th:only-of-type {\n",
       "        vertical-align: middle;\n",
       "    }\n",
       "\n",
       "    .dataframe tbody tr th {\n",
       "        vertical-align: top;\n",
       "    }\n",
       "\n",
       "    .dataframe thead th {\n",
       "        text-align: right;\n",
       "    }\n",
       "</style>\n",
       "<table border=\"1\" class=\"dataframe\">\n",
       "  <thead>\n",
       "    <tr style=\"text-align: right;\">\n",
       "      <th></th>\n",
       "      <th>country_long</th>\n",
       "      <th>name</th>\n",
       "      <th>capacity_mw</th>\n",
       "      <th>latitude</th>\n",
       "      <th>longitude</th>\n",
       "      <th>primary_fuel</th>\n",
       "      <th>other_fuel1</th>\n",
       "      <th>commissioning_year</th>\n",
       "      <th>geolocation_source</th>\n",
       "      <th>year_of_capacity_data</th>\n",
       "      <th>generation_gwh_2014</th>\n",
       "      <th>generation_gwh_2015</th>\n",
       "      <th>generation_gwh_2016</th>\n",
       "      <th>generation_gwh_2017</th>\n",
       "      <th>generation_gwh_2018</th>\n",
       "    </tr>\n",
       "  </thead>\n",
       "  <tbody>\n",
       "    <tr>\n",
       "      <th>25</th>\n",
       "      <td>India</td>\n",
       "      <td>Abhijeet</td>\n",
       "      <td>50.00</td>\n",
       "      <td>NaN</td>\n",
       "      <td>NaN</td>\n",
       "      <td>Solar</td>\n",
       "      <td>NaN</td>\n",
       "      <td>2015.0</td>\n",
       "      <td>NaN</td>\n",
       "      <td>NaN</td>\n",
       "      <td>NaN</td>\n",
       "      <td>NaN</td>\n",
       "      <td>NaN</td>\n",
       "      <td>NaN</td>\n",
       "      <td>NaN</td>\n",
       "    </tr>\n",
       "    <tr>\n",
       "      <th>67</th>\n",
       "      <td>India</td>\n",
       "      <td>BCPL Wind Farm</td>\n",
       "      <td>5.00</td>\n",
       "      <td>NaN</td>\n",
       "      <td>NaN</td>\n",
       "      <td>Wind</td>\n",
       "      <td>NaN</td>\n",
       "      <td>NaN</td>\n",
       "      <td>NaN</td>\n",
       "      <td>NaN</td>\n",
       "      <td>NaN</td>\n",
       "      <td>NaN</td>\n",
       "      <td>NaN</td>\n",
       "      <td>NaN</td>\n",
       "      <td>NaN</td>\n",
       "    </tr>\n",
       "    <tr>\n",
       "      <th>192</th>\n",
       "      <td>India</td>\n",
       "      <td>Davangere Wind Farm</td>\n",
       "      <td>125.00</td>\n",
       "      <td>NaN</td>\n",
       "      <td>NaN</td>\n",
       "      <td>Wind</td>\n",
       "      <td>NaN</td>\n",
       "      <td>NaN</td>\n",
       "      <td>NaN</td>\n",
       "      <td>NaN</td>\n",
       "      <td>NaN</td>\n",
       "      <td>NaN</td>\n",
       "      <td>NaN</td>\n",
       "      <td>NaN</td>\n",
       "      <td>NaN</td>\n",
       "    </tr>\n",
       "    <tr>\n",
       "      <th>208</th>\n",
       "      <td>India</td>\n",
       "      <td>Essel Mining Wind Farm</td>\n",
       "      <td>75.00</td>\n",
       "      <td>NaN</td>\n",
       "      <td>NaN</td>\n",
       "      <td>Wind</td>\n",
       "      <td>NaN</td>\n",
       "      <td>NaN</td>\n",
       "      <td>NaN</td>\n",
       "      <td>NaN</td>\n",
       "      <td>NaN</td>\n",
       "      <td>NaN</td>\n",
       "      <td>NaN</td>\n",
       "      <td>NaN</td>\n",
       "      <td>NaN</td>\n",
       "    </tr>\n",
       "    <tr>\n",
       "      <th>250</th>\n",
       "      <td>India</td>\n",
       "      <td>Gujurat Solar On</td>\n",
       "      <td>28.00</td>\n",
       "      <td>NaN</td>\n",
       "      <td>NaN</td>\n",
       "      <td>Solar</td>\n",
       "      <td>NaN</td>\n",
       "      <td>2014.0</td>\n",
       "      <td>NaN</td>\n",
       "      <td>NaN</td>\n",
       "      <td>NaN</td>\n",
       "      <td>NaN</td>\n",
       "      <td>NaN</td>\n",
       "      <td>NaN</td>\n",
       "      <td>NaN</td>\n",
       "    </tr>\n",
       "    <tr>\n",
       "      <th>386</th>\n",
       "      <td>India</td>\n",
       "      <td>KVK Energy Solar Project</td>\n",
       "      <td>100.00</td>\n",
       "      <td>NaN</td>\n",
       "      <td>NaN</td>\n",
       "      <td>Solar</td>\n",
       "      <td>NaN</td>\n",
       "      <td>2013.0</td>\n",
       "      <td>NaN</td>\n",
       "      <td>NaN</td>\n",
       "      <td>NaN</td>\n",
       "      <td>NaN</td>\n",
       "      <td>NaN</td>\n",
       "      <td>NaN</td>\n",
       "      <td>NaN</td>\n",
       "    </tr>\n",
       "    <tr>\n",
       "      <th>440</th>\n",
       "      <td>India</td>\n",
       "      <td>Landewadi Wind Farm</td>\n",
       "      <td>4.00</td>\n",
       "      <td>NaN</td>\n",
       "      <td>NaN</td>\n",
       "      <td>Wind</td>\n",
       "      <td>NaN</td>\n",
       "      <td>NaN</td>\n",
       "      <td>NaN</td>\n",
       "      <td>NaN</td>\n",
       "      <td>NaN</td>\n",
       "      <td>NaN</td>\n",
       "      <td>NaN</td>\n",
       "      <td>NaN</td>\n",
       "      <td>NaN</td>\n",
       "    </tr>\n",
       "    <tr>\n",
       "      <th>502</th>\n",
       "      <td>India</td>\n",
       "      <td>Megha Solar Plant</td>\n",
       "      <td>50.00</td>\n",
       "      <td>NaN</td>\n",
       "      <td>NaN</td>\n",
       "      <td>Solar</td>\n",
       "      <td>NaN</td>\n",
       "      <td>2014.0</td>\n",
       "      <td>NaN</td>\n",
       "      <td>NaN</td>\n",
       "      <td>NaN</td>\n",
       "      <td>NaN</td>\n",
       "      <td>NaN</td>\n",
       "      <td>NaN</td>\n",
       "      <td>NaN</td>\n",
       "    </tr>\n",
       "    <tr>\n",
       "      <th>545</th>\n",
       "      <td>India</td>\n",
       "      <td>NSL Wind Farm</td>\n",
       "      <td>27.65</td>\n",
       "      <td>NaN</td>\n",
       "      <td>NaN</td>\n",
       "      <td>Wind</td>\n",
       "      <td>NaN</td>\n",
       "      <td>NaN</td>\n",
       "      <td>NaN</td>\n",
       "      <td>NaN</td>\n",
       "      <td>NaN</td>\n",
       "      <td>NaN</td>\n",
       "      <td>NaN</td>\n",
       "      <td>NaN</td>\n",
       "      <td>NaN</td>\n",
       "    </tr>\n",
       "    <tr>\n",
       "      <th>655</th>\n",
       "      <td>India</td>\n",
       "      <td>RSMNL Wind Farm</td>\n",
       "      <td>22.50</td>\n",
       "      <td>NaN</td>\n",
       "      <td>NaN</td>\n",
       "      <td>Wind</td>\n",
       "      <td>NaN</td>\n",
       "      <td>NaN</td>\n",
       "      <td>NaN</td>\n",
       "      <td>NaN</td>\n",
       "      <td>NaN</td>\n",
       "      <td>NaN</td>\n",
       "      <td>NaN</td>\n",
       "      <td>NaN</td>\n",
       "      <td>NaN</td>\n",
       "    </tr>\n",
       "    <tr>\n",
       "      <th>674</th>\n",
       "      <td>India</td>\n",
       "      <td>Ruchi Soya Palsodi Wind Farm</td>\n",
       "      <td>22.50</td>\n",
       "      <td>NaN</td>\n",
       "      <td>NaN</td>\n",
       "      <td>Wind</td>\n",
       "      <td>NaN</td>\n",
       "      <td>NaN</td>\n",
       "      <td>NaN</td>\n",
       "      <td>NaN</td>\n",
       "      <td>NaN</td>\n",
       "      <td>NaN</td>\n",
       "      <td>NaN</td>\n",
       "      <td>NaN</td>\n",
       "      <td>NaN</td>\n",
       "    </tr>\n",
       "    <tr>\n",
       "      <th>770</th>\n",
       "      <td>India</td>\n",
       "      <td>Sivalaperi Wind Farm</td>\n",
       "      <td>24.00</td>\n",
       "      <td>NaN</td>\n",
       "      <td>NaN</td>\n",
       "      <td>Wind</td>\n",
       "      <td>NaN</td>\n",
       "      <td>NaN</td>\n",
       "      <td>NaN</td>\n",
       "      <td>NaN</td>\n",
       "      <td>NaN</td>\n",
       "      <td>NaN</td>\n",
       "      <td>NaN</td>\n",
       "      <td>NaN</td>\n",
       "      <td>NaN</td>\n",
       "    </tr>\n",
       "    <tr>\n",
       "      <th>773</th>\n",
       "      <td>India</td>\n",
       "      <td>Sterling Agro Akal Wind Farm</td>\n",
       "      <td>3.00</td>\n",
       "      <td>NaN</td>\n",
       "      <td>NaN</td>\n",
       "      <td>Wind</td>\n",
       "      <td>NaN</td>\n",
       "      <td>NaN</td>\n",
       "      <td>NaN</td>\n",
       "      <td>NaN</td>\n",
       "      <td>NaN</td>\n",
       "      <td>NaN</td>\n",
       "      <td>NaN</td>\n",
       "      <td>NaN</td>\n",
       "      <td>NaN</td>\n",
       "    </tr>\n",
       "    <tr>\n",
       "      <th>774</th>\n",
       "      <td>India</td>\n",
       "      <td>Sterling Agro Mokla Wind Farm</td>\n",
       "      <td>6.30</td>\n",
       "      <td>NaN</td>\n",
       "      <td>NaN</td>\n",
       "      <td>Wind</td>\n",
       "      <td>NaN</td>\n",
       "      <td>NaN</td>\n",
       "      <td>NaN</td>\n",
       "      <td>NaN</td>\n",
       "      <td>NaN</td>\n",
       "      <td>NaN</td>\n",
       "      <td>NaN</td>\n",
       "      <td>NaN</td>\n",
       "      <td>NaN</td>\n",
       "    </tr>\n",
       "    <tr>\n",
       "      <th>775</th>\n",
       "      <td>India</td>\n",
       "      <td>Sterling Karnataka site</td>\n",
       "      <td>6.25</td>\n",
       "      <td>NaN</td>\n",
       "      <td>NaN</td>\n",
       "      <td>Wind</td>\n",
       "      <td>NaN</td>\n",
       "      <td>NaN</td>\n",
       "      <td>NaN</td>\n",
       "      <td>NaN</td>\n",
       "      <td>NaN</td>\n",
       "      <td>NaN</td>\n",
       "      <td>NaN</td>\n",
       "      <td>NaN</td>\n",
       "      <td>NaN</td>\n",
       "    </tr>\n",
       "    <tr>\n",
       "      <th>776</th>\n",
       "      <td>India</td>\n",
       "      <td>Sterling Madhya Pradesh site</td>\n",
       "      <td>6.00</td>\n",
       "      <td>NaN</td>\n",
       "      <td>NaN</td>\n",
       "      <td>Wind</td>\n",
       "      <td>NaN</td>\n",
       "      <td>NaN</td>\n",
       "      <td>NaN</td>\n",
       "      <td>NaN</td>\n",
       "      <td>NaN</td>\n",
       "      <td>NaN</td>\n",
       "      <td>NaN</td>\n",
       "      <td>NaN</td>\n",
       "      <td>NaN</td>\n",
       "    </tr>\n",
       "    <tr>\n",
       "      <th>828</th>\n",
       "      <td>India</td>\n",
       "      <td>Tamilnadu Wind Farm</td>\n",
       "      <td>74.00</td>\n",
       "      <td>NaN</td>\n",
       "      <td>NaN</td>\n",
       "      <td>Wind</td>\n",
       "      <td>NaN</td>\n",
       "      <td>NaN</td>\n",
       "      <td>NaN</td>\n",
       "      <td>NaN</td>\n",
       "      <td>NaN</td>\n",
       "      <td>NaN</td>\n",
       "      <td>NaN</td>\n",
       "      <td>NaN</td>\n",
       "      <td>NaN</td>\n",
       "    </tr>\n",
       "    <tr>\n",
       "      <th>884</th>\n",
       "      <td>India</td>\n",
       "      <td>VRL Wind Farm</td>\n",
       "      <td>42.50</td>\n",
       "      <td>NaN</td>\n",
       "      <td>NaN</td>\n",
       "      <td>Wind</td>\n",
       "      <td>NaN</td>\n",
       "      <td>NaN</td>\n",
       "      <td>NaN</td>\n",
       "      <td>NaN</td>\n",
       "      <td>NaN</td>\n",
       "      <td>NaN</td>\n",
       "      <td>NaN</td>\n",
       "      <td>NaN</td>\n",
       "      <td>NaN</td>\n",
       "    </tr>\n",
       "    <tr>\n",
       "      <th>886</th>\n",
       "      <td>India</td>\n",
       "      <td>Vankuswade Wind Farm</td>\n",
       "      <td>21.00</td>\n",
       "      <td>NaN</td>\n",
       "      <td>NaN</td>\n",
       "      <td>Wind</td>\n",
       "      <td>NaN</td>\n",
       "      <td>NaN</td>\n",
       "      <td>NaN</td>\n",
       "      <td>NaN</td>\n",
       "      <td>NaN</td>\n",
       "      <td>NaN</td>\n",
       "      <td>NaN</td>\n",
       "      <td>NaN</td>\n",
       "      <td>NaN</td>\n",
       "    </tr>\n",
       "  </tbody>\n",
       "</table>\n",
       "</div>"
      ],
      "text/plain": [
       "    country_long                           name  capacity_mw  latitude  \\\n",
       "25         India                       Abhijeet        50.00       NaN   \n",
       "67         India                 BCPL Wind Farm         5.00       NaN   \n",
       "192        India            Davangere Wind Farm       125.00       NaN   \n",
       "208        India         Essel Mining Wind Farm        75.00       NaN   \n",
       "250        India               Gujurat Solar On        28.00       NaN   \n",
       "386        India       KVK Energy Solar Project       100.00       NaN   \n",
       "440        India            Landewadi Wind Farm         4.00       NaN   \n",
       "502        India              Megha Solar Plant        50.00       NaN   \n",
       "545        India                  NSL Wind Farm        27.65       NaN   \n",
       "655        India                RSMNL Wind Farm        22.50       NaN   \n",
       "674        India   Ruchi Soya Palsodi Wind Farm        22.50       NaN   \n",
       "770        India           Sivalaperi Wind Farm        24.00       NaN   \n",
       "773        India   Sterling Agro Akal Wind Farm         3.00       NaN   \n",
       "774        India  Sterling Agro Mokla Wind Farm         6.30       NaN   \n",
       "775        India        Sterling Karnataka site         6.25       NaN   \n",
       "776        India   Sterling Madhya Pradesh site         6.00       NaN   \n",
       "828        India            Tamilnadu Wind Farm        74.00       NaN   \n",
       "884        India                  VRL Wind Farm        42.50       NaN   \n",
       "886        India           Vankuswade Wind Farm        21.00       NaN   \n",
       "\n",
       "     longitude primary_fuel other_fuel1  commissioning_year  \\\n",
       "25         NaN        Solar         NaN              2015.0   \n",
       "67         NaN         Wind         NaN                 NaN   \n",
       "192        NaN         Wind         NaN                 NaN   \n",
       "208        NaN         Wind         NaN                 NaN   \n",
       "250        NaN        Solar         NaN              2014.0   \n",
       "386        NaN        Solar         NaN              2013.0   \n",
       "440        NaN         Wind         NaN                 NaN   \n",
       "502        NaN        Solar         NaN              2014.0   \n",
       "545        NaN         Wind         NaN                 NaN   \n",
       "655        NaN         Wind         NaN                 NaN   \n",
       "674        NaN         Wind         NaN                 NaN   \n",
       "770        NaN         Wind         NaN                 NaN   \n",
       "773        NaN         Wind         NaN                 NaN   \n",
       "774        NaN         Wind         NaN                 NaN   \n",
       "775        NaN         Wind         NaN                 NaN   \n",
       "776        NaN         Wind         NaN                 NaN   \n",
       "828        NaN         Wind         NaN                 NaN   \n",
       "884        NaN         Wind         NaN                 NaN   \n",
       "886        NaN         Wind         NaN                 NaN   \n",
       "\n",
       "    geolocation_source  year_of_capacity_data  generation_gwh_2014  \\\n",
       "25                 NaN                    NaN                  NaN   \n",
       "67                 NaN                    NaN                  NaN   \n",
       "192                NaN                    NaN                  NaN   \n",
       "208                NaN                    NaN                  NaN   \n",
       "250                NaN                    NaN                  NaN   \n",
       "386                NaN                    NaN                  NaN   \n",
       "440                NaN                    NaN                  NaN   \n",
       "502                NaN                    NaN                  NaN   \n",
       "545                NaN                    NaN                  NaN   \n",
       "655                NaN                    NaN                  NaN   \n",
       "674                NaN                    NaN                  NaN   \n",
       "770                NaN                    NaN                  NaN   \n",
       "773                NaN                    NaN                  NaN   \n",
       "774                NaN                    NaN                  NaN   \n",
       "775                NaN                    NaN                  NaN   \n",
       "776                NaN                    NaN                  NaN   \n",
       "828                NaN                    NaN                  NaN   \n",
       "884                NaN                    NaN                  NaN   \n",
       "886                NaN                    NaN                  NaN   \n",
       "\n",
       "     generation_gwh_2015  generation_gwh_2016  generation_gwh_2017  \\\n",
       "25                   NaN                  NaN                  NaN   \n",
       "67                   NaN                  NaN                  NaN   \n",
       "192                  NaN                  NaN                  NaN   \n",
       "208                  NaN                  NaN                  NaN   \n",
       "250                  NaN                  NaN                  NaN   \n",
       "386                  NaN                  NaN                  NaN   \n",
       "440                  NaN                  NaN                  NaN   \n",
       "502                  NaN                  NaN                  NaN   \n",
       "545                  NaN                  NaN                  NaN   \n",
       "655                  NaN                  NaN                  NaN   \n",
       "674                  NaN                  NaN                  NaN   \n",
       "770                  NaN                  NaN                  NaN   \n",
       "773                  NaN                  NaN                  NaN   \n",
       "774                  NaN                  NaN                  NaN   \n",
       "775                  NaN                  NaN                  NaN   \n",
       "776                  NaN                  NaN                  NaN   \n",
       "828                  NaN                  NaN                  NaN   \n",
       "884                  NaN                  NaN                  NaN   \n",
       "886                  NaN                  NaN                  NaN   \n",
       "\n",
       "     generation_gwh_2018  \n",
       "25                   NaN  \n",
       "67                   NaN  \n",
       "192                  NaN  \n",
       "208                  NaN  \n",
       "250                  NaN  \n",
       "386                  NaN  \n",
       "440                  NaN  \n",
       "502                  NaN  \n",
       "545                  NaN  \n",
       "655                  NaN  \n",
       "674                  NaN  \n",
       "770                  NaN  \n",
       "773                  NaN  \n",
       "774                  NaN  \n",
       "775                  NaN  \n",
       "776                  NaN  \n",
       "828                  NaN  \n",
       "884                  NaN  \n",
       "886                  NaN  "
      ]
     },
     "execution_count": 34,
     "metadata": {},
     "output_type": "execute_result"
    }
   ],
   "source": [
    "df[df['geolocation_source'].isna()]"
   ]
  },
  {
   "cell_type": "markdown",
   "id": "68f98e0c",
   "metadata": {},
   "source": [
    "Observation- I will be using Mode to replace thge null values"
   ]
  },
  {
   "cell_type": "code",
   "execution_count": 35,
   "id": "dbb95cfb",
   "metadata": {},
   "outputs": [],
   "source": [
    "df['geolocation_source'].fillna(df['geolocation_source'].mode()[0], inplace=True)"
   ]
  },
  {
   "cell_type": "code",
   "execution_count": 36,
   "id": "fe08f743",
   "metadata": {},
   "outputs": [
    {
     "name": "stdout",
     "output_type": "stream",
     "text": [
      "<class 'pandas.core.frame.DataFrame'>\n",
      "RangeIndex: 907 entries, 0 to 906\n",
      "Data columns (total 15 columns):\n",
      " #   Column                 Non-Null Count  Dtype  \n",
      "---  ------                 --------------  -----  \n",
      " 0   country_long           907 non-null    object \n",
      " 1   name                   907 non-null    object \n",
      " 2   capacity_mw            907 non-null    float64\n",
      " 3   latitude               861 non-null    float64\n",
      " 4   longitude              861 non-null    float64\n",
      " 5   primary_fuel           907 non-null    object \n",
      " 6   other_fuel1            198 non-null    object \n",
      " 7   commissioning_year     527 non-null    float64\n",
      " 8   geolocation_source     907 non-null    object \n",
      " 9   year_of_capacity_data  519 non-null    float64\n",
      " 10  generation_gwh_2014    398 non-null    float64\n",
      " 11  generation_gwh_2015    422 non-null    float64\n",
      " 12  generation_gwh_2016    434 non-null    float64\n",
      " 13  generation_gwh_2017    440 non-null    float64\n",
      " 14  generation_gwh_2018    448 non-null    float64\n",
      "dtypes: float64(10), object(5)\n",
      "memory usage: 106.4+ KB\n"
     ]
    }
   ],
   "source": [
    "df.info()"
   ]
  },
  {
   "cell_type": "markdown",
   "id": "a1ab32ea",
   "metadata": {},
   "source": [
    "### Lets a closer look into  year_of_capacity_data and commissioning_year"
   ]
  },
  {
   "cell_type": "code",
   "execution_count": 37,
   "id": "91a4be7a",
   "metadata": {},
   "outputs": [
    {
     "data": {
      "text/html": [
       "<div>\n",
       "<style scoped>\n",
       "    .dataframe tbody tr th:only-of-type {\n",
       "        vertical-align: middle;\n",
       "    }\n",
       "\n",
       "    .dataframe tbody tr th {\n",
       "        vertical-align: top;\n",
       "    }\n",
       "\n",
       "    .dataframe thead th {\n",
       "        text-align: right;\n",
       "    }\n",
       "</style>\n",
       "<table border=\"1\" class=\"dataframe\">\n",
       "  <thead>\n",
       "    <tr style=\"text-align: right;\">\n",
       "      <th></th>\n",
       "      <th>commissioning_year</th>\n",
       "      <th>year_of_capacity_data</th>\n",
       "    </tr>\n",
       "  </thead>\n",
       "  <tbody>\n",
       "    <tr>\n",
       "      <th>0</th>\n",
       "      <td>2011.0</td>\n",
       "      <td>NaN</td>\n",
       "    </tr>\n",
       "    <tr>\n",
       "      <th>1</th>\n",
       "      <td>NaN</td>\n",
       "      <td>NaN</td>\n",
       "    </tr>\n",
       "    <tr>\n",
       "      <th>2</th>\n",
       "      <td>NaN</td>\n",
       "      <td>NaN</td>\n",
       "    </tr>\n",
       "    <tr>\n",
       "      <th>3</th>\n",
       "      <td>2004.0</td>\n",
       "      <td>2019.0</td>\n",
       "    </tr>\n",
       "    <tr>\n",
       "      <th>4</th>\n",
       "      <td>2015.0</td>\n",
       "      <td>2019.0</td>\n",
       "    </tr>\n",
       "    <tr>\n",
       "      <th>...</th>\n",
       "      <td>...</td>\n",
       "      <td>...</td>\n",
       "    </tr>\n",
       "    <tr>\n",
       "      <th>902</th>\n",
       "      <td>2016.0</td>\n",
       "      <td>2019.0</td>\n",
       "    </tr>\n",
       "    <tr>\n",
       "      <th>903</th>\n",
       "      <td>NaN</td>\n",
       "      <td>NaN</td>\n",
       "    </tr>\n",
       "    <tr>\n",
       "      <th>904</th>\n",
       "      <td>NaN</td>\n",
       "      <td>NaN</td>\n",
       "    </tr>\n",
       "    <tr>\n",
       "      <th>905</th>\n",
       "      <td>NaN</td>\n",
       "      <td>NaN</td>\n",
       "    </tr>\n",
       "    <tr>\n",
       "      <th>906</th>\n",
       "      <td>NaN</td>\n",
       "      <td>NaN</td>\n",
       "    </tr>\n",
       "  </tbody>\n",
       "</table>\n",
       "<p>907 rows × 2 columns</p>\n",
       "</div>"
      ],
      "text/plain": [
       "     commissioning_year  year_of_capacity_data\n",
       "0                2011.0                    NaN\n",
       "1                   NaN                    NaN\n",
       "2                   NaN                    NaN\n",
       "3                2004.0                 2019.0\n",
       "4                2015.0                 2019.0\n",
       "..                  ...                    ...\n",
       "902              2016.0                 2019.0\n",
       "903                 NaN                    NaN\n",
       "904                 NaN                    NaN\n",
       "905                 NaN                    NaN\n",
       "906                 NaN                    NaN\n",
       "\n",
       "[907 rows x 2 columns]"
      ]
     },
     "execution_count": 37,
     "metadata": {},
     "output_type": "execute_result"
    }
   ],
   "source": [
    "df[[\"commissioning_year\",\"year_of_capacity_data\"]]"
   ]
  },
  {
   "cell_type": "code",
   "execution_count": 38,
   "id": "8436ef3d",
   "metadata": {},
   "outputs": [
    {
     "data": {
      "text/plain": [
       "<AxesSubplot:xlabel='year_of_capacity_data', ylabel='count'>"
      ]
     },
     "execution_count": 38,
     "metadata": {},
     "output_type": "execute_result"
    },
    {
     "data": {
      "image/png": "[encoded data removed]",
      "text/plain": [
       "<Figure size 432x288 with 1 Axes>"
      ]
     },
     "metadata": {
      "needs_background": "light"
     },
     "output_type": "display_data"
    }
   ],
   "source": [
    "sns.countplot(x=df[\"year_of_capacity_data\"])"
   ]
  },
  {
   "cell_type": "code",
   "execution_count": 39,
   "id": "8710ca8d",
   "metadata": {},
   "outputs": [
    {
     "data": {
      "text/plain": [
       "array([  nan, 2019.])"
      ]
     },
     "execution_count": 39,
     "metadata": {},
     "output_type": "execute_result"
    }
   ],
   "source": [
    "df['year_of_capacity_data'].unique()"
   ]
  },
  {
   "cell_type": "markdown",
   "id": "f9d587e7",
   "metadata": {},
   "source": [
    "Observation- Year when data is taken is 2019 so it will be 2019 for all the reocrds so I am dropping this column as no varity of data will be needed and it will not be responsible for model building "
   ]
  },
  {
   "cell_type": "code",
   "execution_count": 40,
   "id": "9cdf98fe",
   "metadata": {},
   "outputs": [],
   "source": [
    "df.drop([\"year_of_capacity_data\"],axis=1,inplace=True)"
   ]
  },
  {
   "cell_type": "code",
   "execution_count": 41,
   "id": "927c09d5",
   "metadata": {},
   "outputs": [
    {
     "data": {
      "text/plain": [
       "array([2011.,   nan, 2004., 2015., 2005., 1970., 2010., 2008., 2014.,\n",
       "       1985., 1986., 1987., 2000., 1989., 2017., 1977., 1980., 2003.,\n",
       "       1984., 1976., 1996., 1991., 2002., 2001., 2006., 2007., 1988.,\n",
       "       1973., 2012., 1968., 1964., 2016., 2013., 1962., 1998., 1993.,\n",
       "       1997., 1999., 1994., 1975., 1992., 1972., 1979., 1967., 1995.,\n",
       "       1983., 1981., 2018., 1959., 1961., 1957., 1978., 1963., 1971.,\n",
       "       1955., 2009., 1966., 1965., 1960., 1949., 1952., 1990., 1982.,\n",
       "       1937., 1956., 1946., 1958., 1943., 1954., 1969., 1939., 1927.,\n",
       "       1974., 1953.])"
      ]
     },
     "execution_count": 41,
     "metadata": {},
     "output_type": "execute_result"
    }
   ],
   "source": [
    "df[\"commissioning_year\"].unique()"
   ]
  },
  {
   "cell_type": "code",
   "execution_count": 42,
   "id": "0096c2c1",
   "metadata": {},
   "outputs": [
    {
     "data": {
      "text/html": [
       "<div>\n",
       "<style scoped>\n",
       "    .dataframe tbody tr th:only-of-type {\n",
       "        vertical-align: middle;\n",
       "    }\n",
       "\n",
       "    .dataframe tbody tr th {\n",
       "        vertical-align: top;\n",
       "    }\n",
       "\n",
       "    .dataframe thead th {\n",
       "        text-align: right;\n",
       "    }\n",
       "</style>\n",
       "<table border=\"1\" class=\"dataframe\">\n",
       "  <thead>\n",
       "    <tr style=\"text-align: right;\">\n",
       "      <th></th>\n",
       "      <th>country_long</th>\n",
       "      <th>name</th>\n",
       "      <th>capacity_mw</th>\n",
       "      <th>latitude</th>\n",
       "      <th>longitude</th>\n",
       "      <th>primary_fuel</th>\n",
       "      <th>other_fuel1</th>\n",
       "      <th>commissioning_year</th>\n",
       "      <th>geolocation_source</th>\n",
       "      <th>generation_gwh_2014</th>\n",
       "      <th>generation_gwh_2015</th>\n",
       "      <th>generation_gwh_2016</th>\n",
       "      <th>generation_gwh_2017</th>\n",
       "      <th>generation_gwh_2018</th>\n",
       "    </tr>\n",
       "  </thead>\n",
       "  <tbody>\n",
       "    <tr>\n",
       "      <th>1</th>\n",
       "      <td>India</td>\n",
       "      <td>ADITYA CEMENT WORKS</td>\n",
       "      <td>98.0</td>\n",
       "      <td>24.7663</td>\n",
       "      <td>74.6090</td>\n",
       "      <td>Coal</td>\n",
       "      <td>NaN</td>\n",
       "      <td>NaN</td>\n",
       "      <td>WRI</td>\n",
       "      <td>NaN</td>\n",
       "      <td>NaN</td>\n",
       "      <td>NaN</td>\n",
       "      <td>NaN</td>\n",
       "      <td>NaN</td>\n",
       "    </tr>\n",
       "    <tr>\n",
       "      <th>2</th>\n",
       "      <td>India</td>\n",
       "      <td>AES Saurashtra Windfarms</td>\n",
       "      <td>39.2</td>\n",
       "      <td>21.9038</td>\n",
       "      <td>69.3732</td>\n",
       "      <td>Wind</td>\n",
       "      <td>NaN</td>\n",
       "      <td>NaN</td>\n",
       "      <td>WRI</td>\n",
       "      <td>NaN</td>\n",
       "      <td>NaN</td>\n",
       "      <td>NaN</td>\n",
       "      <td>NaN</td>\n",
       "      <td>NaN</td>\n",
       "    </tr>\n",
       "    <tr>\n",
       "      <th>17</th>\n",
       "      <td>India</td>\n",
       "      <td>ANUPPUR</td>\n",
       "      <td>600.0</td>\n",
       "      <td>23.0666</td>\n",
       "      <td>81.7841</td>\n",
       "      <td>Coal</td>\n",
       "      <td>NaN</td>\n",
       "      <td>NaN</td>\n",
       "      <td>WRI</td>\n",
       "      <td>NaN</td>\n",
       "      <td>NaN</td>\n",
       "      <td>NaN</td>\n",
       "      <td>NaN</td>\n",
       "      <td>NaN</td>\n",
       "    </tr>\n",
       "    <tr>\n",
       "      <th>19</th>\n",
       "      <td>India</td>\n",
       "      <td>ARVINDNAGAR SUGAR</td>\n",
       "      <td>10.0</td>\n",
       "      <td>18.0845</td>\n",
       "      <td>76.1851</td>\n",
       "      <td>Biomass</td>\n",
       "      <td>NaN</td>\n",
       "      <td>NaN</td>\n",
       "      <td>WRI</td>\n",
       "      <td>NaN</td>\n",
       "      <td>NaN</td>\n",
       "      <td>NaN</td>\n",
       "      <td>NaN</td>\n",
       "      <td>NaN</td>\n",
       "    </tr>\n",
       "    <tr>\n",
       "      <th>20</th>\n",
       "      <td>India</td>\n",
       "      <td>ASHOKNAGAR MILL</td>\n",
       "      <td>17.0</td>\n",
       "      <td>19.5867</td>\n",
       "      <td>74.7061</td>\n",
       "      <td>Biomass</td>\n",
       "      <td>NaN</td>\n",
       "      <td>NaN</td>\n",
       "      <td>WRI</td>\n",
       "      <td>NaN</td>\n",
       "      <td>NaN</td>\n",
       "      <td>NaN</td>\n",
       "      <td>NaN</td>\n",
       "      <td>NaN</td>\n",
       "    </tr>\n",
       "    <tr>\n",
       "      <th>...</th>\n",
       "      <td>...</td>\n",
       "      <td>...</td>\n",
       "      <td>...</td>\n",
       "      <td>...</td>\n",
       "      <td>...</td>\n",
       "      <td>...</td>\n",
       "      <td>...</td>\n",
       "      <td>...</td>\n",
       "      <td>...</td>\n",
       "      <td>...</td>\n",
       "      <td>...</td>\n",
       "      <td>...</td>\n",
       "      <td>...</td>\n",
       "      <td>...</td>\n",
       "    </tr>\n",
       "    <tr>\n",
       "      <th>900</th>\n",
       "      <td>India</td>\n",
       "      <td>YASHWANTRAO MOHITE</td>\n",
       "      <td>16.0</td>\n",
       "      <td>17.1653</td>\n",
       "      <td>74.2456</td>\n",
       "      <td>Biomass</td>\n",
       "      <td>NaN</td>\n",
       "      <td>NaN</td>\n",
       "      <td>WRI</td>\n",
       "      <td>NaN</td>\n",
       "      <td>NaN</td>\n",
       "      <td>NaN</td>\n",
       "      <td>NaN</td>\n",
       "      <td>NaN</td>\n",
       "    </tr>\n",
       "    <tr>\n",
       "      <th>903</th>\n",
       "      <td>India</td>\n",
       "      <td>Yelesandra Solar Power Plant</td>\n",
       "      <td>3.0</td>\n",
       "      <td>12.8932</td>\n",
       "      <td>78.1654</td>\n",
       "      <td>Solar</td>\n",
       "      <td>NaN</td>\n",
       "      <td>NaN</td>\n",
       "      <td>Industry About</td>\n",
       "      <td>NaN</td>\n",
       "      <td>NaN</td>\n",
       "      <td>NaN</td>\n",
       "      <td>NaN</td>\n",
       "      <td>NaN</td>\n",
       "    </tr>\n",
       "    <tr>\n",
       "      <th>904</th>\n",
       "      <td>India</td>\n",
       "      <td>Yelisirur wind power project</td>\n",
       "      <td>25.5</td>\n",
       "      <td>15.2758</td>\n",
       "      <td>75.5811</td>\n",
       "      <td>Wind</td>\n",
       "      <td>NaN</td>\n",
       "      <td>NaN</td>\n",
       "      <td>WRI</td>\n",
       "      <td>NaN</td>\n",
       "      <td>NaN</td>\n",
       "      <td>NaN</td>\n",
       "      <td>NaN</td>\n",
       "      <td>NaN</td>\n",
       "    </tr>\n",
       "    <tr>\n",
       "      <th>905</th>\n",
       "      <td>India</td>\n",
       "      <td>ZAWAR MINES</td>\n",
       "      <td>80.0</td>\n",
       "      <td>24.3500</td>\n",
       "      <td>73.7477</td>\n",
       "      <td>Coal</td>\n",
       "      <td>NaN</td>\n",
       "      <td>NaN</td>\n",
       "      <td>WRI</td>\n",
       "      <td>NaN</td>\n",
       "      <td>NaN</td>\n",
       "      <td>NaN</td>\n",
       "      <td>NaN</td>\n",
       "      <td>NaN</td>\n",
       "    </tr>\n",
       "    <tr>\n",
       "      <th>906</th>\n",
       "      <td>India</td>\n",
       "      <td>iEnergy Theni Wind Farm</td>\n",
       "      <td>16.5</td>\n",
       "      <td>9.9344</td>\n",
       "      <td>77.4768</td>\n",
       "      <td>Wind</td>\n",
       "      <td>NaN</td>\n",
       "      <td>NaN</td>\n",
       "      <td>WRI</td>\n",
       "      <td>NaN</td>\n",
       "      <td>NaN</td>\n",
       "      <td>NaN</td>\n",
       "      <td>NaN</td>\n",
       "      <td>NaN</td>\n",
       "    </tr>\n",
       "  </tbody>\n",
       "</table>\n",
       "<p>380 rows × 14 columns</p>\n",
       "</div>"
      ],
      "text/plain": [
       "    country_long                          name  capacity_mw  latitude  \\\n",
       "1          India           ADITYA CEMENT WORKS         98.0   24.7663   \n",
       "2          India      AES Saurashtra Windfarms         39.2   21.9038   \n",
       "17         India                       ANUPPUR        600.0   23.0666   \n",
       "19         India             ARVINDNAGAR SUGAR         10.0   18.0845   \n",
       "20         India               ASHOKNAGAR MILL         17.0   19.5867   \n",
       "..           ...                           ...          ...       ...   \n",
       "900        India            YASHWANTRAO MOHITE         16.0   17.1653   \n",
       "903        India  Yelesandra Solar Power Plant          3.0   12.8932   \n",
       "904        India  Yelisirur wind power project         25.5   15.2758   \n",
       "905        India                   ZAWAR MINES         80.0   24.3500   \n",
       "906        India       iEnergy Theni Wind Farm         16.5    9.9344   \n",
       "\n",
       "     longitude primary_fuel other_fuel1  commissioning_year  \\\n",
       "1      74.6090         Coal         NaN                 NaN   \n",
       "2      69.3732         Wind         NaN                 NaN   \n",
       "17     81.7841         Coal         NaN                 NaN   \n",
       "19     76.1851      Biomass         NaN                 NaN   \n",
       "20     74.7061      Biomass         NaN                 NaN   \n",
       "..         ...          ...         ...                 ...   \n",
       "900    74.2456      Biomass         NaN                 NaN   \n",
       "903    78.1654        Solar         NaN                 NaN   \n",
       "904    75.5811         Wind         NaN                 NaN   \n",
       "905    73.7477         Coal         NaN                 NaN   \n",
       "906    77.4768         Wind         NaN                 NaN   \n",
       "\n",
       "    geolocation_source  generation_gwh_2014  generation_gwh_2015  \\\n",
       "1                  WRI                  NaN                  NaN   \n",
       "2                  WRI                  NaN                  NaN   \n",
       "17                 WRI                  NaN                  NaN   \n",
       "19                 WRI                  NaN                  NaN   \n",
       "20                 WRI                  NaN                  NaN   \n",
       "..                 ...                  ...                  ...   \n",
       "900                WRI                  NaN                  NaN   \n",
       "903     Industry About                  NaN                  NaN   \n",
       "904                WRI                  NaN                  NaN   \n",
       "905                WRI                  NaN                  NaN   \n",
       "906                WRI                  NaN                  NaN   \n",
       "\n",
       "     generation_gwh_2016  generation_gwh_2017  generation_gwh_2018  \n",
       "1                    NaN                  NaN                  NaN  \n",
       "2                    NaN                  NaN                  NaN  \n",
       "17                   NaN                  NaN                  NaN  \n",
       "19                   NaN                  NaN                  NaN  \n",
       "20                   NaN                  NaN                  NaN  \n",
       "..                   ...                  ...                  ...  \n",
       "900                  NaN                  NaN                  NaN  \n",
       "903                  NaN                  NaN                  NaN  \n",
       "904                  NaN                  NaN                  NaN  \n",
       "905                  NaN                  NaN                  NaN  \n",
       "906                  NaN                  NaN                  NaN  \n",
       "\n",
       "[380 rows x 14 columns]"
      ]
     },
     "execution_count": 42,
     "metadata": {},
     "output_type": "execute_result"
    }
   ],
   "source": [
    "df[df['commissioning_year'].isna()]"
   ]
  },
  {
   "cell_type": "markdown",
   "id": "3dc96688",
   "metadata": {},
   "source": [
    "Observation- Since each record has unique plant so we cannot replace the commissioning_year with the common plant thats why dropping the column"
   ]
  },
  {
   "cell_type": "code",
   "execution_count": 43,
   "id": "91ad7e1e",
   "metadata": {},
   "outputs": [],
   "source": [
    "df.drop([\"commissioning_year\"],axis=1,inplace=True)"
   ]
  },
  {
   "cell_type": "code",
   "execution_count": 44,
   "id": "606271ac",
   "metadata": {},
   "outputs": [
    {
     "name": "stdout",
     "output_type": "stream",
     "text": [
      "<class 'pandas.core.frame.DataFrame'>\n",
      "RangeIndex: 907 entries, 0 to 906\n",
      "Data columns (total 13 columns):\n",
      " #   Column               Non-Null Count  Dtype  \n",
      "---  ------               --------------  -----  \n",
      " 0   country_long         907 non-null    object \n",
      " 1   name                 907 non-null    object \n",
      " 2   capacity_mw          907 non-null    float64\n",
      " 3   latitude             861 non-null    float64\n",
      " 4   longitude            861 non-null    float64\n",
      " 5   primary_fuel         907 non-null    object \n",
      " 6   other_fuel1          198 non-null    object \n",
      " 7   geolocation_source   907 non-null    object \n",
      " 8   generation_gwh_2014  398 non-null    float64\n",
      " 9   generation_gwh_2015  422 non-null    float64\n",
      " 10  generation_gwh_2016  434 non-null    float64\n",
      " 11  generation_gwh_2017  440 non-null    float64\n",
      " 12  generation_gwh_2018  448 non-null    float64\n",
      "dtypes: float64(8), object(5)\n",
      "memory usage: 92.2+ KB\n"
     ]
    }
   ],
   "source": [
    "df.info()"
   ]
  },
  {
   "cell_type": "markdown",
   "id": "2a0fb8f0",
   "metadata": {},
   "source": [
    "### Lets do something with the otherfuel column"
   ]
  },
  {
   "cell_type": "code",
   "execution_count": 45,
   "id": "5d896706",
   "metadata": {},
   "outputs": [
    {
     "data": {
      "text/html": [
       "<div>\n",
       "<style scoped>\n",
       "    .dataframe tbody tr th:only-of-type {\n",
       "        vertical-align: middle;\n",
       "    }\n",
       "\n",
       "    .dataframe tbody tr th {\n",
       "        vertical-align: top;\n",
       "    }\n",
       "\n",
       "    .dataframe thead th {\n",
       "        text-align: right;\n",
       "    }\n",
       "</style>\n",
       "<table border=\"1\" class=\"dataframe\">\n",
       "  <thead>\n",
       "    <tr style=\"text-align: right;\">\n",
       "      <th></th>\n",
       "      <th>country_long</th>\n",
       "      <th>name</th>\n",
       "      <th>capacity_mw</th>\n",
       "      <th>latitude</th>\n",
       "      <th>longitude</th>\n",
       "      <th>primary_fuel</th>\n",
       "      <th>other_fuel1</th>\n",
       "      <th>geolocation_source</th>\n",
       "      <th>generation_gwh_2014</th>\n",
       "      <th>generation_gwh_2015</th>\n",
       "      <th>generation_gwh_2016</th>\n",
       "      <th>generation_gwh_2017</th>\n",
       "      <th>generation_gwh_2018</th>\n",
       "    </tr>\n",
       "  </thead>\n",
       "  <tbody>\n",
       "    <tr>\n",
       "      <th>0</th>\n",
       "      <td>India</td>\n",
       "      <td>ACME Solar Tower</td>\n",
       "      <td>2.5</td>\n",
       "      <td>28.1839</td>\n",
       "      <td>73.2407</td>\n",
       "      <td>Solar</td>\n",
       "      <td>NaN</td>\n",
       "      <td>National Renewable Energy Laboratory</td>\n",
       "      <td>NaN</td>\n",
       "      <td>NaN</td>\n",
       "      <td>NaN</td>\n",
       "      <td>NaN</td>\n",
       "      <td>NaN</td>\n",
       "    </tr>\n",
       "    <tr>\n",
       "      <th>1</th>\n",
       "      <td>India</td>\n",
       "      <td>ADITYA CEMENT WORKS</td>\n",
       "      <td>98.0</td>\n",
       "      <td>24.7663</td>\n",
       "      <td>74.6090</td>\n",
       "      <td>Coal</td>\n",
       "      <td>NaN</td>\n",
       "      <td>WRI</td>\n",
       "      <td>NaN</td>\n",
       "      <td>NaN</td>\n",
       "      <td>NaN</td>\n",
       "      <td>NaN</td>\n",
       "      <td>NaN</td>\n",
       "    </tr>\n",
       "    <tr>\n",
       "      <th>2</th>\n",
       "      <td>India</td>\n",
       "      <td>AES Saurashtra Windfarms</td>\n",
       "      <td>39.2</td>\n",
       "      <td>21.9038</td>\n",
       "      <td>69.3732</td>\n",
       "      <td>Wind</td>\n",
       "      <td>NaN</td>\n",
       "      <td>WRI</td>\n",
       "      <td>NaN</td>\n",
       "      <td>NaN</td>\n",
       "      <td>NaN</td>\n",
       "      <td>NaN</td>\n",
       "      <td>NaN</td>\n",
       "    </tr>\n",
       "    <tr>\n",
       "      <th>3</th>\n",
       "      <td>India</td>\n",
       "      <td>AGARTALA GT</td>\n",
       "      <td>135.0</td>\n",
       "      <td>23.8712</td>\n",
       "      <td>91.3602</td>\n",
       "      <td>Gas</td>\n",
       "      <td>NaN</td>\n",
       "      <td>WRI</td>\n",
       "      <td>617.789264</td>\n",
       "      <td>843.7470</td>\n",
       "      <td>886.004428</td>\n",
       "      <td>663.7745</td>\n",
       "      <td>626.239128</td>\n",
       "    </tr>\n",
       "    <tr>\n",
       "      <th>6</th>\n",
       "      <td>India</td>\n",
       "      <td>ALIYAR</td>\n",
       "      <td>60.0</td>\n",
       "      <td>10.4547</td>\n",
       "      <td>77.0078</td>\n",
       "      <td>Hydro</td>\n",
       "      <td>NaN</td>\n",
       "      <td>WRI</td>\n",
       "      <td>157.558250</td>\n",
       "      <td>152.1952</td>\n",
       "      <td>61.421350</td>\n",
       "      <td>89.6296</td>\n",
       "      <td>48.327150</td>\n",
       "    </tr>\n",
       "    <tr>\n",
       "      <th>...</th>\n",
       "      <td>...</td>\n",
       "      <td>...</td>\n",
       "      <td>...</td>\n",
       "      <td>...</td>\n",
       "      <td>...</td>\n",
       "      <td>...</td>\n",
       "      <td>...</td>\n",
       "      <td>...</td>\n",
       "      <td>...</td>\n",
       "      <td>...</td>\n",
       "      <td>...</td>\n",
       "      <td>...</td>\n",
       "      <td>...</td>\n",
       "    </tr>\n",
       "    <tr>\n",
       "      <th>901</th>\n",
       "      <td>India</td>\n",
       "      <td>YELHANKA (DG)</td>\n",
       "      <td>106.6</td>\n",
       "      <td>13.1156</td>\n",
       "      <td>77.5838</td>\n",
       "      <td>Oil</td>\n",
       "      <td>NaN</td>\n",
       "      <td>WRI</td>\n",
       "      <td>0.000000</td>\n",
       "      <td>0.0000</td>\n",
       "      <td>0.000000</td>\n",
       "      <td>NaN</td>\n",
       "      <td>0.000000</td>\n",
       "    </tr>\n",
       "    <tr>\n",
       "      <th>903</th>\n",
       "      <td>India</td>\n",
       "      <td>Yelesandra Solar Power Plant</td>\n",
       "      <td>3.0</td>\n",
       "      <td>12.8932</td>\n",
       "      <td>78.1654</td>\n",
       "      <td>Solar</td>\n",
       "      <td>NaN</td>\n",
       "      <td>Industry About</td>\n",
       "      <td>NaN</td>\n",
       "      <td>NaN</td>\n",
       "      <td>NaN</td>\n",
       "      <td>NaN</td>\n",
       "      <td>NaN</td>\n",
       "    </tr>\n",
       "    <tr>\n",
       "      <th>904</th>\n",
       "      <td>India</td>\n",
       "      <td>Yelisirur wind power project</td>\n",
       "      <td>25.5</td>\n",
       "      <td>15.2758</td>\n",
       "      <td>75.5811</td>\n",
       "      <td>Wind</td>\n",
       "      <td>NaN</td>\n",
       "      <td>WRI</td>\n",
       "      <td>NaN</td>\n",
       "      <td>NaN</td>\n",
       "      <td>NaN</td>\n",
       "      <td>NaN</td>\n",
       "      <td>NaN</td>\n",
       "    </tr>\n",
       "    <tr>\n",
       "      <th>905</th>\n",
       "      <td>India</td>\n",
       "      <td>ZAWAR MINES</td>\n",
       "      <td>80.0</td>\n",
       "      <td>24.3500</td>\n",
       "      <td>73.7477</td>\n",
       "      <td>Coal</td>\n",
       "      <td>NaN</td>\n",
       "      <td>WRI</td>\n",
       "      <td>NaN</td>\n",
       "      <td>NaN</td>\n",
       "      <td>NaN</td>\n",
       "      <td>NaN</td>\n",
       "      <td>NaN</td>\n",
       "    </tr>\n",
       "    <tr>\n",
       "      <th>906</th>\n",
       "      <td>India</td>\n",
       "      <td>iEnergy Theni Wind Farm</td>\n",
       "      <td>16.5</td>\n",
       "      <td>9.9344</td>\n",
       "      <td>77.4768</td>\n",
       "      <td>Wind</td>\n",
       "      <td>NaN</td>\n",
       "      <td>WRI</td>\n",
       "      <td>NaN</td>\n",
       "      <td>NaN</td>\n",
       "      <td>NaN</td>\n",
       "      <td>NaN</td>\n",
       "      <td>NaN</td>\n",
       "    </tr>\n",
       "  </tbody>\n",
       "</table>\n",
       "<p>709 rows × 13 columns</p>\n",
       "</div>"
      ],
      "text/plain": [
       "    country_long                          name  capacity_mw  latitude  \\\n",
       "0          India              ACME Solar Tower          2.5   28.1839   \n",
       "1          India           ADITYA CEMENT WORKS         98.0   24.7663   \n",
       "2          India      AES Saurashtra Windfarms         39.2   21.9038   \n",
       "3          India                   AGARTALA GT        135.0   23.8712   \n",
       "6          India                        ALIYAR         60.0   10.4547   \n",
       "..           ...                           ...          ...       ...   \n",
       "901        India                 YELHANKA (DG)        106.6   13.1156   \n",
       "903        India  Yelesandra Solar Power Plant          3.0   12.8932   \n",
       "904        India  Yelisirur wind power project         25.5   15.2758   \n",
       "905        India                   ZAWAR MINES         80.0   24.3500   \n",
       "906        India       iEnergy Theni Wind Farm         16.5    9.9344   \n",
       "\n",
       "     longitude primary_fuel other_fuel1                    geolocation_source  \\\n",
       "0      73.2407        Solar         NaN  National Renewable Energy Laboratory   \n",
       "1      74.6090         Coal         NaN                                   WRI   \n",
       "2      69.3732         Wind         NaN                                   WRI   \n",
       "3      91.3602          Gas         NaN                                   WRI   \n",
       "6      77.0078        Hydro         NaN                                   WRI   \n",
       "..         ...          ...         ...                                   ...   \n",
       "901    77.5838          Oil         NaN                                   WRI   \n",
       "903    78.1654        Solar         NaN                        Industry About   \n",
       "904    75.5811         Wind         NaN                                   WRI   \n",
       "905    73.7477         Coal         NaN                                   WRI   \n",
       "906    77.4768         Wind         NaN                                   WRI   \n",
       "\n",
       "     generation_gwh_2014  generation_gwh_2015  generation_gwh_2016  \\\n",
       "0                    NaN                  NaN                  NaN   \n",
       "1                    NaN                  NaN                  NaN   \n",
       "2                    NaN                  NaN                  NaN   \n",
       "3             617.789264             843.7470           886.004428   \n",
       "6             157.558250             152.1952            61.421350   \n",
       "..                   ...                  ...                  ...   \n",
       "901             0.000000               0.0000             0.000000   \n",
       "903                  NaN                  NaN                  NaN   \n",
       "904                  NaN                  NaN                  NaN   \n",
       "905                  NaN                  NaN                  NaN   \n",
       "906                  NaN                  NaN                  NaN   \n",
       "\n",
       "     generation_gwh_2017  generation_gwh_2018  \n",
       "0                    NaN                  NaN  \n",
       "1                    NaN                  NaN  \n",
       "2                    NaN                  NaN  \n",
       "3               663.7745           626.239128  \n",
       "6                89.6296            48.327150  \n",
       "..                   ...                  ...  \n",
       "901                  NaN             0.000000  \n",
       "903                  NaN                  NaN  \n",
       "904                  NaN                  NaN  \n",
       "905                  NaN                  NaN  \n",
       "906                  NaN                  NaN  \n",
       "\n",
       "[709 rows x 13 columns]"
      ]
     },
     "execution_count": 45,
     "metadata": {},
     "output_type": "execute_result"
    }
   ],
   "source": [
    "df[df['other_fuel1'].isna()]"
   ]
  },
  {
   "cell_type": "markdown",
   "id": "5a7c744a",
   "metadata": {},
   "source": [
    "Observation- Few plants have other fuel to use in the plant and rest have no other fuel apart from primary fuel to use in the plant so I will be replacing the null values with no secondary fuel"
   ]
  },
  {
   "cell_type": "code",
   "execution_count": 46,
   "id": "4eaba570",
   "metadata": {},
   "outputs": [],
   "source": [
    "df['other_fuel1'] = df['other_fuel1'].fillna(\"No secondary fuel\")"
   ]
  },
  {
   "cell_type": "code",
   "execution_count": 47,
   "id": "93edd37a",
   "metadata": {},
   "outputs": [
    {
     "name": "stdout",
     "output_type": "stream",
     "text": [
      "<class 'pandas.core.frame.DataFrame'>\n",
      "RangeIndex: 907 entries, 0 to 906\n",
      "Data columns (total 13 columns):\n",
      " #   Column               Non-Null Count  Dtype  \n",
      "---  ------               --------------  -----  \n",
      " 0   country_long         907 non-null    object \n",
      " 1   name                 907 non-null    object \n",
      " 2   capacity_mw          907 non-null    float64\n",
      " 3   latitude             861 non-null    float64\n",
      " 4   longitude            861 non-null    float64\n",
      " 5   primary_fuel         907 non-null    object \n",
      " 6   other_fuel1          907 non-null    object \n",
      " 7   geolocation_source   907 non-null    object \n",
      " 8   generation_gwh_2014  398 non-null    float64\n",
      " 9   generation_gwh_2015  422 non-null    float64\n",
      " 10  generation_gwh_2016  434 non-null    float64\n",
      " 11  generation_gwh_2017  440 non-null    float64\n",
      " 12  generation_gwh_2018  448 non-null    float64\n",
      "dtypes: float64(8), object(5)\n",
      "memory usage: 92.2+ KB\n"
     ]
    }
   ],
   "source": [
    "df.info()"
   ]
  },
  {
   "cell_type": "code",
   "execution_count": 48,
   "id": "4f65d844",
   "metadata": {},
   "outputs": [
    {
     "data": {
      "text/html": [
       "<div>\n",
       "<style scoped>\n",
       "    .dataframe tbody tr th:only-of-type {\n",
       "        vertical-align: middle;\n",
       "    }\n",
       "\n",
       "    .dataframe tbody tr th {\n",
       "        vertical-align: top;\n",
       "    }\n",
       "\n",
       "    .dataframe thead th {\n",
       "        text-align: right;\n",
       "    }\n",
       "</style>\n",
       "<table border=\"1\" class=\"dataframe\">\n",
       "  <thead>\n",
       "    <tr style=\"text-align: right;\">\n",
       "      <th></th>\n",
       "      <th>country_long</th>\n",
       "      <th>name</th>\n",
       "      <th>capacity_mw</th>\n",
       "      <th>latitude</th>\n",
       "      <th>longitude</th>\n",
       "      <th>primary_fuel</th>\n",
       "      <th>other_fuel1</th>\n",
       "      <th>geolocation_source</th>\n",
       "      <th>generation_gwh_2014</th>\n",
       "      <th>generation_gwh_2015</th>\n",
       "      <th>generation_gwh_2016</th>\n",
       "      <th>generation_gwh_2017</th>\n",
       "      <th>generation_gwh_2018</th>\n",
       "    </tr>\n",
       "  </thead>\n",
       "  <tbody>\n",
       "    <tr>\n",
       "      <th>0</th>\n",
       "      <td>India</td>\n",
       "      <td>ACME Solar Tower</td>\n",
       "      <td>2.5</td>\n",
       "      <td>28.1839</td>\n",
       "      <td>73.2407</td>\n",
       "      <td>Solar</td>\n",
       "      <td>No secondary fuel</td>\n",
       "      <td>National Renewable Energy Laboratory</td>\n",
       "      <td>NaN</td>\n",
       "      <td>NaN</td>\n",
       "      <td>NaN</td>\n",
       "      <td>NaN</td>\n",
       "      <td>NaN</td>\n",
       "    </tr>\n",
       "    <tr>\n",
       "      <th>1</th>\n",
       "      <td>India</td>\n",
       "      <td>ADITYA CEMENT WORKS</td>\n",
       "      <td>98.0</td>\n",
       "      <td>24.7663</td>\n",
       "      <td>74.6090</td>\n",
       "      <td>Coal</td>\n",
       "      <td>No secondary fuel</td>\n",
       "      <td>WRI</td>\n",
       "      <td>NaN</td>\n",
       "      <td>NaN</td>\n",
       "      <td>NaN</td>\n",
       "      <td>NaN</td>\n",
       "      <td>NaN</td>\n",
       "    </tr>\n",
       "    <tr>\n",
       "      <th>2</th>\n",
       "      <td>India</td>\n",
       "      <td>AES Saurashtra Windfarms</td>\n",
       "      <td>39.2</td>\n",
       "      <td>21.9038</td>\n",
       "      <td>69.3732</td>\n",
       "      <td>Wind</td>\n",
       "      <td>No secondary fuel</td>\n",
       "      <td>WRI</td>\n",
       "      <td>NaN</td>\n",
       "      <td>NaN</td>\n",
       "      <td>NaN</td>\n",
       "      <td>NaN</td>\n",
       "      <td>NaN</td>\n",
       "    </tr>\n",
       "    <tr>\n",
       "      <th>3</th>\n",
       "      <td>India</td>\n",
       "      <td>AGARTALA GT</td>\n",
       "      <td>135.0</td>\n",
       "      <td>23.8712</td>\n",
       "      <td>91.3602</td>\n",
       "      <td>Gas</td>\n",
       "      <td>No secondary fuel</td>\n",
       "      <td>WRI</td>\n",
       "      <td>617.789264</td>\n",
       "      <td>843.7470</td>\n",
       "      <td>886.004428</td>\n",
       "      <td>663.774500</td>\n",
       "      <td>626.239128</td>\n",
       "    </tr>\n",
       "    <tr>\n",
       "      <th>4</th>\n",
       "      <td>India</td>\n",
       "      <td>AKALTARA TPP</td>\n",
       "      <td>1800.0</td>\n",
       "      <td>21.9603</td>\n",
       "      <td>82.4091</td>\n",
       "      <td>Coal</td>\n",
       "      <td>Oil</td>\n",
       "      <td>WRI</td>\n",
       "      <td>3035.550000</td>\n",
       "      <td>5916.3700</td>\n",
       "      <td>6243.000000</td>\n",
       "      <td>5385.579736</td>\n",
       "      <td>7279.000000</td>\n",
       "    </tr>\n",
       "    <tr>\n",
       "      <th>5</th>\n",
       "      <td>India</td>\n",
       "      <td>AKRIMOTA LIG</td>\n",
       "      <td>250.0</td>\n",
       "      <td>23.7689</td>\n",
       "      <td>68.6447</td>\n",
       "      <td>Coal</td>\n",
       "      <td>Oil</td>\n",
       "      <td>WRI</td>\n",
       "      <td>1153.421000</td>\n",
       "      <td>1208.8520</td>\n",
       "      <td>1175.765000</td>\n",
       "      <td>1147.913000</td>\n",
       "      <td>976.655000</td>\n",
       "    </tr>\n",
       "    <tr>\n",
       "      <th>6</th>\n",
       "      <td>India</td>\n",
       "      <td>ALIYAR</td>\n",
       "      <td>60.0</td>\n",
       "      <td>10.4547</td>\n",
       "      <td>77.0078</td>\n",
       "      <td>Hydro</td>\n",
       "      <td>No secondary fuel</td>\n",
       "      <td>WRI</td>\n",
       "      <td>157.558250</td>\n",
       "      <td>152.1952</td>\n",
       "      <td>61.421350</td>\n",
       "      <td>89.629600</td>\n",
       "      <td>48.327150</td>\n",
       "    </tr>\n",
       "    <tr>\n",
       "      <th>7</th>\n",
       "      <td>India</td>\n",
       "      <td>ALLAIN DUHANGAN</td>\n",
       "      <td>192.0</td>\n",
       "      <td>32.2258</td>\n",
       "      <td>77.2070</td>\n",
       "      <td>Hydro</td>\n",
       "      <td>No secondary fuel</td>\n",
       "      <td>WRI</td>\n",
       "      <td>674.391100</td>\n",
       "      <td>721.3352</td>\n",
       "      <td>675.724400</td>\n",
       "      <td>679.594950</td>\n",
       "      <td>579.318850</td>\n",
       "    </tr>\n",
       "    <tr>\n",
       "      <th>8</th>\n",
       "      <td>India</td>\n",
       "      <td>ALMATTI DAM</td>\n",
       "      <td>290.0</td>\n",
       "      <td>16.3300</td>\n",
       "      <td>75.8863</td>\n",
       "      <td>Hydro</td>\n",
       "      <td>No secondary fuel</td>\n",
       "      <td>WRI</td>\n",
       "      <td>480.594950</td>\n",
       "      <td>144.4342</td>\n",
       "      <td>402.029750</td>\n",
       "      <td>439.372100</td>\n",
       "      <td>406.377900</td>\n",
       "    </tr>\n",
       "    <tr>\n",
       "      <th>9</th>\n",
       "      <td>India</td>\n",
       "      <td>AMAR KANTAK</td>\n",
       "      <td>210.0</td>\n",
       "      <td>23.1642</td>\n",
       "      <td>81.6373</td>\n",
       "      <td>Coal</td>\n",
       "      <td>Oil</td>\n",
       "      <td>WRI</td>\n",
       "      <td>1887.904000</td>\n",
       "      <td>1643.0460</td>\n",
       "      <td>1338.093000</td>\n",
       "      <td>1563.457000</td>\n",
       "      <td>1487.880000</td>\n",
       "    </tr>\n",
       "  </tbody>\n",
       "</table>\n",
       "</div>"
      ],
      "text/plain": [
       "  country_long                      name  capacity_mw  latitude  longitude  \\\n",
       "0        India          ACME Solar Tower          2.5   28.1839    73.2407   \n",
       "1        India       ADITYA CEMENT WORKS         98.0   24.7663    74.6090   \n",
       "2        India  AES Saurashtra Windfarms         39.2   21.9038    69.3732   \n",
       "3        India               AGARTALA GT        135.0   23.8712    91.3602   \n",
       "4        India              AKALTARA TPP       1800.0   21.9603    82.4091   \n",
       "5        India              AKRIMOTA LIG        250.0   23.7689    68.6447   \n",
       "6        India                    ALIYAR         60.0   10.4547    77.0078   \n",
       "7        India           ALLAIN DUHANGAN        192.0   32.2258    77.2070   \n",
       "8        India               ALMATTI DAM        290.0   16.3300    75.8863   \n",
       "9        India               AMAR KANTAK        210.0   23.1642    81.6373   \n",
       "\n",
       "  primary_fuel        other_fuel1                    geolocation_source  \\\n",
       "0        Solar  No secondary fuel  National Renewable Energy Laboratory   \n",
       "1         Coal  No secondary fuel                                   WRI   \n",
       "2         Wind  No secondary fuel                                   WRI   \n",
       "3          Gas  No secondary fuel                                   WRI   \n",
       "4         Coal                Oil                                   WRI   \n",
       "5         Coal                Oil                                   WRI   \n",
       "6        Hydro  No secondary fuel                                   WRI   \n",
       "7        Hydro  No secondary fuel                                   WRI   \n",
       "8        Hydro  No secondary fuel                                   WRI   \n",
       "9         Coal                Oil                                   WRI   \n",
       "\n",
       "   generation_gwh_2014  generation_gwh_2015  generation_gwh_2016  \\\n",
       "0                  NaN                  NaN                  NaN   \n",
       "1                  NaN                  NaN                  NaN   \n",
       "2                  NaN                  NaN                  NaN   \n",
       "3           617.789264             843.7470           886.004428   \n",
       "4          3035.550000            5916.3700          6243.000000   \n",
       "5          1153.421000            1208.8520          1175.765000   \n",
       "6           157.558250             152.1952            61.421350   \n",
       "7           674.391100             721.3352           675.724400   \n",
       "8           480.594950             144.4342           402.029750   \n",
       "9          1887.904000            1643.0460          1338.093000   \n",
       "\n",
       "   generation_gwh_2017  generation_gwh_2018  \n",
       "0                  NaN                  NaN  \n",
       "1                  NaN                  NaN  \n",
       "2                  NaN                  NaN  \n",
       "3           663.774500           626.239128  \n",
       "4          5385.579736          7279.000000  \n",
       "5          1147.913000           976.655000  \n",
       "6            89.629600            48.327150  \n",
       "7           679.594950           579.318850  \n",
       "8           439.372100           406.377900  \n",
       "9          1563.457000          1487.880000  "
      ]
     },
     "execution_count": 48,
     "metadata": {},
     "output_type": "execute_result"
    }
   ],
   "source": [
    "df.head(10)"
   ]
  },
  {
   "cell_type": "markdown",
   "id": "810a4469",
   "metadata": {},
   "source": [
    "# Checking the distribution of the target"
   ]
  },
  {
   "cell_type": "code",
   "execution_count": 49,
   "id": "6b3075c2",
   "metadata": {},
   "outputs": [
    {
     "data": {
      "image/png": "[encoded data removed]",
      "text/plain": [
       "<Figure size 432x288 with 1 Axes>"
      ]
     },
     "metadata": {
      "needs_background": "light"
     },
     "output_type": "display_data"
    }
   ],
   "source": [
    "sns.countplot(x='primary_fuel',data=df)\n",
    "plt.show()"
   ]
  },
  {
   "cell_type": "markdown",
   "id": "bc2e118a",
   "metadata": {},
   "source": [
    "Observation- Most of the plant use Coal as the Primary fuel and Hyrdo is the second most used fuel "
   ]
  },
  {
   "cell_type": "code",
   "execution_count": 50,
   "id": "a3d0975f",
   "metadata": {},
   "outputs": [
    {
     "data": {
      "text/plain": [
       "Coal       258\n",
       "Hydro      251\n",
       "Solar      127\n",
       "Wind       123\n",
       "Gas         69\n",
       "Biomass     50\n",
       "Oil         20\n",
       "Nuclear      9\n",
       "Name: primary_fuel, dtype: int64"
      ]
     },
     "execution_count": 50,
     "metadata": {},
     "output_type": "execute_result"
    }
   ],
   "source": [
    "df['primary_fuel'].value_counts()"
   ]
  },
  {
   "cell_type": "markdown",
   "id": "ce2c8a37",
   "metadata": {},
   "source": [
    "### Filling the null values of generation_gwh of different years with its mean values"
   ]
  },
  {
   "cell_type": "markdown",
   "id": "e21cb9f1",
   "metadata": {},
   "source": [
    "#### generation_gwh_2014"
   ]
  },
  {
   "cell_type": "code",
   "execution_count": 51,
   "id": "314d6b54",
   "metadata": {},
   "outputs": [
    {
     "data": {
      "text/plain": [
       "array(['Gas', 'Coal', 'Hydro', 'Oil', 'Nuclear'], dtype=object)"
      ]
     },
     "execution_count": 51,
     "metadata": {},
     "output_type": "execute_result"
    }
   ],
   "source": [
    "df_2014=df.loc[df['generation_gwh_2014'].notnull()]\n",
    "df_2014[\"primary_fuel\"].unique()       "
   ]
  },
  {
   "cell_type": "code",
   "execution_count": 52,
   "id": "0b25378d",
   "metadata": {},
   "outputs": [
    {
     "data": {
      "text/plain": [
       "2.4656692429520137"
      ]
     },
     "execution_count": 52,
     "metadata": {},
     "output_type": "execute_result"
    }
   ],
   "source": [
    "# calculation of multiplier for capacity with power generated for gas in 2014 to fill the null values\n",
    "df_2014_gas= df_2014.loc[df_2014[\"primary_fuel\"]=='Gas']\n",
    "df_2014_gas['Variance']=df_2014_gas['generation_gwh_2014']/df_2014_gas['capacity_mw']\n",
    "gas_multi= df_2014_gas['Variance'].mean()    \n",
    "gas_multi"
   ]
  },
  {
   "cell_type": "code",
   "execution_count": 53,
   "id": "37e7656f",
   "metadata": {},
   "outputs": [
    {
     "data": {
      "text/plain": [
       "4.319886489258552"
      ]
     },
     "execution_count": 53,
     "metadata": {},
     "output_type": "execute_result"
    }
   ],
   "source": [
    "# calculation of multiplier for capacity with power generated for Coal in 2014 to fill the null values\n",
    "df_2014_coal= df_2014.loc[df_2014[\"primary_fuel\"]=='Coal']\n",
    "df_2014_coal['Variance']=df_2014_coal['generation_gwh_2014']/df_2014_coal['capacity_mw']\n",
    "coal_multi= df_2014_coal['Variance'].mean()    \n",
    "coal_multi"
   ]
  },
  {
   "cell_type": "code",
   "execution_count": 54,
   "id": "1c631d7a",
   "metadata": {},
   "outputs": [
    {
     "data": {
      "text/plain": [
       "3.1650266140682475"
      ]
     },
     "execution_count": 54,
     "metadata": {},
     "output_type": "execute_result"
    }
   ],
   "source": [
    "# calculation of multiplier for capacity with power generated for Hydro in 2014 to fill the null values\n",
    "df_2014_Hydro= df_2014.loc[df_2014[\"primary_fuel\"]=='Hydro']\n",
    "df_2014_Hydro['Variance']=df_2014_Hydro['generation_gwh_2014']/df_2014_Hydro['capacity_mw']\n",
    "Hydro_multi= df_2014_Hydro['Variance'].mean()    \n",
    "Hydro_multi"
   ]
  },
  {
   "cell_type": "code",
   "execution_count": 55,
   "id": "f0a9062d",
   "metadata": {},
   "outputs": [
    {
     "data": {
      "text/plain": [
       "0.7374531385859672"
      ]
     },
     "execution_count": 55,
     "metadata": {},
     "output_type": "execute_result"
    }
   ],
   "source": [
    "# calculation of multiplier for capacity with power generated for Oil in 2014 to fill the null values\n",
    "df_2014_Oil= df_2014.loc[df_2014[\"primary_fuel\"]=='Oil']\n",
    "df_2014_Oil['Variance']=df_2014_Oil['generation_gwh_2014']/df_2014_Oil['capacity_mw']\n",
    "Oil_multi= df_2014_Oil['Variance'].mean()    \n",
    "Oil_multi"
   ]
  },
  {
   "cell_type": "code",
   "execution_count": 56,
   "id": "8c4a552c",
   "metadata": {},
   "outputs": [
    {
     "data": {
      "text/plain": [
       "5.714276844253762"
      ]
     },
     "execution_count": 56,
     "metadata": {},
     "output_type": "execute_result"
    }
   ],
   "source": [
    "# calculation of multiplier for capacity with power generated for Nuclear in 2014 to fill the null values\n",
    "df_2014_Nuclear= df_2014.loc[df_2014[\"primary_fuel\"]=='Nuclear']\n",
    "df_2014_Nuclear['Variance']=df_2014_Nuclear['generation_gwh_2014']/df_2014_Nuclear['capacity_mw']\n",
    "Nuclear_multi= df_2014_Nuclear['Variance'].mean()    \n",
    "Nuclear_multi"
   ]
  },
  {
   "cell_type": "code",
   "execution_count": 57,
   "id": "657c9c2f",
   "metadata": {},
   "outputs": [],
   "source": [
    "df_2014_null=df.loc[df['generation_gwh_2014'].isnull()]\n",
    "for i in df_2014_null['primary_fuel']:\n",
    "    if (i=='Gas'):\n",
    "        df['generation_gwh_2014']= df['capacity_mw']*gas_multi\n",
    "    elif (i=='Coal'):\n",
    "        df['generation_gwh_2014']= df['capacity_mw']*coal_multi\n",
    "    elif (i=='Hydro'):\n",
    "        df['generation_gwh_2014']= df['capacity_mw']*Hydro_multi\n",
    "    elif (i=='Oil'):\n",
    "        df['generation_gwh_2014']= df['capacity_mw']*Oil_multi\n",
    "    elif (i=='Nuclear'):\n",
    "        df['generation_gwh_2014']= df['capacity_mw']*Nuclear_multi"
   ]
  },
  {
   "cell_type": "markdown",
   "id": "a2988f8d",
   "metadata": {},
   "source": [
    "#### generation_gwh_2015"
   ]
  },
  {
   "cell_type": "code",
   "execution_count": 70,
   "id": "ea066ea3",
   "metadata": {},
   "outputs": [
    {
     "data": {
      "text/plain": [
       "array(['Gas', 'Coal', 'Hydro', 'Oil', 'Nuclear'], dtype=object)"
      ]
     },
     "execution_count": 70,
     "metadata": {},
     "output_type": "execute_result"
    }
   ],
   "source": [
    "df_2015=df.loc[df['generation_gwh_2015'].notnull()]\n",
    "df_2015[\"primary_fuel\"].unique() "
   ]
  },
  {
   "cell_type": "code",
   "execution_count": 71,
   "id": "5774eb56",
   "metadata": {},
   "outputs": [
    {
     "data": {
      "text/plain": [
       "2.4070468185299494"
      ]
     },
     "execution_count": 71,
     "metadata": {},
     "output_type": "execute_result"
    }
   ],
   "source": [
    "# calculation of multiplier for capacity with power generated for gas in 2014 to fill the null values\n",
    "df_2015_gas= df_2015.loc[df_2015[\"primary_fuel\"]=='Gas']\n",
    "df_2015_gas['Variance']=df_2015_gas['generation_gwh_2015']/df_2015_gas['capacity_mw']\n",
    "gas_multi= df_2015_gas['Variance'].mean()    \n",
    "gas_multi"
   ]
  },
  {
   "cell_type": "code",
   "execution_count": 72,
   "id": "22fb8577",
   "metadata": {},
   "outputs": [
    {
     "data": {
      "text/plain": [
       "4.042513350244294"
      ]
     },
     "execution_count": 72,
     "metadata": {},
     "output_type": "execute_result"
    }
   ],
   "source": [
    "# calculation of multiplier for capacity with power generated for Coal in 2014 to fill the null values\n",
    "df_2015_coal= df_2015.loc[df_2015[\"primary_fuel\"]=='Coal']\n",
    "df_2015_coal['Variance']=df_2015_coal['generation_gwh_2015']/df_2015_coal['capacity_mw']\n",
    "coal_multi= df_2015_coal['Variance'].mean()    \n",
    "coal_multi"
   ]
  },
  {
   "cell_type": "code",
   "execution_count": 73,
   "id": "0c3fc3f9",
   "metadata": {},
   "outputs": [
    {
     "data": {
      "text/plain": [
       "2.8858140053747"
      ]
     },
     "execution_count": 73,
     "metadata": {},
     "output_type": "execute_result"
    }
   ],
   "source": [
    "# calculation of multiplier for capacity with power generated for Hydro in 2014 to fill the null values\n",
    "df_2015_Hydro= df_2015.loc[df_2015[\"primary_fuel\"]=='Hydro']\n",
    "df_2015_Hydro['Variance']=df_2015_Hydro['generation_gwh_2015']/df_2015_Hydro['capacity_mw']\n",
    "Hydro_multi= df_2015_Hydro['Variance'].mean()    \n",
    "Hydro_multi"
   ]
  },
  {
   "cell_type": "code",
   "execution_count": 74,
   "id": "41affb63",
   "metadata": {},
   "outputs": [
    {
     "data": {
      "text/plain": [
       "0.2151597815929957"
      ]
     },
     "execution_count": 74,
     "metadata": {},
     "output_type": "execute_result"
    }
   ],
   "source": [
    "# calculation of multiplier for capacity with power generated for Oil in 2014 to fill the null values\n",
    "df_2015_Oil= df_2015.loc[df_2015[\"primary_fuel\"]=='Oil']\n",
    "df_2015_Oil['Variance']=df_2015_Oil['generation_gwh_2015']/df_2015_Oil['capacity_mw']\n",
    "Oil_multi= df_2015_Oil['Variance'].mean()    \n",
    "Oil_multi"
   ]
  },
  {
   "cell_type": "code",
   "execution_count": 75,
   "id": "91c3ddaa",
   "metadata": {},
   "outputs": [
    {
     "data": {
      "text/plain": [
       "5.058826148388649"
      ]
     },
     "execution_count": 75,
     "metadata": {},
     "output_type": "execute_result"
    }
   ],
   "source": [
    "# calculation of multiplier for capacity with power generated for Nuclear in 2014 to fill the null values\n",
    "df_2015_Nuclear= df_2015.loc[df_2015[\"primary_fuel\"]=='Nuclear']\n",
    "df_2015_Nuclear['Variance']=df_2015_Nuclear['generation_gwh_2015']/df_2015_Nuclear['capacity_mw']\n",
    "Nuclear_multi= df_2015_Nuclear['Variance'].mean()    \n",
    "Nuclear_multi"
   ]
  },
  {
   "cell_type": "code",
   "execution_count": 84,
   "id": "5f3357cc",
   "metadata": {},
   "outputs": [],
   "source": [
    "df_2015_null=df.loc[df['generation_gwh_2015'].isnull()]\n",
    "for i in df_2015_null['primary_fuel']:\n",
    "    if (i=='Gas'):\n",
    "        df['generation_gwh_2015']= df['capacity_mw']*gas_multi\n",
    "    elif (i=='Coal'):\n",
    "        df['generation_gwh_2015']= df['capacity_mw']*coal_multi\n",
    "    elif (i=='Hydro'):\n",
    "        df['generation_gwh_2015']= df['capacity_mw']*Hydro_multi\n",
    "    elif (i=='Oil'):\n",
    "        df['generation_gwh_2015']= df['capacity_mw']*Oil_multi\n",
    "    elif (i=='Nuclear'):\n",
    "        df['generation_gwh_2015']= df['capacity_mw']*Nuclear_multi"
   ]
  },
  {
   "cell_type": "markdown",
   "id": "da96813f",
   "metadata": {},
   "source": [
    "#### generation_gwh_2016"
   ]
  },
  {
   "cell_type": "code",
   "execution_count": 85,
   "id": "83da3abc",
   "metadata": {},
   "outputs": [
    {
     "data": {
      "text/plain": [
       "array(['Solar', 'Coal', 'Wind', 'Gas', 'Hydro', 'Biomass', 'Oil',\n",
       "       'Nuclear'], dtype=object)"
      ]
     },
     "execution_count": 85,
     "metadata": {},
     "output_type": "execute_result"
    }
   ],
   "source": [
    "df_2016=df.loc[df['generation_gwh_2016'].notnull()]\n",
    "df_2016[\"primary_fuel\"].unique() "
   ]
  },
  {
   "cell_type": "code",
   "execution_count": 86,
   "id": "727353d1",
   "metadata": {},
   "outputs": [
    {
     "data": {
      "text/plain": [
       "4.042513350244293"
      ]
     },
     "execution_count": 86,
     "metadata": {},
     "output_type": "execute_result"
    }
   ],
   "source": [
    "# calculation of multiplier for capacity with power generated for gas in 2014 to fill the null values\n",
    "df_2016_gas= df_2016.loc[df_2016[\"primary_fuel\"]=='Gas']\n",
    "df_2016_gas['Variance']=df_2016_gas['generation_gwh_2016']/df_2016_gas['capacity_mw']\n",
    "gas_multi= df_2016_gas['Variance'].mean()    \n",
    "gas_multi"
   ]
  },
  {
   "cell_type": "code",
   "execution_count": 87,
   "id": "a47c5f19",
   "metadata": {},
   "outputs": [
    {
     "data": {
      "text/plain": [
       "4.0425133502443185"
      ]
     },
     "execution_count": 87,
     "metadata": {},
     "output_type": "execute_result"
    }
   ],
   "source": [
    "# calculation of multiplier for capacity with power generated for Coal in 2014 to fill the null values\n",
    "df_2016_coal= df_2016.loc[df_2016[\"primary_fuel\"]=='Coal']\n",
    "df_2016_coal['Variance']=df_2016_coal['generation_gwh_2016']/df_2016_coal['capacity_mw']\n",
    "coal_multi= df_2016_coal['Variance'].mean()    \n",
    "coal_multi"
   ]
  },
  {
   "cell_type": "code",
   "execution_count": 88,
   "id": "4b48aa17",
   "metadata": {},
   "outputs": [
    {
     "data": {
      "text/plain": [
       "4.04251335024432"
      ]
     },
     "execution_count": 88,
     "metadata": {},
     "output_type": "execute_result"
    }
   ],
   "source": [
    "# calculation of multiplier for capacity with power generated for Hydro in 2014 to fill the null values\n",
    "df_2016_Hydro= df_2016.loc[df_2016[\"primary_fuel\"]=='Hydro']\n",
    "df_2016_Hydro['Variance']=df_2016_Hydro['generation_gwh_2016']/df_2016_Hydro['capacity_mw']\n",
    "Hydro_multi= df_2016_Hydro['Variance'].mean()    \n",
    "Hydro_multi"
   ]
  },
  {
   "cell_type": "code",
   "execution_count": 89,
   "id": "8dae0f5c",
   "metadata": {},
   "outputs": [
    {
     "data": {
      "text/plain": [
       "4.042513350244293"
      ]
     },
     "execution_count": 89,
     "metadata": {},
     "output_type": "execute_result"
    }
   ],
   "source": [
    "# calculation of multiplier for capacity with power generated for Oil in 2014 to fill the null values\n",
    "df_2016_Oil= df_2016.loc[df_2016[\"primary_fuel\"]=='Oil']\n",
    "df_2016_Oil['Variance']=df_2016_Oil['generation_gwh_2016']/df_2016_Oil['capacity_mw']\n",
    "Oil_multi= df_2016_Oil['Variance'].mean()    \n",
    "Oil_multi"
   ]
  },
  {
   "cell_type": "code",
   "execution_count": 90,
   "id": "db3bf623",
   "metadata": {},
   "outputs": [
    {
     "data": {
      "text/plain": [
       "4.042513350244293"
      ]
     },
     "execution_count": 90,
     "metadata": {},
     "output_type": "execute_result"
    }
   ],
   "source": [
    "# calculation of multiplier for capacity with power generated for Nuclear in 2014 to fill the null values\n",
    "df_2016_Nuclear= df_2016.loc[df_2016[\"primary_fuel\"]=='Nuclear']\n",
    "df_2016_Nuclear['Variance']=df_2016_Nuclear['generation_gwh_2016']/df_2016_Nuclear['capacity_mw']\n",
    "Nuclear_multi= df_2016_Nuclear['Variance'].mean()    \n",
    "Nuclear_multi"
   ]
  },
  {
   "cell_type": "code",
   "execution_count": 91,
   "id": "214463b1",
   "metadata": {},
   "outputs": [],
   "source": [
    "df_2016_null=df.loc[df['generation_gwh_2016'].isnull()]\n",
    "for i in df_2016_null['primary_fuel']:\n",
    "    if (i=='Gas'):\n",
    "        df['generation_gwh_2016']= df['capacity_mw']*gas_multi\n",
    "    elif (i=='Coal'):\n",
    "        df['generation_gwh_2016']= df['capacity_mw']*coal_multi\n",
    "    elif (i=='Hydro'):\n",
    "        df['generation_gwh_2016']= df['capacity_mw']*Hydro_multi\n",
    "    elif (i=='Oil'):\n",
    "        df['generation_gwh_2016']= df['capacity_mw']*Oil_multi\n",
    "    elif (i=='Nuclear'):\n",
    "        df['generation_gwh_2016']= df['capacity_mw']*Nuclear_multi"
   ]
  },
  {
   "cell_type": "markdown",
   "id": "0de1fc3d",
   "metadata": {},
   "source": [
    "#### generation_gwh_2017"
   ]
  },
  {
   "cell_type": "code",
   "execution_count": 92,
   "id": "c2d3a30e",
   "metadata": {},
   "outputs": [
    {
     "data": {
      "text/plain": [
       "array(['Gas', 'Coal', 'Hydro', 'Oil', 'Nuclear'], dtype=object)"
      ]
     },
     "execution_count": 92,
     "metadata": {},
     "output_type": "execute_result"
    }
   ],
   "source": [
    "df_2017=df.loc[df['generation_gwh_2017'].notnull()]\n",
    "df_2017[\"primary_fuel\"].unique() "
   ]
  },
  {
   "cell_type": "code",
   "execution_count": 93,
   "id": "ec66c9df",
   "metadata": {},
   "outputs": [
    {
     "data": {
      "text/plain": [
       "2.493283798376367"
      ]
     },
     "execution_count": 93,
     "metadata": {},
     "output_type": "execute_result"
    }
   ],
   "source": [
    "# calculation of multiplier for capacity with power generated for gas in 2014 to fill the null values\n",
    "df_2017_gas= df_2017.loc[df_2017[\"primary_fuel\"]=='Gas']\n",
    "df_2017_gas['Variance']=df_2017_gas['generation_gwh_2017']/df_2017_gas['capacity_mw']\n",
    "gas_multi= df_2017_gas['Variance'].mean()    \n",
    "gas_multi"
   ]
  },
  {
   "cell_type": "code",
   "execution_count": 94,
   "id": "d16dec8f",
   "metadata": {},
   "outputs": [
    {
     "data": {
      "text/plain": [
       "4.096971744263869"
      ]
     },
     "execution_count": 94,
     "metadata": {},
     "output_type": "execute_result"
    }
   ],
   "source": [
    "# calculation of multiplier for capacity with power generated for Coal in 2014 to fill the null values\n",
    "df_2017_coal= df_2017.loc[df_2017[\"primary_fuel\"]=='Coal']\n",
    "df_2017_coal['Variance']=df_2017_coal['generation_gwh_2017']/df_2017_coal['capacity_mw']\n",
    "coal_multi= df_2017_coal['Variance'].mean()    \n",
    "coal_multi"
   ]
  },
  {
   "cell_type": "code",
   "execution_count": 95,
   "id": "30681ae5",
   "metadata": {},
   "outputs": [
    {
     "data": {
      "text/plain": [
       "2.8267398869518474"
      ]
     },
     "execution_count": 95,
     "metadata": {},
     "output_type": "execute_result"
    }
   ],
   "source": [
    "# calculation of multiplier for capacity with power generated for Hydro in 2014 to fill the null values\n",
    "df_2017_Hydro= df_2017.loc[df_2017[\"primary_fuel\"]=='Hydro']\n",
    "df_2017_Hydro['Variance']=df_2017_Hydro['generation_gwh_2017']/df_2017_Hydro['capacity_mw']\n",
    "Hydro_multi= df_2017_Hydro['Variance'].mean()    \n",
    "Hydro_multi"
   ]
  },
  {
   "cell_type": "code",
   "execution_count": 96,
   "id": "21895e42",
   "metadata": {},
   "outputs": [
    {
     "data": {
      "text/plain": [
       "0.0021246429656495776"
      ]
     },
     "execution_count": 96,
     "metadata": {},
     "output_type": "execute_result"
    }
   ],
   "source": [
    "# calculation of multiplier for capacity with power generated for Oil in 2014 to fill the null values\n",
    "df_2017_Oil= df_2017.loc[df_2017[\"primary_fuel\"]=='Oil']\n",
    "df_2017_Oil['Variance']=df_2017_Oil['generation_gwh_2017']/df_2017_Oil['capacity_mw']\n",
    "Oil_multi= df_2017_Oil['Variance'].mean()    \n",
    "Oil_multi"
   ]
  },
  {
   "cell_type": "code",
   "execution_count": 97,
   "id": "d7380fbc",
   "metadata": {},
   "outputs": [
    {
     "data": {
      "text/plain": [
       "4.60463106511544"
      ]
     },
     "execution_count": 97,
     "metadata": {},
     "output_type": "execute_result"
    }
   ],
   "source": [
    "# calculation of multiplier for capacity with power generated for Nuclear in 2014 to fill the null values\n",
    "df_2017_Nuclear= df_2017.loc[df_2017[\"primary_fuel\"]=='Nuclear']\n",
    "df_2017_Nuclear['Variance']=df_2017_Nuclear['generation_gwh_2017']/df_2017_Nuclear['capacity_mw']\n",
    "Nuclear_multi= df_2017_Nuclear['Variance'].mean()    \n",
    "Nuclear_multi"
   ]
  },
  {
   "cell_type": "code",
   "execution_count": 98,
   "id": "434fe353",
   "metadata": {},
   "outputs": [],
   "source": [
    "df_2017_null=df.loc[df['generation_gwh_2017'].isnull()]\n",
    "for i in df_2017_null['primary_fuel']:\n",
    "    if (i=='Gas'):\n",
    "        df['generation_gwh_2017']= df['capacity_mw']*gas_multi\n",
    "    elif (i=='Coal'):\n",
    "        df['generation_gwh_2017']= df['capacity_mw']*coal_multi\n",
    "    elif (i=='Hydro'):\n",
    "        df['generation_gwh_2017']= df['capacity_mw']*Hydro_multi\n",
    "    elif (i=='Oil'):\n",
    "        df['generation_gwh_2017']= df['capacity_mw']*Oil_multi\n",
    "    elif (i=='Nuclear'):\n",
    "        df['generation_gwh_2017']= df['capacity_mw']*Nuclear_multi"
   ]
  },
  {
   "cell_type": "markdown",
   "id": "23703eee",
   "metadata": {},
   "source": [
    "#### generation_gwh_2018"
   ]
  },
  {
   "cell_type": "code",
   "execution_count": 99,
   "id": "9116f3d3",
   "metadata": {},
   "outputs": [
    {
     "data": {
      "text/plain": [
       "array(['Gas', 'Coal', 'Hydro', 'Oil', 'Nuclear'], dtype=object)"
      ]
     },
     "execution_count": 99,
     "metadata": {},
     "output_type": "execute_result"
    }
   ],
   "source": [
    "df_2018=df.loc[df['generation_gwh_2018'].notnull()]\n",
    "df_2018[\"primary_fuel\"].unique() "
   ]
  },
  {
   "cell_type": "code",
   "execution_count": 100,
   "id": "62390ba5",
   "metadata": {},
   "outputs": [
    {
     "data": {
      "text/plain": [
       "2.4172433593020237"
      ]
     },
     "execution_count": 100,
     "metadata": {},
     "output_type": "execute_result"
    }
   ],
   "source": [
    "# calculation of multiplier for capacity with power generated for gas in 2014 to fill the null values\n",
    "df_2018_gas= df_2018.loc[df_2018[\"primary_fuel\"]=='Gas']\n",
    "df_2018_gas['Variance']=df_2018_gas['generation_gwh_2018']/df_2018_gas['capacity_mw']\n",
    "gas_multi= df_2018_gas['Variance'].mean()    \n",
    "gas_multi"
   ]
  },
  {
   "cell_type": "code",
   "execution_count": 101,
   "id": "aeb54777",
   "metadata": {},
   "outputs": [
    {
     "data": {
      "text/plain": [
       "4.159637416359294"
      ]
     },
     "execution_count": 101,
     "metadata": {},
     "output_type": "execute_result"
    }
   ],
   "source": [
    "# calculation of multiplier for capacity with power generated for Coal in 2014 to fill the null values\n",
    "df_2018_coal= df_2018.loc[df_2018[\"primary_fuel\"]=='Coal']\n",
    "df_2018_coal['Variance']=df_2018_coal['generation_gwh_2018']/df_2018_coal['capacity_mw']\n",
    "coal_multi= df_2018_coal['Variance'].mean()    \n",
    "coal_multi"
   ]
  },
  {
   "cell_type": "code",
   "execution_count": 102,
   "id": "d0923e4d",
   "metadata": {},
   "outputs": [
    {
     "data": {
      "text/plain": [
       "3.145218843813984"
      ]
     },
     "execution_count": 102,
     "metadata": {},
     "output_type": "execute_result"
    }
   ],
   "source": [
    "# calculation of multiplier for capacity with power generated for Hydro in 2014 to fill the null values\n",
    "df_2018_Hydro= df_2018.loc[df_2018[\"primary_fuel\"]=='Hydro']\n",
    "df_2018_Hydro['Variance']=df_2018_Hydro['generation_gwh_2018']/df_2018_Hydro['capacity_mw']\n",
    "Hydro_multi= df_2018_Hydro['Variance'].mean()    \n",
    "Hydro_multi"
   ]
  },
  {
   "cell_type": "code",
   "execution_count": 103,
   "id": "91dcc954",
   "metadata": {},
   "outputs": [
    {
     "data": {
      "text/plain": [
       "0.003225015151515152"
      ]
     },
     "execution_count": 103,
     "metadata": {},
     "output_type": "execute_result"
    }
   ],
   "source": [
    "# calculation of multiplier for capacity with power generated for Oil in 2014 to fill the null values\n",
    "df_2018_Oil= df_2018.loc[df_2018[\"primary_fuel\"]=='Oil']\n",
    "df_2018_Oil['Variance']=df_2018_Oil['generation_gwh_2018']/df_2018_Oil['capacity_mw']\n",
    "Oil_multi= df_2018_Oil['Variance'].mean()    \n",
    "Oil_multi"
   ]
  },
  {
   "cell_type": "code",
   "execution_count": 104,
   "id": "fbedec13",
   "metadata": {},
   "outputs": [
    {
     "data": {
      "text/plain": [
       "4.430782856541606"
      ]
     },
     "execution_count": 104,
     "metadata": {},
     "output_type": "execute_result"
    }
   ],
   "source": [
    "# calculation of multiplier for capacity with power generated for Nuclear in 2014 to fill the null values\n",
    "df_2018_Nuclear= df_2018.loc[df_2018[\"primary_fuel\"]=='Nuclear']\n",
    "df_2018_Nuclear['Variance']=df_2018_Nuclear['generation_gwh_2018']/df_2018_Nuclear['capacity_mw']\n",
    "Nuclear_multi= df_2018_Nuclear['Variance'].mean()    \n",
    "Nuclear_multi"
   ]
  },
  {
   "cell_type": "code",
   "execution_count": 105,
   "id": "b2e28557",
   "metadata": {},
   "outputs": [],
   "source": [
    "df_2018_null=df.loc[df['generation_gwh_2018'].isnull()]\n",
    "for i in df_2018_null['primary_fuel']:\n",
    "    if (i=='Gas'):\n",
    "        df['generation_gwh_2018']= df['capacity_mw']*gas_multi\n",
    "    elif (i=='Coal'):\n",
    "        df['generation_gwh_2018']= df['capacity_mw']*coal_multi\n",
    "    elif (i=='Hydro'):\n",
    "        df['generation_gwh_2018']= df['capacity_mw']*Hydro_multi\n",
    "    elif (i=='Oil'):\n",
    "        df['generation_gwh_2018']= df['capacity_mw']*Oil_multi\n",
    "    elif (i=='Nuclear'):\n",
    "        df['generation_gwh_2018']= df['capacity_mw']*Nuclear_multi"
   ]
  },
  {
   "cell_type": "markdown",
   "id": "88e39971",
   "metadata": {},
   "source": [
    "# Lets check the null value count again"
   ]
  },
  {
   "cell_type": "code",
   "execution_count": 106,
   "id": "eda77044",
   "metadata": {},
   "outputs": [
    {
     "name": "stdout",
     "output_type": "stream",
     "text": [
      "<class 'pandas.core.frame.DataFrame'>\n",
      "RangeIndex: 907 entries, 0 to 906\n",
      "Data columns (total 13 columns):\n",
      " #   Column               Non-Null Count  Dtype  \n",
      "---  ------               --------------  -----  \n",
      " 0   country_long         907 non-null    object \n",
      " 1   name                 907 non-null    object \n",
      " 2   capacity_mw          907 non-null    float64\n",
      " 3   latitude             861 non-null    float64\n",
      " 4   longitude            861 non-null    float64\n",
      " 5   primary_fuel         907 non-null    object \n",
      " 6   other_fuel1          907 non-null    object \n",
      " 7   geolocation_source   907 non-null    object \n",
      " 8   generation_gwh_2014  907 non-null    float64\n",
      " 9   generation_gwh_2015  907 non-null    float64\n",
      " 10  generation_gwh_2016  907 non-null    float64\n",
      " 11  generation_gwh_2017  907 non-null    float64\n",
      " 12  generation_gwh_2018  907 non-null    float64\n",
      "dtypes: float64(8), object(5)\n",
      "memory usage: 92.2+ KB\n"
     ]
    }
   ],
   "source": [
    "df.info()"
   ]
  },
  {
   "cell_type": "markdown",
   "id": "90f14ad1",
   "metadata": {},
   "source": [
    "Observation- Now data is removed of most null values but I can see Latitude and longitude still have null values"
   ]
  },
  {
   "cell_type": "markdown",
   "id": "a538ed94",
   "metadata": {},
   "source": [
    "# Lets check the COuntry column"
   ]
  },
  {
   "cell_type": "code",
   "execution_count": 107,
   "id": "5a04c75e",
   "metadata": {},
   "outputs": [
    {
     "data": {
      "text/plain": [
       "array(['India'], dtype=object)"
      ]
     },
     "execution_count": 107,
     "metadata": {},
     "output_type": "execute_result"
    }
   ],
   "source": [
    "df['country_long'].unique()"
   ]
  },
  {
   "cell_type": "markdown",
   "id": "d3c9195d",
   "metadata": {},
   "source": [
    "Observation- Country long has only India as county so no varity of data is present. We can drop this as it will not be required for model building"
   ]
  },
  {
   "cell_type": "code",
   "execution_count": 108,
   "id": "4f00b738",
   "metadata": {},
   "outputs": [],
   "source": [
    "df.drop([\"country_long\"],axis=1,inplace=True)"
   ]
  },
  {
   "cell_type": "code",
   "execution_count": 109,
   "id": "0f306008",
   "metadata": {},
   "outputs": [],
   "source": [
    "df.drop([\"name\"],axis=1,inplace=True)"
   ]
  },
  {
   "cell_type": "code",
   "execution_count": 110,
   "id": "caf6ceec",
   "metadata": {},
   "outputs": [
    {
     "data": {
      "text/plain": [
       "(907, 11)"
      ]
     },
     "execution_count": 110,
     "metadata": {},
     "output_type": "execute_result"
    }
   ],
   "source": [
    "df.shape"
   ]
  },
  {
   "cell_type": "code",
   "execution_count": 111,
   "id": "31add15c",
   "metadata": {},
   "outputs": [
    {
     "data": {
      "text/html": [
       "<div>\n",
       "<style scoped>\n",
       "    .dataframe tbody tr th:only-of-type {\n",
       "        vertical-align: middle;\n",
       "    }\n",
       "\n",
       "    .dataframe tbody tr th {\n",
       "        vertical-align: top;\n",
       "    }\n",
       "\n",
       "    .dataframe thead th {\n",
       "        text-align: right;\n",
       "    }\n",
       "</style>\n",
       "<table border=\"1\" class=\"dataframe\">\n",
       "  <thead>\n",
       "    <tr style=\"text-align: right;\">\n",
       "      <th></th>\n",
       "      <th>capacity_mw</th>\n",
       "      <th>latitude</th>\n",
       "      <th>longitude</th>\n",
       "      <th>primary_fuel</th>\n",
       "      <th>other_fuel1</th>\n",
       "      <th>geolocation_source</th>\n",
       "      <th>generation_gwh_2014</th>\n",
       "      <th>generation_gwh_2015</th>\n",
       "      <th>generation_gwh_2016</th>\n",
       "      <th>generation_gwh_2017</th>\n",
       "      <th>generation_gwh_2018</th>\n",
       "    </tr>\n",
       "  </thead>\n",
       "  <tbody>\n",
       "    <tr>\n",
       "      <th>897</th>\n",
       "      <td>34.65</td>\n",
       "      <td>8.8709</td>\n",
       "      <td>77.4466</td>\n",
       "      <td>Wind</td>\n",
       "      <td>No secondary fuel</td>\n",
       "      <td>WRI</td>\n",
       "      <td>149.684067</td>\n",
       "      <td>140.073088</td>\n",
       "      <td>140.073088</td>\n",
       "      <td>141.960071</td>\n",
       "      <td>144.131436</td>\n",
       "    </tr>\n",
       "    <tr>\n",
       "      <th>898</th>\n",
       "      <td>42.00</td>\n",
       "      <td>27.1715</td>\n",
       "      <td>70.6877</td>\n",
       "      <td>Wind</td>\n",
       "      <td>No secondary fuel</td>\n",
       "      <td>WRI</td>\n",
       "      <td>181.435233</td>\n",
       "      <td>169.785561</td>\n",
       "      <td>169.785561</td>\n",
       "      <td>172.072813</td>\n",
       "      <td>174.704771</td>\n",
       "    </tr>\n",
       "    <tr>\n",
       "      <th>899</th>\n",
       "      <td>600.00</td>\n",
       "      <td>30.1081</td>\n",
       "      <td>77.3257</td>\n",
       "      <td>Coal</td>\n",
       "      <td>Oil</td>\n",
       "      <td>WRI</td>\n",
       "      <td>2591.931894</td>\n",
       "      <td>2425.508010</td>\n",
       "      <td>2425.508010</td>\n",
       "      <td>2458.183047</td>\n",
       "      <td>2495.782450</td>\n",
       "    </tr>\n",
       "    <tr>\n",
       "      <th>900</th>\n",
       "      <td>16.00</td>\n",
       "      <td>17.1653</td>\n",
       "      <td>74.2456</td>\n",
       "      <td>Biomass</td>\n",
       "      <td>No secondary fuel</td>\n",
       "      <td>WRI</td>\n",
       "      <td>69.118184</td>\n",
       "      <td>64.680214</td>\n",
       "      <td>64.680214</td>\n",
       "      <td>65.551548</td>\n",
       "      <td>66.554199</td>\n",
       "    </tr>\n",
       "    <tr>\n",
       "      <th>901</th>\n",
       "      <td>106.60</td>\n",
       "      <td>13.1156</td>\n",
       "      <td>77.5838</td>\n",
       "      <td>Oil</td>\n",
       "      <td>No secondary fuel</td>\n",
       "      <td>WRI</td>\n",
       "      <td>460.499900</td>\n",
       "      <td>430.931923</td>\n",
       "      <td>430.931923</td>\n",
       "      <td>436.737188</td>\n",
       "      <td>443.417349</td>\n",
       "    </tr>\n",
       "    <tr>\n",
       "      <th>902</th>\n",
       "      <td>1600.00</td>\n",
       "      <td>16.2949</td>\n",
       "      <td>77.3568</td>\n",
       "      <td>Coal</td>\n",
       "      <td>Oil</td>\n",
       "      <td>WRI</td>\n",
       "      <td>6911.818383</td>\n",
       "      <td>6468.021360</td>\n",
       "      <td>6468.021360</td>\n",
       "      <td>6555.154791</td>\n",
       "      <td>6655.419866</td>\n",
       "    </tr>\n",
       "    <tr>\n",
       "      <th>903</th>\n",
       "      <td>3.00</td>\n",
       "      <td>12.8932</td>\n",
       "      <td>78.1654</td>\n",
       "      <td>Solar</td>\n",
       "      <td>No secondary fuel</td>\n",
       "      <td>Industry About</td>\n",
       "      <td>12.959659</td>\n",
       "      <td>12.127540</td>\n",
       "      <td>12.127540</td>\n",
       "      <td>12.290915</td>\n",
       "      <td>12.478912</td>\n",
       "    </tr>\n",
       "    <tr>\n",
       "      <th>904</th>\n",
       "      <td>25.50</td>\n",
       "      <td>15.2758</td>\n",
       "      <td>75.5811</td>\n",
       "      <td>Wind</td>\n",
       "      <td>No secondary fuel</td>\n",
       "      <td>WRI</td>\n",
       "      <td>110.157105</td>\n",
       "      <td>103.084090</td>\n",
       "      <td>103.084090</td>\n",
       "      <td>104.472779</td>\n",
       "      <td>106.070754</td>\n",
       "    </tr>\n",
       "    <tr>\n",
       "      <th>905</th>\n",
       "      <td>80.00</td>\n",
       "      <td>24.3500</td>\n",
       "      <td>73.7477</td>\n",
       "      <td>Coal</td>\n",
       "      <td>No secondary fuel</td>\n",
       "      <td>WRI</td>\n",
       "      <td>345.590919</td>\n",
       "      <td>323.401068</td>\n",
       "      <td>323.401068</td>\n",
       "      <td>327.757740</td>\n",
       "      <td>332.770993</td>\n",
       "    </tr>\n",
       "    <tr>\n",
       "      <th>906</th>\n",
       "      <td>16.50</td>\n",
       "      <td>9.9344</td>\n",
       "      <td>77.4768</td>\n",
       "      <td>Wind</td>\n",
       "      <td>No secondary fuel</td>\n",
       "      <td>WRI</td>\n",
       "      <td>71.278127</td>\n",
       "      <td>66.701470</td>\n",
       "      <td>66.701470</td>\n",
       "      <td>67.600034</td>\n",
       "      <td>68.634017</td>\n",
       "    </tr>\n",
       "  </tbody>\n",
       "</table>\n",
       "</div>"
      ],
      "text/plain": [
       "     capacity_mw  latitude  longitude primary_fuel        other_fuel1  \\\n",
       "897        34.65    8.8709    77.4466         Wind  No secondary fuel   \n",
       "898        42.00   27.1715    70.6877         Wind  No secondary fuel   \n",
       "899       600.00   30.1081    77.3257         Coal                Oil   \n",
       "900        16.00   17.1653    74.2456      Biomass  No secondary fuel   \n",
       "901       106.60   13.1156    77.5838          Oil  No secondary fuel   \n",
       "902      1600.00   16.2949    77.3568         Coal                Oil   \n",
       "903         3.00   12.8932    78.1654        Solar  No secondary fuel   \n",
       "904        25.50   15.2758    75.5811         Wind  No secondary fuel   \n",
       "905        80.00   24.3500    73.7477         Coal  No secondary fuel   \n",
       "906        16.50    9.9344    77.4768         Wind  No secondary fuel   \n",
       "\n",
       "    geolocation_source  generation_gwh_2014  generation_gwh_2015  \\\n",
       "897                WRI           149.684067           140.073088   \n",
       "898                WRI           181.435233           169.785561   \n",
       "899                WRI          2591.931894          2425.508010   \n",
       "900                WRI            69.118184            64.680214   \n",
       "901                WRI           460.499900           430.931923   \n",
       "902                WRI          6911.818383          6468.021360   \n",
       "903     Industry About            12.959659            12.127540   \n",
       "904                WRI           110.157105           103.084090   \n",
       "905                WRI           345.590919           323.401068   \n",
       "906                WRI            71.278127            66.701470   \n",
       "\n",
       "     generation_gwh_2016  generation_gwh_2017  generation_gwh_2018  \n",
       "897           140.073088           141.960071           144.131436  \n",
       "898           169.785561           172.072813           174.704771  \n",
       "899          2425.508010          2458.183047          2495.782450  \n",
       "900            64.680214            65.551548            66.554199  \n",
       "901           430.931923           436.737188           443.417349  \n",
       "902          6468.021360          6555.154791          6655.419866  \n",
       "903            12.127540            12.290915            12.478912  \n",
       "904           103.084090           104.472779           106.070754  \n",
       "905           323.401068           327.757740           332.770993  \n",
       "906            66.701470            67.600034            68.634017  "
      ]
     },
     "execution_count": 111,
     "metadata": {},
     "output_type": "execute_result"
    }
   ],
   "source": [
    "df.tail(10)"
   ]
  },
  {
   "cell_type": "markdown",
   "id": "8b8c137a",
   "metadata": {},
   "source": [
    "# Lets Visualize "
   ]
  },
  {
   "cell_type": "code",
   "execution_count": 112,
   "id": "239fad74",
   "metadata": {},
   "outputs": [],
   "source": [
    "y= df['capacity_mw']\n",
    "x= df.drop(['capacity_mw'], axis =1)"
   ]
  },
  {
   "cell_type": "code",
   "execution_count": 113,
   "id": "9bf16b2a",
   "metadata": {},
   "outputs": [
    {
     "data": {
      "image/png": "[encoded data removed]",
      "text/plain": [
       "<Figure size 2160x2880 with 11 Axes>"
      ]
     },
     "metadata": {},
     "output_type": "display_data"
    }
   ],
   "source": [
    "plt.figure(figsize =(30,40),facecolor ='white')\n",
    "plotnumber = 1\n",
    "for column in df:\n",
    "    if plotnumber<=24:\n",
    "        ax =plt.subplot(8,3,plotnumber)\n",
    "        plt.scatter(df[column],y)\n",
    "        plt.xlabel(column,fontsize=20)\n",
    "        plt.ylabel('Capacity',fontsize=20)\n",
    "    plotnumber +=1\n",
    "plt.show()"
   ]
  },
  {
   "cell_type": "markdown",
   "id": "f5291c9d",
   "metadata": {},
   "source": [
    "Observation- We can see most capacity is used for Coal plant followed by Hydro.\n",
    "\n",
    "With the increase in capacity of plant the generation of power is also increasing"
   ]
  },
  {
   "cell_type": "code",
   "execution_count": 114,
   "id": "91037644",
   "metadata": {},
   "outputs": [
    {
     "data": {
      "image/png": "[encoded data removed]",
      "text/plain": [
       "<Figure size 432x288 with 1 Axes>"
      ]
     },
     "metadata": {
      "needs_background": "light"
     },
     "output_type": "display_data"
    }
   ],
   "source": [
    "sns.countplot(x='geolocation_source',data=df)\n",
    "plt.show()"
   ]
  },
  {
   "cell_type": "markdown",
   "id": "8a2ca708",
   "metadata": {},
   "source": [
    "Observation- WRI has most geolocation source and National Renewable Energy Laboratory has least"
   ]
  },
  {
   "cell_type": "code",
   "execution_count": 115,
   "id": "e90daa2a",
   "metadata": {},
   "outputs": [
    {
     "data": {
      "image/png": "[encoded data removed]",
      "text/plain": [
       "<Figure size 432x288 with 1 Axes>"
      ]
     },
     "metadata": {
      "needs_background": "light"
     },
     "output_type": "display_data"
    }
   ],
   "source": [
    "sns.countplot(x='other_fuel1',data=df)\n",
    "plt.show()"
   ]
  },
  {
   "cell_type": "markdown",
   "id": "453b132f",
   "metadata": {},
   "source": [
    "Observation- Most of the plant has no other fuel types and few of them has Oil as other fuel for their plant"
   ]
  },
  {
   "cell_type": "code",
   "execution_count": 116,
   "id": "2b50a262",
   "metadata": {},
   "outputs": [],
   "source": [
    "df.drop([\"latitude\",\"longitude\"],axis=1,inplace=True)"
   ]
  },
  {
   "cell_type": "markdown",
   "id": "f3ca4534",
   "metadata": {},
   "source": [
    "# Lets encode the dataset"
   ]
  },
  {
   "cell_type": "markdown",
   "id": "00191df8",
   "metadata": {},
   "source": [
    "### Using Label encoder for categorical features"
   ]
  },
  {
   "cell_type": "code",
   "execution_count": 117,
   "id": "6a7fae0b",
   "metadata": {},
   "outputs": [],
   "source": [
    "from sklearn.preprocessing import LabelEncoder\n",
    "\n",
    "label = LabelEncoder()\n",
    "df['primary_fuel'] = label.fit_transform(df['primary_fuel'])\n",
    "df['other_fuel1'] = label.fit_transform(df['other_fuel1'])\n",
    "df['geolocation_source'] = label.fit_transform(df['geolocation_source'])"
   ]
  },
  {
   "cell_type": "code",
   "execution_count": 118,
   "id": "9dea45ea",
   "metadata": {},
   "outputs": [
    {
     "name": "stdout",
     "output_type": "stream",
     "text": [
      "<class 'pandas.core.frame.DataFrame'>\n",
      "RangeIndex: 907 entries, 0 to 906\n",
      "Data columns (total 9 columns):\n",
      " #   Column               Non-Null Count  Dtype  \n",
      "---  ------               --------------  -----  \n",
      " 0   capacity_mw          907 non-null    float64\n",
      " 1   primary_fuel         907 non-null    int32  \n",
      " 2   other_fuel1          907 non-null    int32  \n",
      " 3   geolocation_source   907 non-null    int32  \n",
      " 4   generation_gwh_2014  907 non-null    float64\n",
      " 5   generation_gwh_2015  907 non-null    float64\n",
      " 6   generation_gwh_2016  907 non-null    float64\n",
      " 7   generation_gwh_2017  907 non-null    float64\n",
      " 8   generation_gwh_2018  907 non-null    float64\n",
      "dtypes: float64(6), int32(3)\n",
      "memory usage: 53.3 KB\n"
     ]
    }
   ],
   "source": [
    "df.info()"
   ]
  },
  {
   "cell_type": "markdown",
   "id": "e4679dc3",
   "metadata": {},
   "source": [
    "# Checking for Correlation"
   ]
  },
  {
   "cell_type": "code",
   "execution_count": 119,
   "id": "b521597a",
   "metadata": {},
   "outputs": [
    {
     "data": {
      "text/plain": [
       "<AxesSubplot:>"
      ]
     },
     "execution_count": 119,
     "metadata": {},
     "output_type": "execute_result"
    },
    {
     "data": {
      "image/png": "[encoded data removed]",
      "text/plain": [
       "<Figure size 1440x1080 with 2 Axes>"
      ]
     },
     "metadata": {
      "needs_background": "light"
     },
     "output_type": "display_data"
    }
   ],
   "source": [
    "plt.figure(figsize=(20,15))\n",
    "sns.heatmap(df.corr(),annot = True, linewidths = 0.1,linecolor=\"black\",fmt= \"0.2f\")"
   ]
  },
  {
   "cell_type": "markdown",
   "id": "d7dd1eaa",
   "metadata": {},
   "source": [
    "# Checking skewness"
   ]
  },
  {
   "cell_type": "code",
   "execution_count": 120,
   "id": "eed78b91",
   "metadata": {},
   "outputs": [
    {
     "data": {
      "text/plain": [
       "capacity_mw            3.123576\n",
       "primary_fuel           0.472251\n",
       "other_fuel1            1.109169\n",
       "geolocation_source    -2.159841\n",
       "generation_gwh_2014    3.123576\n",
       "generation_gwh_2015    3.123576\n",
       "generation_gwh_2016    3.123576\n",
       "generation_gwh_2017    3.123576\n",
       "generation_gwh_2018    3.123576\n",
       "dtype: float64"
      ]
     },
     "execution_count": 120,
     "metadata": {},
     "output_type": "execute_result"
    }
   ],
   "source": [
    "df.skew()"
   ]
  },
  {
   "cell_type": "markdown",
   "id": "897cfefe",
   "metadata": {},
   "source": [
    "Observation-- capacity_mw,other_fuel1,generation_gwh_2014,generation_gwh_2015,generation_gwh_2016,generation_gwh_2017,generation_gwh_2018 are positively skewed"
   ]
  },
  {
   "cell_type": "markdown",
   "id": "ee098e56",
   "metadata": {},
   "source": [
    "### Using numpy.log1p() to remove the skewness nearest to 0.55\n",
    "This mathematical function helps user to calculate natural logarithmic value of x+1 where x belongs to all the input array elements.\n",
    "\n",
    "log1p is reverse of exp(x) – 1"
   ]
  },
  {
   "cell_type": "code",
   "execution_count": 121,
   "id": "061d55d7",
   "metadata": {},
   "outputs": [],
   "source": [
    "cont_features=df[[\"generation_gwh_2014\",\"generation_gwh_2015\",\"generation_gwh_2016\",\"generation_gwh_2017\",\"generation_gwh_2018\",\"capacity_mw\"]]"
   ]
  },
  {
   "cell_type": "code",
   "execution_count": 122,
   "id": "383c6dc0",
   "metadata": {},
   "outputs": [],
   "source": [
    "for col in cont_features:\n",
    "    if df.skew().loc[col]>0.55:\n",
    "        df[col] = np.log1p(df[col])"
   ]
  },
  {
   "cell_type": "code",
   "execution_count": 123,
   "id": "efd3951a",
   "metadata": {},
   "outputs": [
    {
     "data": {
      "text/plain": [
       "capacity_mw            0.135454\n",
       "primary_fuel           0.472251\n",
       "other_fuel1            1.109169\n",
       "geolocation_source    -2.159841\n",
       "generation_gwh_2014    0.036894\n",
       "generation_gwh_2015    0.039907\n",
       "generation_gwh_2016    0.039907\n",
       "generation_gwh_2017    0.039292\n",
       "generation_gwh_2018    0.038598\n",
       "dtype: float64"
      ]
     },
     "execution_count": 123,
     "metadata": {},
     "output_type": "execute_result"
    }
   ],
   "source": [
    "df.skew()"
   ]
  },
  {
   "cell_type": "markdown",
   "id": "8018accf",
   "metadata": {},
   "source": [
    "Skewness has been rduced"
   ]
  },
  {
   "cell_type": "markdown",
   "id": "bdb393b8",
   "metadata": {},
   "source": [
    "# Checking Outliers"
   ]
  },
  {
   "cell_type": "code",
   "execution_count": 128,
   "id": "38628384",
   "metadata": {},
   "outputs": [
    {
     "data": {
      "image/png": "[encoded data removed]",
      "text/plain": [
       "<Figure size 1440x576 with 1 Axes>"
      ]
     },
     "metadata": {
      "needs_background": "light"
     },
     "output_type": "display_data"
    }
   ],
   "source": [
    "df.boxplot(figsize=[20,8])\n",
    "plt.subplots_adjust(bottom=0.25)\n",
    "plt.show()"
   ]
  },
  {
   "cell_type": "markdown",
   "id": "068a83cb",
   "metadata": {},
   "source": [
    "Observation- No Outliers present"
   ]
  },
  {
   "cell_type": "markdown",
   "id": "0ab2d8a6",
   "metadata": {},
   "source": [
    "## Using Z Score method to remove outliers"
   ]
  },
  {
   "cell_type": "code",
   "execution_count": 129,
   "id": "c831eb46",
   "metadata": {},
   "outputs": [
    {
     "data": {
      "text/plain": [
       "(907, 9)"
      ]
     },
     "execution_count": 129,
     "metadata": {},
     "output_type": "execute_result"
    }
   ],
   "source": [
    "df.shape"
   ]
  },
  {
   "cell_type": "code",
   "execution_count": 130,
   "id": "2f8b7e7c",
   "metadata": {},
   "outputs": [
    {
     "data": {
      "text/plain": [
       "(array([811], dtype=int64), array([2], dtype=int64))"
      ]
     },
     "execution_count": 130,
     "metadata": {},
     "output_type": "execute_result"
    }
   ],
   "source": [
    "from scipy.stats import zscore\n",
    "import numpy as np\n",
    "z= np.abs(zscore(df))\n",
    "threshold =3 \n",
    "np.where(z>3)"
   ]
  },
  {
   "cell_type": "code",
   "execution_count": 131,
   "id": "29777449",
   "metadata": {},
   "outputs": [
    {
     "data": {
      "text/html": [
       "<div>\n",
       "<style scoped>\n",
       "    .dataframe tbody tr th:only-of-type {\n",
       "        vertical-align: middle;\n",
       "    }\n",
       "\n",
       "    .dataframe tbody tr th {\n",
       "        vertical-align: top;\n",
       "    }\n",
       "\n",
       "    .dataframe thead th {\n",
       "        text-align: right;\n",
       "    }\n",
       "</style>\n",
       "<table border=\"1\" class=\"dataframe\">\n",
       "  <thead>\n",
       "    <tr style=\"text-align: right;\">\n",
       "      <th></th>\n",
       "      <th>capacity_mw</th>\n",
       "      <th>primary_fuel</th>\n",
       "      <th>other_fuel1</th>\n",
       "      <th>geolocation_source</th>\n",
       "      <th>generation_gwh_2014</th>\n",
       "      <th>generation_gwh_2015</th>\n",
       "      <th>generation_gwh_2016</th>\n",
       "      <th>generation_gwh_2017</th>\n",
       "      <th>generation_gwh_2018</th>\n",
       "    </tr>\n",
       "  </thead>\n",
       "  <tbody>\n",
       "    <tr>\n",
       "      <th>0</th>\n",
       "      <td>1.252763</td>\n",
       "      <td>6</td>\n",
       "      <td>2</td>\n",
       "      <td>1</td>\n",
       "      <td>2.468075</td>\n",
       "      <td>2.407511</td>\n",
       "      <td>2.407511</td>\n",
       "      <td>2.419695</td>\n",
       "      <td>2.433534</td>\n",
       "    </tr>\n",
       "    <tr>\n",
       "      <th>1</th>\n",
       "      <td>4.595120</td>\n",
       "      <td>1</td>\n",
       "      <td>2</td>\n",
       "      <td>2</td>\n",
       "      <td>6.050556</td>\n",
       "      <td>5.984355</td>\n",
       "      <td>5.984355</td>\n",
       "      <td>5.997703</td>\n",
       "      <td>6.012846</td>\n",
       "    </tr>\n",
       "    <tr>\n",
       "      <th>2</th>\n",
       "      <td>3.693867</td>\n",
       "      <td>7</td>\n",
       "      <td>2</td>\n",
       "      <td>2</td>\n",
       "      <td>5.137794</td>\n",
       "      <td>5.071834</td>\n",
       "      <td>5.071834</td>\n",
       "      <td>5.085132</td>\n",
       "      <td>5.100219</td>\n",
       "    </tr>\n",
       "    <tr>\n",
       "      <th>3</th>\n",
       "      <td>4.912655</td>\n",
       "      <td>2</td>\n",
       "      <td>2</td>\n",
       "      <td>2</td>\n",
       "      <td>6.370217</td>\n",
       "      <td>6.303972</td>\n",
       "      <td>6.303972</td>\n",
       "      <td>6.317329</td>\n",
       "      <td>6.332482</td>\n",
       "    </tr>\n",
       "    <tr>\n",
       "      <th>4</th>\n",
       "      <td>7.496097</td>\n",
       "      <td>1</td>\n",
       "      <td>3</td>\n",
       "      <td>2</td>\n",
       "      <td>8.958900</td>\n",
       "      <td>8.892546</td>\n",
       "      <td>8.892546</td>\n",
       "      <td>8.905926</td>\n",
       "      <td>8.921103</td>\n",
       "    </tr>\n",
       "    <tr>\n",
       "      <th>...</th>\n",
       "      <td>...</td>\n",
       "      <td>...</td>\n",
       "      <td>...</td>\n",
       "      <td>...</td>\n",
       "      <td>...</td>\n",
       "      <td>...</td>\n",
       "      <td>...</td>\n",
       "      <td>...</td>\n",
       "      <td>...</td>\n",
       "    </tr>\n",
       "    <tr>\n",
       "      <th>902</th>\n",
       "      <td>7.378384</td>\n",
       "      <td>1</td>\n",
       "      <td>3</td>\n",
       "      <td>2</td>\n",
       "      <td>8.841133</td>\n",
       "      <td>8.774780</td>\n",
       "      <td>8.774780</td>\n",
       "      <td>8.788160</td>\n",
       "      <td>8.803337</td>\n",
       "    </tr>\n",
       "    <tr>\n",
       "      <th>903</th>\n",
       "      <td>1.386294</td>\n",
       "      <td>6</td>\n",
       "      <td>2</td>\n",
       "      <td>0</td>\n",
       "      <td>2.636172</td>\n",
       "      <td>2.574712</td>\n",
       "      <td>2.574712</td>\n",
       "      <td>2.587081</td>\n",
       "      <td>2.601126</td>\n",
       "    </tr>\n",
       "    <tr>\n",
       "      <th>904</th>\n",
       "      <td>3.277145</td>\n",
       "      <td>7</td>\n",
       "      <td>2</td>\n",
       "      <td>2</td>\n",
       "      <td>4.710945</td>\n",
       "      <td>4.645199</td>\n",
       "      <td>4.645199</td>\n",
       "      <td>4.658453</td>\n",
       "      <td>4.673490</td>\n",
       "    </tr>\n",
       "    <tr>\n",
       "      <th>905</th>\n",
       "      <td>4.394449</td>\n",
       "      <td>1</td>\n",
       "      <td>2</td>\n",
       "      <td>2</td>\n",
       "      <td>5.848145</td>\n",
       "      <td>5.781981</td>\n",
       "      <td>5.781981</td>\n",
       "      <td>5.795321</td>\n",
       "      <td>5.810455</td>\n",
       "    </tr>\n",
       "    <tr>\n",
       "      <th>906</th>\n",
       "      <td>2.862201</td>\n",
       "      <td>7</td>\n",
       "      <td>2</td>\n",
       "      <td>2</td>\n",
       "      <td>4.280522</td>\n",
       "      <td>4.215108</td>\n",
       "      <td>4.215108</td>\n",
       "      <td>4.228293</td>\n",
       "      <td>4.243253</td>\n",
       "    </tr>\n",
       "  </tbody>\n",
       "</table>\n",
       "<p>906 rows × 9 columns</p>\n",
       "</div>"
      ],
      "text/plain": [
       "     capacity_mw  primary_fuel  other_fuel1  geolocation_source  \\\n",
       "0       1.252763             6            2                   1   \n",
       "1       4.595120             1            2                   2   \n",
       "2       3.693867             7            2                   2   \n",
       "3       4.912655             2            2                   2   \n",
       "4       7.496097             1            3                   2   \n",
       "..           ...           ...          ...                 ...   \n",
       "902     7.378384             1            3                   2   \n",
       "903     1.386294             6            2                   0   \n",
       "904     3.277145             7            2                   2   \n",
       "905     4.394449             1            2                   2   \n",
       "906     2.862201             7            2                   2   \n",
       "\n",
       "     generation_gwh_2014  generation_gwh_2015  generation_gwh_2016  \\\n",
       "0               2.468075             2.407511             2.407511   \n",
       "1               6.050556             5.984355             5.984355   \n",
       "2               5.137794             5.071834             5.071834   \n",
       "3               6.370217             6.303972             6.303972   \n",
       "4               8.958900             8.892546             8.892546   \n",
       "..                   ...                  ...                  ...   \n",
       "902             8.841133             8.774780             8.774780   \n",
       "903             2.636172             2.574712             2.574712   \n",
       "904             4.710945             4.645199             4.645199   \n",
       "905             5.848145             5.781981             5.781981   \n",
       "906             4.280522             4.215108             4.215108   \n",
       "\n",
       "     generation_gwh_2017  generation_gwh_2018  \n",
       "0               2.419695             2.433534  \n",
       "1               5.997703             6.012846  \n",
       "2               5.085132             5.100219  \n",
       "3               6.317329             6.332482  \n",
       "4               8.905926             8.921103  \n",
       "..                   ...                  ...  \n",
       "902             8.788160             8.803337  \n",
       "903             2.587081             2.601126  \n",
       "904             4.658453             4.673490  \n",
       "905             5.795321             5.810455  \n",
       "906             4.228293             4.243253  \n",
       "\n",
       "[906 rows x 9 columns]"
      ]
     },
     "execution_count": 131,
     "metadata": {},
     "output_type": "execute_result"
    }
   ],
   "source": [
    "df_new_z = df[(z<3).all(axis=1)]\n",
    "df_new_z"
   ]
  },
  {
   "cell_type": "code",
   "execution_count": 132,
   "id": "68bb61ee",
   "metadata": {},
   "outputs": [
    {
     "data": {
      "text/plain": [
       "(906, 9)"
      ]
     },
     "execution_count": 132,
     "metadata": {},
     "output_type": "execute_result"
    }
   ],
   "source": [
    "df_new_z.shape"
   ]
  },
  {
   "cell_type": "markdown",
   "id": "43a811f8",
   "metadata": {},
   "source": [
    "# Percentage of Loss of data:"
   ]
  },
  {
   "cell_type": "code",
   "execution_count": 133,
   "id": "9abb9efa",
   "metadata": {},
   "outputs": [],
   "source": [
    "data_loss = ((907-906)/907)*100"
   ]
  },
  {
   "cell_type": "code",
   "execution_count": 134,
   "id": "1048fba7",
   "metadata": {},
   "outputs": [
    {
     "data": {
      "text/plain": [
       "0.11025358324145534"
      ]
     },
     "execution_count": 134,
     "metadata": {},
     "output_type": "execute_result"
    }
   ],
   "source": [
    "data_loss"
   ]
  },
  {
   "cell_type": "markdown",
   "id": "8475b2ec",
   "metadata": {},
   "source": [
    "around 0.1% of Data has been loss. "
   ]
  },
  {
   "cell_type": "markdown",
   "id": "084e6808",
   "metadata": {},
   "source": [
    "# Checking VIF"
   ]
  },
  {
   "cell_type": "code",
   "execution_count": 135,
   "id": "edfaf953",
   "metadata": {},
   "outputs": [],
   "source": [
    "names = list(df_new_z.drop(columns=[\"capacity_mw\"]))"
   ]
  },
  {
   "cell_type": "code",
   "execution_count": 136,
   "id": "023b90e0",
   "metadata": {},
   "outputs": [
    {
     "name": "stdout",
     "output_type": "stream",
     "text": [
      "R Square value of primary_fuel column is 0.8 keeping all other columns as independent features\n",
      "Variance Inflation Factor of primary_fuel column is 5.03 n\n",
      "R Square value of other_fuel1 column is 0.98 keeping all other columns as independent features\n",
      "Variance Inflation Factor of other_fuel1 column is 58.3 n\n",
      "R Square value of geolocation_source column is 0.92 keeping all other columns as independent features\n",
      "Variance Inflation Factor of geolocation_source column is 12.81 n\n",
      "R Square value of generation_gwh_2014 column is 1.0 keeping all other columns as independent features\n",
      "Variance Inflation Factor of generation_gwh_2014 column is inf n\n",
      "R Square value of generation_gwh_2015 column is 1.0 keeping all other columns as independent features\n",
      "Variance Inflation Factor of generation_gwh_2015 column is 25516145197566.55 n\n",
      "R Square value of generation_gwh_2016 column is 1.0 keeping all other columns as independent features\n",
      "Variance Inflation Factor of generation_gwh_2016 column is 450359962737049.6 n\n",
      "R Square value of generation_gwh_2017 column is 1.0 keeping all other columns as independent features\n",
      "Variance Inflation Factor of generation_gwh_2017 column is inf n\n",
      "R Square value of generation_gwh_2018 column is 1.0 keeping all other columns as independent features\n",
      "Variance Inflation Factor of generation_gwh_2018 column is inf n\n"
     ]
    }
   ],
   "source": [
    "for index in range(0, len(names)):\n",
    "            y = df_new_z.loc[:, df.columns == names[index]]\n",
    "            x = df_new_z.loc[:, df.columns != names[index]]\n",
    "            model = sm.OLS(y, x)                       #Fit ordinary least squares methodhttp://localhost:8888/notebooks/baseball%20predict.ipynb#\n",
    "            results = model.fit()\n",
    "            rsq = results.rsquared\n",
    "            vif = round(1 / (1 - rsq), 2)\n",
    "            print(\"R Square value of {} column is {} keeping all other columns as independent features\".format(\n",
    "              names [index], (round(rsq, 2))\n",
    "                    )\n",
    "            )\n",
    "            print(\"Variance Inflation Factor of {} column is {} n\".format(\n",
    "                 names[index], vif)\n",
    "          )\n"
   ]
  },
  {
   "cell_type": "markdown",
   "id": "c88b8ca2",
   "metadata": {},
   "source": [
    "# Model Building"
   ]
  },
  {
   "cell_type": "markdown",
   "id": "fe773055",
   "metadata": {},
   "source": [
    "## Predicting capacity_mw`"
   ]
  },
  {
   "cell_type": "code",
   "execution_count": 137,
   "id": "a0f25bb3",
   "metadata": {},
   "outputs": [],
   "source": [
    "from sklearn.linear_model import LinearRegression, Ridge\n",
    "from sklearn.ensemble import RandomForestRegressor, GradientBoostingRegressor\n",
    "from sklearn.neighbors import KNeighborsRegressor\n",
    "from sklearn.tree import DecisionTreeRegressor\n",
    "\n",
    "from sklearn.model_selection import train_test_split\n",
    "from sklearn.preprocessing import StandardScaler\n",
    "\n",
    "\n",
    "X = df_new_z.drop('capacity_mw', axis=1)\n",
    "y = df_new_z['capacity_mw']\n",
    "\n",
    "scaler = StandardScaler()\n",
    "X_scaled = scaler.fit_transform(X)\n",
    "\n",
    "X_train, X_test, y_train, y_test = train_test_split(X_scaled, y, test_size=0.3, random_state=0)"
   ]
  },
  {
   "cell_type": "markdown",
   "id": "23e6f6f7",
   "metadata": {},
   "source": [
    "### Linear Regression"
   ]
  },
  {
   "cell_type": "code",
   "execution_count": 138,
   "id": "783ad1ea",
   "metadata": {},
   "outputs": [
    {
     "name": "stdout",
     "output_type": "stream",
     "text": [
      "Train Score : 1.0000\n",
      "Test Score : 1.0000\n"
     ]
    }
   ],
   "source": [
    "model = LinearRegression()\n",
    "model.fit(X_train, y_train)\n",
    "print('Train Score : {:.4f}'.format(model.score(X_train, y_train)))\n",
    "print('Test Score : {:.4f}'.format(model.score(X_test, y_test)))"
   ]
  },
  {
   "cell_type": "markdown",
   "id": "d6463874",
   "metadata": {},
   "source": [
    " ### Ridge"
   ]
  },
  {
   "cell_type": "code",
   "execution_count": 139,
   "id": "e079b299",
   "metadata": {},
   "outputs": [
    {
     "name": "stdout",
     "output_type": "stream",
     "text": [
      "Train Score : 0.9985\n",
      "Test Score : 0.9993\n"
     ]
    }
   ],
   "source": [
    "model = Ridge()\n",
    "model.fit(X_train, y_train)\n",
    "print('Train Score : {:.4f}'.format(model.score(X_train, y_train)))\n",
    "print('Test Score : {:.4f}'.format(model.score(X_test, y_test)))"
   ]
  },
  {
   "cell_type": "markdown",
   "id": "6b2935f3",
   "metadata": {},
   "source": [
    "### Gradient Boost"
   ]
  },
  {
   "cell_type": "code",
   "execution_count": 140,
   "id": "a50e20b8",
   "metadata": {},
   "outputs": [
    {
     "name": "stdout",
     "output_type": "stream",
     "text": [
      "Train Score : 1.0000\n",
      "Test Score : 0.9999\n"
     ]
    }
   ],
   "source": [
    "model = GradientBoostingRegressor()\n",
    "model.fit(X_train, y_train)\n",
    "print('Train Score : {:.4f}'.format(model.score(X_train, y_train)))\n",
    "print('Test Score : {:.4f}'.format(model.score(X_test, y_test)))"
   ]
  },
  {
   "cell_type": "markdown",
   "id": "685ec645",
   "metadata": {},
   "source": [
    "### K-Nearest Neighbors"
   ]
  },
  {
   "cell_type": "code",
   "execution_count": 141,
   "id": "5e2a25c0",
   "metadata": {},
   "outputs": [
    {
     "name": "stdout",
     "output_type": "stream",
     "text": [
      "Train Score : 0.9978\n",
      "Test Score : 0.9986\n"
     ]
    }
   ],
   "source": [
    "model = KNeighborsRegressor()\n",
    "model.fit(X_train, y_train)\n",
    "print('Train Score : {:.4f}'.format(model.score(X_train, y_train)))\n",
    "print('Test Score : {:.4f}'.format(model.score(X_test, y_test)))"
   ]
  },
  {
   "cell_type": "markdown",
   "id": "ac051cfb",
   "metadata": {},
   "source": [
    "### Random Forest"
   ]
  },
  {
   "cell_type": "code",
   "execution_count": 142,
   "id": "48a514af",
   "metadata": {},
   "outputs": [
    {
     "name": "stdout",
     "output_type": "stream",
     "text": [
      "Train Score : 0.9999\n",
      "Test Score : 1.0000\n"
     ]
    }
   ],
   "source": [
    "model = RandomForestRegressor()\n",
    "\n",
    "model.fit(X_train, y_train)\n",
    "print('Train Score : {:.4f}'.format(model.score(X_train, y_train)))\n",
    "print('Test Score : {:.4f}'.format(model.score(X_test, y_test)))"
   ]
  },
  {
   "cell_type": "markdown",
   "id": "2722109b",
   "metadata": {},
   "source": [
    "### Decision Tree"
   ]
  },
  {
   "cell_type": "code",
   "execution_count": 143,
   "id": "0d8c6bd7",
   "metadata": {},
   "outputs": [
    {
     "name": "stdout",
     "output_type": "stream",
     "text": [
      "Train Score : 1.0000\n",
      "Test Score : 0.9999\n"
     ]
    }
   ],
   "source": [
    "model = DecisionTreeRegressor()\n",
    "\n",
    "model.fit(X_train, y_train)\n",
    "print('Train Score : {:.4f}'.format(model.score(X_train, y_train)))\n",
    "print('Test Score : {:.4f}'.format(model.score(X_test, y_test)))"
   ]
  },
  {
   "cell_type": "markdown",
   "id": "9542eca5",
   "metadata": {},
   "source": [
    "# Hyperparameter Tuning"
   ]
  },
  {
   "cell_type": "code",
   "execution_count": 144,
   "id": "a8c9c3a4",
   "metadata": {},
   "outputs": [],
   "source": [
    "from sklearn.model_selection import GridSearchCV\n",
    "\n",
    "models = []\n",
    "scores = []"
   ]
  },
  {
   "cell_type": "markdown",
   "id": "376911b0",
   "metadata": {},
   "source": [
    "### Ridge"
   ]
  },
  {
   "cell_type": "code",
   "execution_count": 145,
   "id": "ab9491a6",
   "metadata": {},
   "outputs": [
    {
     "name": "stdout",
     "output_type": "stream",
     "text": [
      "Test Score : 0.9999\n",
      "Best Parameters : {'alpha': 0.0001}\n",
      "Best CV Score : 0.9998\n"
     ]
    }
   ],
   "source": [
    "param_grid = {'alpha' : [0.0001, 0.0001, 0.001, 0.01, 0.1, 1, 10, 100]}\n",
    "model = Ridge()\n",
    "\n",
    "grid_search = GridSearchCV(model, param_grid, cv=5)\n",
    "grid_search.fit(X_train, y_train)\n",
    "ridge_score = grid_search.score(X_test, y_test)\n",
    "\n",
    "print('Test Score : {:.4f}'.format(ridge_score))\n",
    "print('Best Parameters :', grid_search.best_params_)\n",
    "print('Best CV Score : {:.4f}'.format(grid_search.best_score_))\n",
    "\n",
    "models.append('Ridge')\n",
    "scores.append(ridge_score)"
   ]
  },
  {
   "cell_type": "markdown",
   "id": "6f200081",
   "metadata": {},
   "source": [
    "### Gradient Boost"
   ]
  },
  {
   "cell_type": "code",
   "execution_count": 146,
   "id": "10d48efe",
   "metadata": {},
   "outputs": [
    {
     "name": "stdout",
     "output_type": "stream",
     "text": [
      "Test Score : 0.9999\n",
      "Best Parameters : {'max_depth': 5}\n",
      "Best CV Score : 0.9997\n"
     ]
    }
   ],
   "source": [
    "param_grid = {'max_depth' : [2, 3, 4, 5, 6, 7, 8, 9,10,11,12]}\n",
    "model = GradientBoostingRegressor()\n",
    "\n",
    "grid_search = GridSearchCV(model, param_grid, cv=5)\n",
    "grid_search.fit(X_train, y_train)\n",
    "gb_score = grid_search.score(X_test, y_test)\n",
    "  \n",
    "\n",
    "print('Test Score : {:.4f}'.format(gb_score))\n",
    "print('Best Parameters :', grid_search.best_params_)\n",
    "print('Best CV Score : {:.4f}'.format(grid_search.best_score_))\n",
    "\n",
    "models.append('Gradient Boost')\n",
    "scores.append(gb_score)"
   ]
  },
  {
   "cell_type": "markdown",
   "id": "ee9cadb7",
   "metadata": {},
   "source": [
    "### K-Nearest Neighbors"
   ]
  },
  {
   "cell_type": "code",
   "execution_count": 147,
   "id": "b0ced3c0",
   "metadata": {},
   "outputs": [
    {
     "name": "stdout",
     "output_type": "stream",
     "text": [
      "Test Score : 0.9983\n",
      "Best Parameters : {'n_neighbors': 2}\n",
      "Best CV Score : 0.9964\n"
     ]
    }
   ],
   "source": [
    "param_grid = {'n_neighbors' : range(1, 20)}\n",
    "model = KNeighborsRegressor()\n",
    "\n",
    "grid_search = GridSearchCV(model, param_grid, cv=5)\n",
    "grid_search.fit(X_train, y_train)\n",
    "knr_score = grid_search.score(X_test, y_test)\n",
    "\n",
    "print('Test Score : {:.4f}'.format(knr_score))\n",
    "print('Best Parameters :', grid_search.best_params_)\n",
    "print('Best CV Score : {:.4f}'.format(grid_search.best_score_))\n",
    "\n",
    "models.append('K-Nearest Neighbors')\n",
    "scores.append(knr_score)"
   ]
  },
  {
   "cell_type": "markdown",
   "id": "8a22890e",
   "metadata": {},
   "source": [
    "### Random Forest"
   ]
  },
  {
   "cell_type": "code",
   "execution_count": 148,
   "id": "5104a4aa",
   "metadata": {},
   "outputs": [
    {
     "name": "stdout",
     "output_type": "stream",
     "text": [
      "Test Score : 1.0000\n",
      "Best Parameters : {'max_depth': 10}\n",
      "Best CV Score : 0.9997\n"
     ]
    }
   ],
   "source": [
    "param_grid = {'max_depth' : [5, 10, 15, 20, 25, 30]}\n",
    "model = RandomForestRegressor()\n",
    "\n",
    "grid_search = GridSearchCV(model, param_grid, cv=5)\n",
    "grid_search.fit(X_train, y_train)\n",
    "rf_score = grid_search.score(X_test, y_test)\n",
    "\n",
    "print('Test Score : {:.4f}'.format(rf_score))\n",
    "print('Best Parameters :', grid_search.best_params_)\n",
    "print('Best CV Score : {:.4f}'.format(grid_search.best_score_))\n",
    "\n",
    "models.append('Random Forest')\n",
    "scores.append(rf_score)"
   ]
  },
  {
   "cell_type": "markdown",
   "id": "993440bf",
   "metadata": {},
   "source": [
    "### Decision Tree"
   ]
  },
  {
   "cell_type": "code",
   "execution_count": 149,
   "id": "6ed7e631",
   "metadata": {},
   "outputs": [
    {
     "name": "stdout",
     "output_type": "stream",
     "text": [
      "Test Score : 0.9999\n",
      "Best Parameters : {'max_depth': 10}\n",
      "Best CV Score : 0.9997\n"
     ]
    }
   ],
   "source": [
    "am_grid = {'max_depth' : range(2, 20), \"min_samples_leaf\" : range(2, 10)}\n",
    "model = DecisionTreeRegressor()\n",
    "\n",
    "grid_search = GridSearchCV(model, param_grid, cv=5)\n",
    "grid_search.fit(X_train, y_train)\n",
    "dt_score = grid_search.score(X_test, y_test)\n",
    "\n",
    "print('Test Score : {:.4f}'.format(dt_score))\n",
    "print('Best Parameters :', grid_search.best_params_)\n",
    "print('Best CV Score : {:.4f}'.format(grid_search.best_score_))\n",
    "\n",
    "models.append('Decision Tree')\n",
    "scores.append(dt_score)"
   ]
  },
  {
   "cell_type": "markdown",
   "id": "ad2dd56f",
   "metadata": {},
   "source": [
    "### Result"
   ]
  },
  {
   "cell_type": "code",
   "execution_count": 150,
   "id": "44168ab6",
   "metadata": {},
   "outputs": [
    {
     "data": {
      "text/html": [
       "<div>\n",
       "<style scoped>\n",
       "    .dataframe tbody tr th:only-of-type {\n",
       "        vertical-align: middle;\n",
       "    }\n",
       "\n",
       "    .dataframe tbody tr th {\n",
       "        vertical-align: top;\n",
       "    }\n",
       "\n",
       "    .dataframe thead th {\n",
       "        text-align: right;\n",
       "    }\n",
       "</style>\n",
       "<table border=\"1\" class=\"dataframe\">\n",
       "  <thead>\n",
       "    <tr style=\"text-align: right;\">\n",
       "      <th></th>\n",
       "      <th>Model</th>\n",
       "      <th>Score</th>\n",
       "    </tr>\n",
       "  </thead>\n",
       "  <tbody>\n",
       "    <tr>\n",
       "      <th>0</th>\n",
       "      <td>Ridge</td>\n",
       "      <td>0.999886</td>\n",
       "    </tr>\n",
       "    <tr>\n",
       "      <th>1</th>\n",
       "      <td>Gradient Boost</td>\n",
       "      <td>0.999916</td>\n",
       "    </tr>\n",
       "    <tr>\n",
       "      <th>2</th>\n",
       "      <td>K-Nearest Neighbors</td>\n",
       "      <td>0.998313</td>\n",
       "    </tr>\n",
       "    <tr>\n",
       "      <th>3</th>\n",
       "      <td>Random Forest</td>\n",
       "      <td>0.999968</td>\n",
       "    </tr>\n",
       "    <tr>\n",
       "      <th>4</th>\n",
       "      <td>Decision Tree</td>\n",
       "      <td>0.999912</td>\n",
       "    </tr>\n",
       "  </tbody>\n",
       "</table>\n",
       "</div>"
      ],
      "text/plain": [
       "                 Model     Score\n",
       "0                Ridge  0.999886\n",
       "1       Gradient Boost  0.999916\n",
       "2  K-Nearest Neighbors  0.998313\n",
       "3        Random Forest  0.999968\n",
       "4        Decision Tree  0.999912"
      ]
     },
     "execution_count": 150,
     "metadata": {},
     "output_type": "execute_result"
    }
   ],
   "source": [
    "df_result = pd.DataFrame({'Model' : models, 'Score' : scores})\n",
    "df_result"
   ]
  },
  {
   "cell_type": "markdown",
   "id": "4d9c6c0f",
   "metadata": {},
   "source": [
    "### Conclusion\n",
    "Random Forest Regression gave the best accuracy so we can use Random Forest regression to predict the Capacity"
   ]
  },
  {
   "cell_type": "markdown",
   "id": "ffc077b1",
   "metadata": {},
   "source": [
    "# Prediction with Primary Fuel"
   ]
  },
  {
   "cell_type": "code",
   "execution_count": 151,
   "id": "e2e869b2",
   "metadata": {},
   "outputs": [],
   "source": [
    "from sklearn.linear_model import LogisticRegression\n",
    "from sklearn.metrics import accuracy_score\n",
    "from sklearn.metrics import confusion_matrix,classification_report\n",
    "from sklearn.model_selection import train_test_split"
   ]
  },
  {
   "cell_type": "code",
   "execution_count": 152,
   "id": "ee4471d8",
   "metadata": {},
   "outputs": [
    {
     "data": {
      "text/html": [
       "<div>\n",
       "<style scoped>\n",
       "    .dataframe tbody tr th:only-of-type {\n",
       "        vertical-align: middle;\n",
       "    }\n",
       "\n",
       "    .dataframe tbody tr th {\n",
       "        vertical-align: top;\n",
       "    }\n",
       "\n",
       "    .dataframe thead th {\n",
       "        text-align: right;\n",
       "    }\n",
       "</style>\n",
       "<table border=\"1\" class=\"dataframe\">\n",
       "  <thead>\n",
       "    <tr style=\"text-align: right;\">\n",
       "      <th></th>\n",
       "      <th>capacity_mw</th>\n",
       "      <th>primary_fuel</th>\n",
       "      <th>other_fuel1</th>\n",
       "      <th>geolocation_source</th>\n",
       "      <th>generation_gwh_2014</th>\n",
       "      <th>generation_gwh_2015</th>\n",
       "      <th>generation_gwh_2016</th>\n",
       "      <th>generation_gwh_2017</th>\n",
       "      <th>generation_gwh_2018</th>\n",
       "    </tr>\n",
       "  </thead>\n",
       "  <tbody>\n",
       "    <tr>\n",
       "      <th>0</th>\n",
       "      <td>1.252763</td>\n",
       "      <td>6</td>\n",
       "      <td>2</td>\n",
       "      <td>1</td>\n",
       "      <td>2.468075</td>\n",
       "      <td>2.407511</td>\n",
       "      <td>2.407511</td>\n",
       "      <td>2.419695</td>\n",
       "      <td>2.433534</td>\n",
       "    </tr>\n",
       "    <tr>\n",
       "      <th>1</th>\n",
       "      <td>4.595120</td>\n",
       "      <td>1</td>\n",
       "      <td>2</td>\n",
       "      <td>2</td>\n",
       "      <td>6.050556</td>\n",
       "      <td>5.984355</td>\n",
       "      <td>5.984355</td>\n",
       "      <td>5.997703</td>\n",
       "      <td>6.012846</td>\n",
       "    </tr>\n",
       "    <tr>\n",
       "      <th>2</th>\n",
       "      <td>3.693867</td>\n",
       "      <td>7</td>\n",
       "      <td>2</td>\n",
       "      <td>2</td>\n",
       "      <td>5.137794</td>\n",
       "      <td>5.071834</td>\n",
       "      <td>5.071834</td>\n",
       "      <td>5.085132</td>\n",
       "      <td>5.100219</td>\n",
       "    </tr>\n",
       "    <tr>\n",
       "      <th>3</th>\n",
       "      <td>4.912655</td>\n",
       "      <td>2</td>\n",
       "      <td>2</td>\n",
       "      <td>2</td>\n",
       "      <td>6.370217</td>\n",
       "      <td>6.303972</td>\n",
       "      <td>6.303972</td>\n",
       "      <td>6.317329</td>\n",
       "      <td>6.332482</td>\n",
       "    </tr>\n",
       "    <tr>\n",
       "      <th>4</th>\n",
       "      <td>7.496097</td>\n",
       "      <td>1</td>\n",
       "      <td>3</td>\n",
       "      <td>2</td>\n",
       "      <td>8.958900</td>\n",
       "      <td>8.892546</td>\n",
       "      <td>8.892546</td>\n",
       "      <td>8.905926</td>\n",
       "      <td>8.921103</td>\n",
       "    </tr>\n",
       "    <tr>\n",
       "      <th>...</th>\n",
       "      <td>...</td>\n",
       "      <td>...</td>\n",
       "      <td>...</td>\n",
       "      <td>...</td>\n",
       "      <td>...</td>\n",
       "      <td>...</td>\n",
       "      <td>...</td>\n",
       "      <td>...</td>\n",
       "      <td>...</td>\n",
       "    </tr>\n",
       "    <tr>\n",
       "      <th>902</th>\n",
       "      <td>7.378384</td>\n",
       "      <td>1</td>\n",
       "      <td>3</td>\n",
       "      <td>2</td>\n",
       "      <td>8.841133</td>\n",
       "      <td>8.774780</td>\n",
       "      <td>8.774780</td>\n",
       "      <td>8.788160</td>\n",
       "      <td>8.803337</td>\n",
       "    </tr>\n",
       "    <tr>\n",
       "      <th>903</th>\n",
       "      <td>1.386294</td>\n",
       "      <td>6</td>\n",
       "      <td>2</td>\n",
       "      <td>0</td>\n",
       "      <td>2.636172</td>\n",
       "      <td>2.574712</td>\n",
       "      <td>2.574712</td>\n",
       "      <td>2.587081</td>\n",
       "      <td>2.601126</td>\n",
       "    </tr>\n",
       "    <tr>\n",
       "      <th>904</th>\n",
       "      <td>3.277145</td>\n",
       "      <td>7</td>\n",
       "      <td>2</td>\n",
       "      <td>2</td>\n",
       "      <td>4.710945</td>\n",
       "      <td>4.645199</td>\n",
       "      <td>4.645199</td>\n",
       "      <td>4.658453</td>\n",
       "      <td>4.673490</td>\n",
       "    </tr>\n",
       "    <tr>\n",
       "      <th>905</th>\n",
       "      <td>4.394449</td>\n",
       "      <td>1</td>\n",
       "      <td>2</td>\n",
       "      <td>2</td>\n",
       "      <td>5.848145</td>\n",
       "      <td>5.781981</td>\n",
       "      <td>5.781981</td>\n",
       "      <td>5.795321</td>\n",
       "      <td>5.810455</td>\n",
       "    </tr>\n",
       "    <tr>\n",
       "      <th>906</th>\n",
       "      <td>2.862201</td>\n",
       "      <td>7</td>\n",
       "      <td>2</td>\n",
       "      <td>2</td>\n",
       "      <td>4.280522</td>\n",
       "      <td>4.215108</td>\n",
       "      <td>4.215108</td>\n",
       "      <td>4.228293</td>\n",
       "      <td>4.243253</td>\n",
       "    </tr>\n",
       "  </tbody>\n",
       "</table>\n",
       "<p>906 rows × 9 columns</p>\n",
       "</div>"
      ],
      "text/plain": [
       "     capacity_mw  primary_fuel  other_fuel1  geolocation_source  \\\n",
       "0       1.252763             6            2                   1   \n",
       "1       4.595120             1            2                   2   \n",
       "2       3.693867             7            2                   2   \n",
       "3       4.912655             2            2                   2   \n",
       "4       7.496097             1            3                   2   \n",
       "..           ...           ...          ...                 ...   \n",
       "902     7.378384             1            3                   2   \n",
       "903     1.386294             6            2                   0   \n",
       "904     3.277145             7            2                   2   \n",
       "905     4.394449             1            2                   2   \n",
       "906     2.862201             7            2                   2   \n",
       "\n",
       "     generation_gwh_2014  generation_gwh_2015  generation_gwh_2016  \\\n",
       "0               2.468075             2.407511             2.407511   \n",
       "1               6.050556             5.984355             5.984355   \n",
       "2               5.137794             5.071834             5.071834   \n",
       "3               6.370217             6.303972             6.303972   \n",
       "4               8.958900             8.892546             8.892546   \n",
       "..                   ...                  ...                  ...   \n",
       "902             8.841133             8.774780             8.774780   \n",
       "903             2.636172             2.574712             2.574712   \n",
       "904             4.710945             4.645199             4.645199   \n",
       "905             5.848145             5.781981             5.781981   \n",
       "906             4.280522             4.215108             4.215108   \n",
       "\n",
       "     generation_gwh_2017  generation_gwh_2018  \n",
       "0               2.419695             2.433534  \n",
       "1               5.997703             6.012846  \n",
       "2               5.085132             5.100219  \n",
       "3               6.317329             6.332482  \n",
       "4               8.905926             8.921103  \n",
       "..                   ...                  ...  \n",
       "902             8.788160             8.803337  \n",
       "903             2.587081             2.601126  \n",
       "904             4.658453             4.673490  \n",
       "905             5.795321             5.810455  \n",
       "906             4.228293             4.243253  \n",
       "\n",
       "[906 rows x 9 columns]"
      ]
     },
     "execution_count": 152,
     "metadata": {},
     "output_type": "execute_result"
    }
   ],
   "source": [
    "df_new_z"
   ]
  },
  {
   "cell_type": "code",
   "execution_count": 247,
   "id": "3090737a",
   "metadata": {},
   "outputs": [],
   "source": [
    "X1 = df.drop(['primary_fuel'], axis=1)\n",
    "y1 = df['primary_fuel']\n",
    "\n",
    "scaler = StandardScaler()\n",
    "X_scaled = scaler.fit_transform(X1)\n",
    "\n",
    "x_train, x_test, y_train, y_test = train_test_split(X1, y1, test_size=0.35, random_state=1)"
   ]
  },
  {
   "cell_type": "markdown",
   "id": "238d22f9",
   "metadata": {},
   "source": [
    "## Logistic Regression"
   ]
  },
  {
   "cell_type": "code",
   "execution_count": 248,
   "id": "9310b714",
   "metadata": {},
   "outputs": [
    {
     "name": "stdout",
     "output_type": "stream",
     "text": [
      "Accuracy  60.37735849056604\n",
      "[[ 0  0  0 11  0  0  0 12]\n",
      " [ 0 70  0 20  0  0  0  7]\n",
      " [ 0  3  1 17  0  0  0  2]\n",
      " [ 0  0  0 69  0  0  0 28]\n",
      " [ 0  0  0  2  0  0  0  0]\n",
      " [ 0  0  0  3  0  0  0  0]\n",
      " [ 0  0  0  2  0  0 40  0]\n",
      " [ 0  0  0 19  0  0  0 12]]\n",
      "              precision    recall  f1-score   support\n",
      "\n",
      "           0       0.00      0.00      0.00        23\n",
      "           1       0.96      0.72      0.82        97\n",
      "           2       1.00      0.04      0.08        23\n",
      "           3       0.48      0.71      0.57        97\n",
      "           4       0.00      0.00      0.00         2\n",
      "           5       0.00      0.00      0.00         3\n",
      "           6       1.00      0.95      0.98        42\n",
      "           7       0.20      0.39      0.26        31\n",
      "\n",
      "    accuracy                           0.60       318\n",
      "   macro avg       0.45      0.35      0.34       318\n",
      "weighted avg       0.66      0.60      0.59       318\n",
      "\n"
     ]
    }
   ],
   "source": [
    "from sklearn.linear_model import LogisticRegression\n",
    "Lr = LogisticRegression()\n",
    "Lr.fit(x_train,y_train)\n",
    "predlr = Lr.predict(x_test)\n",
    "print(\"Accuracy \", accuracy_score(y_test,predlr)*100)\n",
    "print(confusion_matrix(y_test,predlr))\n",
    "print(classification_report(y_test,predlr))"
   ]
  },
  {
   "cell_type": "markdown",
   "id": "836da7c6",
   "metadata": {},
   "source": [
    "## Decision Tree Classifier"
   ]
  },
  {
   "cell_type": "code",
   "execution_count": 249,
   "id": "800ebda0",
   "metadata": {},
   "outputs": [
    {
     "name": "stdout",
     "output_type": "stream",
     "text": [
      "Accuracy  67.61006289308176\n",
      "[[13  2  0  3  0  1  0  4]\n",
      " [ 5 74  1 14  0  0  0  3]\n",
      " [ 1  5  5 10  0  1  0  1]\n",
      " [ 8  8  4 70  0  0  0  7]\n",
      " [ 0  0  0  2  0  0  0  0]\n",
      " [ 0  0  0  1  0  2  0  0]\n",
      " [ 0  1  0  1  0  0 40  0]\n",
      " [ 2  2  1 14  0  1  0 11]]\n",
      "              precision    recall  f1-score   support\n",
      "\n",
      "           0       0.45      0.57      0.50        23\n",
      "           1       0.80      0.76      0.78        97\n",
      "           2       0.45      0.22      0.29        23\n",
      "           3       0.61      0.72      0.66        97\n",
      "           4       0.00      0.00      0.00         2\n",
      "           5       0.40      0.67      0.50         3\n",
      "           6       1.00      0.95      0.98        42\n",
      "           7       0.42      0.35      0.39        31\n",
      "\n",
      "    accuracy                           0.68       318\n",
      "   macro avg       0.52      0.53      0.51       318\n",
      "weighted avg       0.67      0.68      0.67       318\n",
      "\n"
     ]
    }
   ],
   "source": [
    "from sklearn.tree import DecisionTreeClassifier\n",
    "dt = DecisionTreeClassifier()\n",
    "dt.fit(x_train,y_train)\n",
    "preddt = dt.predict(x_test)\n",
    "print(\"Accuracy \", accuracy_score(y_test,preddt)*100)\n",
    "print(confusion_matrix(y_test,preddt))\n",
    "print(classification_report(y_test,preddt))"
   ]
  },
  {
   "cell_type": "markdown",
   "id": "883514de",
   "metadata": {},
   "source": [
    "## Random Forest Classifier"
   ]
  },
  {
   "cell_type": "code",
   "execution_count": 250,
   "id": "b7921e7b",
   "metadata": {},
   "outputs": [
    {
     "name": "stdout",
     "output_type": "stream",
     "text": [
      "Accuracy  68.23899371069182\n",
      "[[ 8  5  0  4  0  1  1  4]\n",
      " [ 3 75  1 15  0  0  0  3]\n",
      " [ 1  5  4 11  0  1  0  1]\n",
      " [ 6  4  2 77  0  0  1  7]\n",
      " [ 0  0  0  2  0  0  0  0]\n",
      " [ 0  0  0  1  0  2  0  0]\n",
      " [ 0  0  0  2  0  0 40  0]\n",
      " [ 1  1  0 17  0  1  0 11]]\n",
      "              precision    recall  f1-score   support\n",
      "\n",
      "           0       0.42      0.35      0.38        23\n",
      "           1       0.83      0.77      0.80        97\n",
      "           2       0.57      0.17      0.27        23\n",
      "           3       0.60      0.79      0.68        97\n",
      "           4       0.00      0.00      0.00         2\n",
      "           5       0.40      0.67      0.50         3\n",
      "           6       0.95      0.95      0.95        42\n",
      "           7       0.42      0.35      0.39        31\n",
      "\n",
      "    accuracy                           0.68       318\n",
      "   macro avg       0.52      0.51      0.50       318\n",
      "weighted avg       0.68      0.68      0.67       318\n",
      "\n"
     ]
    }
   ],
   "source": [
    "    from sklearn.ensemble import RandomForestClassifier\n",
    "\n",
    "    rf = RandomForestClassifier()\n",
    "    rf.fit(x_train,y_train)\n",
    "    predrf = rf.predict(x_test)\n",
    "    print(\"Accuracy \", accuracy_score(y_test,predrf)*100)\n",
    "    print(confusion_matrix(y_test,predrf))\n",
    "    print(classification_report(y_test,predrf))"
   ]
  },
  {
   "cell_type": "markdown",
   "id": "fea32bad",
   "metadata": {},
   "source": [
    "## SVC"
   ]
  },
  {
   "cell_type": "code",
   "execution_count": 251,
   "id": "5c0f1620",
   "metadata": {},
   "outputs": [
    {
     "name": "stdout",
     "output_type": "stream",
     "text": [
      "Accuracy  57.861635220125784\n",
      "[[ 0  0  0  1  0  0  0 22]\n",
      " [ 0 69  0 16  0  0  0 12]\n",
      " [ 0  3  0 18  0  0  0  2]\n",
      " [ 0  0  0 58  0  0  0 39]\n",
      " [ 0  0  0  2  0  0  0  0]\n",
      " [ 0  0  0  2  0  0  0  1]\n",
      " [ 0  0  0  3  0  0 39  0]\n",
      " [ 0  0  0 13  0  0  0 18]]\n",
      "              precision    recall  f1-score   support\n",
      "\n",
      "           0       0.00      0.00      0.00        23\n",
      "           1       0.96      0.71      0.82        97\n",
      "           2       0.00      0.00      0.00        23\n",
      "           3       0.51      0.60      0.55        97\n",
      "           4       0.00      0.00      0.00         2\n",
      "           5       0.00      0.00      0.00         3\n",
      "           6       1.00      0.93      0.96        42\n",
      "           7       0.19      0.58      0.29        31\n",
      "\n",
      "    accuracy                           0.58       318\n",
      "   macro avg       0.33      0.35      0.33       318\n",
      "weighted avg       0.60      0.58      0.57       318\n",
      "\n"
     ]
    }
   ],
   "source": [
    "from sklearn.svm import SVC\n",
    "\n",
    "svc = SVC()\n",
    "svc.fit(x_train,y_train)\n",
    "predsv = svc.predict(x_test)\n",
    "print(\"Accuracy \", accuracy_score(y_test,predsv)*100)\n",
    "print(confusion_matrix(y_test,predsv))\n",
    "print(classification_report(y_test,predsv))"
   ]
  },
  {
   "cell_type": "markdown",
   "id": "58cf6471",
   "metadata": {},
   "source": [
    "# Cross Validation"
   ]
  },
  {
   "cell_type": "markdown",
   "id": "71726497",
   "metadata": {},
   "source": [
    "### Logistic Regression"
   ]
  },
  {
   "cell_type": "code",
   "execution_count": 252,
   "id": "a53b7f0a",
   "metadata": {},
   "outputs": [
    {
     "name": "stdout",
     "output_type": "stream",
     "text": [
      "Cross validation score of Logistic  model : 0.6207394815129622\n"
     ]
    }
   ],
   "source": [
    "from sklearn.model_selection import cross_val_score\n",
    "scr = cross_val_score(Lr,X_scaled,y1,cv=5)\n",
    "print(\"Cross validation score of Logistic  model :\", scr.mean())"
   ]
  },
  {
   "cell_type": "markdown",
   "id": "9bc64fc0",
   "metadata": {},
   "source": [
    "### Decision Tree"
   ]
  },
  {
   "cell_type": "code",
   "execution_count": 253,
   "id": "62a57154",
   "metadata": {},
   "outputs": [
    {
     "name": "stdout",
     "output_type": "stream",
     "text": [
      "Cross validation score of Random Forest  model : 0.6395968672211765\n"
     ]
    }
   ],
   "source": [
    "scr = cross_val_score(dt,X_scaled,y1,cv=5)\n",
    "print(\"Cross validation score of Random Forest  model :\", scr.mean())"
   ]
  },
  {
   "cell_type": "markdown",
   "id": "fec2d17f",
   "metadata": {},
   "source": [
    "### Random Forest"
   ]
  },
  {
   "cell_type": "code",
   "execution_count": 254,
   "id": "0cb2d2dc",
   "metadata": {},
   "outputs": [
    {
     "name": "stdout",
     "output_type": "stream",
     "text": [
      "Cross validation score of Random Forest  model : 0.6362940926476839\n"
     ]
    }
   ],
   "source": [
    "scr = cross_val_score(rf,X_scaled,y1,cv=5)\n",
    "print(\"Cross validation score of Random Forest  model :\", scr.mean())"
   ]
  },
  {
   "cell_type": "markdown",
   "id": "02e73220",
   "metadata": {},
   "source": [
    "### SVC "
   ]
  },
  {
   "cell_type": "code",
   "execution_count": 255,
   "id": "b8714c96",
   "metadata": {},
   "outputs": [
    {
     "name": "stdout",
     "output_type": "stream",
     "text": [
      "Cross validation score of SVC model : 0.6141460749195555\n"
     ]
    }
   ],
   "source": [
    "scr = cross_val_score(svc,X_scaled,y1,cv=5)\n",
    "print(\"Cross validation score of SVC model :\", scr.mean())"
   ]
  },
  {
   "cell_type": "markdown",
   "id": "60a6cb59",
   "metadata": {},
   "source": [
    "#### Observation-\n",
    "Random Forest gave us the most accuracy with highest Cross validation score as well as we will try to hyper tune the Random forest classifier"
   ]
  },
  {
   "cell_type": "markdown",
   "id": "72f0e2d9",
   "metadata": {},
   "source": [
    "# Hyper Parameter Tuning"
   ]
  },
  {
   "cell_type": "markdown",
   "id": "3a67b759",
   "metadata": {},
   "source": [
    "### Random Forest"
   ]
  },
  {
   "cell_type": "code",
   "execution_count": 275,
   "id": "a34c8695",
   "metadata": {},
   "outputs": [],
   "source": [
    "from sklearn.model_selection import GridSearchCV\n",
    "\n",
    "parameters= {'max_features' : ['auto','sqrt','log2'],\n",
    "             'max_depth' : [6,7,8,9,10,11],\n",
    "             'criterion': ['gini','entropy']}"
   ]
  },
  {
   "cell_type": "code",
   "execution_count": 276,
   "id": "2e2677e5",
   "metadata": {},
   "outputs": [
    {
     "data": {
      "text/plain": [
       "{'criterion': 'entropy', 'max_depth': 7, 'max_features': 'auto'}"
      ]
     },
     "execution_count": 276,
     "metadata": {},
     "output_type": "execute_result"
    }
   ],
   "source": [
    "GCV = GridSearchCV(RandomForestClassifier(),parameters,cv=5,scoring=\"accuracy\")\n",
    "GCV.fit(x_train,y_train) \n",
    "GCV.best_params_"
   ]
  },
  {
   "cell_type": "code",
   "execution_count": 277,
   "id": "971d3fd9",
   "metadata": {},
   "outputs": [
    {
     "data": {
      "text/plain": [
       "0.6446540880503144"
      ]
     },
     "execution_count": 277,
     "metadata": {},
     "output_type": "execute_result"
    }
   ],
   "source": [
    "GCV_pred= GCV.best_estimator_.predict(x_test)\n",
    "accuracy_score(y_test,GCV_pred)"
   ]
  },
  {
   "cell_type": "markdown",
   "id": "33ac84a0",
   "metadata": {},
   "source": [
    "# Conslusion"
   ]
  },
  {
   "cell_type": "code",
   "execution_count": 292,
   "id": "a4bee1f8",
   "metadata": {},
   "outputs": [
    {
     "data": {
      "text/html": [
       "<div>\n",
       "<style scoped>\n",
       "    .dataframe tbody tr th:only-of-type {\n",
       "        vertical-align: middle;\n",
       "    }\n",
       "\n",
       "    .dataframe tbody tr th {\n",
       "        vertical-align: top;\n",
       "    }\n",
       "\n",
       "    .dataframe thead th {\n",
       "        text-align: right;\n",
       "    }\n",
       "</style>\n",
       "<table border=\"1\" class=\"dataframe\">\n",
       "  <thead>\n",
       "    <tr style=\"text-align: right;\">\n",
       "      <th></th>\n",
       "      <th>Original</th>\n",
       "      <th>Predicted</th>\n",
       "    </tr>\n",
       "  </thead>\n",
       "  <tbody>\n",
       "    <tr>\n",
       "      <th>0</th>\n",
       "      <td>6</td>\n",
       "      <td>6</td>\n",
       "    </tr>\n",
       "    <tr>\n",
       "      <th>1</th>\n",
       "      <td>0</td>\n",
       "      <td>0</td>\n",
       "    </tr>\n",
       "    <tr>\n",
       "      <th>2</th>\n",
       "      <td>1</td>\n",
       "      <td>1</td>\n",
       "    </tr>\n",
       "    <tr>\n",
       "      <th>3</th>\n",
       "      <td>1</td>\n",
       "      <td>1</td>\n",
       "    </tr>\n",
       "    <tr>\n",
       "      <th>4</th>\n",
       "      <td>0</td>\n",
       "      <td>0</td>\n",
       "    </tr>\n",
       "    <tr>\n",
       "      <th>...</th>\n",
       "      <td>...</td>\n",
       "      <td>...</td>\n",
       "    </tr>\n",
       "    <tr>\n",
       "      <th>313</th>\n",
       "      <td>1</td>\n",
       "      <td>3</td>\n",
       "    </tr>\n",
       "    <tr>\n",
       "      <th>314</th>\n",
       "      <td>3</td>\n",
       "      <td>3</td>\n",
       "    </tr>\n",
       "    <tr>\n",
       "      <th>315</th>\n",
       "      <td>3</td>\n",
       "      <td>0</td>\n",
       "    </tr>\n",
       "    <tr>\n",
       "      <th>316</th>\n",
       "      <td>1</td>\n",
       "      <td>1</td>\n",
       "    </tr>\n",
       "    <tr>\n",
       "      <th>317</th>\n",
       "      <td>2</td>\n",
       "      <td>7</td>\n",
       "    </tr>\n",
       "  </tbody>\n",
       "</table>\n",
       "<p>318 rows × 2 columns</p>\n",
       "</div>"
      ],
      "text/plain": [
       "     Original  Predicted\n",
       "0           6          6\n",
       "1           0          0\n",
       "2           1          1\n",
       "3           1          1\n",
       "4           0          0\n",
       "..        ...        ...\n",
       "313         1          3\n",
       "314         3          3\n",
       "315         3          0\n",
       "316         1          1\n",
       "317         2          7\n",
       "\n",
       "[318 rows x 2 columns]"
      ]
     },
     "execution_count": 292,
     "metadata": {},
     "output_type": "execute_result"
    }
   ],
   "source": [
    "import numpy as np\n",
    "a=np.array(y_test)\n",
    "predicted=np.array(rf.predict(x_test))\n",
    "data_com = pd.DataFrame({\"Original\": a,\"Predicted\":predicted},index = range(len(a)))\n",
    "data_com"
   ]
  },
  {
   "cell_type": "markdown",
   "id": "3d4e6596",
   "metadata": {},
   "source": [
    "# Saving Models"
   ]
  },
  {
   "cell_type": "markdown",
   "id": "db238e59",
   "metadata": {},
   "source": [
    "### capacity_mw"
   ]
  },
  {
   "cell_type": "code",
   "execution_count": 297,
   "id": "d2ea8bbc",
   "metadata": {},
   "outputs": [],
   "source": [
    "import pickle\n",
    "filename = 'capacity.pkl'\n",
    "pickle.dump(grid_search.best_params_,open(filename, 'wb'))"
   ]
  },
  {
   "cell_type": "markdown",
   "id": "ec5aae70",
   "metadata": {},
   "source": [
    "### Primary Fuel"
   ]
  },
  {
   "cell_type": "code",
   "execution_count": 295,
   "id": "b9a4d8a5",
   "metadata": {},
   "outputs": [],
   "source": [
    "import pickle\n",
    "filename = 'Primary_fuel.pkl'\n",
    "pickle.dump(GCV.best_params_,open(filename, 'wb'))"
   ]
  }
 ],
 "metadata": {
  "kernelspec": {
   "display_name": "Python 3",
   "language": "python",
   "name": "python3"
  },
  "language_info": {
   "codemirror_mode": {
    "name": "ipython",
    "version": 3
   },
   "file_extension": ".py",
   "mimetype": "text/x-python",
   "name": "python",
   "nbconvert_exporter": "python",
   "pygments_lexer": "ipython3",
   "version": "3.8.8"
  }
 },
 "nbformat": 4,
 "nbformat_minor": 5
}

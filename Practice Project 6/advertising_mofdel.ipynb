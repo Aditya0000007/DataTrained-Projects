{
 "cells": [
  {
   "cell_type": "markdown",
   "id": "f19aa40b",
   "metadata": {},
   "source": [
    "# Problem Statement\n",
    "\n",
    "This Data is amount spent on advertising through different channels like TV, Radio and Newspaper.The Goal is to predict how the expense on each channel affects the sales and there a way to optimise the sales?"
   ]
  },
  {
   "cell_type": "code",
   "execution_count": 1,
   "id": "41ef7428",
   "metadata": {},
   "outputs": [],
   "source": [
    "import numpy as np\n",
    "import pandas as pd\n",
    "import seaborn as sns\n",
    "from sklearn.model_selection import train_test_split\n",
    "import matplotlib.pyplot as plt\n",
    "%matplotlib inline"
   ]
  },
  {
   "cell_type": "code",
   "execution_count": 2,
   "id": "f02b88eb",
   "metadata": {},
   "outputs": [],
   "source": [
    "import seaborn as sns\n",
    "import warnings\n",
    "from statsmodels.stats.outliers_influence import variance_inflation_factor\n",
    "warnings.filterwarnings('ignore')"
   ]
  },
  {
   "cell_type": "markdown",
   "id": "febd46f5",
   "metadata": {},
   "source": [
    "# Importing dataset"
   ]
  },
  {
   "cell_type": "code",
   "execution_count": 3,
   "id": "0cefe732",
   "metadata": {},
   "outputs": [],
   "source": [
    "data = pd.read_csv(\"Advertising.csv\")"
   ]
  },
  {
   "cell_type": "code",
   "execution_count": 4,
   "id": "a23b9315",
   "metadata": {},
   "outputs": [
    {
     "data": {
      "text/html": [
       "<div>\n",
       "<style scoped>\n",
       "    .dataframe tbody tr th:only-of-type {\n",
       "        vertical-align: middle;\n",
       "    }\n",
       "\n",
       "    .dataframe tbody tr th {\n",
       "        vertical-align: top;\n",
       "    }\n",
       "\n",
       "    .dataframe thead th {\n",
       "        text-align: right;\n",
       "    }\n",
       "</style>\n",
       "<table border=\"1\" class=\"dataframe\">\n",
       "  <thead>\n",
       "    <tr style=\"text-align: right;\">\n",
       "      <th></th>\n",
       "      <th>Unnamed: 0</th>\n",
       "      <th>TV</th>\n",
       "      <th>radio</th>\n",
       "      <th>newspaper</th>\n",
       "      <th>sales</th>\n",
       "    </tr>\n",
       "  </thead>\n",
       "  <tbody>\n",
       "    <tr>\n",
       "      <th>0</th>\n",
       "      <td>1</td>\n",
       "      <td>230.1</td>\n",
       "      <td>37.8</td>\n",
       "      <td>69.2</td>\n",
       "      <td>22.1</td>\n",
       "    </tr>\n",
       "    <tr>\n",
       "      <th>1</th>\n",
       "      <td>2</td>\n",
       "      <td>44.5</td>\n",
       "      <td>39.3</td>\n",
       "      <td>45.1</td>\n",
       "      <td>10.4</td>\n",
       "    </tr>\n",
       "    <tr>\n",
       "      <th>2</th>\n",
       "      <td>3</td>\n",
       "      <td>17.2</td>\n",
       "      <td>45.9</td>\n",
       "      <td>69.3</td>\n",
       "      <td>9.3</td>\n",
       "    </tr>\n",
       "    <tr>\n",
       "      <th>3</th>\n",
       "      <td>4</td>\n",
       "      <td>151.5</td>\n",
       "      <td>41.3</td>\n",
       "      <td>58.5</td>\n",
       "      <td>18.5</td>\n",
       "    </tr>\n",
       "    <tr>\n",
       "      <th>4</th>\n",
       "      <td>5</td>\n",
       "      <td>180.8</td>\n",
       "      <td>10.8</td>\n",
       "      <td>58.4</td>\n",
       "      <td>12.9</td>\n",
       "    </tr>\n",
       "  </tbody>\n",
       "</table>\n",
       "</div>"
      ],
      "text/plain": [
       "   Unnamed: 0     TV  radio  newspaper  sales\n",
       "0           1  230.1   37.8       69.2   22.1\n",
       "1           2   44.5   39.3       45.1   10.4\n",
       "2           3   17.2   45.9       69.3    9.3\n",
       "3           4  151.5   41.3       58.5   18.5\n",
       "4           5  180.8   10.8       58.4   12.9"
      ]
     },
     "execution_count": 4,
     "metadata": {},
     "output_type": "execute_result"
    }
   ],
   "source": [
    "data.head()"
   ]
  },
  {
   "cell_type": "markdown",
   "id": "2bfd4b69",
   "metadata": {},
   "source": [
    "### What are Features?\n",
    "Tv : Amount spent on TV\n",
    "\n",
    "Radio: Amount spent on Radio\n",
    "\n",
    "Newspaper : Amount spent on Newspaper\n",
    "\n",
    "\n",
    "### What is label ?\n",
    "Sales: Sales of a single product in a given market"
   ]
  },
  {
   "cell_type": "markdown",
   "id": "a22f6236",
   "metadata": {},
   "source": [
    "# Shape of Dataset"
   ]
  },
  {
   "cell_type": "code",
   "execution_count": 5,
   "id": "a9a95524",
   "metadata": {},
   "outputs": [
    {
     "data": {
      "text/plain": [
       "(200, 5)"
      ]
     },
     "execution_count": 5,
     "metadata": {},
     "output_type": "execute_result"
    }
   ],
   "source": [
    "data.shape\n"
   ]
  },
  {
   "cell_type": "code",
   "execution_count": 6,
   "id": "8051106d",
   "metadata": {},
   "outputs": [
    {
     "name": "stdout",
     "output_type": "stream",
     "text": [
      "<class 'pandas.core.frame.DataFrame'>\n",
      "RangeIndex: 200 entries, 0 to 199\n",
      "Data columns (total 5 columns):\n",
      " #   Column      Non-Null Count  Dtype  \n",
      "---  ------      --------------  -----  \n",
      " 0   Unnamed: 0  200 non-null    int64  \n",
      " 1   TV          200 non-null    float64\n",
      " 2   radio       200 non-null    float64\n",
      " 3   newspaper   200 non-null    float64\n",
      " 4   sales       200 non-null    float64\n",
      "dtypes: float64(4), int64(1)\n",
      "memory usage: 7.9 KB\n"
     ]
    }
   ],
   "source": [
    "data.info() # Printing the summary of dataframe"
   ]
  },
  {
   "cell_type": "markdown",
   "id": "81ac6d6d",
   "metadata": {},
   "source": [
    " Unnamed column is not required and we can drop it"
   ]
  },
  {
   "cell_type": "code",
   "execution_count": 7,
   "id": "8964918f",
   "metadata": {},
   "outputs": [],
   "source": [
    "data = data.drop(['Unnamed: 0'],axis=1)"
   ]
  },
  {
   "cell_type": "markdown",
   "id": "4b188de7",
   "metadata": {},
   "source": [
    "# Describing the Data"
   ]
  },
  {
   "cell_type": "code",
   "execution_count": 8,
   "id": "a206e787",
   "metadata": {},
   "outputs": [
    {
     "data": {
      "text/html": [
       "<div>\n",
       "<style scoped>\n",
       "    .dataframe tbody tr th:only-of-type {\n",
       "        vertical-align: middle;\n",
       "    }\n",
       "\n",
       "    .dataframe tbody tr th {\n",
       "        vertical-align: top;\n",
       "    }\n",
       "\n",
       "    .dataframe thead th {\n",
       "        text-align: right;\n",
       "    }\n",
       "</style>\n",
       "<table border=\"1\" class=\"dataframe\">\n",
       "  <thead>\n",
       "    <tr style=\"text-align: right;\">\n",
       "      <th></th>\n",
       "      <th>TV</th>\n",
       "      <th>radio</th>\n",
       "      <th>newspaper</th>\n",
       "      <th>sales</th>\n",
       "    </tr>\n",
       "  </thead>\n",
       "  <tbody>\n",
       "    <tr>\n",
       "      <th>count</th>\n",
       "      <td>200.000000</td>\n",
       "      <td>200.000000</td>\n",
       "      <td>200.000000</td>\n",
       "      <td>200.000000</td>\n",
       "    </tr>\n",
       "    <tr>\n",
       "      <th>mean</th>\n",
       "      <td>147.042500</td>\n",
       "      <td>23.264000</td>\n",
       "      <td>30.554000</td>\n",
       "      <td>14.022500</td>\n",
       "    </tr>\n",
       "    <tr>\n",
       "      <th>std</th>\n",
       "      <td>85.854236</td>\n",
       "      <td>14.846809</td>\n",
       "      <td>21.778621</td>\n",
       "      <td>5.217457</td>\n",
       "    </tr>\n",
       "    <tr>\n",
       "      <th>min</th>\n",
       "      <td>0.700000</td>\n",
       "      <td>0.000000</td>\n",
       "      <td>0.300000</td>\n",
       "      <td>1.600000</td>\n",
       "    </tr>\n",
       "    <tr>\n",
       "      <th>25%</th>\n",
       "      <td>74.375000</td>\n",
       "      <td>9.975000</td>\n",
       "      <td>12.750000</td>\n",
       "      <td>10.375000</td>\n",
       "    </tr>\n",
       "    <tr>\n",
       "      <th>50%</th>\n",
       "      <td>149.750000</td>\n",
       "      <td>22.900000</td>\n",
       "      <td>25.750000</td>\n",
       "      <td>12.900000</td>\n",
       "    </tr>\n",
       "    <tr>\n",
       "      <th>75%</th>\n",
       "      <td>218.825000</td>\n",
       "      <td>36.525000</td>\n",
       "      <td>45.100000</td>\n",
       "      <td>17.400000</td>\n",
       "    </tr>\n",
       "    <tr>\n",
       "      <th>max</th>\n",
       "      <td>296.400000</td>\n",
       "      <td>49.600000</td>\n",
       "      <td>114.000000</td>\n",
       "      <td>27.000000</td>\n",
       "    </tr>\n",
       "  </tbody>\n",
       "</table>\n",
       "</div>"
      ],
      "text/plain": [
       "               TV       radio   newspaper       sales\n",
       "count  200.000000  200.000000  200.000000  200.000000\n",
       "mean   147.042500   23.264000   30.554000   14.022500\n",
       "std     85.854236   14.846809   21.778621    5.217457\n",
       "min      0.700000    0.000000    0.300000    1.600000\n",
       "25%     74.375000    9.975000   12.750000   10.375000\n",
       "50%    149.750000   22.900000   25.750000   12.900000\n",
       "75%    218.825000   36.525000   45.100000   17.400000\n",
       "max    296.400000   49.600000  114.000000   27.000000"
      ]
     },
     "execution_count": 8,
     "metadata": {},
     "output_type": "execute_result"
    }
   ],
   "source": [
    "data.describe()"
   ]
  },
  {
   "cell_type": "code",
   "execution_count": 9,
   "id": "d6129066",
   "metadata": {},
   "outputs": [
    {
     "data": {
      "text/html": [
       "<div>\n",
       "<style scoped>\n",
       "    .dataframe tbody tr th:only-of-type {\n",
       "        vertical-align: middle;\n",
       "    }\n",
       "\n",
       "    .dataframe tbody tr th {\n",
       "        vertical-align: top;\n",
       "    }\n",
       "\n",
       "    .dataframe thead th {\n",
       "        text-align: right;\n",
       "    }\n",
       "</style>\n",
       "<table border=\"1\" class=\"dataframe\">\n",
       "  <thead>\n",
       "    <tr style=\"text-align: right;\">\n",
       "      <th></th>\n",
       "      <th>TV</th>\n",
       "      <th>radio</th>\n",
       "      <th>newspaper</th>\n",
       "      <th>sales</th>\n",
       "    </tr>\n",
       "  </thead>\n",
       "  <tbody>\n",
       "    <tr>\n",
       "      <th>0</th>\n",
       "      <td>230.1</td>\n",
       "      <td>37.8</td>\n",
       "      <td>69.2</td>\n",
       "      <td>22.1</td>\n",
       "    </tr>\n",
       "    <tr>\n",
       "      <th>1</th>\n",
       "      <td>44.5</td>\n",
       "      <td>39.3</td>\n",
       "      <td>45.1</td>\n",
       "      <td>10.4</td>\n",
       "    </tr>\n",
       "    <tr>\n",
       "      <th>2</th>\n",
       "      <td>17.2</td>\n",
       "      <td>45.9</td>\n",
       "      <td>69.3</td>\n",
       "      <td>9.3</td>\n",
       "    </tr>\n",
       "    <tr>\n",
       "      <th>3</th>\n",
       "      <td>151.5</td>\n",
       "      <td>41.3</td>\n",
       "      <td>58.5</td>\n",
       "      <td>18.5</td>\n",
       "    </tr>\n",
       "    <tr>\n",
       "      <th>4</th>\n",
       "      <td>180.8</td>\n",
       "      <td>10.8</td>\n",
       "      <td>58.4</td>\n",
       "      <td>12.9</td>\n",
       "    </tr>\n",
       "  </tbody>\n",
       "</table>\n",
       "</div>"
      ],
      "text/plain": [
       "      TV  radio  newspaper  sales\n",
       "0  230.1   37.8       69.2   22.1\n",
       "1   44.5   39.3       45.1   10.4\n",
       "2   17.2   45.9       69.3    9.3\n",
       "3  151.5   41.3       58.5   18.5\n",
       "4  180.8   10.8       58.4   12.9"
      ]
     },
     "execution_count": 9,
     "metadata": {},
     "output_type": "execute_result"
    }
   ],
   "source": [
    "data.head()"
   ]
  },
  {
   "cell_type": "markdown",
   "id": "7286b1ea",
   "metadata": {},
   "source": [
    "# Checking Null Values"
   ]
  },
  {
   "cell_type": "code",
   "execution_count": 10,
   "id": "67bcccd1",
   "metadata": {},
   "outputs": [
    {
     "data": {
      "text/plain": [
       "TV           0\n",
       "radio        0\n",
       "newspaper    0\n",
       "sales        0\n",
       "dtype: int64"
      ]
     },
     "execution_count": 10,
     "metadata": {},
     "output_type": "execute_result"
    }
   ],
   "source": [
    "data.isnull().sum()"
   ]
  },
  {
   "cell_type": "markdown",
   "id": "163e405f",
   "metadata": {},
   "source": [
    "# Checking the Datatype of columns"
   ]
  },
  {
   "cell_type": "code",
   "execution_count": 11,
   "id": "eb8fe8bf",
   "metadata": {},
   "outputs": [
    {
     "data": {
      "text/plain": [
       "TV           float64\n",
       "radio        float64\n",
       "newspaper    float64\n",
       "sales        float64\n",
       "dtype: object"
      ]
     },
     "execution_count": 11,
     "metadata": {},
     "output_type": "execute_result"
    }
   ],
   "source": [
    "data.dtypes"
   ]
  },
  {
   "cell_type": "markdown",
   "id": "31e9c469",
   "metadata": {},
   "source": [
    "### Lets find the zero values for radio"
   ]
  },
  {
   "cell_type": "code",
   "execution_count": 12,
   "id": "c0fa36f7",
   "metadata": {},
   "outputs": [
    {
     "data": {
      "text/html": [
       "<div>\n",
       "<style scoped>\n",
       "    .dataframe tbody tr th:only-of-type {\n",
       "        vertical-align: middle;\n",
       "    }\n",
       "\n",
       "    .dataframe tbody tr th {\n",
       "        vertical-align: top;\n",
       "    }\n",
       "\n",
       "    .dataframe thead th {\n",
       "        text-align: right;\n",
       "    }\n",
       "</style>\n",
       "<table border=\"1\" class=\"dataframe\">\n",
       "  <thead>\n",
       "    <tr style=\"text-align: right;\">\n",
       "      <th></th>\n",
       "      <th>TV</th>\n",
       "      <th>radio</th>\n",
       "      <th>newspaper</th>\n",
       "      <th>sales</th>\n",
       "    </tr>\n",
       "  </thead>\n",
       "  <tbody>\n",
       "    <tr>\n",
       "      <th>127</th>\n",
       "      <td>80.2</td>\n",
       "      <td>0.0</td>\n",
       "      <td>9.2</td>\n",
       "      <td>8.8</td>\n",
       "    </tr>\n",
       "  </tbody>\n",
       "</table>\n",
       "</div>"
      ],
      "text/plain": [
       "       TV  radio  newspaper  sales\n",
       "127  80.2    0.0        9.2    8.8"
      ]
     },
     "execution_count": 12,
     "metadata": {},
     "output_type": "execute_result"
    }
   ],
   "source": [
    "data.loc[data['radio']== 0]"
   ]
  },
  {
   "cell_type": "markdown",
   "id": "5e8d04d6",
   "metadata": {},
   "source": [
    "Here we can see that radio sale is 0 but TV and newspaper sale has happened so total sales also increased"
   ]
  },
  {
   "cell_type": "markdown",
   "id": "d61a3c5b",
   "metadata": {},
   "source": [
    "# Lets see the relationship between the features and the label using scatterplots"
   ]
  },
  {
   "cell_type": "code",
   "execution_count": 13,
   "id": "eb125202",
   "metadata": {},
   "outputs": [
    {
     "data": {
      "text/plain": [
       "<AxesSubplot:xlabel='newspaper', ylabel='sales'>"
      ]
     },
     "execution_count": 13,
     "metadata": {},
     "output_type": "execute_result"
    },
    {
     "data": {
      "image/png": "[encoded data removed]",
      "text/plain": [
       "<Figure size 1152x576 with 3 Axes>"
      ]
     },
     "metadata": {
      "needs_background": "light"
     },
     "output_type": "display_data"
    }
   ],
   "source": [
    "fig, axs= plt.subplots(1,3)\n",
    "data.plot(kind='scatter',x='TV',y='sales',ax=axs[0],figsize=(16,8))\n",
    "data.plot(kind='scatter',x='radio',y='sales',ax=axs[1])\n",
    "data.plot(kind='scatter',x='newspaper',y='sales',ax=axs[2])"
   ]
  },
  {
   "cell_type": "markdown",
   "id": "4e4a165c",
   "metadata": {},
   "source": [
    "# Describing the Data using heatmap"
   ]
  },
  {
   "cell_type": "code",
   "execution_count": 14,
   "id": "2990cfb6",
   "metadata": {},
   "outputs": [
    {
     "data": {
      "text/plain": [
       "<AxesSubplot:>"
      ]
     },
     "execution_count": 14,
     "metadata": {},
     "output_type": "execute_result"
    },
    {
     "data": {
      "image/png": "[encoded data removed]",
      "text/plain": [
       "<Figure size 1584x504 with 2 Axes>"
      ]
     },
     "metadata": {
      "needs_background": "light"
     },
     "output_type": "display_data"
    }
   ],
   "source": [
    "import matplotlib.pyplot as plt\n",
    "plt.figure(figsize=(22,7))\n",
    "sns.heatmap(data.describe(),annot = True, linewidths = 0.1,linecolor=\"black\",fmt= \"0.2f\")"
   ]
  },
  {
   "cell_type": "markdown",
   "id": "08c3853d",
   "metadata": {},
   "source": [
    "# Correlation of the columns with the target columns :\n"
   ]
  },
  {
   "cell_type": "code",
   "execution_count": 15,
   "id": "293c6897",
   "metadata": {},
   "outputs": [
    {
     "data": {
      "text/html": [
       "<div>\n",
       "<style scoped>\n",
       "    .dataframe tbody tr th:only-of-type {\n",
       "        vertical-align: middle;\n",
       "    }\n",
       "\n",
       "    .dataframe tbody tr th {\n",
       "        vertical-align: top;\n",
       "    }\n",
       "\n",
       "    .dataframe thead th {\n",
       "        text-align: right;\n",
       "    }\n",
       "</style>\n",
       "<table border=\"1\" class=\"dataframe\">\n",
       "  <thead>\n",
       "    <tr style=\"text-align: right;\">\n",
       "      <th></th>\n",
       "      <th>TV</th>\n",
       "      <th>radio</th>\n",
       "      <th>newspaper</th>\n",
       "      <th>sales</th>\n",
       "    </tr>\n",
       "  </thead>\n",
       "  <tbody>\n",
       "    <tr>\n",
       "      <th>TV</th>\n",
       "      <td>1.000000</td>\n",
       "      <td>0.054809</td>\n",
       "      <td>0.056648</td>\n",
       "      <td>0.782224</td>\n",
       "    </tr>\n",
       "    <tr>\n",
       "      <th>radio</th>\n",
       "      <td>0.054809</td>\n",
       "      <td>1.000000</td>\n",
       "      <td>0.354104</td>\n",
       "      <td>0.576223</td>\n",
       "    </tr>\n",
       "    <tr>\n",
       "      <th>newspaper</th>\n",
       "      <td>0.056648</td>\n",
       "      <td>0.354104</td>\n",
       "      <td>1.000000</td>\n",
       "      <td>0.228299</td>\n",
       "    </tr>\n",
       "    <tr>\n",
       "      <th>sales</th>\n",
       "      <td>0.782224</td>\n",
       "      <td>0.576223</td>\n",
       "      <td>0.228299</td>\n",
       "      <td>1.000000</td>\n",
       "    </tr>\n",
       "  </tbody>\n",
       "</table>\n",
       "</div>"
      ],
      "text/plain": [
       "                 TV     radio  newspaper     sales\n",
       "TV         1.000000  0.054809   0.056648  0.782224\n",
       "radio      0.054809  1.000000   0.354104  0.576223\n",
       "newspaper  0.056648  0.354104   1.000000  0.228299\n",
       "sales      0.782224  0.576223   0.228299  1.000000"
      ]
     },
     "execution_count": 15,
     "metadata": {},
     "output_type": "execute_result"
    }
   ],
   "source": [
    "data.corr()"
   ]
  },
  {
   "cell_type": "markdown",
   "id": "76a26266",
   "metadata": {},
   "source": [
    "plt.figure(figsize=(20,7))\n",
    "sns.heatmap(data.corr(),annot = True, linewidths = 0.1,linecolor=\"black\",fmt= \"0.2f\")"
   ]
  },
  {
   "cell_type": "markdown",
   "id": "470c3e4b",
   "metadata": {},
   "source": [
    "# Lets check the Skewness"
   ]
  },
  {
   "cell_type": "code",
   "execution_count": 16,
   "id": "30f71842",
   "metadata": {},
   "outputs": [
    {
     "data": {
      "text/plain": [
       "TV          -0.069853\n",
       "radio        0.094175\n",
       "newspaper    0.894720\n",
       "sales        0.407571\n",
       "dtype: float64"
      ]
     },
     "execution_count": 16,
     "metadata": {},
     "output_type": "execute_result"
    }
   ],
   "source": [
    "data.skew()"
   ]
  },
  {
   "cell_type": "markdown",
   "id": "b225b87f",
   "metadata": {},
   "source": [
    "Keeping +/-0.5 as range of skewness, here are the columns which does not lie within the Range\n",
    "\n",
    "\n",
    "Sales - target variable\n",
    "\n",
    "TV is in between range\n",
    "\n",
    "Radio is in between range\n",
    "\n",
    "Newspaper is slightly positively skewed"
   ]
  },
  {
   "cell_type": "markdown",
   "id": "f4c9ac05",
   "metadata": {},
   "source": [
    "# Outliers Check"
   ]
  },
  {
   "cell_type": "code",
   "execution_count": 17,
   "id": "5293d640",
   "metadata": {},
   "outputs": [
    {
     "data": {
      "text/plain": [
       "TV           float64\n",
       "radio        float64\n",
       "newspaper    float64\n",
       "sales        float64\n",
       "dtype: object"
      ]
     },
     "execution_count": 17,
     "metadata": {},
     "output_type": "execute_result"
    }
   ],
   "source": [
    "data.dtypes"
   ]
  },
  {
   "cell_type": "code",
   "execution_count": 18,
   "id": "0d82fd6f",
   "metadata": {},
   "outputs": [
    {
     "data": {
      "text/plain": [
       "<AxesSubplot:>"
      ]
     },
     "execution_count": 18,
     "metadata": {},
     "output_type": "execute_result"
    },
    {
     "data": {
      "image/png": "[encoded data removed]",
      "text/plain": [
       "<Figure size 432x288 with 1 Axes>"
      ]
     },
     "metadata": {
      "needs_background": "light"
     },
     "output_type": "display_data"
    }
   ],
   "source": [
    "data['TV'].plot.box()"
   ]
  },
  {
   "cell_type": "code",
   "execution_count": 19,
   "id": "d98428af",
   "metadata": {},
   "outputs": [
    {
     "data": {
      "text/plain": [
       "<AxesSubplot:>"
      ]
     },
     "execution_count": 19,
     "metadata": {},
     "output_type": "execute_result"
    },
    {
     "data": {
      "image/png": "[encoded data removed]",
      "text/plain": [
       "<Figure size 432x288 with 1 Axes>"
      ]
     },
     "metadata": {
      "needs_background": "light"
     },
     "output_type": "display_data"
    }
   ],
   "source": [
    " data['radio'].plot.box()"
   ]
  },
  {
   "cell_type": "code",
   "execution_count": 20,
   "id": "3f52ddef",
   "metadata": {},
   "outputs": [
    {
     "data": {
      "text/plain": [
       "<AxesSubplot:>"
      ]
     },
     "execution_count": 20,
     "metadata": {},
     "output_type": "execute_result"
    },
    {
     "data": {
      "image/png": "[encoded data removed]",
      "text/plain": [
       "<Figure size 432x288 with 1 Axes>"
      ]
     },
     "metadata": {
      "needs_background": "light"
     },
     "output_type": "display_data"
    }
   ],
   "source": [
    " data['newspaper'].plot.box()"
   ]
  },
  {
   "cell_type": "markdown",
   "id": "9568d980",
   "metadata": {},
   "source": [
    "# Considering the Outlier removal"
   ]
  },
  {
   "cell_type": "code",
   "execution_count": 21,
   "id": "aee5ecdb",
   "metadata": {},
   "outputs": [
    {
     "data": {
      "text/plain": [
       "(200, 4)"
      ]
     },
     "execution_count": 21,
     "metadata": {},
     "output_type": "execute_result"
    }
   ],
   "source": [
    "data.shape"
   ]
  },
  {
   "cell_type": "code",
   "execution_count": 22,
   "id": "233ac734",
   "metadata": {},
   "outputs": [
    {
     "data": {
      "text/plain": [
       "(array([ 16, 101], dtype=int64), array([2, 2], dtype=int64))"
      ]
     },
     "execution_count": 22,
     "metadata": {},
     "output_type": "execute_result"
    }
   ],
   "source": [
    "from scipy.stats import zscore\n",
    "import numpy as np\n",
    "z= np.abs(zscore(data))\n",
    "threshold =3 \n",
    "np.where(z>3)"
   ]
  },
  {
   "cell_type": "code",
   "execution_count": 23,
   "id": "8a1455eb",
   "metadata": {},
   "outputs": [
    {
     "data": {
      "text/html": [
       "<div>\n",
       "<style scoped>\n",
       "    .dataframe tbody tr th:only-of-type {\n",
       "        vertical-align: middle;\n",
       "    }\n",
       "\n",
       "    .dataframe tbody tr th {\n",
       "        vertical-align: top;\n",
       "    }\n",
       "\n",
       "    .dataframe thead th {\n",
       "        text-align: right;\n",
       "    }\n",
       "</style>\n",
       "<table border=\"1\" class=\"dataframe\">\n",
       "  <thead>\n",
       "    <tr style=\"text-align: right;\">\n",
       "      <th></th>\n",
       "      <th>TV</th>\n",
       "      <th>radio</th>\n",
       "      <th>newspaper</th>\n",
       "      <th>sales</th>\n",
       "    </tr>\n",
       "  </thead>\n",
       "  <tbody>\n",
       "    <tr>\n",
       "      <th>0</th>\n",
       "      <td>230.1</td>\n",
       "      <td>37.8</td>\n",
       "      <td>69.2</td>\n",
       "      <td>22.1</td>\n",
       "    </tr>\n",
       "    <tr>\n",
       "      <th>1</th>\n",
       "      <td>44.5</td>\n",
       "      <td>39.3</td>\n",
       "      <td>45.1</td>\n",
       "      <td>10.4</td>\n",
       "    </tr>\n",
       "    <tr>\n",
       "      <th>2</th>\n",
       "      <td>17.2</td>\n",
       "      <td>45.9</td>\n",
       "      <td>69.3</td>\n",
       "      <td>9.3</td>\n",
       "    </tr>\n",
       "    <tr>\n",
       "      <th>3</th>\n",
       "      <td>151.5</td>\n",
       "      <td>41.3</td>\n",
       "      <td>58.5</td>\n",
       "      <td>18.5</td>\n",
       "    </tr>\n",
       "    <tr>\n",
       "      <th>4</th>\n",
       "      <td>180.8</td>\n",
       "      <td>10.8</td>\n",
       "      <td>58.4</td>\n",
       "      <td>12.9</td>\n",
       "    </tr>\n",
       "    <tr>\n",
       "      <th>...</th>\n",
       "      <td>...</td>\n",
       "      <td>...</td>\n",
       "      <td>...</td>\n",
       "      <td>...</td>\n",
       "    </tr>\n",
       "    <tr>\n",
       "      <th>195</th>\n",
       "      <td>38.2</td>\n",
       "      <td>3.7</td>\n",
       "      <td>13.8</td>\n",
       "      <td>7.6</td>\n",
       "    </tr>\n",
       "    <tr>\n",
       "      <th>196</th>\n",
       "      <td>94.2</td>\n",
       "      <td>4.9</td>\n",
       "      <td>8.1</td>\n",
       "      <td>9.7</td>\n",
       "    </tr>\n",
       "    <tr>\n",
       "      <th>197</th>\n",
       "      <td>177.0</td>\n",
       "      <td>9.3</td>\n",
       "      <td>6.4</td>\n",
       "      <td>12.8</td>\n",
       "    </tr>\n",
       "    <tr>\n",
       "      <th>198</th>\n",
       "      <td>283.6</td>\n",
       "      <td>42.0</td>\n",
       "      <td>66.2</td>\n",
       "      <td>25.5</td>\n",
       "    </tr>\n",
       "    <tr>\n",
       "      <th>199</th>\n",
       "      <td>232.1</td>\n",
       "      <td>8.6</td>\n",
       "      <td>8.7</td>\n",
       "      <td>13.4</td>\n",
       "    </tr>\n",
       "  </tbody>\n",
       "</table>\n",
       "<p>198 rows × 4 columns</p>\n",
       "</div>"
      ],
      "text/plain": [
       "        TV  radio  newspaper  sales\n",
       "0    230.1   37.8       69.2   22.1\n",
       "1     44.5   39.3       45.1   10.4\n",
       "2     17.2   45.9       69.3    9.3\n",
       "3    151.5   41.3       58.5   18.5\n",
       "4    180.8   10.8       58.4   12.9\n",
       "..     ...    ...        ...    ...\n",
       "195   38.2    3.7       13.8    7.6\n",
       "196   94.2    4.9        8.1    9.7\n",
       "197  177.0    9.3        6.4   12.8\n",
       "198  283.6   42.0       66.2   25.5\n",
       "199  232.1    8.6        8.7   13.4\n",
       "\n",
       "[198 rows x 4 columns]"
      ]
     },
     "execution_count": 23,
     "metadata": {},
     "output_type": "execute_result"
    }
   ],
   "source": [
    "data_new_z = data[(z<3).all(axis=1)]\n",
    "data_new_z"
   ]
  },
  {
   "cell_type": "code",
   "execution_count": 24,
   "id": "d9dc3014",
   "metadata": {},
   "outputs": [
    {
     "data": {
      "text/plain": [
       "(198, 4)"
      ]
     },
     "execution_count": 24,
     "metadata": {},
     "output_type": "execute_result"
    }
   ],
   "source": [
    "data_new_z.shape"
   ]
  },
  {
   "cell_type": "markdown",
   "id": "b4b4c694",
   "metadata": {},
   "source": [
    "# Percentage of Loss of data:"
   ]
  },
  {
   "cell_type": "code",
   "execution_count": 25,
   "id": "ef534879",
   "metadata": {},
   "outputs": [],
   "source": [
    "data_loss = ((200-198)/200)*100"
   ]
  },
  {
   "cell_type": "code",
   "execution_count": 26,
   "id": "c2ccb222",
   "metadata": {},
   "outputs": [
    {
     "data": {
      "text/plain": [
       "1.0"
      ]
     },
     "execution_count": 26,
     "metadata": {},
     "output_type": "execute_result"
    }
   ],
   "source": [
    "data_loss"
   ]
  },
  {
   "cell_type": "markdown",
   "id": "45429dcc",
   "metadata": {},
   "source": [
    "around 1% of Data has been loss."
   ]
  },
  {
   "cell_type": "code",
   "execution_count": 27,
   "id": "151f1f90",
   "metadata": {},
   "outputs": [
    {
     "data": {
      "text/plain": [
       "TV          -0.082332\n",
       "radio        0.114842\n",
       "newspaper    0.650112\n",
       "sales        0.407130\n",
       "dtype: float64"
      ]
     },
     "execution_count": 27,
     "metadata": {},
     "output_type": "execute_result"
    }
   ],
   "source": [
    "data_new_z.skew()"
   ]
  },
  {
   "cell_type": "markdown",
   "id": "65f10b5c",
   "metadata": {},
   "source": [
    "Now we can see that skewness is reduced"
   ]
  },
  {
   "cell_type": "markdown",
   "id": "fbac0d53",
   "metadata": {},
   "source": [
    "# Seperating the columns into features and target :"
   ]
  },
  {
   "cell_type": "code",
   "execution_count": 28,
   "id": "0c46fd5e",
   "metadata": {},
   "outputs": [],
   "source": [
    "features = data.drop([\"sales\"],axis=1)\n",
    "target = data[\"sales\"]"
   ]
  },
  {
   "cell_type": "code",
   "execution_count": 29,
   "id": "65638757",
   "metadata": {},
   "outputs": [],
   "source": [
    "from sklearn.preprocessing import MinMaxScaler\n",
    "mms = MinMaxScaler()\n",
    "from sklearn.linear_model import LinearRegression\n",
    "lr = LinearRegression()\n",
    "from sklearn.metrics import r2_score\n",
    "from sklearn.model_selection import train_test_split"
   ]
  },
  {
   "cell_type": "code",
   "execution_count": 30,
   "id": "494023a9",
   "metadata": {},
   "outputs": [
    {
     "name": "stdout",
     "output_type": "stream",
     "text": [
      " At random state0, the training accuracy is: 0.9072183330817297\n",
      " At random state 0, the testing accuracy is: 0.8576396745320892\n",
      "\n",
      "\n",
      " At random state1, the training accuracy is: 0.890307557755665\n",
      " At random state 1, the testing accuracy is: 0.9156213613792232\n",
      "\n",
      "\n",
      " At random state2, the training accuracy is: 0.9322395888715463\n",
      " At random state 2, the testing accuracy is: 0.7558194773721318\n",
      "\n",
      "\n",
      " At random state3, the training accuracy is: 0.9009381215792123\n",
      " At random state 3, the testing accuracy is: 0.8829078884253615\n",
      "\n",
      "\n",
      " At random state4, the training accuracy is: 0.8893590351773576\n",
      " At random state 4, the testing accuracy is: 0.9157191830180073\n",
      "\n",
      "\n",
      " At random state5, the training accuracy is: 0.9002172879046075\n",
      " At random state 5, the testing accuracy is: 0.8838181418224292\n",
      "\n",
      "\n",
      " At random state6, the training accuracy is: 0.8927531633218303\n",
      " At random state 6, the testing accuracy is: 0.9117236844712061\n",
      "\n",
      "\n",
      " At random state7, the training accuracy is: 0.8933316510408247\n",
      " At random state 7, the testing accuracy is: 0.9044150723953952\n",
      "\n",
      "\n",
      " At random state8, the training accuracy is: 0.9048782574877019\n",
      " At random state 8, the testing accuracy is: 0.866775808459759\n",
      "\n",
      "\n",
      " At random state9, the training accuracy is: 0.8924238900081068\n",
      " At random state 9, the testing accuracy is: 0.9071997508423262\n",
      "\n",
      "\n",
      " At random state10, the training accuracy is: 0.9238935852366272\n",
      " At random state 10, the testing accuracy is: 0.836684397405523\n",
      "\n",
      "\n",
      " At random state11, the training accuracy is: 0.9013302167604124\n",
      " At random state 11, the testing accuracy is: 0.8692372171143041\n",
      "\n",
      "\n",
      " At random state12, the training accuracy is: 0.8924071311819637\n",
      " At random state 12, the testing accuracy is: 0.9074967628613594\n",
      "\n",
      "\n",
      " At random state13, the training accuracy is: 0.8812450854813199\n",
      " At random state 13, the testing accuracy is: 0.9329679186406996\n",
      "\n",
      "\n",
      " At random state14, the training accuracy is: 0.9059811324115422\n",
      " At random state 14, the testing accuracy is: 0.869787402535798\n",
      "\n",
      "\n",
      " At random state15, the training accuracy is: 0.8937027182030528\n",
      " At random state 15, the testing accuracy is: 0.9042108940079047\n",
      "\n",
      "\n",
      " At random state16, the training accuracy is: 0.8941310904142987\n",
      " At random state 16, the testing accuracy is: 0.9063440181751056\n",
      "\n",
      "\n",
      " At random state17, the training accuracy is: 0.9111223376326951\n",
      " At random state 17, the testing accuracy is: 0.8429263407537217\n",
      "\n",
      "\n",
      " At random state18, the training accuracy is: 0.9043115193928353\n",
      " At random state 18, the testing accuracy is: 0.8768164503326361\n",
      "\n",
      "\n",
      " At random state19, the training accuracy is: 0.8942860106372139\n",
      " At random state 19, the testing accuracy is: 0.8982572127330379\n",
      "\n",
      "\n",
      " At random state20, the training accuracy is: 0.9115679170982784\n",
      " At random state 20, the testing accuracy is: 0.8601993386354956\n",
      "\n",
      "\n",
      " At random state21, the training accuracy is: 0.8851029461177776\n",
      " At random state 21, the testing accuracy is: 0.9219136041031583\n",
      "\n",
      "\n",
      " At random state22, the training accuracy is: 0.8906528393320297\n",
      " At random state 22, the testing accuracy is: 0.9144692690504648\n",
      "\n",
      "\n",
      " At random state23, the training accuracy is: 0.8849819470841145\n",
      " At random state 23, the testing accuracy is: 0.9197128083738796\n",
      "\n",
      "\n",
      " At random state24, the training accuracy is: 0.8995404938216159\n",
      " At random state 24, the testing accuracy is: 0.8877732345406748\n",
      "\n",
      "\n",
      " At random state25, the training accuracy is: 0.9008615611476412\n",
      " At random state 25, the testing accuracy is: 0.8812441427551715\n",
      "\n",
      "\n",
      " At random state26, the training accuracy is: 0.9004356630519595\n",
      " At random state 26, the testing accuracy is: 0.8778867145626432\n",
      "\n",
      "\n",
      " At random state27, the training accuracy is: 0.8962666784862754\n",
      " At random state 27, the testing accuracy is: 0.8969447297214868\n",
      "\n",
      "\n",
      " At random state28, the training accuracy is: 0.8932670851789962\n",
      " At random state 28, the testing accuracy is: 0.9051411159792939\n",
      "\n",
      "\n",
      " At random state29, the training accuracy is: 0.8909428804327668\n",
      " At random state 29, the testing accuracy is: 0.9001120338383458\n",
      "\n",
      "\n",
      " At random state30, the training accuracy is: 0.8875044615609622\n",
      " At random state 30, the testing accuracy is: 0.9191674086367524\n",
      "\n",
      "\n",
      " At random state31, the training accuracy is: 0.8853095593446951\n",
      " At random state 31, the testing accuracy is: 0.9274788307471853\n",
      "\n",
      "\n",
      " At random state32, the training accuracy is: 0.916656791916533\n",
      " At random state 32, the testing accuracy is: 0.8244009632239099\n",
      "\n",
      "\n",
      " At random state33, the training accuracy is: 0.8873786414956053\n",
      " At random state 33, the testing accuracy is: 0.9217933306319247\n",
      "\n",
      "\n",
      " At random state34, the training accuracy is: 0.8945374730764291\n",
      " At random state 34, the testing accuracy is: 0.9016142017731229\n",
      "\n",
      "\n",
      " At random state35, the training accuracy is: 0.9196283835709537\n",
      " At random state 35, the testing accuracy is: 0.7747938634678531\n",
      "\n",
      "\n",
      " At random state36, the training accuracy is: 0.8913256922620638\n",
      " At random state 36, the testing accuracy is: 0.9127563183970623\n",
      "\n",
      "\n",
      " At random state37, the training accuracy is: 0.9007855652944046\n",
      " At random state 37, the testing accuracy is: 0.8797183787611138\n",
      "\n",
      "\n",
      " At random state38, the training accuracy is: 0.8971393697356236\n",
      " At random state 38, the testing accuracy is: 0.8929040119659396\n",
      "\n",
      "\n",
      " At random state39, the training accuracy is: 0.892067651569716\n",
      " At random state 39, the testing accuracy is: 0.9067416005164272\n",
      "\n",
      "\n",
      " At random state40, the training accuracy is: 0.9192570260068288\n",
      " At random state 40, the testing accuracy is: 0.8180628772556525\n",
      "\n",
      "\n",
      " At random state41, the training accuracy is: 0.8966507194313771\n",
      " At random state 41, the testing accuracy is: 0.8962913252219633\n",
      "\n",
      "\n",
      " At random state42, the training accuracy is: 0.8966445527601499\n",
      " At random state 42, the testing accuracy is: 0.8935163320163657\n",
      "\n",
      "\n",
      " At random state43, the training accuracy is: 0.8854273016843555\n",
      " At random state 43, the testing accuracy is: 0.9288546462999523\n",
      "\n",
      "\n",
      " At random state44, the training accuracy is: 0.9075488068625788\n",
      " At random state 44, the testing accuracy is: 0.8305483472800643\n",
      "\n",
      "\n",
      " At random state45, the training accuracy is: 0.8932517725435435\n",
      " At random state 45, the testing accuracy is: 0.9035487616562967\n",
      "\n",
      "\n",
      " At random state46, the training accuracy is: 0.9001827619155377\n",
      " At random state 46, the testing accuracy is: 0.8695983142378588\n",
      "\n",
      "\n",
      " At random state47, the training accuracy is: 0.9115017572364001\n",
      " At random state 47, the testing accuracy is: 0.8391648650488279\n",
      "\n",
      "\n",
      " At random state48, the training accuracy is: 0.8867267994361421\n",
      " At random state 48, the testing accuracy is: 0.9259957588047338\n",
      "\n",
      "\n",
      " At random state49, the training accuracy is: 0.9207934101214614\n",
      " At random state 49, the testing accuracy is: 0.8049578006977756\n",
      "\n",
      "\n",
      " At random state50, the training accuracy is: 0.898584211518602\n",
      " At random state 50, the testing accuracy is: 0.8789006652994477\n",
      "\n",
      "\n",
      " At random state51, the training accuracy is: 0.893122997061015\n",
      " At random state 51, the testing accuracy is: 0.9019163360048592\n",
      "\n",
      "\n",
      " At random state52, the training accuracy is: 0.8981987567542196\n",
      " At random state 52, the testing accuracy is: 0.8913454190688574\n",
      "\n",
      "\n",
      " At random state53, the training accuracy is: 0.8885117140639792\n",
      " At random state 53, the testing accuracy is: 0.9193010386229922\n",
      "\n",
      "\n",
      " At random state54, the training accuracy is: 0.8900894304659701\n",
      " At random state 54, the testing accuracy is: 0.9187017470701986\n",
      "\n",
      "\n",
      " At random state55, the training accuracy is: 0.892990751586333\n",
      " At random state 55, the testing accuracy is: 0.9057620181752584\n",
      "\n",
      "\n",
      " At random state56, the training accuracy is: 0.8986882561155823\n",
      " At random state 56, the testing accuracy is: 0.8906299261177036\n",
      "\n",
      "\n",
      " At random state57, the training accuracy is: 0.8846483257359762\n",
      " At random state 57, the testing accuracy is: 0.9306432988266021\n",
      "\n",
      "\n",
      " At random state58, the training accuracy is: 0.9221463629713987\n",
      " At random state 58, the testing accuracy is: 0.827089434535344\n",
      "\n",
      "\n",
      " At random state59, the training accuracy is: 0.8858207113659384\n",
      " At random state 59, the testing accuracy is: 0.9245240133969751\n",
      "\n",
      "\n",
      " At random state60, the training accuracy is: 0.8888915805800683\n",
      " At random state 60, the testing accuracy is: 0.9155306477114973\n",
      "\n",
      "\n",
      " At random state61, the training accuracy is: 0.897961090414086\n",
      " At random state 61, the testing accuracy is: 0.892724625134608\n",
      "\n",
      "\n",
      " At random state62, the training accuracy is: 0.9124914339822602\n",
      " At random state 62, the testing accuracy is: 0.8516790241586175\n",
      "\n",
      "\n",
      " At random state63, the training accuracy is: 0.8997129310546098\n",
      " At random state 63, the testing accuracy is: 0.8798390636738596\n",
      "\n",
      "\n",
      " At random state64, the training accuracy is: 0.9090007428485054\n",
      " At random state 64, the testing accuracy is: 0.8620749667277625\n",
      "\n",
      "\n",
      " At random state65, the training accuracy is: 0.890683859267025\n",
      " At random state 65, the testing accuracy is: 0.9143098304237811\n",
      "\n",
      "\n",
      " At random state66, the training accuracy is: 0.9028589209957651\n",
      " At random state 66, the testing accuracy is: 0.8797817114430063\n"
     ]
    },
    {
     "name": "stdout",
     "output_type": "stream",
     "text": [
      "\n",
      "\n",
      " At random state67, the training accuracy is: 0.8988738689681309\n",
      " At random state 67, the testing accuracy is: 0.8867958519614397\n",
      "\n",
      "\n",
      " At random state68, the training accuracy is: 0.8957409092383819\n",
      " At random state 68, the testing accuracy is: 0.8871963829854729\n",
      "\n",
      "\n",
      " At random state69, the training accuracy is: 0.8821708825937394\n",
      " At random state 69, the testing accuracy is: 0.9288427743492059\n",
      "\n",
      "\n",
      " At random state70, the training accuracy is: 0.8886677385730575\n",
      " At random state 70, the testing accuracy is: 0.9086686660884564\n",
      "\n",
      "\n",
      " At random state71, the training accuracy is: 0.9161189244189819\n",
      " At random state 71, the testing accuracy is: 0.8280673461167763\n",
      "\n",
      "\n",
      " At random state72, the training accuracy is: 0.892110246399269\n",
      " At random state 72, the testing accuracy is: 0.9083391029437632\n",
      "\n",
      "\n",
      " At random state73, the training accuracy is: 0.9118827424311392\n",
      " At random state 73, the testing accuracy is: 0.8383891745736054\n",
      "\n",
      "\n",
      " At random state74, the training accuracy is: 0.8979045646881902\n",
      " At random state 74, the testing accuracy is: 0.8840099753755182\n",
      "\n",
      "\n",
      " At random state75, the training accuracy is: 0.8896641102785563\n",
      " At random state 75, the testing accuracy is: 0.9130868371898684\n",
      "\n",
      "\n",
      " At random state76, the training accuracy is: 0.9048867960504854\n",
      " At random state 76, the testing accuracy is: 0.854014394718206\n",
      "\n",
      "\n",
      " At random state77, the training accuracy is: 0.8883278376574346\n",
      " At random state 77, the testing accuracy is: 0.92193349094449\n",
      "\n",
      "\n",
      " At random state78, the training accuracy is: 0.8943734304141384\n",
      " At random state 78, the testing accuracy is: 0.9039730701385864\n",
      "\n",
      "\n",
      " At random state79, the training accuracy is: 0.8895109018765757\n",
      " At random state 79, the testing accuracy is: 0.9078243420563884\n",
      "\n",
      "\n",
      " At random state80, the training accuracy is: 0.9091822577142286\n",
      " At random state 80, the testing accuracy is: 0.8591642655025514\n",
      "\n",
      "\n",
      " At random state81, the training accuracy is: 0.901712566327286\n",
      " At random state 81, the testing accuracy is: 0.8791024370689235\n",
      "\n",
      "\n",
      " At random state82, the training accuracy is: 0.9150602916015197\n",
      " At random state 82, the testing accuracy is: 0.8281757952511547\n",
      "\n",
      "\n",
      " At random state83, the training accuracy is: 0.8871638043280671\n",
      " At random state 83, the testing accuracy is: 0.9168726382801216\n",
      "\n",
      "\n",
      " At random state84, the training accuracy is: 0.8887480006884748\n",
      " At random state 84, the testing accuracy is: 0.9166537674543114\n",
      "\n",
      "\n",
      " At random state85, the training accuracy is: 0.9075758547585554\n",
      " At random state 85, the testing accuracy is: 0.8575876458943543\n",
      "\n",
      "\n",
      " At random state86, the training accuracy is: 0.9078346250743309\n",
      " At random state 86, the testing accuracy is: 0.8668985217062709\n",
      "\n",
      "\n",
      " At random state87, the training accuracy is: 0.9102908294292745\n",
      " At random state 87, the testing accuracy is: 0.8458749641721199\n",
      "\n",
      "\n",
      " At random state88, the training accuracy is: 0.9080048348940353\n",
      " At random state 88, the testing accuracy is: 0.8596416485962017\n",
      "\n",
      "\n",
      " At random state89, the training accuracy is: 0.9013930478372114\n",
      " At random state 89, the testing accuracy is: 0.8736827496134012\n",
      "\n",
      "\n",
      " At random state90, the training accuracy is: 0.9055892665964385\n",
      " At random state 90, the testing accuracy is: 0.8428243401966475\n",
      "\n",
      "\n",
      " At random state91, the training accuracy is: 0.8809101690909145\n",
      " At random state 91, the testing accuracy is: 0.9139745973467448\n",
      "\n",
      "\n",
      " At random state92, the training accuracy is: 0.8884599284291863\n",
      " At random state 92, the testing accuracy is: 0.9181906443189416\n",
      "\n",
      "\n",
      " At random state93, the training accuracy is: 0.898591876884947\n",
      " At random state 93, the testing accuracy is: 0.8892413042518231\n",
      "\n",
      "\n",
      " At random state94, the training accuracy is: 0.9039468958039526\n",
      " At random state 94, the testing accuracy is: 0.878944196552609\n",
      "\n",
      "\n",
      " At random state95, the training accuracy is: 0.8863455433096642\n",
      " At random state 95, the testing accuracy is: 0.9074438760288213\n",
      "\n",
      "\n",
      " At random state96, the training accuracy is: 0.9024534489343956\n",
      " At random state 96, the testing accuracy is: 0.8671498692717092\n",
      "\n",
      "\n",
      " At random state97, the training accuracy is: 0.8949567352942828\n",
      " At random state 97, the testing accuracy is: 0.8925580337393877\n",
      "\n",
      "\n",
      " At random state98, the training accuracy is: 0.88645290923693\n",
      " At random state 98, the testing accuracy is: 0.9193602759573389\n",
      "\n",
      "\n",
      " At random state99, the training accuracy is: 0.8884309168287349\n",
      " At random state 99, the testing accuracy is: 0.9175057618627588\n",
      "\n",
      "\n",
      " At random state100, the training accuracy is: 0.89436812387285\n",
      " At random state 100, the testing accuracy is: 0.9018593061633755\n",
      "\n",
      "\n",
      " At random state101, the training accuracy is: 0.8865137139252313\n",
      " At random state 101, the testing accuracy is: 0.9246764680774093\n",
      "\n",
      "\n",
      " At random state102, the training accuracy is: 0.8967988120789001\n",
      " At random state 102, the testing accuracy is: 0.8974212781761611\n",
      "\n",
      "\n",
      " At random state103, the training accuracy is: 0.8929264297089242\n",
      " At random state 103, the testing accuracy is: 0.9102645866747083\n",
      "\n",
      "\n",
      " At random state104, the training accuracy is: 0.9143281119949465\n",
      " At random state 104, the testing accuracy is: 0.8516570389340615\n",
      "\n",
      "\n",
      " At random state105, the training accuracy is: 0.8967960413086054\n",
      " At random state 105, the testing accuracy is: 0.8941183115592793\n",
      "\n",
      "\n",
      " At random state106, the training accuracy is: 0.8956339255834926\n",
      " At random state 106, the testing accuracy is: 0.9011287270758334\n",
      "\n",
      "\n",
      " At random state107, the training accuracy is: 0.9081435524560095\n",
      " At random state 107, the testing accuracy is: 0.8646269565829516\n",
      "\n",
      "\n",
      " At random state108, the training accuracy is: 0.8959921123144354\n",
      " At random state 108, the testing accuracy is: 0.8954210749350504\n",
      "\n",
      "\n",
      " At random state109, the training accuracy is: 0.9132414904106033\n",
      " At random state 109, the testing accuracy is: 0.8608019001677992\n",
      "\n",
      "\n",
      " At random state110, the training accuracy is: 0.8878817644932182\n",
      " At random state 110, the testing accuracy is: 0.9185941910296741\n",
      "\n",
      "\n",
      " At random state111, the training accuracy is: 0.9108403854394758\n",
      " At random state 111, the testing accuracy is: 0.8693505685953098\n",
      "\n",
      "\n",
      " At random state112, the training accuracy is: 0.8936578642779059\n",
      " At random state 112, the testing accuracy is: 0.9069925502694255\n",
      "\n",
      "\n",
      " At random state113, the training accuracy is: 0.8891380280666055\n",
      " At random state 113, the testing accuracy is: 0.9223330219812257\n",
      "\n",
      "\n",
      " At random state114, the training accuracy is: 0.8980592614931943\n",
      " At random state 114, the testing accuracy is: 0.8887223826273932\n",
      "\n",
      "\n",
      " At random state115, the training accuracy is: 0.8862741679553272\n",
      " At random state 115, the testing accuracy is: 0.9170486047913196\n",
      "\n",
      "\n",
      " At random state116, the training accuracy is: 0.9022002095585189\n",
      " At random state 116, the testing accuracy is: 0.8774854771041991\n",
      "\n",
      "\n",
      " At random state117, the training accuracy is: 0.8920614479061996\n",
      " At random state 117, the testing accuracy is: 0.9035348562815876\n",
      "\n",
      "\n",
      " At random state118, the training accuracy is: 0.8936756072446699\n",
      " At random state 118, the testing accuracy is: 0.906669228179767\n",
      "\n",
      "\n",
      " At random state119, the training accuracy is: 0.9173667719995381\n",
      " At random state 119, the testing accuracy is: 0.8091584458271209\n",
      "\n",
      "\n"
     ]
    }
   ],
   "source": [
    "rr1_max =0\n",
    "rr2_max = 0\n",
    "for i in range(0,120):\n",
    "    features_train,features_test,target_train,target_test=train_test_split(features,target,test_size=0.25,random_state=i)\n",
    "    lr.fit(features_train,target_train)\n",
    "    pred_train=lr.predict(features_train)\n",
    "    pred_test=lr.predict(features_test)\n",
    "    print(f\" At random state{i}, the training accuracy is: {r2_score(target_train,pred_train)}\")\n",
    "    rr1 = r2_score(target_train,pred_train)\n",
    "    print(f\" At random state {i}, the testing accuracy is: {r2_score(target_test,pred_test)}\")\n",
    "    rr2 = r2_score(target_test,pred_test)\n",
    "    print(\"\\n\")"
   ]
  },
  {
   "cell_type": "markdown",
   "id": "2eda5b3b",
   "metadata": {},
   "source": [
    "We will take 101 as random state as it is giving best accuracy for train and test data"
   ]
  },
  {
   "cell_type": "code",
   "execution_count": 31,
   "id": "c9061dc0",
   "metadata": {},
   "outputs": [],
   "source": [
    "features_train,features_test,target_train,target_test= train_test_split(features,target,test_size=0.25, random_state= 101)"
   ]
  },
  {
   "cell_type": "code",
   "execution_count": 32,
   "id": "1b7445bc",
   "metadata": {},
   "outputs": [
    {
     "data": {
      "text/plain": [
       "LinearRegression()"
      ]
     },
     "execution_count": 32,
     "metadata": {},
     "output_type": "execute_result"
    }
   ],
   "source": [
    "lr.fit(features_train,target_train)"
   ]
  },
  {
   "cell_type": "code",
   "execution_count": 33,
   "id": "24909f54",
   "metadata": {},
   "outputs": [],
   "source": [
    "pred_test = lr.predict(features_test)"
   ]
  },
  {
   "cell_type": "code",
   "execution_count": 34,
   "id": "9ca08777",
   "metadata": {},
   "outputs": [
    {
     "name": "stdout",
     "output_type": "stream",
     "text": [
      "0.9246764680774093\n"
     ]
    }
   ],
   "source": [
    "print(r2_score(target_test,pred_test))"
   ]
  },
  {
   "cell_type": "markdown",
   "id": "8ff06ac1",
   "metadata": {},
   "source": [
    "R2 score is 92%"
   ]
  },
  {
   "cell_type": "markdown",
   "id": "6c32384f",
   "metadata": {},
   "source": [
    "# Cross Validation of the model"
   ]
  },
  {
   "cell_type": "code",
   "execution_count": 35,
   "id": "41b421df",
   "metadata": {},
   "outputs": [
    {
     "name": "stdout",
     "output_type": "stream",
     "text": [
      "At cross fold 2 the cv score is 0.8908473589845056 and accuracy score for training is -0.8973102944839033 and accuracy for testing is 0.9246764680774093\n",
      "\n",
      "\n",
      "At cross fold 3 the cv score is 0.8916464591145559 and accuracy score for training is -0.8973102944839033 and accuracy for testing is 0.9246764680774093\n",
      "\n",
      "\n",
      "At cross fold 4 the cv score is 0.8900070660549506 and accuracy score for training is -0.8973102944839033 and accuracy for testing is 0.9246764680774093\n",
      "\n",
      "\n",
      "At cross fold 5 the cv score is 0.8871063495438436 and accuracy score for training is -0.8973102944839033 and accuracy for testing is 0.9246764680774093\n",
      "\n",
      "\n",
      "At cross fold 6 the cv score is 0.8899208882186671 and accuracy score for training is -0.8973102944839033 and accuracy for testing is 0.9246764680774093\n",
      "\n",
      "\n",
      "At cross fold 7 the cv score is 0.8859930219823539 and accuracy score for training is -0.8973102944839033 and accuracy for testing is 0.9246764680774093\n",
      "\n",
      "\n",
      "At cross fold 8 the cv score is 0.8826686689919152 and accuracy score for training is -0.8973102944839033 and accuracy for testing is 0.9246764680774093\n",
      "\n",
      "\n",
      "At cross fold 9 the cv score is 0.8822728227103587 and accuracy score for training is -0.8973102944839033 and accuracy for testing is 0.9246764680774093\n",
      "\n",
      "\n"
     ]
    }
   ],
   "source": [
    "Train_accuracy = r2_score(target_train,pred_train)\n",
    "Test_accuracy = r2_score(target_test,pred_test)\n",
    "\n",
    "\n",
    "from sklearn.model_selection import cross_val_score\n",
    "for j in range(2,10):\n",
    "    cv_score = cross_val_score(lr,features,target,cv=j)\n",
    "    cv_mean=cv_score.mean()\n",
    "    print(f\"At cross fold {j} the cv score is {cv_mean} and accuracy score for training is {Train_accuracy} and accuracy for testing is {Test_accuracy}\")\n",
    "    print(\"\\n\")      "
   ]
  },
  {
   "cell_type": "markdown",
   "id": "7512999c",
   "metadata": {},
   "source": [
    "Since the number of folds don't have such impact on accuracy and cv_score , So CV= 3"
   ]
  },
  {
   "cell_type": "code",
   "execution_count": 36,
   "id": "249aa4af",
   "metadata": {},
   "outputs": [
    {
     "data": {
      "image/png": "[encoded data removed]",
      "text/plain": [
       "<Figure size 576x432 with 1 Axes>"
      ]
     },
     "metadata": {
      "needs_background": "light"
     },
     "output_type": "display_data"
    }
   ],
   "source": [
    "import matplotlib.pyplot as plt\n",
    "plt.figure(figsize=(8,6))\n",
    "plt.scatter(x=target_test,y=pred_test,color='r')\n",
    "plt.plot(target_test,target_test,color='b')\n",
    "plt.xlabel('Actual charges',fontsize= 14)\n",
    "plt.ylabel('Predicted charges',fontsize= 14)\n",
    "plt.title('Linear Regression',fontsize= 18)\n",
    "plt.show()"
   ]
  },
  {
   "cell_type": "markdown",
   "id": "9d44b531",
   "metadata": {},
   "source": [
    "# Regularization"
   ]
  },
  {
   "cell_type": "code",
   "execution_count": 37,
   "id": "c8eeeb86",
   "metadata": {},
   "outputs": [],
   "source": [
    "from sklearn.model_selection import GridSearchCV\n",
    "from sklearn.model_selection import cross_val_score\n",
    "import warnings\n",
    "warnings.filterwarnings('ignore')"
   ]
  },
  {
   "cell_type": "code",
   "execution_count": 38,
   "id": "62ff5553",
   "metadata": {},
   "outputs": [
    {
     "name": "stdout",
     "output_type": "stream",
     "text": [
      "{'alpha': 1, 'random_state': 0}\n"
     ]
    }
   ],
   "source": [
    "from sklearn.linear_model import Lasso\n",
    "parameters = {'alpha': [.0001,.001,.01,.1,1,10,100],'random_state': list(range(0,15))}\n",
    "ls = Lasso()\n",
    "clf=GridSearchCV(ls,parameters)\n",
    "clf.fit(features_train,target_train)\n",
    "print(clf.best_params_)"
   ]
  },
  {
   "cell_type": "code",
   "execution_count": 39,
   "id": "044f6c51",
   "metadata": {},
   "outputs": [
    {
     "data": {
      "text/plain": [
       "0.9246771471503615"
      ]
     },
     "execution_count": 39,
     "metadata": {},
     "output_type": "execute_result"
    }
   ],
   "source": [
    "ls = Lasso(alpha=0.001, random_state=0)\n",
    "ls.fit(features_train,target_train)\n",
    "ls.score(features_train,target_train)\n",
    "pred_ls = ls.predict(features_test)\n",
    "lss= r2_score(target_test,pred_ls)\n",
    "lss"
   ]
  },
  {
   "cell_type": "code",
   "execution_count": 40,
   "id": "ca3e4cc7",
   "metadata": {},
   "outputs": [
    {
     "data": {
      "text/plain": [
       "0.8908491732139784"
      ]
     },
     "execution_count": 40,
     "metadata": {},
     "output_type": "execute_result"
    }
   ],
   "source": [
    "cv_score= cross_val_score(ls,features,target,cv=2)\n",
    "cv_mean= cv_score.mean()\n",
    "cv_mean"
   ]
  },
  {
   "cell_type": "markdown",
   "id": "1cb13914",
   "metadata": {},
   "source": [
    "# Ensemble technique:"
   ]
  },
  {
   "cell_type": "code",
   "execution_count": 41,
   "id": "df13a027",
   "metadata": {},
   "outputs": [
    {
     "name": "stdout",
     "output_type": "stream",
     "text": [
      "{'bootstrap': True, 'criterion': 'mae', 'max_depth': 10, 'max_features': 'auto', 'n_estimators': 9}\n"
     ]
    }
   ],
   "source": [
    "from sklearn.model_selection import GridSearchCV\n",
    "from sklearn.ensemble import RandomForestRegressor\n",
    "\n",
    "parameters = {'bootstrap': [True],'max_depth': [5, 10, None],'criterion': ['mse','mae'],'max_features': [\"auto\", \"sqrt\",\"log2\"],'n_estimators': [5, 6, 7, 8, 9, 10, 11, 12, 13, 15]}\n",
    "rf = RandomForestRegressor()\n",
    "\n",
    "clf = GridSearchCV(rf,parameters,cv=3)\n",
    "clf.fit(features_train,target_train)\n",
    "\n",
    "print(clf.best_params_)"
   ]
  },
  {
   "cell_type": "code",
   "execution_count": 42,
   "id": "da2221dd",
   "metadata": {},
   "outputs": [
    {
     "name": "stdout",
     "output_type": "stream",
     "text": [
      "R2 Score:  98.16471766405638\n",
      "Cross Val Score : 96.71954654804968\n"
     ]
    }
   ],
   "source": [
    "rf = RandomForestRegressor(criterion=\"mae\",max_features=\"auto\",max_depth= None,n_estimators= 13,bootstrap=True)\n",
    "rf.fit(features_train,target_train)\n",
    "rf.score(features_train,target_train)\n",
    "pred_decision = rf.predict(features_test)\n",
    "\n",
    "rfs = r2_score(target_test,pred_decision)\n",
    "print('R2 Score: ',rfs*100)\n",
    "\n",
    "rfscore= cross_val_score(rf,features,target,cv=2)\n",
    "rfc = rfscore.mean()\n",
    "print('Cross Val Score :', rfc*100)"
   ]
  },
  {
   "cell_type": "markdown",
   "id": "f2823495",
   "metadata": {},
   "source": [
    "# Saving the Model"
   ]
  },
  {
   "cell_type": "code",
   "execution_count": 49,
   "id": "8cc496de",
   "metadata": {},
   "outputs": [],
   "source": [
    "import pickle\n",
    "filename = 'advertising_model.pkl'\n",
    "pickle.dump(rf,open(filename, 'wb'))"
   ]
  },
  {
   "cell_type": "code",
   "execution_count": null,
   "id": "0a462f16",
   "metadata": {},
   "outputs": [],
   "source": []
  }
 ],
 "metadata": {
  "kernelspec": {
   "display_name": "Python 3",
   "language": "python",
   "name": "python3"
  },
  "language_info": {
   "codemirror_mode": {
    "name": "ipython",
    "version": 3
   },
   "file_extension": ".py",
   "mimetype": "text/x-python",
   "name": "python",
   "nbconvert_exporter": "python",
   "pygments_lexer": "ipython3",
   "version": "3.8.8"
  }
 },
 "nbformat": 4,
 "nbformat_minor": 5
}
